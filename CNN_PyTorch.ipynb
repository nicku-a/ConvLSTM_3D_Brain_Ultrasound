{
  "nbformat": 4,
  "nbformat_minor": 0,
  "metadata": {
    "colab": {
      "name": "CNN_PyTorch.ipynb",
      "provenance": [],
      "collapsed_sections": []
    },
    "kernelspec": {
      "name": "python3",
      "display_name": "Python 3"
    },
    "accelerator": "GPU",
    "widgets": {
      "application/vnd.jupyter.widget-state+json": {
        "465703512f314bfab2d7f9e7b65833f9": {
          "model_module": "@jupyter-widgets/controls",
          "model_name": "HBoxModel",
          "state": {
            "_view_name": "HBoxView",
            "_dom_classes": [],
            "_model_name": "HBoxModel",
            "_view_module": "@jupyter-widgets/controls",
            "_model_module_version": "1.5.0",
            "_view_count": null,
            "_view_module_version": "1.5.0",
            "box_style": "",
            "layout": "IPY_MODEL_fa3b36c0a55049f6b7fcc81cbd462bb8",
            "_model_module": "@jupyter-widgets/controls",
            "children": [
              "IPY_MODEL_ffa765a227654fed940026ba4ed39aed",
              "IPY_MODEL_4b7aa8566a2f4c0c956255c0608ac310"
            ]
          }
        },
        "fa3b36c0a55049f6b7fcc81cbd462bb8": {
          "model_module": "@jupyter-widgets/base",
          "model_name": "LayoutModel",
          "state": {
            "_view_name": "LayoutView",
            "grid_template_rows": null,
            "right": null,
            "justify_content": null,
            "_view_module": "@jupyter-widgets/base",
            "overflow": null,
            "_model_module_version": "1.2.0",
            "_view_count": null,
            "flex_flow": null,
            "width": null,
            "min_width": null,
            "border": null,
            "align_items": null,
            "bottom": null,
            "_model_module": "@jupyter-widgets/base",
            "top": null,
            "grid_column": null,
            "overflow_y": null,
            "overflow_x": null,
            "grid_auto_flow": null,
            "grid_area": null,
            "grid_template_columns": null,
            "flex": null,
            "_model_name": "LayoutModel",
            "justify_items": null,
            "grid_row": null,
            "max_height": null,
            "align_content": null,
            "visibility": null,
            "align_self": null,
            "height": null,
            "min_height": null,
            "padding": null,
            "grid_auto_rows": null,
            "grid_gap": null,
            "max_width": null,
            "order": null,
            "_view_module_version": "1.2.0",
            "grid_template_areas": null,
            "object_position": null,
            "object_fit": null,
            "grid_auto_columns": null,
            "margin": null,
            "display": null,
            "left": null
          }
        },
        "ffa765a227654fed940026ba4ed39aed": {
          "model_module": "@jupyter-widgets/controls",
          "model_name": "FloatProgressModel",
          "state": {
            "_view_name": "ProgressView",
            "style": "IPY_MODEL_624c5dc659ed4e24be4600bd1e9aa2ab",
            "_dom_classes": [],
            "description": "100%",
            "_model_name": "FloatProgressModel",
            "bar_style": "success",
            "max": 553433881,
            "_view_module": "@jupyter-widgets/controls",
            "_model_module_version": "1.5.0",
            "value": 553433881,
            "_view_count": null,
            "_view_module_version": "1.5.0",
            "orientation": "horizontal",
            "min": 0,
            "description_tooltip": null,
            "_model_module": "@jupyter-widgets/controls",
            "layout": "IPY_MODEL_3dee38de168b41ec82b07e579993c332"
          }
        },
        "4b7aa8566a2f4c0c956255c0608ac310": {
          "model_module": "@jupyter-widgets/controls",
          "model_name": "HTMLModel",
          "state": {
            "_view_name": "HTMLView",
            "style": "IPY_MODEL_fed251c547a54747ad52ebba4481b6da",
            "_dom_classes": [],
            "description": "",
            "_model_name": "HTMLModel",
            "placeholder": "​",
            "_view_module": "@jupyter-widgets/controls",
            "_model_module_version": "1.5.0",
            "value": " 528M/528M [00:03&lt;00:00, 149MB/s]",
            "_view_count": null,
            "_view_module_version": "1.5.0",
            "description_tooltip": null,
            "_model_module": "@jupyter-widgets/controls",
            "layout": "IPY_MODEL_f23fbef0764a450f8cd982cecf2f2a8f"
          }
        },
        "624c5dc659ed4e24be4600bd1e9aa2ab": {
          "model_module": "@jupyter-widgets/controls",
          "model_name": "ProgressStyleModel",
          "state": {
            "_view_name": "StyleView",
            "_model_name": "ProgressStyleModel",
            "description_width": "initial",
            "_view_module": "@jupyter-widgets/base",
            "_model_module_version": "1.5.0",
            "_view_count": null,
            "_view_module_version": "1.2.0",
            "bar_color": null,
            "_model_module": "@jupyter-widgets/controls"
          }
        },
        "3dee38de168b41ec82b07e579993c332": {
          "model_module": "@jupyter-widgets/base",
          "model_name": "LayoutModel",
          "state": {
            "_view_name": "LayoutView",
            "grid_template_rows": null,
            "right": null,
            "justify_content": null,
            "_view_module": "@jupyter-widgets/base",
            "overflow": null,
            "_model_module_version": "1.2.0",
            "_view_count": null,
            "flex_flow": null,
            "width": null,
            "min_width": null,
            "border": null,
            "align_items": null,
            "bottom": null,
            "_model_module": "@jupyter-widgets/base",
            "top": null,
            "grid_column": null,
            "overflow_y": null,
            "overflow_x": null,
            "grid_auto_flow": null,
            "grid_area": null,
            "grid_template_columns": null,
            "flex": null,
            "_model_name": "LayoutModel",
            "justify_items": null,
            "grid_row": null,
            "max_height": null,
            "align_content": null,
            "visibility": null,
            "align_self": null,
            "height": null,
            "min_height": null,
            "padding": null,
            "grid_auto_rows": null,
            "grid_gap": null,
            "max_width": null,
            "order": null,
            "_view_module_version": "1.2.0",
            "grid_template_areas": null,
            "object_position": null,
            "object_fit": null,
            "grid_auto_columns": null,
            "margin": null,
            "display": null,
            "left": null
          }
        },
        "fed251c547a54747ad52ebba4481b6da": {
          "model_module": "@jupyter-widgets/controls",
          "model_name": "DescriptionStyleModel",
          "state": {
            "_view_name": "StyleView",
            "_model_name": "DescriptionStyleModel",
            "description_width": "",
            "_view_module": "@jupyter-widgets/base",
            "_model_module_version": "1.5.0",
            "_view_count": null,
            "_view_module_version": "1.2.0",
            "_model_module": "@jupyter-widgets/controls"
          }
        },
        "f23fbef0764a450f8cd982cecf2f2a8f": {
          "model_module": "@jupyter-widgets/base",
          "model_name": "LayoutModel",
          "state": {
            "_view_name": "LayoutView",
            "grid_template_rows": null,
            "right": null,
            "justify_content": null,
            "_view_module": "@jupyter-widgets/base",
            "overflow": null,
            "_model_module_version": "1.2.0",
            "_view_count": null,
            "flex_flow": null,
            "width": null,
            "min_width": null,
            "border": null,
            "align_items": null,
            "bottom": null,
            "_model_module": "@jupyter-widgets/base",
            "top": null,
            "grid_column": null,
            "overflow_y": null,
            "overflow_x": null,
            "grid_auto_flow": null,
            "grid_area": null,
            "grid_template_columns": null,
            "flex": null,
            "_model_name": "LayoutModel",
            "justify_items": null,
            "grid_row": null,
            "max_height": null,
            "align_content": null,
            "visibility": null,
            "align_self": null,
            "height": null,
            "min_height": null,
            "padding": null,
            "grid_auto_rows": null,
            "grid_gap": null,
            "max_width": null,
            "order": null,
            "_view_module_version": "1.2.0",
            "grid_template_areas": null,
            "object_position": null,
            "object_fit": null,
            "grid_auto_columns": null,
            "margin": null,
            "display": null,
            "left": null
          }
        }
      }
    }
  },
  "cells": [
    {
      "cell_type": "code",
      "metadata": {
        "id": "QL-pNG3rbS7l",
        "colab": {
          "base_uri": "https://localhost:8080/"
        },
        "outputId": "1698caf5-ccb4-4b3c-f788-93915952e609"
      },
      "source": [
        "from google.colab import drive\n",
        "drive.mount('/content/drive')"
      ],
      "execution_count": null,
      "outputs": [
        {
          "output_type": "stream",
          "text": [
            "Mounted at /content/drive\n"
          ],
          "name": "stdout"
        }
      ]
    },
    {
      "cell_type": "code",
      "metadata": {
        "id": "C3aTDnHQbZ8x"
      },
      "source": [
        "# Import libraries\n",
        "import numpy as np\n",
        "import math\n",
        "import matplotlib.pyplot as plt\n",
        "import matplotlib.image as mpimg\n",
        "%matplotlib inline\n",
        "\n",
        "import torch\n",
        "from torch import nn\n",
        "import torch.nn.functional as F\n",
        "from torch import optim\n",
        "from torch.utils.data import TensorDataset\n",
        "from torch.utils.data import DataLoader\n",
        "from torch.autograd import Variable\n",
        "from torchvision.models import vgg\n",
        "\n",
        "from sklearn import preprocessing\n",
        "from torchsummary import summary\n",
        "from tqdm.notebook import tqdm\n",
        "from collections import namedtuple\n",
        "\n",
        "import time\n",
        "import random\n",
        "import os\n",
        "import collections"
      ],
      "execution_count": null,
      "outputs": []
    },
    {
      "cell_type": "code",
      "metadata": {
        "id": "vjABk-WCH_x3"
      },
      "source": [
        "class CNN(nn.Module):\n",
        "    def __init__(self):\n",
        "\n",
        "        super(CNN, self).__init__()\n",
        "        self.conv3d_1 = nn.Conv3d(1, 16, kernel_size=3, stride=1)\n",
        "        self.tanh_1 = nn.Tanh()\n",
        "        self.bn1 = nn.BatchNorm3d(16)\n",
        "        self.drop_1 = nn.Dropout(0.25)\n",
        "        self.conv3d_2 = nn.Conv3d(16, 32, kernel_size=2, stride=1)\n",
        "        self.tanh_2 = nn.Tanh()        \n",
        "        self.bn2 = nn.BatchNorm3d(32)\n",
        "        self.drop_2 = nn.Dropout(0.25)\n",
        "        self.conv3d_3 = nn.Conv3d(32, 64, kernel_size=2, stride=1)\n",
        "        self.tanh_3 = nn.Tanh()\n",
        "        self.bn3 = nn.BatchNorm3d(64)\n",
        "        self.drop_3 = nn.Dropout(0.25)\n",
        "        self.flat_1 = nn.Flatten()\n",
        "        self.lin_1 = nn.Linear(64*19*226, 33*40)\n",
        "        self.lambda_1 = Lambda(lambda x: x.view(x.size(0), -1))\n",
        "\n",
        "\n",
        "    def forward(self, x):\n",
        "\n",
        "        x = self.conv3d_1(x)\n",
        "        x = self.tanh_1(x)\n",
        "        x = self.bn1(x)\n",
        "        x = self.drop_1(x)\n",
        "        x = self.conv3d_2(x)\n",
        "        x = self.tanh_2(x)\n",
        "        x = self.bn2(x)\n",
        "        x = self.drop_2(x)\n",
        "        x = self.conv3d_3(x)\n",
        "        x = self.tanh_3(x)\n",
        "        x = self.bn3(x)\n",
        "        x = self.drop_3(x)\n",
        "        x = self.flat_1(x)\n",
        "        x = self.lin_1(x)\n",
        "        y_pred = self.lambda_1(x)\n",
        "        return y_pred"
      ],
      "execution_count": null,
      "outputs": []
    },
    {
      "cell_type": "code",
      "metadata": {
        "id": "YlYru_IBOa-i"
      },
      "source": [
        "class LossNetwork(torch.nn.Module):\n",
        "    def __init__(self, vgg_model):\n",
        "        super(LossNetwork, self).__init__()\n",
        "        self.vgg_layers = vgg_model.features\n",
        "        self.layer_name_mapping = {\n",
        "            '3': \"relu1_2\",\n",
        "            '8': \"relu2_2\",\n",
        "            '15': \"relu3_3\",\n",
        "            '22': \"relu4_3\"\n",
        "        }\n",
        "    \n",
        "    def forward(self, x):\n",
        "        output = {}\n",
        "        for name, module in self.vgg_layers._modules.items():\n",
        "            x = module(x)\n",
        "            if name in self.layer_name_mapping:\n",
        "                output[self.layer_name_mapping[name]] = x\n",
        "        return LossOutput(**output)"
      ],
      "execution_count": null,
      "outputs": []
    },
    {
      "cell_type": "code",
      "metadata": {
        "id": "5PDtlhzTYDDz"
      },
      "source": [
        "# Generator\n",
        "class WrappedDataLoader:\n",
        "    def __init__(self, dl, func):\n",
        "        self.dl = dl\n",
        "        self.func = func\n",
        "\n",
        "    def __len__(self):\n",
        "        return len(self.dl)\n",
        "\n",
        "    def __iter__(self):\n",
        "        batches = iter(self.dl)\n",
        "        for b in batches:\n",
        "            yield (self.func(*b))\n"
      ],
      "execution_count": null,
      "outputs": []
    },
    {
      "cell_type": "code",
      "metadata": {
        "id": "hPGeQ_-_bzST"
      },
      "source": [
        "# Custom view layer\n",
        "class Lambda(nn.Module):\n",
        "    def __init__(self, func):\n",
        "        super().__init__()\n",
        "        self.func = func\n",
        "\n",
        "    def forward(self, x):\n",
        "        return self.func(x)\n"
      ],
      "execution_count": null,
      "outputs": []
    },
    {
      "cell_type": "code",
      "metadata": {
        "id": "KYFdVa9oM1KJ"
      },
      "source": [
        "def loss_batch(cnn, loss_network, loss_func, xb, yb, opt=None):\n",
        "\n",
        "    xb = Variable(xb.data, requires_grad=True)\n",
        "\n",
        "    cnn_output = torch.reshape(cnn(xb), (-1,33,40)).unsqueeze(1)\n",
        "    cnn_output = cnn_output.repeat(1,3,1,1)\n",
        "\n",
        "    features_pred_labels = loss_network(cnn_output)\n",
        "    features_labels = loss_network(yb)\n",
        "\n",
        "    with torch.no_grad():\n",
        "        f_labels = features_labels[1].detach()\n",
        "\n",
        "    loss = loss_func(features_pred_labels[1], f_labels)\n",
        "\n",
        "    if opt != None:\n",
        "        loss.backward()\n",
        "        opt.step()\n",
        "        opt.zero_grad()\n",
        "\n",
        "    return loss.item(), len(xb)"
      ],
      "execution_count": null,
      "outputs": []
    },
    {
      "cell_type": "code",
      "metadata": {
        "id": "_pcAHmNDGCod"
      },
      "source": [
        "# Fit model\n",
        "def fit(epochs, cnn, loss_network, loss_func, opt, train_dl, valid_dl, batches, verbose):\n",
        "    train_losses = []\n",
        "    validation_losses = []\n",
        "    \n",
        "    for epoch in range(epochs):\n",
        "        print('Epoch {}/{}'.format(epoch+1, epochs))\n",
        "      \n",
        "        batch = 1\n",
        "        \n",
        "        cnn.train()\n",
        "\n",
        "        loss = 0\n",
        "\n",
        "        # With progress bar\n",
        "        if verbose == 1:\n",
        "            for xb, yb in tqdm(train_dl):\n",
        "                batch_loss, batch_size = loss_batch(cnn, loss_network, loss_func, xb, yb, opt)\n",
        "                loss += batch_loss                \n",
        "                print('{}/{}'.format(batch, batches), end=\"\\r\")\n",
        "                batch+=1\n",
        "\n",
        "        # Without progress bar\n",
        "        if verbose == 2:\n",
        "            for xb, yb in train_dl:\n",
        "                batch_loss, batch_size = loss_batch(cnn, loss_network, loss_func, xb, yb, opt)\n",
        "                loss += batch_loss                \n",
        "                print('{}/{}'.format(batch, batches), end=\"\\r\")\n",
        "                batch+=1\n",
        "\n",
        "        loss=loss/batch\n",
        "\n",
        "        cnn.eval()\n",
        "        with torch.no_grad():\n",
        "            losses, nums = zip(\n",
        "                *[loss_batch(cnn, loss_network, loss_func, xb, yb) for xb, yb in valid_dl]\n",
        "            )\n",
        "        val_loss = np.sum(np.multiply(losses, nums)) / np.sum(nums)\n",
        "\n",
        "        train_losses.append(loss)\n",
        "        validation_losses.append(val_loss)\n",
        "\n",
        "        print('loss = {}      val_loss: {}'.format(loss, val_loss))\n",
        "\n",
        "    return train_losses, validation_losses"
      ],
      "execution_count": null,
      "outputs": []
    },
    {
      "cell_type": "code",
      "metadata": {
        "id": "DoccW0BAYiRo"
      },
      "source": [
        "def preprocess(x, y):\n",
        "    return x.view(-1, 1, 5, 23, 230).to(dev), y.to(dev)"
      ],
      "execution_count": null,
      "outputs": []
    },
    {
      "cell_type": "code",
      "metadata": {
        "id": "ujZn4m6iYyUD"
      },
      "source": [
        "def get_data(train_ds, valid_ds, bs):\n",
        "    return (\n",
        "        DataLoader(train_ds, batch_size=bs, shuffle=True),\n",
        "        DataLoader(valid_ds, batch_size=bs * 2),\n",
        "    )"
      ],
      "execution_count": null,
      "outputs": []
    },
    {
      "cell_type": "code",
      "metadata": {
        "id": "17MhTH24xbvS"
      },
      "source": [
        "# NRMSE loss function\n",
        "def nrmse_loss(y_pred, y_true):\n",
        "    diff = torch.div(y_pred - y_true, torch.max(y_true) - torch.min(y_true) + 1e-6)\n",
        "    # diff = torch.div(y_pred - y_true, y_true + 1e-31)\n",
        "    return torch.sqrt(torch.mean(torch.square(diff)))"
      ],
      "execution_count": null,
      "outputs": []
    },
    {
      "cell_type": "code",
      "metadata": {
        "id": "tvUOC3iZa6k0",
        "colab": {
          "base_uri": "https://localhost:8080/"
        },
        "outputId": "4fd5953f-c81e-428e-c3bb-0f41ef6294b1"
      },
      "source": [
        "# Load dataset created from notebook 'Debias_Data_Cosima'\n",
        "t_data = np.load('/content/drive/My Drive/ML_Ultrasound_Project/UROPdata/twenty_training_data.npz', allow_pickle=True)\n",
        "v_data = np.load('/content/drive/My Drive/ML_Ultrasound_Project/UROPdata/twenty_val_data.npz', allow_pickle=True) \n",
        "\n",
        "training_data = t_data['arr_0'] # saves the array from t_data file\n",
        "print(training_data.shape)\n",
        "\n",
        "val_data = v_data['arr_0'] \n",
        "print(val_data.shape)\n",
        "\n",
        "# This part reorganises the array into input and label arrays, mainly to help it feed into model with correct shapes\n",
        "# For training data\n",
        "train_X = []\n",
        "train_Y = []\n",
        "\n",
        "for i in range (len(training_data)):\n",
        "  train_X.append(training_data[i][0])\n",
        "  train_Y.append(training_data[i][1])\n",
        "\n",
        "train_X = np.array(train_X)\n",
        "train_Y = np.array(train_Y)\n",
        "\n",
        "# For validation data\n",
        "val_X = []\n",
        "val_Y = []\n",
        "\n",
        "for i in range (len(val_data)):\n",
        "  val_X.append(val_data[i][0])\n",
        "  val_Y.append(val_data[i][1])\n",
        "\n",
        "val_X = np.array(val_X)\n",
        "val_Y = np.array(val_Y)\n",
        "\n",
        "# Add axis to training and validation arrays\n",
        "train_X = train_X[:, :, :, np.newaxis]\n",
        "val_X = val_X[:, :, :, np.newaxis]\n",
        "\n",
        "# Standardise data for vgg\n",
        "scaler = preprocessing.StandardScaler()\n",
        "train_Y = scaler.fit_transform(np.squeeze(train_Y))\n",
        "val_Y = scaler.fit_transform(np.squeeze(val_Y))\n",
        "print(train_Y.shape)\n",
        "\n",
        "# # Repeat along 3 dimensions to replicate RGB for vgg\n",
        "train_Y = np.repeat(train_Y[:, np.newaxis, :], 3, axis=1)\n",
        "val_Y = np.repeat(val_Y[:, np.newaxis, :], 3, axis=1)\n",
        "\n",
        "# Make array >32 pixels high for vgg\n",
        "train_Y = np.repeat(train_Y[:, :, :, np.newaxis], 3, axis=2)\n",
        "val_Y = np.repeat(val_Y[:, :, :, np.newaxis], 3, axis=2)\n",
        "print(train_Y.shape)\n",
        "print(val_Y.shape)\n",
        "\n",
        "# # Make array 32 pixels wide for vgg\n",
        "# train_Y = np.repeat(train_Y[:, :, :, :], 32, axis=3)\n",
        "# val_Y = np.repeat(val_Y[:, :, :, :], 32, axis=3)\n",
        "# print(train_Y.shape)\n",
        "# print(val_Y.shape)\n",
        "\n",
        "\n",
        "train_X = np.reshape(train_X, (-1,1,23,230,5))\n",
        "val_X = np.reshape(val_X, (-1,1,23,230,5))\n",
        "train_Y = np.reshape(train_Y, (-1,3, 33, 10))\n",
        "train_Y = np.repeat(train_Y[:, :, :, :], 4, axis=3)\n",
        "val_Y = np.reshape(val_Y, (-1,3, 33, 10))\n",
        "val_Y = np.repeat(val_Y[:, :, :, :], 4, axis=3)\n",
        "\n",
        "# Check correct shape\n",
        "print(train_X.shape, train_Y.shape)\n",
        "print(val_X.shape, val_Y.shape)\n"
      ],
      "execution_count": null,
      "outputs": [
        {
          "output_type": "stream",
          "text": [
            "(7680, 2)\n",
            "(1200, 2)\n",
            "(7680, 11)\n",
            "(7680, 3, 33, 1)\n",
            "(1200, 3, 33, 1)\n",
            "(768, 1, 23, 230, 5) (768, 3, 33, 40)\n",
            "(120, 1, 23, 230, 5) (120, 3, 33, 40)\n"
          ],
          "name": "stdout"
        }
      ]
    },
    {
      "cell_type": "code",
      "metadata": {
        "colab": {
          "base_uri": "https://localhost:8080/",
          "height": 334
        },
        "id": "Sm4Tp1Nqi1wr",
        "outputId": "03ad7ac8-5a90-4863-c2e5-57005a07fb43"
      },
      "source": [
        "plt.imshow(train_X[60, 0, :, :, 0])\n",
        "plt.show()\n",
        "plt.imshow(train_Y[60, 0, :, :])\n",
        "plt.show()"
      ],
      "execution_count": null,
      "outputs": [
        {
          "output_type": "display_data",
          "data": {
            "image/png": "[encoded data removed]",
            "text/plain": [
              "<Figure size 432x288 with 1 Axes>"
            ]
          },
          "metadata": {
            "tags": [],
            "needs_background": "light"
          }
        },
        {
          "output_type": "display_data",
          "data": {
            "image/png": "[encoded data removed]",
            "text/plain": [
              "<Figure size 432x288 with 1 Axes>"
            ]
          },
          "metadata": {
            "tags": [],
            "needs_background": "light"
          }
        }
      ]
    },
    {
      "cell_type": "code",
      "metadata": {
        "id": "lYEIC6iVLrDM",
        "colab": {
          "base_uri": "https://localhost:8080/"
        },
        "outputId": "39bcbfb4-8344-40b9-f6ab-40e617a12857"
      },
      "source": [
        "# PyTorch uses tensors\n",
        "x_train, y_train, x_valid, y_valid = map(\n",
        "    torch.tensor, (train_X, train_Y, val_X, val_Y)\n",
        ")\n",
        "\n",
        "# Data must be stored on GPU to use GPU for training\n",
        "dev = torch.device(\"cuda\") if torch.cuda.is_available() else torch.device(\"cpu\")\n",
        "x_train, y_train = x_train.to(dev), y_train.to(dev)\n",
        "x_valid, y_valid = x_valid.to(dev), y_valid.to(dev)\n",
        "\n",
        "print(x_train.shape, y_train.shape)\n",
        "\n",
        "# Batch size\n",
        "bs = 64\n",
        "\n",
        "train_ds = TensorDataset(x_train, y_train)\n",
        "valid_ds = TensorDataset(x_valid, y_valid)\n",
        "\n",
        "train_dl, valid_dl = get_data(train_ds, valid_ds, bs)\n",
        "\n",
        "train_dl = WrappedDataLoader(train_dl, preprocess)\n",
        "valid_dl = WrappedDataLoader(valid_dl, preprocess)"
      ],
      "execution_count": null,
      "outputs": [
        {
          "output_type": "stream",
          "text": [
            "torch.Size([768, 1, 23, 230, 5]) torch.Size([768, 3, 33, 40])\n"
          ],
          "name": "stdout"
        }
      ]
    },
    {
      "cell_type": "code",
      "metadata": {
        "id": "GEy3eg97PdlE",
        "colab": {
          "base_uri": "https://localhost:8080/"
        },
        "outputId": "a8827b41-b3c0-4bbe-814a-e2010e4c9478"
      },
      "source": [
        "# # CNN model\n",
        "cnn = CNN()\n",
        "\n",
        "# Store model on GPU for training\n",
        "cnn.to(dev)\n",
        "\n",
        "# Model summary\n",
        "summary(cnn, input_size=(1, 5, 23, 230))"
      ],
      "execution_count": null,
      "outputs": [
        {
          "output_type": "stream",
          "text": [
            "----------------------------------------------------------------\n",
            "        Layer (type)               Output Shape         Param #\n",
            "================================================================\n",
            "            Conv3d-1       [-1, 16, 3, 21, 228]             448\n",
            "              Tanh-2       [-1, 16, 3, 21, 228]               0\n",
            "       BatchNorm3d-3       [-1, 16, 3, 21, 228]              32\n",
            "           Dropout-4       [-1, 16, 3, 21, 228]               0\n",
            "            Conv3d-5       [-1, 32, 2, 20, 227]           4,128\n",
            "              Tanh-6       [-1, 32, 2, 20, 227]               0\n",
            "       BatchNorm3d-7       [-1, 32, 2, 20, 227]              64\n",
            "           Dropout-8       [-1, 32, 2, 20, 227]               0\n",
            "            Conv3d-9       [-1, 64, 1, 19, 226]          16,448\n",
            "             Tanh-10       [-1, 64, 1, 19, 226]               0\n",
            "      BatchNorm3d-11       [-1, 64, 1, 19, 226]             128\n",
            "          Dropout-12       [-1, 64, 1, 19, 226]               0\n",
            "          Flatten-13               [-1, 274816]               0\n",
            "           Linear-14                 [-1, 1320]     362,758,440\n",
            "           Lambda-15                 [-1, 1320]               0\n",
            "================================================================\n",
            "Total params: 362,779,688\n",
            "Trainable params: 362,779,688\n",
            "Non-trainable params: 0\n",
            "----------------------------------------------------------------\n",
            "Input size (MB): 0.10\n",
            "Forward/backward pass size (MB): 26.38\n",
            "Params size (MB): 1383.89\n",
            "Estimated Total Size (MB): 1410.38\n",
            "----------------------------------------------------------------\n"
          ],
          "name": "stdout"
        }
      ]
    },
    {
      "cell_type": "code",
      "metadata": {
        "colab": {
          "base_uri": "https://localhost:8080/",
          "height": 831,
          "referenced_widgets": [
            "465703512f314bfab2d7f9e7b65833f9",
            "fa3b36c0a55049f6b7fcc81cbd462bb8",
            "ffa765a227654fed940026ba4ed39aed",
            "4b7aa8566a2f4c0c956255c0608ac310",
            "624c5dc659ed4e24be4600bd1e9aa2ab",
            "3dee38de168b41ec82b07e579993c332",
            "fed251c547a54747ad52ebba4481b6da",
            "f23fbef0764a450f8cd982cecf2f2a8f"
          ]
        },
        "id": "uVosA3iNIfNv",
        "outputId": "752a5a21-207d-4869-dd17-510b6316fd81"
      },
      "source": [
        "LossOutput = namedtuple(\"LossOutput\", [\"relu1_2\", \"relu2_2\", \"relu3_3\", \"relu4_3\"])\n",
        "vgg_model = vgg.vgg16(pretrained=True)\n",
        "dev = torch.device(\"cuda\") if torch.cuda.is_available() else torch.device(\"cpu\")\n",
        "vgg_model.to(dev)\n",
        "loss_network = LossNetwork(vgg_model)\n",
        "loss_network.eval()\n",
        "\n",
        "summary(loss_network, input_size=(3,33,40))"
      ],
      "execution_count": null,
      "outputs": [
        {
          "output_type": "stream",
          "text": [
            "Downloading: \"https://download.pytorch.org/models/vgg16-397923af.pth\" to /root/.cache/torch/hub/checkpoints/vgg16-397923af.pth\n"
          ],
          "name": "stderr"
        },
        {
          "output_type": "display_data",
          "data": {
            "application/vnd.jupyter.widget-view+json": {
              "model_id": "465703512f314bfab2d7f9e7b65833f9",
              "version_minor": 0,
              "version_major": 2
            },
            "text/plain": [
              "HBox(children=(FloatProgress(value=0.0, max=553433881.0), HTML(value='')))"
            ]
          },
          "metadata": {
            "tags": []
          }
        },
        {
          "output_type": "stream",
          "text": [
            "\n",
            "----------------------------------------------------------------\n",
            "        Layer (type)               Output Shape         Param #\n",
            "================================================================\n",
            "            Conv2d-1           [-1, 64, 33, 40]           1,792\n",
            "              ReLU-2           [-1, 64, 33, 40]               0\n",
            "            Conv2d-3           [-1, 64, 33, 40]          36,928\n",
            "              ReLU-4           [-1, 64, 33, 40]               0\n",
            "         MaxPool2d-5           [-1, 64, 16, 20]               0\n",
            "            Conv2d-6          [-1, 128, 16, 20]          73,856\n",
            "              ReLU-7          [-1, 128, 16, 20]               0\n",
            "            Conv2d-8          [-1, 128, 16, 20]         147,584\n",
            "              ReLU-9          [-1, 128, 16, 20]               0\n",
            "        MaxPool2d-10           [-1, 128, 8, 10]               0\n",
            "           Conv2d-11           [-1, 256, 8, 10]         295,168\n",
            "             ReLU-12           [-1, 256, 8, 10]               0\n",
            "           Conv2d-13           [-1, 256, 8, 10]         590,080\n",
            "             ReLU-14           [-1, 256, 8, 10]               0\n",
            "           Conv2d-15           [-1, 256, 8, 10]         590,080\n",
            "             ReLU-16           [-1, 256, 8, 10]               0\n",
            "        MaxPool2d-17            [-1, 256, 4, 5]               0\n",
            "           Conv2d-18            [-1, 512, 4, 5]       1,180,160\n",
            "             ReLU-19            [-1, 512, 4, 5]               0\n",
            "           Conv2d-20            [-1, 512, 4, 5]       2,359,808\n",
            "             ReLU-21            [-1, 512, 4, 5]               0\n",
            "           Conv2d-22            [-1, 512, 4, 5]       2,359,808\n",
            "             ReLU-23            [-1, 512, 4, 5]               0\n",
            "        MaxPool2d-24            [-1, 512, 2, 2]               0\n",
            "           Conv2d-25            [-1, 512, 2, 2]       2,359,808\n",
            "             ReLU-26            [-1, 512, 2, 2]               0\n",
            "           Conv2d-27            [-1, 512, 2, 2]       2,359,808\n",
            "             ReLU-28            [-1, 512, 2, 2]               0\n",
            "           Conv2d-29            [-1, 512, 2, 2]       2,359,808\n",
            "             ReLU-30            [-1, 512, 2, 2]               0\n",
            "        MaxPool2d-31            [-1, 512, 1, 1]               0\n",
            "================================================================\n",
            "Total params: 14,714,688\n",
            "Trainable params: 14,714,688\n",
            "Non-trainable params: 0\n",
            "----------------------------------------------------------------\n",
            "Input size (MB): 0.02\n",
            "Forward/backward pass size (MB): 5.62\n",
            "Params size (MB): 56.13\n",
            "Estimated Total Size (MB): 61.77\n",
            "----------------------------------------------------------------\n"
          ],
          "name": "stdout"
        }
      ]
    },
    {
      "cell_type": "code",
      "metadata": {
        "id": "sJFvCwdzgdl8",
        "colab": {
          "base_uri": "https://localhost:8080/"
        },
        "outputId": "d8e378a2-265c-4685-cfc6-28fcc658e44d"
      },
      "source": [
        "loss_func = nrmse_loss\n",
        "learning_rate = 1e-3\n",
        "EPOCHS = 200\n",
        "batches = math.ceil(len(x_train)/bs)\n",
        "verbose = 2       # 1: progress bar, 2: without progress bar\n",
        "\n",
        "opt = optim.Adam(cnn.parameters(), lr=learning_rate)\n",
        "\n",
        "train_losses, val_losses = fit(EPOCHS, cnn, loss_network, loss_func, opt, train_dl, valid_dl, batches, verbose)\n",
        "\n",
        "torch.save(cnn.state_dict(), '/content/drive/My Drive/ML_Ultrasound_Project/cnn_state_dict')"
      ],
      "execution_count": null,
      "outputs": [
        {
          "output_type": "stream",
          "text": [
            "Epoch 1/200\n",
            "loss = 0.1656578274873587      val_loss: 0.035078879445791245\n",
            "Epoch 2/200\n",
            "loss = 0.16879412761101356      val_loss: 0.05866219103336334\n",
            "Epoch 3/200\n",
            "loss = 0.16750349906774667      val_loss: 0.09089198708534241\n",
            "Epoch 4/200\n",
            "loss = 0.17299189590490782      val_loss: 0.12266992032527924\n",
            "Epoch 5/200\n",
            "loss = 0.18048801445044005      val_loss: 0.12566421926021576\n",
            "Epoch 6/200\n",
            "loss = 0.18343936250760004      val_loss: 0.13231819868087769\n",
            "Epoch 7/200\n",
            "loss = 0.19480635340397173      val_loss: 0.1374279409646988\n",
            "Epoch 8/200\n",
            "loss = 0.20119185401843145      val_loss: 0.20062029361724854\n",
            "Epoch 9/200\n",
            "loss = 0.1986682667182042      val_loss: 0.233545184135437\n",
            "Epoch 10/200\n",
            "loss = 0.19719657875024355      val_loss: 0.1407339870929718\n",
            "Epoch 11/200\n",
            "loss = 0.20271998987748072      val_loss: 0.14699676632881165\n",
            "Epoch 12/200\n",
            "loss = 0.1983118366736632      val_loss: 0.15374380350112915\n",
            "Epoch 13/200\n",
            "loss = 0.20056160596700814      val_loss: 0.1241845190525055\n",
            "Epoch 14/200\n",
            "loss = 0.20560486156206864      val_loss: 0.11537850648164749\n",
            "Epoch 15/200\n",
            "loss = 0.19705847020332629      val_loss: 0.2114436775445938\n",
            "Epoch 16/200\n",
            "loss = 0.202345249744562      val_loss: 0.16704651713371277\n",
            "Epoch 17/200\n",
            "loss = 0.192081936276876      val_loss: 0.19564254581928253\n",
            "Epoch 18/200\n",
            "loss = 0.19727212190628052      val_loss: 0.20309589803218842\n",
            "Epoch 19/200\n",
            "loss = 0.19462827650400308      val_loss: 0.18923696875572205\n",
            "Epoch 20/200\n",
            "loss = 0.19885956324063814      val_loss: 0.18124915659427643\n",
            "Epoch 21/200\n",
            "loss = 0.19249139496913323      val_loss: 0.12993364036083221\n",
            "Epoch 22/200\n",
            "loss = 0.18787475274159357      val_loss: 0.12571969628334045\n",
            "Epoch 23/200\n",
            "loss = 0.1856517894909932      val_loss: 0.12380144745111465\n",
            "Epoch 24/200\n",
            "loss = 0.18600272559202635      val_loss: 0.14052362740039825\n",
            "Epoch 25/200\n",
            "loss = 0.18217821648487678      val_loss: 0.09779093414545059\n",
            "Epoch 26/200\n",
            "loss = 0.17906388067282164      val_loss: 0.09275870025157928\n",
            "Epoch 27/200\n",
            "loss = 0.18083268633255592      val_loss: 0.10021796822547913\n",
            "Epoch 28/200\n",
            "loss = 0.1764271201995703      val_loss: 0.10541298240423203\n",
            "Epoch 29/200\n",
            "loss = 0.17071297764778137      val_loss: 0.08904462307691574\n",
            "Epoch 30/200\n",
            "loss = 0.16795488962760338      val_loss: 0.11978033930063248\n",
            "Epoch 31/200\n",
            "loss = 0.16634739476900834      val_loss: 0.10217267274856567\n",
            "Epoch 32/200\n",
            "loss = 0.16038413116565117      val_loss: 0.09920595586299896\n",
            "Epoch 33/200\n",
            "loss = 0.15823747561528131      val_loss: 0.11435804516077042\n",
            "Epoch 34/200\n",
            "loss = 0.15746344167452592      val_loss: 0.07616272568702698\n",
            "Epoch 35/200\n",
            "loss = 0.14651077298017648      val_loss: 0.08664765954017639\n",
            "Epoch 36/200\n",
            "loss = 0.1479001778822679      val_loss: 0.07801337540149689\n",
            "Epoch 37/200\n",
            "loss = 0.14336237082114586      val_loss: 0.07376806437969208\n",
            "Epoch 38/200\n",
            "loss = 0.13803687577064222      val_loss: 0.06793674826622009\n",
            "Epoch 39/200\n",
            "loss = 0.14603258382815582      val_loss: 0.06880834698677063\n",
            "Epoch 40/200\n",
            "loss = 0.13557738352280396      val_loss: 0.09753094613552094\n",
            "Epoch 41/200\n",
            "loss = 0.1298902900173114      val_loss: 0.08351732045412064\n",
            "Epoch 42/200\n",
            "loss = 0.12706335977866098      val_loss: 0.06634007394313812\n",
            "Epoch 43/200\n",
            "loss = 0.1267054699934446      val_loss: 0.06142894923686981\n",
            "Epoch 44/200\n",
            "loss = 0.11809757065314513      val_loss: 0.06264568120241165\n",
            "Epoch 45/200\n",
            "loss = 0.11617808387829708      val_loss: 0.061480630189180374\n",
            "Epoch 46/200\n",
            "loss = 0.11119691053262123      val_loss: 0.05326134338974953\n",
            "Epoch 47/200\n",
            "loss = 0.10684571930995354      val_loss: 0.05220618471503258\n",
            "Epoch 48/200\n",
            "loss = 0.10559098135966521      val_loss: 0.05457436665892601\n",
            "Epoch 49/200\n",
            "loss = 0.10137715419897667      val_loss: 0.05325065925717354\n",
            "Epoch 50/200\n",
            "loss = 0.09838859335734294      val_loss: 0.052943155169487\n",
            "Epoch 51/200\n",
            "loss = 0.09082669420884205      val_loss: 0.05060581490397453\n",
            "Epoch 52/200\n",
            "loss = 0.08732410004505745      val_loss: 0.04644249379634857\n",
            "Epoch 53/200\n",
            "loss = 0.08513039637070435      val_loss: 0.04130345210433006\n",
            "Epoch 54/200\n",
            "loss = 0.07995064384662189      val_loss: 0.04019484296441078\n",
            "Epoch 55/200\n",
            "loss = 0.07980865755906472      val_loss: 0.03819460794329643\n",
            "Epoch 56/200\n",
            "loss = 0.0744911409341372      val_loss: 0.03750736266374588\n",
            "Epoch 57/200\n",
            "loss = 0.07092835295658845      val_loss: 0.04299338907003403\n",
            "Epoch 58/200\n",
            "loss = 0.06809605858646907      val_loss: 0.043220825493335724\n",
            "Epoch 59/200\n",
            "loss = 0.06499785471421021      val_loss: 0.03452828526496887\n",
            "Epoch 60/200\n",
            "loss = 0.06135094538331032      val_loss: 0.036082904785871506\n",
            "Epoch 61/200\n",
            "loss = 0.05758768062178905      val_loss: 0.03232517093420029\n",
            "Epoch 62/200\n",
            "loss = 0.054917661616435416      val_loss: 0.031202083453536034\n",
            "Epoch 63/200\n",
            "loss = 0.05114187099612676      val_loss: 0.03021615743637085\n",
            "Epoch 64/200\n",
            "loss = 0.04844233450981287      val_loss: 0.029697632417082787\n",
            "Epoch 65/200\n",
            "loss = 0.04555944267373819      val_loss: 0.029548002406954765\n",
            "Epoch 66/200\n",
            "loss = 0.04329703404353215      val_loss: 0.028644545003771782\n",
            "Epoch 67/200\n",
            "loss = 0.03986895370941896      val_loss: 0.027648193761706352\n",
            "Epoch 68/200\n",
            "loss = 0.0379495549087341      val_loss: 0.027217397466301918\n",
            "Epoch 69/200\n",
            "loss = 0.036199729316509686      val_loss: 0.02667875401675701\n",
            "Epoch 70/200\n",
            "loss = 0.03375894561983072      val_loss: 0.026339463889598846\n",
            "Epoch 71/200\n",
            "loss = 0.03381015088122625      val_loss: 0.02604459784924984\n",
            "Epoch 72/200\n",
            "loss = 0.031080722522277098      val_loss: 0.025796957314014435\n",
            "Epoch 73/200\n",
            "loss = 0.030238844311008088      val_loss: 0.02558217942714691\n",
            "Epoch 74/200\n",
            "loss = 0.029309923402391948      val_loss: 0.02537529356777668\n",
            "Epoch 75/200\n",
            "loss = 0.02809675310093623      val_loss: 0.02520902082324028\n",
            "Epoch 76/200\n",
            "loss = 0.028659906381597884      val_loss: 0.025055034086108208\n",
            "Epoch 77/200\n",
            "loss = 0.026325973180624154      val_loss: 0.024907127022743225\n",
            "Epoch 78/200\n",
            "loss = 0.026074437997662105      val_loss: 0.02480269782245159\n",
            "Epoch 79/200\n",
            "loss = 0.026561697515157554      val_loss: 0.02469358593225479\n",
            "Epoch 80/200\n",
            "loss = 0.02490372884158905      val_loss: 0.02460591122508049\n",
            "Epoch 81/200\n",
            "loss = 0.025228471423570927      val_loss: 0.024505190551280975\n",
            "Epoch 82/200\n",
            "loss = 0.02552517159627034      val_loss: 0.024401791393756866\n",
            "Epoch 83/200\n",
            "loss = 0.025038752848139174      val_loss: 0.02427603118121624\n",
            "Epoch 84/200\n",
            "loss = 0.02445252827153756      val_loss: 0.02414522133767605\n",
            "Epoch 85/200\n",
            "loss = 0.02454626402602746      val_loss: 0.024004941806197166\n",
            "Epoch 86/200\n",
            "loss = 0.024799175847035188      val_loss: 0.023874307051301003\n",
            "Epoch 87/200\n",
            "loss = 0.0244139745258368      val_loss: 0.02374865859746933\n",
            "Epoch 88/200\n",
            "loss = 0.023649131449369285      val_loss: 0.023578429594635963\n",
            "Epoch 89/200\n",
            "loss = 0.024045108602597162      val_loss: 0.023414118215441704\n",
            "Epoch 90/200\n",
            "loss = 0.023176640988542482      val_loss: 0.02330097183585167\n",
            "Epoch 91/200\n",
            "loss = 0.023293202599653832      val_loss: 0.023209966719150543\n",
            "Epoch 92/200\n",
            "loss = 0.023083022294136193      val_loss: 0.02309989370405674\n",
            "Epoch 93/200\n",
            "loss = 0.02313199839912928      val_loss: 0.023055480793118477\n",
            "Epoch 94/200\n",
            "loss = 0.0228044125609673      val_loss: 0.023054100573062897\n",
            "Epoch 95/200\n",
            "loss = 0.022398916861185662      val_loss: 0.022990094497799873\n",
            "Epoch 96/200\n",
            "loss = 0.023260309146000788      val_loss: 0.02296680584549904\n",
            "Epoch 97/200\n",
            "loss = 0.02335130709868211      val_loss: 0.023006053641438484\n",
            "Epoch 98/200\n",
            "loss = 0.02333239480279959      val_loss: 0.02296796813607216\n",
            "Epoch 99/200\n",
            "loss = 0.022903012255063422      val_loss: 0.022997742518782616\n",
            "Epoch 100/200\n",
            "loss = 0.02269828735062709      val_loss: 0.02296309918165207\n",
            "Epoch 101/200\n",
            "loss = 0.023279761895537376      val_loss: 0.02293124981224537\n",
            "Epoch 102/200\n",
            "loss = 0.02318963250861718      val_loss: 0.022955918684601784\n",
            "Epoch 103/200\n",
            "loss = 0.022501740174797866      val_loss: 0.022960208356380463\n",
            "Epoch 104/200\n",
            "loss = 0.023816353569810208      val_loss: 0.02294960804283619\n",
            "Epoch 105/200\n",
            "loss = 0.023240786475630906      val_loss: 0.022925786674022675\n",
            "Epoch 106/200\n",
            "loss = 0.022667872361265697      val_loss: 0.022958267480134964\n",
            "Epoch 107/200\n",
            "loss = 0.02293675048993184      val_loss: 0.022938547655940056\n",
            "Epoch 108/200\n",
            "loss = 0.022916523453134757      val_loss: 0.02293706312775612\n",
            "Epoch 109/200\n",
            "loss = 0.02250832734772792      val_loss: 0.022953420877456665\n",
            "Epoch 110/200\n",
            "loss = 0.022790891906389825      val_loss: 0.022938905283808708\n",
            "Epoch 111/200\n",
            "loss = 0.02303208955205404      val_loss: 0.022956063970923424\n",
            "Epoch 112/200\n",
            "loss = 0.023315486713097647      val_loss: 0.022972719743847847\n",
            "Epoch 113/200\n",
            "loss = 0.02209684567955824      val_loss: 0.022918211296200752\n",
            "Epoch 114/200\n",
            "loss = 0.023112143174960062      val_loss: 0.022911768406629562\n",
            "Epoch 115/200\n",
            "loss = 0.02249367334521734      val_loss: 0.022933809086680412\n",
            "Epoch 116/200\n",
            "loss = 0.02239925156419094      val_loss: 0.022940346971154213\n",
            "Epoch 117/200\n",
            "loss = 0.022849778429819986      val_loss: 0.022918179631233215\n",
            "Epoch 118/200\n",
            "loss = 0.022457710682199553      val_loss: 0.022910799831151962\n",
            "Epoch 119/200\n",
            "loss = 0.02322698628100065      val_loss: 0.022907039150595665\n",
            "Epoch 120/200\n",
            "loss = 0.022893019163837798      val_loss: 0.022901317104697227\n",
            "Epoch 121/200\n",
            "loss = 0.02289398516026827      val_loss: 0.02292715385556221\n",
            "Epoch 122/200\n",
            "loss = 0.022830600205522317      val_loss: 0.022901538759469986\n",
            "Epoch 123/200\n",
            "loss = 0.02302384519806275      val_loss: 0.022884631529450417\n",
            "Epoch 124/200\n",
            "loss = 0.023101327797541253      val_loss: 0.022915301844477654\n",
            "Epoch 125/200\n",
            "loss = 0.022467382682057526      val_loss: 0.022968996316194534\n",
            "Epoch 126/200\n",
            "loss = 0.024073923723055765      val_loss: 0.022925518453121185\n",
            "Epoch 127/200\n",
            "loss = 0.0222898952376384      val_loss: 0.02287956513464451\n",
            "Epoch 128/200\n",
            "loss = 0.02265342869437658      val_loss: 0.022912360727787018\n",
            "Epoch 129/200\n",
            "loss = 0.022661912613190137      val_loss: 0.022914519533514977\n",
            "Epoch 130/200\n",
            "loss = 0.022947234889635675      val_loss: 0.022874722257256508\n",
            "Epoch 131/200\n",
            "loss = 0.0226672631330215      val_loss: 0.022881101816892624\n",
            "Epoch 132/200\n",
            "loss = 0.02292948918273816      val_loss: 0.02290741354227066\n",
            "Epoch 133/200\n",
            "loss = 0.022717436918845542      val_loss: 0.0229314174503088\n",
            "Epoch 134/200\n",
            "loss = 0.02251944776911002      val_loss: 0.022875379770994186\n",
            "Epoch 135/200\n",
            "loss = 0.0229251400495951      val_loss: 0.02288569137454033\n",
            "Epoch 136/200\n",
            "loss = 0.022799201452961333      val_loss: 0.022898361086845398\n",
            "Epoch 137/200\n",
            "loss = 0.022180736924593266      val_loss: 0.022904429584741592\n",
            "Epoch 138/200\n",
            "loss = 0.023184541469583146      val_loss: 0.022917238995432854\n",
            "Epoch 139/200\n",
            "loss = 0.022746019925062474      val_loss: 0.022957338020205498\n",
            "Epoch 140/200\n",
            "loss = 0.022444401509486712      val_loss: 0.022893531247973442\n",
            "Epoch 141/200\n",
            "loss = 0.023519152632126443      val_loss: 0.022878214716911316\n",
            "Epoch 142/200\n",
            "loss = 0.02283748884040576      val_loss: 0.02289154753088951\n",
            "Epoch 143/200\n",
            "loss = 0.022646750108553812      val_loss: 0.022899571806192398\n",
            "Epoch 144/200\n",
            "loss = 0.022721355494398337      val_loss: 0.022913070395588875\n",
            "Epoch 145/200\n",
            "loss = 0.022509504109621048      val_loss: 0.02289685234427452\n",
            "Epoch 146/200\n",
            "loss = 0.02293174685193942      val_loss: 0.022959548979997635\n",
            "Epoch 147/200\n",
            "loss = 0.02249954268336296      val_loss: 0.022883495315909386\n",
            "Epoch 148/200\n",
            "loss = 0.023259435422145404      val_loss: 0.022882826626300812\n",
            "Epoch 149/200\n",
            "loss = 0.022842612977211293      val_loss: 0.022922752425074577\n",
            "Epoch 150/200\n",
            "loss = 0.02241542964027478      val_loss: 0.022893693298101425\n",
            "Epoch 151/200\n",
            "loss = 0.02366538503422187      val_loss: 0.022870520129799843\n",
            "Epoch 152/200\n",
            "loss = 0.02301148081628176      val_loss: 0.022864265367388725\n",
            "Epoch 153/200\n",
            "loss = 0.023187831330757875      val_loss: 0.02286021038889885\n",
            "Epoch 154/200\n",
            "loss = 0.023992429988888595      val_loss: 0.022885886952280998\n",
            "Epoch 155/200\n",
            "loss = 0.022872199949163657      val_loss: 0.022881075739860535\n",
            "Epoch 156/200\n",
            "loss = 0.02239906658919958      val_loss: 0.02292085997760296\n",
            "Epoch 157/200\n",
            "loss = 0.0226995344631947      val_loss: 0.022896043956279755\n",
            "Epoch 158/200\n",
            "loss = 0.022980218323377464      val_loss: 0.02292056940495968\n",
            "Epoch 159/200\n",
            "loss = 0.02274437377659174      val_loss: 0.022882875055074692\n",
            "Epoch 160/200\n",
            "loss = 0.022891706572129175      val_loss: 0.022858867421746254\n",
            "Epoch 161/200\n",
            "loss = 0.022625660810333032      val_loss: 0.02286432310938835\n",
            "Epoch 162/200\n",
            "loss = 0.023296046428955518      val_loss: 0.022869901731610298\n",
            "Epoch 163/200\n",
            "loss = 0.022520936022584256      val_loss: 0.022883513942360878\n",
            "Epoch 164/200\n",
            "loss = 0.023098295124677513      val_loss: 0.022870110347867012\n",
            "Epoch 165/200\n",
            "loss = 0.02266533515201165      val_loss: 0.022932004183530807\n",
            "Epoch 166/200\n",
            "loss = 0.023108639396153964      val_loss: 0.02290300838649273\n",
            "Epoch 167/200\n",
            "loss = 0.02269059233367443      val_loss: 0.02286401018500328\n",
            "Epoch 168/200\n",
            "loss = 0.023315111031899087      val_loss: 0.022902850061655045\n",
            "Epoch 169/200\n",
            "loss = 0.022893856637752973      val_loss: 0.02286120317876339\n",
            "Epoch 170/200\n",
            "loss = 0.023313988716556475      val_loss: 0.02287186123430729\n",
            "Epoch 171/200\n",
            "loss = 0.022914350749208376      val_loss: 0.022894008085131645\n",
            "Epoch 172/200\n",
            "loss = 0.02276833985860531      val_loss: 0.022956879809498787\n",
            "Epoch 173/200\n",
            "loss = 0.023182643290895682      val_loss: 0.022861206904053688\n",
            "Epoch 174/200\n",
            "loss = 0.022244800312014725      val_loss: 0.022882042452692986\n",
            "Epoch 175/200\n",
            "loss = 0.022780801097934063      val_loss: 0.022893205285072327\n",
            "Epoch 176/200\n",
            "loss = 0.022132089361548424      val_loss: 0.022865939885377884\n",
            "Epoch 177/200\n",
            "loss = 0.02255296535216845      val_loss: 0.022903675213456154\n",
            "Epoch 178/200\n",
            "loss = 0.022909378776183494      val_loss: 0.022914400324225426\n",
            "Epoch 179/200\n",
            "loss = 0.022482774435327604      val_loss: 0.022875288501381874\n",
            "Epoch 180/200\n",
            "loss = 0.022871748759196356      val_loss: 0.02291003242135048\n",
            "Epoch 181/200\n",
            "loss = 0.02285226806998253      val_loss: 0.02288183942437172\n",
            "Epoch 182/200\n",
            "loss = 0.022660023604448024      val_loss: 0.02285735495388508\n",
            "Epoch 183/200\n",
            "loss = 0.02272347418161539      val_loss: 0.022863687947392464\n",
            "Epoch 184/200\n",
            "loss = 0.023214097349689558      val_loss: 0.022863812744617462\n",
            "Epoch 185/200\n",
            "loss = 0.022961456758471634      val_loss: 0.022912519052624702\n",
            "Epoch 186/200\n",
            "loss = 0.022559402510523796      val_loss: 0.022861994802951813\n",
            "Epoch 187/200\n",
            "loss = 0.023230149912146423      val_loss: 0.022861864417791367\n",
            "Epoch 188/200\n",
            "loss = 0.022281737854847543      val_loss: 0.022864798083901405\n",
            "Epoch 189/200\n",
            "loss = 0.02255717679285086      val_loss: 0.022877968847751617\n",
            "Epoch 190/200\n",
            "loss = 0.022422675616466083      val_loss: 0.022883713245391846\n",
            "Epoch 191/200\n",
            "loss = 0.02291516329233463      val_loss: 0.022888308390975\n",
            "Epoch 192/200\n",
            "loss = 0.022581161071474735      val_loss: 0.022906675934791565\n",
            "Epoch 193/200\n",
            "loss = 0.02249701263812872      val_loss: 0.02286556363105774\n",
            "Epoch 194/200\n",
            "loss = 0.02318209524338062      val_loss: 0.022860709577798843\n",
            "Epoch 195/200\n",
            "loss = 0.022302710236265108      val_loss: 0.022857705131173134\n",
            "Epoch 196/200\n",
            "loss = 0.023566751669232663      val_loss: 0.022874493151903152\n",
            "Epoch 197/200\n",
            "loss = 0.022471483510274153      val_loss: 0.022881578654050827\n",
            "Epoch 198/200\n",
            "loss = 0.022754379619772617      val_loss: 0.022900473326444626\n",
            "Epoch 199/200\n",
            "loss = 0.022558308851260405      val_loss: 0.022918449714779854\n",
            "Epoch 200/200\n",
            "loss = 0.022703967415369473      val_loss: 0.022931568324565887\n"
          ],
          "name": "stdout"
        }
      ]
    },
    {
      "cell_type": "code",
      "metadata": {
        "colab": {
          "base_uri": "https://localhost:8080/"
        },
        "id": "yOjoxGBPZMjo",
        "outputId": "4892af7e-c4b7-469a-e658-4a0428901af1"
      },
      "source": [
        "cnn.load_state_dict(torch.load('/content/drive/My Drive/ML_Ultrasound_Project/cnn_state_dict'))\n",
        "cnn.eval()"
      ],
      "execution_count": null,
      "outputs": [
        {
          "output_type": "execute_result",
          "data": {
            "text/plain": [
              "CNN(\n",
              "  (conv3d_1): Conv3d(1, 16, kernel_size=(3, 3, 3), stride=(1, 1, 1))\n",
              "  (tanh_1): Tanh()\n",
              "  (bn1): BatchNorm3d(16, eps=1e-05, momentum=0.1, affine=True, track_running_stats=True)\n",
              "  (drop_1): Dropout(p=0.25, inplace=False)\n",
              "  (conv3d_2): Conv3d(16, 32, kernel_size=(2, 2, 2), stride=(1, 1, 1))\n",
              "  (tanh_2): Tanh()\n",
              "  (bn2): BatchNorm3d(32, eps=1e-05, momentum=0.1, affine=True, track_running_stats=True)\n",
              "  (drop_2): Dropout(p=0.25, inplace=False)\n",
              "  (conv3d_3): Conv3d(32, 64, kernel_size=(2, 2, 2), stride=(1, 1, 1))\n",
              "  (tanh_3): Tanh()\n",
              "  (bn3): BatchNorm3d(64, eps=1e-05, momentum=0.1, affine=True, track_running_stats=True)\n",
              "  (drop_3): Dropout(p=0.25, inplace=False)\n",
              "  (flat_1): Flatten(start_dim=1, end_dim=-1)\n",
              "  (lin_1): Linear(in_features=274816, out_features=1320, bias=True)\n",
              "  (lambda_1): Lambda()\n",
              ")"
            ]
          },
          "metadata": {
            "tags": []
          },
          "execution_count": 24
        }
      ]
    },
    {
      "cell_type": "code",
      "metadata": {
        "id": "Ln9TWRkvBPaT",
        "colab": {
          "base_uri": "https://localhost:8080/",
          "height": 295
        },
        "outputId": "b75b058a-a699-4d73-b893-55ff60ffea93"
      },
      "source": [
        "# Plot training curve for loss\n",
        "plt.plot(train_losses[:])\n",
        "plt.plot(val_losses[:])\n",
        "plt.title('loss')\n",
        "plt.ylabel('loss')\n",
        "plt.xlabel('epoch')\n",
        "plt.yscale('log')\n",
        "plt.legend(['train', 'validation'], loc = 'upper right')\n",
        "plt.show()"
      ],
      "execution_count": null,
      "outputs": [
        {
          "output_type": "display_data",
          "data": {
            "image/png": "[encoded data removed]",
            "text/plain": [
              "<Figure size 432x288 with 1 Axes>"
            ]
          },
          "metadata": {
            "tags": [],
            "needs_background": "light"
          }
        }
      ]
    },
    {
      "cell_type": "code",
      "metadata": {
        "id": "R8MC61D0Mxz7",
        "colab": {
          "base_uri": "https://localhost:8080/"
        },
        "outputId": "40286528-1d29-4f8a-b52d-bc0706f2ef87"
      },
      "source": [
        "# Load test dataset\n",
        "testing_data = np.load('/content/drive/My Drive/ML_Ultrasound_Project/UROPdata/twenty_test_data.npz', allow_pickle=True)\n",
        "test_data = testing_data['arr_0'] \n",
        "\n",
        "# Reorganises the array into input and label arrays, same as for training and validation sets\n",
        "test_X = []\n",
        "test_Y = []\n",
        "\n",
        "for i in range (len(test_data)):\n",
        "  test_X.append(test_data[i][0])\n",
        "  test_Y.append(test_data[i][1])\n",
        "\n",
        "test_X = np.array(test_X)\n",
        "test_Y = np.array(test_Y)\n",
        "\n",
        "# Adds axis to create correct array shape\n",
        "test_X = test_X[:, :, :, np.newaxis]\n",
        "\n",
        "print(test_X.shape, test_Y.shape)\n",
        "\n",
        "# Standardise data for vgg\n",
        "scaler = preprocessing.StandardScaler()\n",
        "test_Y = scaler.fit_transform(np.squeeze(test_Y))\n",
        "print(test_Y.shape)\n",
        "\n",
        "# # Repeat along 3 dimensions to replicate RGB for vgg\n",
        "test_Y = np.repeat(test_Y[:, np.newaxis, :], 3, axis=1)\n",
        "\n",
        "# Make array >32 pixels high for vgg\n",
        "test_Y = np.repeat(test_Y[:, :, :, np.newaxis], 3, axis=2)\n",
        "print(test_Y.shape)\n",
        "\n",
        "test_X = np.reshape(test_X, (-1,1,23,230,5))\n",
        "test_Y = np.reshape(test_Y, (-1,3, 33, 10))\n",
        "test_Y = np.repeat(test_Y[:, :, :, :], 4, axis=3)\n",
        "\n",
        "print(test_X.shape, test_Y.shape)\n"
      ],
      "execution_count": null,
      "outputs": [
        {
          "output_type": "stream",
          "text": [
            "(720, 23, 115, 1) (720, 11, 1)\n",
            "(720, 11)\n",
            "(720, 3, 33, 1)\n",
            "(72, 1, 23, 230, 5) (72, 3, 33, 40)\n"
          ],
          "name": "stdout"
        }
      ]
    },
    {
      "cell_type": "code",
      "metadata": {
        "id": "JXdIWoIXNJ-V",
        "colab": {
          "base_uri": "https://localhost:8080/"
        },
        "outputId": "f20884e5-f18e-4fb6-c9e9-3961ef3ec137"
      },
      "source": [
        "# PyTorch uses tensors\n",
        "x_test, y_test = map(torch.tensor, (test_X, test_Y))\n",
        "\n",
        "# Data must be stored on GPU to use GPU for training\n",
        "dev = torch.device(\"cuda\") if torch.cuda.is_available() else torch.device(\"cpu\")\n",
        "x_test, y_test = x_test.to(dev), y_test.to(dev)\n",
        "\n",
        "\n",
        "print(x_test.shape)\n",
        "\n",
        "x_test, y_test = preprocess(x_test, y_test)\n",
        "print(x_test.shape, y_test.shape)"
      ],
      "execution_count": null,
      "outputs": [
        {
          "output_type": "stream",
          "text": [
            "torch.Size([72, 1, 23, 230, 5])\n",
            "torch.Size([72, 1, 5, 23, 230]) torch.Size([72, 3, 33, 40])\n"
          ],
          "name": "stdout"
        }
      ]
    },
    {
      "cell_type": "code",
      "metadata": {
        "id": "aaz6lhVlr2an",
        "colab": {
          "base_uri": "https://localhost:8080/"
        },
        "outputId": "77877537-97ea-41f5-ef44-10a5d4dbbbaa"
      },
      "source": [
        "print(\"Generate predictions using the testing dataset\")\n",
        "predictions = cnn(x_test)\n",
        "\n",
        "print(predictions.shape)\n",
        "\n",
        "predictions = torch.reshape(predictions, (-1,33,40)).unsqueeze(1)\n",
        "predictions = predictions.repeat(1,3,1,1)\n",
        "\n",
        "y_test = np.squeeze(y_test)\n",
        "\n",
        "test_error = nrmse_loss(predictions, y_test).item()\n",
        "\n",
        "print('Test RMSE: {}'.format(test_error))"
      ],
      "execution_count": null,
      "outputs": [
        {
          "output_type": "stream",
          "text": [
            "Generate predictions using the testing dataset\n",
            "torch.Size([72, 1320])\n",
            "Test RMSE: 0.052236590534448624\n"
          ],
          "name": "stdout"
        }
      ]
    },
    {
      "cell_type": "code",
      "metadata": {
        "id": "L5T7k6VaWOOt"
      },
      "source": [
        "predictions = predictions.cpu().detach().numpy()\n",
        "y_test = y_test.cpu().detach().numpy()"
      ],
      "execution_count": null,
      "outputs": []
    },
    {
      "cell_type": "code",
      "metadata": {
        "colab": {
          "base_uri": "https://localhost:8080/",
          "height": 1000
        },
        "id": "1rI2VqC5j6QG",
        "outputId": "f8eb29b1-1bce-436b-ac01-48f73cf01374"
      },
      "source": [
        "plt.imshow(predictions[0, 0, :, :])\n",
        "plt.show()\n",
        "plt.imshow(y_test[0, 0, :, :])\n",
        "plt.show()\n",
        "\n",
        "pred = np.reshape(predictions, (-1, 3, 33, 4))\n",
        "plt.imshow(pred[0, 0, :, :])\n",
        "plt.show()\n",
        "\n",
        "y = np.reshape(y_test, (-1, 3, 33, 4))\n",
        "plt.imshow(y[0, 0, :, :])\n",
        "plt.show()"
      ],
      "execution_count": null,
      "outputs": [
        {
          "output_type": "display_data",
          "data": {
            "image/png": "[encoded data removed]",
            "text/plain": [
              "<Figure size 432x288 with 1 Axes>"
            ]
          },
          "metadata": {
            "tags": [],
            "needs_background": "light"
          }
        },
        {
          "output_type": "display_data",
          "data": {
            "image/png": "[encoded data removed]",
            "text/plain": [
              "<Figure size 432x288 with 1 Axes>"
            ]
          },
          "metadata": {
            "tags": [],
            "needs_background": "light"
          }
        },
        {
          "output_type": "display_data",
          "data": {
            "image/png": "[encoded data removed]",
            "text/plain": [
              "<Figure size 432x288 with 1 Axes>"
            ]
          },
          "metadata": {
            "tags": [],
            "needs_background": "light"
          }
        },
        {
          "output_type": "display_data",
          "data": {
            "image/png": "[encoded data removed]",
            "text/plain": [
              "<Figure size 432x288 with 1 Axes>"
            ]
          },
          "metadata": {
            "tags": [],
            "needs_background": "light"
          }
        }
      ]
    },
    {
      "cell_type": "code",
      "metadata": {
        "colab": {
          "base_uri": "https://localhost:8080/"
        },
        "id": "9rXEwMQThtea",
        "outputId": "fbde02a2-09d4-4274-a40c-f454d4625043"
      },
      "source": [
        "print(predictions.shape)\n",
        "predictions = np.reshape(predictions, (-1, 3, 33, 4))\n",
        "predictions = predictions[:, 0, [i for i in range(0,33,3)], 0]\n",
        "print(predictions.shape)\n",
        "\n",
        "print(test_Y.shape)\n",
        "test_Y = np.reshape(test_Y, (-1, 3, 33, 4))\n",
        "test_Y = test_Y[:, 0, [i for i in range(0,33,3)], 0]\n",
        "print(test_Y.shape)"
      ],
      "execution_count": null,
      "outputs": [
        {
          "output_type": "stream",
          "text": [
            "(72, 3, 33, 40)\n",
            "(720, 11)\n",
            "(72, 3, 33, 40)\n",
            "(720, 11)\n"
          ],
          "name": "stdout"
        }
      ]
    },
    {
      "cell_type": "code",
      "metadata": {
        "id": "haGes96VOFyS",
        "colab": {
          "base_uri": "https://localhost:8080/",
          "height": 209
        },
        "outputId": "4430d51d-ed0a-450d-8464-ce013fd40248"
      },
      "source": [
        "print(\"Predicted labels:\")\n",
        "a = predictions[:80, ]\n",
        "a = np.rot90(a)\n",
        "plt.imshow(a)\n",
        "plt.show()\n",
        "\n",
        "print(\"Real labels:\")\n",
        "b = test_Y[:80, ]\n",
        "b = np.rot90(b)\n",
        "plt.imshow(b)\n",
        "plt.show()"
      ],
      "execution_count": null,
      "outputs": [
        {
          "output_type": "stream",
          "text": [
            "Predicted labels:\n"
          ],
          "name": "stdout"
        },
        {
          "output_type": "display_data",
          "data": {
            "image/png": "[encoded data removed]",
            "text/plain": [
              "<Figure size 432x288 with 1 Axes>"
            ]
          },
          "metadata": {
            "tags": [],
            "needs_background": "light"
          }
        },
        {
          "output_type": "stream",
          "text": [
            "Real labels:\n"
          ],
          "name": "stdout"
        },
        {
          "output_type": "display_data",
          "data": {
            "image/png": "[encoded data removed]",
            "text/plain": [
              "<Figure size 432x288 with 1 Axes>"
            ]
          },
          "metadata": {
            "tags": [],
            "needs_background": "light"
          }
        }
      ]
    },
    {
      "cell_type": "code",
      "metadata": {
        "id": "itaBKfYd2w1D",
        "colab": {
          "base_uri": "https://localhost:8080/"
        },
        "outputId": "9e9adfa5-490d-446c-d2be-1b573b66b090"
      },
      "source": [
        "# Loads the entire dataset of both blank and wave inputs/labels\n",
        "norm_inputs = np.load('/content/drive/My Drive/ML_Ultrasound_Project/UROPdata/norm_inputs.npz', allow_pickle=True)\n",
        "norm_labels = np.load('/content/drive/My Drive/ML_Ultrasound_Project/UROPdata/norm_labels.npz', allow_pickle=True)\n",
        "\n",
        "norm_inputs = norm_inputs['arr_0']\n",
        "print(norm_inputs.shape)\n",
        "\n",
        "norm_labels = norm_labels['arr_0']\n",
        "print(norm_labels.shape)\n",
        "\n",
        "#Append the normalised input images for 1 complete image to a new array\n",
        "one_img = []\n",
        "one_lab = []\n",
        "#top row: 100% blank purple images\n",
        "for i in range (50, 18550, 53): # range reflects how data was organised in 'DatasetCreator_Cosima' notebook\n",
        "  one_img.append(norm_inputs[i])\n",
        "  one_lab.append(norm_labels[i])\n",
        "print(np.array(one_img).shape, np.array(one_lab).shape)\n",
        "\n",
        "#right column: 100% blank purple images\n",
        "for i in range (18550+50, 43990, 53):\n",
        "  one_img.append(norm_inputs[i])\n",
        "  one_lab.append(norm_labels[i])\n",
        "print(np.array(one_img).shape, np.array(one_lab).shape)\n",
        "\n",
        "#left column: coloured wave images\n",
        "for i in range (43990+50, 69430, 53):\n",
        "  one_img.append(norm_inputs[i])\n",
        "  one_lab.append(norm_labels[i])\n",
        "print(np.array(one_img).shape, np.array(one_lab).shape)\n",
        "\n",
        "#bottom row: 100% blank purple images\n",
        "for i in range (69430+50, 87980, 53):\n",
        "  one_img.append(norm_inputs[i])\n",
        "  one_lab.append(norm_labels[i])\n",
        "print(np.array(one_img).shape, np.array(one_lab).shape)\n",
        "\n",
        "one_img = np.array(one_img) # one_img has 1 entire 350x480 image data in it\n",
        "one_lab = np.array(one_lab)\n",
        "\n",
        "one_img = one_img[:, :, :, np.newaxis]\n",
        "print(one_img.shape, one_lab.shape) \n",
        "\n",
        "one_img = np.reshape(one_img, (-1,1,23,23,5))\n",
        "print(one_img.shape)\n",
        "\n",
        "# Standardise data for vgg\n",
        "one_lab = scaler.fit_transform(np.squeeze(one_lab))\n",
        "print(one_lab.shape)\n",
        "\n",
        "# # Repeat along 3 dimensions to replicate RGB for vgg\n",
        "one_lab = np.repeat(one_lab[:, np.newaxis, :], 3, axis=1)\n",
        "\n",
        "# Make array >32 pixels high for vgg\n",
        "one_lab = np.repeat(one_lab[:, :, :, np.newaxis], 3, axis=2)\n",
        "print(one_lab.shape)\n",
        "\n",
        "one_img = np.reshape(one_img, (-1,1,23,230,5))\n",
        "one_lab = np.reshape(one_lab, (-1,3, 33, 10))\n",
        "one_lab = np.repeat(one_lab[:, :, :, :], 4, axis=3)\n",
        "\n",
        "print(one_img.shape, one_lab.shape)\n"
      ],
      "execution_count": null,
      "outputs": [
        {
          "output_type": "stream",
          "text": [
            "(87980, 23, 115)\n",
            "(87980, 11, 1)\n",
            "(350, 23, 115) (350, 11, 1)\n",
            "(830, 23, 115) (830, 11, 1)\n",
            "(1310, 23, 115) (1310, 11, 1)\n",
            "(1660, 23, 115) (1660, 11, 1)\n",
            "(1660, 23, 115, 1) (1660, 11, 1)\n",
            "(1660, 1, 23, 23, 5)\n",
            "(1660, 11)\n",
            "(1660, 3, 33, 1)\n",
            "(166, 1, 23, 230, 5) (166, 3, 33, 40)\n"
          ],
          "name": "stdout"
        }
      ]
    },
    {
      "cell_type": "code",
      "metadata": {
        "id": "GTkym1DnpCRZ",
        "colab": {
          "base_uri": "https://localhost:8080/"
        },
        "outputId": "07060042-30c1-4e9f-e64e-b7b4c4cf26c6"
      },
      "source": [
        "# PyTorch uses tensors\n",
        "one_img, one_lab = map(torch.tensor, (one_img, one_lab))\n",
        "\n",
        "# Data must be stored on GPU to use GPU for training\n",
        "dev = torch.device(\"cuda\") if torch.cuda.is_available() else torch.device(\"cpu\")\n",
        "one_img, one_lab = one_img.to(dev), one_lab.to(dev)\n",
        "\n",
        "print(one_img.shape)\n",
        "print(one_lab.shape)\n",
        "\n",
        "one_img, one_lab = preprocess(one_img, one_lab)\n",
        "print(one_img.shape)"
      ],
      "execution_count": null,
      "outputs": [
        {
          "output_type": "stream",
          "text": [
            "torch.Size([166, 1, 23, 230, 5])\n",
            "torch.Size([166, 3, 33, 40])\n",
            "torch.Size([166, 1, 5, 23, 230])\n"
          ],
          "name": "stdout"
        }
      ]
    },
    {
      "cell_type": "code",
      "metadata": {
        "id": "goWcenQEoLBf",
        "colab": {
          "base_uri": "https://localhost:8080/"
        },
        "outputId": "afc059fe-3767-441e-8a2a-a854baf81234"
      },
      "source": [
        "print(\"Generate predictions for 1 set of borders\")\n",
        "\n",
        "predictions2 = torch.reshape(cnn(one_img), (-1,33,40)).unsqueeze(1).repeat(1,3,1,1)\n",
        "\n",
        "one_lab = np.squeeze(one_lab)\n",
        "\n",
        "image_error = nrmse_loss(predictions2, one_lab).item()\n",
        "\n",
        "print('Image RMSE: {}'.format(image_error))"
      ],
      "execution_count": null,
      "outputs": [
        {
          "output_type": "stream",
          "text": [
            "Generate predictions for 1 set of borders\n",
            "Image RMSE: 0.04969591274857521\n"
          ],
          "name": "stdout"
        }
      ]
    },
    {
      "cell_type": "code",
      "metadata": {
        "id": "29sJiXnRqRYA"
      },
      "source": [
        "predictions2 = predictions2.cpu().detach().numpy()\n",
        "one_lab = one_lab.cpu().detach().numpy()"
      ],
      "execution_count": null,
      "outputs": []
    },
    {
      "cell_type": "code",
      "metadata": {
        "id": "ee5yDjKDqMnm",
        "colab": {
          "base_uri": "https://localhost:8080/",
          "height": 333
        },
        "outputId": "5d54f5d9-f4d7-466b-e9d0-b108e4b89db8"
      },
      "source": [
        "print(predictions2.shape)\n",
        "predictions2 = np.reshape(predictions2, (-1, 3, 33, 4))\n",
        "predictions2 = predictions2[:, 0, [i for i in range(0,33,3)], 0]\n",
        "print(predictions2.shape)\n",
        "\n",
        "print(one_lab.shape)\n",
        "one_lab = np.reshape(one_lab, (-1, 3, 33, 4))\n",
        "one_lab = one_lab[:, 0, [i for i in range(0,33,3)], 0]\n",
        "print(one_lab.shape)\n",
        "\n",
        "\n",
        "# Top row 350 wide, showing first 50 labels to see the differences up close\n",
        "print(\"Predicted Top Row:\")\n",
        "a = predictions2[0:50, :]\n",
        "b = np.rot90(a)\n",
        "plt.imshow(b)\n",
        "plt.show()\n",
        "\n",
        "print(\"Real Top Row:\")\n",
        "c = one_lab[0:50, :]\n",
        "d = np.rot90(c)\n",
        "plt.imshow(d)\n",
        "plt.show()"
      ],
      "execution_count": null,
      "outputs": [
        {
          "output_type": "stream",
          "text": [
            "(166, 3, 33, 40)\n",
            "(1660, 11)\n",
            "(166, 3, 33, 40)\n",
            "(1660, 11)\n",
            "Predicted Top Row:\n"
          ],
          "name": "stdout"
        },
        {
          "output_type": "display_data",
          "data": {
            "image/png": "[encoded data removed]",
            "text/plain": [
              "<Figure size 432x288 with 1 Axes>"
            ]
          },
          "metadata": {
            "tags": [],
            "needs_background": "light"
          }
        },
        {
          "output_type": "stream",
          "text": [
            "Real Top Row:\n"
          ],
          "name": "stdout"
        },
        {
          "output_type": "display_data",
          "data": {
            "image/png": "[encoded data removed]",
            "text/plain": [
              "<Figure size 432x288 with 1 Axes>"
            ]
          },
          "metadata": {
            "tags": [],
            "needs_background": "light"
          }
        }
      ]
    },
    {
      "cell_type": "code",
      "metadata": {
        "id": "FGy51Ig1qqM3"
      },
      "source": [
        "# Left column\n",
        "print(\"Predicted Left Column:\")\n",
        "e = predictions2[830:1310, :]\n",
        "e = np.rot90(e)\n",
        "# e = np.flip(e, 1)\n",
        "plt.imshow(e)\n",
        "plt.show()\n",
        "\n",
        "print(\"Real Left Column:\")\n",
        "g = one_lab[830:1310, :]\n",
        "g = np.rot90(g)\n",
        "plt.imshow(g)\n",
        "plt.show()"
      ],
      "execution_count": null,
      "outputs": []
    },
    {
      "cell_type": "code",
      "metadata": {
        "id": "qJwTReUPqka4"
      },
      "source": [
        "# Checking the differences between predicted and real images to make sure they are the same for blank and wave images\n",
        "diff_blank = predictions2[0:350, :] - one_lab[0:350, :]\n",
        "diff_blank = np.rot90(diff_blank)\n",
        "plt.imshow(diff_blank)\n",
        "plt.show()\n",
        "\n",
        "diff_wave = predictions2[830:1310, :] - one_lab[830:1310, :]\n",
        "diff_wave = np.rot90(diff_wave)\n",
        "plt.imshow(diff_wave)\n",
        "plt.show()"
      ],
      "execution_count": null,
      "outputs": []
    },
    {
      "cell_type": "code",
      "metadata": {
        "id": "Vg5ezp8Hq0DZ"
      },
      "source": [
        "# Predicted\n",
        "# Get corresponding predicted parts for each border\n",
        "top = predictions2[0:350, :]\n",
        "top = np.rot90(top)\n",
        "left = predictions2[830:1310, :]\n",
        "right = predictions2[350:830, :]\n",
        "bottom = predictions2[1310:1660, :]\n",
        "bottom = np.rot90(bottom)\n",
        "\n",
        "# Check their shapes\n",
        "print('Predicted: top:', top.shape, 'left:', left.shape, 'right:', right.shape, 'bottom:', bottom.shape)\n",
        "\n",
        "# Create empty array of desired rectangle size\n",
        "pred_image_out = np.zeros((502, 350))\n",
        "\n",
        "# Save each border into the rectangle\n",
        "pred_image_out[0:11, 0:350] = top\n",
        "pred_image_out[11:491, 339:350] = right\n",
        "pred_image_out[491:502, 0:350] = bottom\n",
        "pred_image_out[11:491, 0:11] = left\n",
        "\n",
        "# Real\n",
        "# Get corresponding real parts for each border\n",
        "top = one_lab[0:350, :]\n",
        "top = np.rot90(top)\n",
        "left = one_lab[830:1310, :]\n",
        "right = one_lab[350:830, :]\n",
        "bottom = one_lab[1310:1660, :]\n",
        "bottom = np.rot90(bottom)\n",
        "\n",
        "# Check their shapes\n",
        "print('Real: top:', top.shape, 'left:', left.shape, 'right:', right.shape, 'bottom:', bottom.shape)\n",
        "\n",
        "# Create empty array of desired rectangle size\n",
        "real_image_out = np.zeros((502, 350))\n",
        "\n",
        "# Save each border into the rectangle\n",
        "real_image_out[0:11, 0:350] = top\n",
        "real_image_out[11:491, 339:350] = right\n",
        "real_image_out[491:502, 0:350] = bottom\n",
        "real_image_out[11:491, 0:11] = left"
      ],
      "execution_count": null,
      "outputs": []
    },
    {
      "cell_type": "code",
      "metadata": {
        "id": "MlbmrSvMrIrB"
      },
      "source": [
        "# Plot images\n",
        "print('Predicted:')\n",
        "plt.imshow(pred_image_out)\n",
        "plt.show()\n",
        "\n",
        "print('Real:')\n",
        "plt.imshow(real_image_out)\n",
        "plt.show()"
      ],
      "execution_count": null,
      "outputs": []
    },
    {
      "cell_type": "code",
      "metadata": {
        "id": "SSQm4T-KrNBJ"
      },
      "source": [
        ""
      ],
      "execution_count": null,
      "outputs": []
    }
  ]
}