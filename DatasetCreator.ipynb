{
  "nbformat": 4,
  "nbformat_minor": 0,
  "metadata": {
    "colab": {
      "name": "DatasetCreator.ipynb",
      "provenance": [],
      "collapsed_sections": [
        "dyUpS2TV1h2D",
        "Zlw-EJuW1sCL",
        "CCCzTmTGx-lX"
      ],
      "toc_visible": true
    },
    "kernelspec": {
      "name": "python3",
      "display_name": "Python 3"
    }
  },
  "cells": [
    {
      "cell_type": "markdown",
      "metadata": {
        "id": "jjC06KQILCdi"
      },
      "source": [
        "**Create dataset from basedata**"
      ]
    },
    {
      "cell_type": "code",
      "metadata": {
        "id": "P-OJjIrCCUiF"
      },
      "source": [
        "#import libraries\n",
        "import numpy as np\n",
        "import matplotlib.pyplot as plt\n",
        "import os"
      ],
      "execution_count": null,
      "outputs": []
    },
    {
      "cell_type": "code",
      "metadata": {
        "id": "EtCsYg6j88Ax",
        "colab": {
          "base_uri": "https://localhost:8080/"
        },
        "outputId": "d4dd534d-512f-4fe5-b915-a310c5013d18"
      },
      "source": [
        "from google.colab import drive\n",
        "drive.mount('/content/drive')"
      ],
      "execution_count": null,
      "outputs": [
        {
          "output_type": "stream",
          "text": [
            "Mounted at /content/drive\n"
          ],
          "name": "stdout"
        }
      ]
    },
    {
      "cell_type": "markdown",
      "metadata": {
        "id": "dyUpS2TV1h2D"
      },
      "source": [
        "# Water"
      ]
    },
    {
      "cell_type": "code",
      "metadata": {
        "id": "KlRB_iGhD98L"
      },
      "source": [
        "#load data file from 'solve acoustic'\n",
        "data = np.load('/content/drive/My Drive/ML_Ultrasound_Project/UROPdata/basedata_water.npz')\n",
        "basedata = data['a'] #save 'a' as 'basedata'"
      ],
      "execution_count": null,
      "outputs": []
    },
    {
      "cell_type": "code",
      "metadata": {
        "id": "QrXwjskxLT6k",
        "colab": {
          "base_uri": "https://localhost:8080/"
        },
        "outputId": "e273feb6-9ef5-4a2a-a666-228718caceaa"
      },
      "source": [
        "final_max, final_min = np.max(basedata), np.min(basedata)\n",
        "print(final_max, final_min)\n",
        "print(basedata[0].shape)\n",
        "\n",
        "# basedata = (basedata - final_min) / (final_max - final_min) *2-1\n",
        "\n",
        "# Normalise with zero at zero\n",
        "basedata = basedata/np.max(np.abs(basedata))\n",
        "\n",
        "print(np.max(basedata), np.min(basedata))"
      ],
      "execution_count": null,
      "outputs": [
        {
          "output_type": "stream",
          "text": [
            "8.9908006e-08 -7.546365e-08\n",
            "(1001, 1001)\n",
            "1.0 -0.83934295\n"
          ],
          "name": "stdout"
        }
      ]
    },
    {
      "cell_type": "code",
      "metadata": {
        "colab": {
          "base_uri": "https://localhost:8080/"
        },
        "id": "GiXB8UeokO4M",
        "outputId": "a613c819-f530-4bc8-9da8-aaf34f4a1fe4"
      },
      "source": [
        "len(basedata)"
      ],
      "execution_count": null,
      "outputs": [
        {
          "output_type": "execute_result",
          "data": {
            "text/plain": [
              "530"
            ]
          },
          "metadata": {
            "tags": []
          },
          "execution_count": 21
        }
      ]
    },
    {
      "cell_type": "code",
      "metadata": {
        "id": "91h1nWYuOOQx",
        "colab": {
          "base_uri": "https://localhost:8080/",
          "height": 1000
        },
        "outputId": "74205cc4-05e9-436c-e2f7-ed67a7a35191"
      },
      "source": [
        "#check correct cutting box is chosen (note it is flipped compared to solve_acoustic data)\n",
        "\n",
        "# starting at t = 5\n",
        "image = basedata[60]\n",
        "roi = image[455:545, 290:324]\n",
        "plt.imshow(roi)\n",
        "plt.xticks([11])\n",
        "plt.colorbar()\n",
        "plt.show()\n",
        "\n",
        "image = basedata[380]\n",
        "roi = image[410:590, 290:324]\n",
        "plt.imshow(roi)\n",
        "plt.xticks([11])\n",
        "plt.show()\n",
        "\n",
        "image = basedata[525]\n",
        "roi = image[365:635, 290:324]\n",
        "plt.imshow(roi)\n",
        "plt.xticks([11])\n",
        "plt.show()\n",
        "\n",
        "\n",
        "# starting at t = 40\n",
        "print('Border 2')\n",
        "image = basedata[240]\n",
        "roi = image[455:545, 261:295]\n",
        "plt.imshow(roi)\n",
        "plt.xticks([11])\n",
        "plt.show()\n",
        "\n",
        "image = basedata[420]\n",
        "roi = image[410:590, 261:295]\n",
        "plt.imshow(roi)\n",
        "plt.xticks([11])\n",
        "plt.show()\n",
        "\n",
        "image = basedata[525]\n",
        "roi = image[365:635, 261:295]\n",
        "plt.imshow(roi)\n",
        "plt.xticks([11])\n",
        "plt.show()\n",
        "\n",
        "\n",
        "# starting at t = 260\n",
        "print('Border 3')\n",
        "image = basedata[340]\n",
        "roi = image[455:545, 227:261]\n",
        "plt.imshow(roi)\n",
        "plt.xticks([11])\n",
        "plt.show()\n",
        "\n",
        "image = basedata[470]\n",
        "roi = image[410:590, 227:261]\n",
        "plt.imshow(roi)\n",
        "plt.xticks([11])\n",
        "plt.show()\n",
        "\n",
        "image = basedata[525]\n",
        "roi = image[365:635, 227:261]\n",
        "plt.imshow(roi)\n",
        "plt.xticks([11])\n",
        "plt.show()\n",
        "\n",
        "# starting at t = 400\n",
        "print('Border 4')\n",
        "image = basedata[450]\n",
        "roi = image[455:545, 193:227]\n",
        "plt.imshow(roi)\n",
        "plt.xticks([11])\n",
        "plt.show()\n",
        "\n",
        "image = basedata[525]\n",
        "roi = image[410:590, 193:227]\n",
        "plt.imshow(roi)\n",
        "plt.xticks([11])\n",
        "plt.show()\n",
        "\n",
        "# starting at t = 5\n",
        "print('Border 5')\n",
        "image = basedata[10]\n",
        "roi = image[425:575, 285:319]\n",
        "plt.imshow(roi)\n",
        "plt.xticks([11])\n",
        "plt.show()\n",
        "\n",
        "# starting at t = 15\n",
        "print('Border 6')\n",
        "image = basedata[80]\n",
        "roi = image[455:545, 278:312]\n",
        "plt.imshow(roi)\n",
        "plt.xticks([11])\n",
        "plt.show()\n",
        "\n",
        "image = basedata[380]\n",
        "roi = image[410:590, 278:312]\n",
        "plt.imshow(roi)\n",
        "plt.xticks([11])\n",
        "plt.show()\n",
        "\n",
        "image = basedata[525]\n",
        "roi = image[365:635, 278:312]\n",
        "plt.imshow(roi)\n",
        "plt.xticks([11])\n",
        "plt.show()\n"
      ],
      "execution_count": null,
      "outputs": [
        {
          "output_type": "display_data",
          "data": {
            "image/png": "[encoded data removed]",
            "text/plain": [
              "<Figure size 432x288 with 2 Axes>"
            ]
          },
          "metadata": {
            "tags": [],
            "needs_background": "light"
          }
        },
        {
          "output_type": "display_data",
          "data": {
            "image/png": "[encoded data removed]",
            "text/plain": [
              "<Figure size 432x288 with 1 Axes>"
            ]
          },
          "metadata": {
            "tags": [],
            "needs_background": "light"
          }
        },
        {
          "output_type": "display_data",
          "data": {
            "image/png": "[encoded data removed]",
            "text/plain": [
              "<Figure size 432x288 with 1 Axes>"
            ]
          },
          "metadata": {
            "tags": [],
            "needs_background": "light"
          }
        },
        {
          "output_type": "stream",
          "text": [
            "Border 2\n"
          ],
          "name": "stdout"
        },
        {
          "output_type": "display_data",
          "data": {
            "image/png": "[encoded data removed]",
            "text/plain": [
              "<Figure size 432x288 with 1 Axes>"
            ]
          },
          "metadata": {
            "tags": [],
            "needs_background": "light"
          }
        },
        {
          "output_type": "display_data",
          "data": {
            "image/png": "[encoded data removed]",
            "text/plain": [
              "<Figure size 432x288 with 1 Axes>"
            ]
          },
          "metadata": {
            "tags": [],
            "needs_background": "light"
          }
        },
        {
          "output_type": "display_data",
          "data": {
            "image/png": "[encoded data removed]",
            "text/plain": [
              "<Figure size 432x288 with 1 Axes>"
            ]
          },
          "metadata": {
            "tags": [],
            "needs_background": "light"
          }
        },
        {
          "output_type": "stream",
          "text": [
            "Border 3\n"
          ],
          "name": "stdout"
        },
        {
          "output_type": "display_data",
          "data": {
            "image/png": "[encoded data removed]",
            "text/plain": [
              "<Figure size 432x288 with 1 Axes>"
            ]
          },
          "metadata": {
            "tags": [],
            "needs_background": "light"
          }
        },
        {
          "output_type": "display_data",
          "data": {
            "image/png": "[encoded data removed]",
            "text/plain": [
              "<Figure size 432x288 with 1 Axes>"
            ]
          },
          "metadata": {
            "tags": [],
            "needs_background": "light"
          }
        },
        {
          "output_type": "display_data",
          "data": {
            "image/png": "[encoded data removed]",
            "text/plain": [
              "<Figure size 432x288 with 1 Axes>"
            ]
          },
          "metadata": {
            "tags": [],
            "needs_background": "light"
          }
        },
        {
          "output_type": "stream",
          "text": [
            "Border 4\n"
          ],
          "name": "stdout"
        },
        {
          "output_type": "display_data",
          "data": {
            "image/png": "[encoded data removed]",
            "text/plain": [
              "<Figure size 432x288 with 1 Axes>"
            ]
          },
          "metadata": {
            "tags": [],
            "needs_background": "light"
          }
        },
        {
          "output_type": "display_data",
          "data": {
            "image/png": "[encoded data removed]",
            "text/plain": [
              "<Figure size 432x288 with 1 Axes>"
            ]
          },
          "metadata": {
            "tags": [],
            "needs_background": "light"
          }
        },
        {
          "output_type": "stream",
          "text": [
            "Border 5\n"
          ],
          "name": "stdout"
        },
        {
          "output_type": "display_data",
          "data": {
            "image/png": "[encoded data removed]",
            "text/plain": [
              "<Figure size 432x288 with 1 Axes>"
            ]
          },
          "metadata": {
            "tags": [],
            "needs_background": "light"
          }
        },
        {
          "output_type": "stream",
          "text": [
            "Border 6\n"
          ],
          "name": "stdout"
        },
        {
          "output_type": "display_data",
          "data": {
            "image/png": "[encoded data removed]",
            "text/plain": [
              "<Figure size 432x288 with 1 Axes>"
            ]
          },
          "metadata": {
            "tags": [],
            "needs_background": "light"
          }
        },
        {
          "output_type": "display_data",
          "data": {
            "image/png": "[encoded data removed]",
            "text/plain": [
              "<Figure size 432x288 with 1 Axes>"
            ]
          },
          "metadata": {
            "tags": [],
            "needs_background": "light"
          }
        },
        {
          "output_type": "display_data",
          "data": {
            "image/png": "[encoded data removed]",
            "text/plain": [
              "<Figure size 432x288 with 1 Axes>"
            ]
          },
          "metadata": {
            "tags": [],
            "needs_background": "light"
          }
        }
      ]
    },
    {
      "cell_type": "code",
      "metadata": {
        "id": "63F4ackxAmkR"
      },
      "source": [
        "def get_images(basedata, t):\n",
        "  \n",
        "  if t < 6:\n",
        "    image0 = np.zeros((1001, 1001))\n",
        "    image1 = np.zeros((1001, 1001))\n",
        "    image2 = np.zeros((1001, 1001))\n",
        "    image3 = np.zeros((1001, 1001))\n",
        "    image4 = np.zeros((1001, 1001))\n",
        "    image5 = np.zeros((1001, 1001))\n",
        "    image6 = np.zeros((1001, 1001))\n",
        "    image7 = np.zeros((1001, 1001))\n",
        "    image8 = basedata[t]\n",
        "    \n",
        "  elif t < 12:\n",
        "    image0 = np.zeros((1001, 1001))\n",
        "    image1 = np.zeros((1001, 1001))\n",
        "    image2 = np.zeros((1001, 1001))\n",
        "    image3 = np.zeros((1001, 1001))\n",
        "    image4 = np.zeros((1001, 1001))\n",
        "    image5 = np.zeros((1001, 1001))\n",
        "    image6 = np.zeros((1001, 1001))\n",
        "    image7 = basedata[t-6]\n",
        "    image8 = basedata[t]    \n",
        "\n",
        "  elif t < 18:\n",
        "    image0 = np.zeros((1001, 1001))\n",
        "    image1 = np.zeros((1001, 1001))\n",
        "    image2 = np.zeros((1001, 1001))\n",
        "    image3 = np.zeros((1001, 1001))\n",
        "    image4 = np.zeros((1001, 1001))\n",
        "    image5 = np.zeros((1001, 1001))\n",
        "    image6 = basedata[t-12]\n",
        "    image7 = basedata[t-6]\n",
        "    image8 = basedata[t]\n",
        "\n",
        "  elif t < 24:\n",
        "    image0 = np.zeros((1001, 1001))\n",
        "    image1 = np.zeros((1001, 1001))\n",
        "    image2 = np.zeros((1001, 1001))\n",
        "    image3 = np.zeros((1001, 1001))\n",
        "    image4 = np.zeros((1001, 1001))\n",
        "    image5 = basedata[t-18]\n",
        "    image6 = basedata[t-12]\n",
        "    image7 = basedata[t-6]\n",
        "    image8 = basedata[t]\n",
        "\n",
        "  elif t < 30:\n",
        "    image0 = np.zeros((1001, 1001))\n",
        "    image1 = np.zeros((1001, 1001))\n",
        "    image2 = np.zeros((1001, 1001))\n",
        "    image3 = np.zeros((1001, 1001))\n",
        "    image4 = basedata[t-24]\n",
        "    image5 = basedata[t-18]\n",
        "    image6 = basedata[t-12]\n",
        "    image7 = basedata[t-6]\n",
        "    image8 = basedata[t]\n",
        "\n",
        "  elif t < 36:\n",
        "    image0 = np.zeros((1001, 1001))\n",
        "    image1 = np.zeros((1001, 1001))\n",
        "    image2 = np.zeros((1001, 1001))\n",
        "    image3 = basedata[t-30]\n",
        "    image4 = basedata[t-24]\n",
        "    image5 = basedata[t-18]\n",
        "    image6 = basedata[t-12]\n",
        "    image7 = basedata[t-6]\n",
        "    image8 = basedata[t]\n",
        "\n",
        "  elif t < 42:\n",
        "    image0 = np.zeros((1001, 1001))\n",
        "    image1 = np.zeros((1001, 1001))\n",
        "    image2 = basedata[t-36]\n",
        "    image3 = basedata[t-30]\n",
        "    image4 = basedata[t-24]\n",
        "    image5 = basedata[t-18]\n",
        "    image6 = basedata[t-12]\n",
        "    image7 = basedata[t-6]\n",
        "    image8 = basedata[t]\n",
        "\n",
        "  elif t < 48:\n",
        "    image0 = np.zeros((1001, 1001))\n",
        "    image1 = basedata[t-42]\n",
        "    image2 = basedata[t-36]\n",
        "    image3 = basedata[t-30]\n",
        "    image4 = basedata[t-24]\n",
        "    image5 = basedata[t-18]\n",
        "    image6 = basedata[t-12]\n",
        "    image7 = basedata[t-6]\n",
        "    image8 = basedata[t]\n",
        "\n",
        "  else:\n",
        "    image0 = basedata[t-48]\n",
        "    image1 = basedata[t-42]\n",
        "    image2 = basedata[t-36]\n",
        "    image3 = basedata[t-30]\n",
        "    image4 = basedata[t-24]\n",
        "    image5 = basedata[t-18]\n",
        "    image6 = basedata[t-12]\n",
        "    image7 = basedata[t-6]\n",
        "    image8 = basedata[t]\n",
        "\n",
        "  return image0, image1, image2, image3, image4, image5, image6, image7, image8"
      ],
      "execution_count": null,
      "outputs": []
    },
    {
      "cell_type": "code",
      "metadata": {
        "id": "TLEW4RbCF7_3"
      },
      "source": [
        "#left column\n",
        "newdata_l = []    #list for 5box clusters\n",
        "boxes_l = []      #list for all 480 box locations for the top row from current_box, where each current_box contains the \n",
        "                #526 5-box size images per location\n",
        "\n",
        "for j in range(5,200,6): #timestep range, each run through gives the next group of 5 boxes\n",
        "  #create the set for each 23x23 box location\n",
        "  for i in range(90):\n",
        "    image0, image1, image2, image3, image4, image5, image6, image7, image8 = get_images(basedata, j)\n",
        "\n",
        "    roi0 = image0[455-11:545+11, 290:324] #gets the cutting box for 372x502 (the inside 350x480 + width 11 border) DONT FORGET ITS [y:y+h, x:x+w]!!!\n",
        "    square_timestep0 = roi0[90-1-i:90+22-i, 11:34] #gets the square in terms of i\n",
        "    square_timestep0_T = np.rot90(square_timestep0, 3)\n",
        "\n",
        "    roi1 = image1[455-11:545+11, 290:324]\n",
        "    square_timestep1 = roi1[90-1-i:90+22-i, 11:34]\n",
        "    square_timestep1_T = np.rot90(square_timestep1, 3)\n",
        "    \n",
        "    roi2 = image2[455-11:545+11, 290:324]\n",
        "    square_timestep2 = roi2[90-1-i:90+22-i, 11:34] \n",
        "    square_timestep2_T = np.rot90(square_timestep2, 3)\n",
        "\n",
        "    roi3 = image3[455-11:545+11, 290:324]\n",
        "    square_timestep3 = roi3[90-1-i:90+22-i, 11:34]\n",
        "    square_timestep3_T = np.rot90(square_timestep3, 3)\n",
        "\n",
        "    roi4 = image4[455-11:545+11, 290:324]\n",
        "    square_timestep4 = roi4[90-1-i:90+22-i, 11:34]\n",
        "    square_timestep4_T = np.rot90(square_timestep4, 3)\n",
        "\n",
        "    roi5 = image5[455-11:545+11, 290:324]\n",
        "    square_timestep5 = roi5[90-1-i:90+22-i, 11:34]\n",
        "    square_timestep5_T = np.rot90(square_timestep5, 3)\n",
        "\n",
        "    roi6 = image6[455-11:545+11, 290:324]\n",
        "    square_timestep6 = roi6[90-1-i:90+22-i, 11:34]\n",
        "    square_timestep6_T = np.rot90(square_timestep6, 3)\n",
        "\n",
        "    roi7 = image7[455-11:545+11, 290:324]\n",
        "    square_timestep7 = roi7[90-1-i:90+22-i, 11:34]\n",
        "    square_timestep7_T = np.rot90(square_timestep7, 3)\n",
        "\n",
        "    roi8 = image8[455-11:545+11, 290:324]\n",
        "    square_timestep8 = roi8[90-1-i:90+22-i, 11:34]\n",
        "    square_timestep8_T = np.rot90(square_timestep8, 3)\n",
        "\n",
        "\n",
        "    #link the 5 images together\n",
        "    newdata_l = np.vstack((square_timestep0_T, square_timestep1_T))\n",
        "    newdata_l = np.vstack((newdata_l, square_timestep2_T))\n",
        "    newdata_l = np.vstack((newdata_l, square_timestep3_T))\n",
        "    newdata_l = np.vstack((newdata_l, square_timestep4_T))\n",
        "    newdata_l = np.vstack((newdata_l, square_timestep5_T))\n",
        "    newdata_l = np.vstack((newdata_l, square_timestep6_T))\n",
        "    newdata_l = np.vstack((newdata_l, square_timestep7_T))\n",
        "    newdata_l = np.vstack((newdata_l, square_timestep8_T))\n",
        "\n",
        "    newdata_l = np.reshape(newdata_l, (9,23,23))\n",
        "\n",
        "    boxes_l.append(newdata_l) #save into current_box\n",
        "\n",
        "boxes_l = np.array(boxes_l) #turn boxes list into array for future ease of use"
      ],
      "execution_count": null,
      "outputs": []
    },
    {
      "cell_type": "code",
      "metadata": {
        "id": "69VuL4-DOqUs"
      },
      "source": [
        "# for i in range(0,len(boxes_l),1000):\n",
        "#     plt.figure()\n",
        "#     plt.imshow(boxes_l[i][0])\n",
        "#     plt.show()\n",
        "#     plt.figure()\n",
        "#     plt.imshow(boxes_l[i][2])\n",
        "#     plt.show()\n",
        "#     plt.figure()\n",
        "#     plt.imshow(boxes_l[i][4])\n",
        "#     plt.show()"
      ],
      "execution_count": null,
      "outputs": []
    },
    {
      "cell_type": "code",
      "metadata": {
        "id": "4EjLmL0btuhW",
        "colab": {
          "base_uri": "https://localhost:8080/"
        },
        "outputId": "68205414-ea4d-4044-fa0b-6790560696d4"
      },
      "source": [
        "print(boxes_l.shape)"
      ],
      "execution_count": null,
      "outputs": [
        {
          "output_type": "stream",
          "text": [
            "(2970, 9, 23, 23)\n"
          ],
          "name": "stdout"
        }
      ]
    },
    {
      "cell_type": "code",
      "metadata": {
        "id": "cZiDxGOGUIDj"
      },
      "source": [
        "np.savez_compressed('/content/drive/My Drive/ML_Ultrasound_Project/UROPdata/images/leftcolumn_water', a=boxes_l)"
      ],
      "execution_count": null,
      "outputs": []
    },
    {
      "cell_type": "code",
      "metadata": {
        "id": "v1M7VFowpe6U"
      },
      "source": [
        "#left column 2\n",
        "newdata_l = []    #list for 5box clusters\n",
        "boxes_l2 = []      #list for all 480 box locations for the top row from current_box, where each current_box contains the \n",
        "                #526 5-box size images per location\n",
        "\n",
        "for j in range(200,380,6): #timestep range, each run through gives the next group of 5 boxes\n",
        "  #create the set for each 23x23 box location\n",
        "  for i in range(180):\n",
        "    image0, image1, image2, image3, image4, image5, image6, image7, image8 = get_images(basedata, j)\n",
        "\n",
        "    roi0 = image0[410-11:590+11, 290:324] #gets the cutting box for 372x502 (the inside 350x480 + width 11 border) DONT FORGET ITS [y:y+h, x:x+w]!!!\n",
        "    square_timestep0 = roi0[180-1-i:180+22-i, 11:34] #gets the square in terms of i\n",
        "    square_timestep0_T = np.rot90(square_timestep0, 3)\n",
        "\n",
        "    roi1 = image1[410-11:590+11, 290:324]\n",
        "    square_timestep1 = roi1[180-1-i:180+22-i, 11:34]\n",
        "    square_timestep1_T = np.rot90(square_timestep1, 3)\n",
        "    \n",
        "    roi2 = image2[410-11:590+11, 290:324]\n",
        "    square_timestep2 = roi2[180-1-i:180+22-i, 11:34] \n",
        "    square_timestep2_T = np.rot90(square_timestep2, 3)\n",
        "\n",
        "    roi3 = image3[410-11:590+11, 290:324]\n",
        "    square_timestep3 = roi3[180-1-i:180+22-i, 11:34]\n",
        "    square_timestep3_T = np.rot90(square_timestep3, 3)\n",
        "\n",
        "    roi4 = image4[410-11:590+11, 290:324]\n",
        "    square_timestep4 = roi4[180-1-i:180+22-i, 11:34]\n",
        "    square_timestep4_T = np.rot90(square_timestep4, 3)\n",
        "\n",
        "    roi5 = image4[410-11:590+11, 290:324]\n",
        "    square_timestep5 = roi5[180-1-i:180+22-i, 11:34]\n",
        "    square_timestep5_T = np.rot90(square_timestep5, 3)\n",
        "\n",
        "    roi6 = image6[410-11:590+11, 290:324]\n",
        "    square_timestep6 = roi6[180-1-i:180+22-i, 11:34]\n",
        "    square_timestep6_T = np.rot90(square_timestep6, 3)\n",
        "\n",
        "    roi7 = image7[410-11:590+11, 290:324]\n",
        "    square_timestep7 = roi7[180-1-i:180+22-i, 11:34]\n",
        "    square_timestep7_T = np.rot90(square_timestep7, 3)\n",
        "\n",
        "    roi8 = image8[410-11:590+11, 290:324]\n",
        "    square_timestep8 = roi8[180-1-i:180+22-i, 11:34]\n",
        "    square_timestep8_T = np.rot90(square_timestep8, 3)\n",
        "\n",
        "    # link the 5 images together\n",
        "    newdata_l = np.vstack((square_timestep0_T, square_timestep1_T))\n",
        "    newdata_l = np.vstack((newdata_l, square_timestep2_T))\n",
        "    newdata_l = np.vstack((newdata_l, square_timestep3_T))\n",
        "    newdata_l = np.vstack((newdata_l, square_timestep4_T))\n",
        "    newdata_l = np.vstack((newdata_l, square_timestep5_T))\n",
        "    newdata_l = np.vstack((newdata_l, square_timestep6_T))\n",
        "    newdata_l = np.vstack((newdata_l, square_timestep7_T))\n",
        "    newdata_l = np.vstack((newdata_l, square_timestep8_T))\n",
        "\n",
        "    newdata_l = np.reshape(newdata_l, (9,23,23))\n",
        "\n",
        "    boxes_l2.append(newdata_l) #save into current_box\n",
        "\n",
        "boxes_l2 = np.array(boxes_l2) #turn boxes list into array for future ease of use"
      ],
      "execution_count": null,
      "outputs": []
    },
    {
      "cell_type": "code",
      "metadata": {
        "colab": {
          "base_uri": "https://localhost:8080/"
        },
        "id": "CpjRkoDhphkH",
        "outputId": "a39f5b31-ff99-438c-aa62-abdf849f0ab7"
      },
      "source": [
        "print(boxes_l2.shape)"
      ],
      "execution_count": null,
      "outputs": [
        {
          "output_type": "stream",
          "text": [
            "(5400, 9, 23, 23)\n"
          ],
          "name": "stdout"
        }
      ]
    },
    {
      "cell_type": "code",
      "metadata": {
        "id": "WTFE7W_2U_kt"
      },
      "source": [
        "np.savez_compressed('/content/drive/My Drive/ML_Ultrasound_Project/UROPdata/images/leftcolumn2_water', a=boxes_l2)"
      ],
      "execution_count": null,
      "outputs": []
    },
    {
      "cell_type": "code",
      "metadata": {
        "id": "v4fwFXrnpfDl"
      },
      "source": [
        "#left column 3\n",
        "newdata_l = []    #list for 5box clusters\n",
        "boxes_l3 = []      #list for all 480 box locations for the top row from current_box, where each current_box contains the \n",
        "                #526 5-box size images per location\n",
        "\n",
        "for j in range(380,529,6): #timestep range, each run through gives the next group of 5 boxes\n",
        "  #create the set for each 23x23 box location\n",
        "  for i in range(270):\n",
        "    image0, image1, image2, image3, image4, image5, image6, image7, image8 = get_images(basedata, j)\n",
        "\n",
        "    roi0 = image0[365-11:635+11, 290:324] #gets the cutting box for 372x502 (the inside 350x480 + width 11 border) DONT FORGET ITS [y:y+h, x:x+w]!!!\n",
        "    square_timestep0 = roi0[269-i:292-i, 11:34] #gets the square in terms of i\n",
        "    square_timestep0_T = np.rot90(square_timestep0, 3)\n",
        "\n",
        "    roi1 = image1[365-11:635+11, 290:324]\n",
        "    square_timestep1 = roi1[269-i:292-i, 11:34]\n",
        "    square_timestep1_T = np.rot90(square_timestep1, 3)\n",
        "    \n",
        "    roi2 = image2[365-11:635+11, 290:324]\n",
        "    square_timestep2 = roi2[269-i:292-i, 11:34] \n",
        "    square_timestep2_T = np.rot90(square_timestep2, 3)\n",
        "\n",
        "    roi3 = image3[365-11:635+11, 290:324]\n",
        "    square_timestep3 = roi3[269-i:292-i, 11:34]\n",
        "    square_timestep3_T = np.rot90(square_timestep3, 3)\n",
        "\n",
        "    roi4 = image4[365-11:635+11, 290:324] \n",
        "    square_timestep4 = roi4[269-i:292-i, 11:34]\n",
        "    square_timestep4_T = np.rot90(square_timestep4, 3)\n",
        "\n",
        "    roi5 = image5[365-11:635+11, 290:324] \n",
        "    square_timestep5 = roi5[269-i:292-i, 11:34]\n",
        "    square_timestep5_T = np.rot90(square_timestep5, 3)\n",
        "    \n",
        "    roi6 = image6[365-11:635+11, 290:324] \n",
        "    square_timestep6 = roi6[269-i:292-i, 11:34]\n",
        "    square_timestep6_T = np.rot90(square_timestep6, 3)\n",
        "    \n",
        "    roi7 = image7[365-11:635+11, 290:324] \n",
        "    square_timestep7 = roi7[269-i:292-i, 11:34]\n",
        "    square_timestep7_T = np.rot90(square_timestep7, 3)\n",
        "    \n",
        "    roi8 = image8[365-11:635+11, 290:324] \n",
        "    square_timestep8 = roi8[269-i:292-i, 11:34]\n",
        "    square_timestep8_T = np.rot90(square_timestep8, 3)\n",
        "\n",
        "    # link the 5 images together\n",
        "    newdata_l = np.vstack((square_timestep0_T, square_timestep1_T))\n",
        "    newdata_l = np.vstack((newdata_l, square_timestep2_T))\n",
        "    newdata_l = np.vstack((newdata_l, square_timestep3_T))\n",
        "    newdata_l = np.vstack((newdata_l, square_timestep4_T))\n",
        "    newdata_l = np.vstack((newdata_l, square_timestep5_T))\n",
        "    newdata_l = np.vstack((newdata_l, square_timestep6_T))\n",
        "    newdata_l = np.vstack((newdata_l, square_timestep7_T))\n",
        "    newdata_l = np.vstack((newdata_l, square_timestep8_T))\n",
        "\n",
        "    newdata_l = np.reshape(newdata_l, (9,23,23))\n",
        "\n",
        "    boxes_l3.append(newdata_l) #save into current_box\n",
        "\n",
        "boxes_l3 = np.array(boxes_l3) #turn boxes list into array for future ease of use"
      ],
      "execution_count": null,
      "outputs": []
    },
    {
      "cell_type": "code",
      "metadata": {
        "id": "hBHDdUjCpiAP",
        "colab": {
          "base_uri": "https://localhost:8080/"
        },
        "outputId": "d6a6ed50-2a82-48f9-f9bd-f7f5ed5d5f8e"
      },
      "source": [
        "print(boxes_l3.shape)"
      ],
      "execution_count": null,
      "outputs": [
        {
          "output_type": "stream",
          "text": [
            "(6750, 9, 23, 23)\n"
          ],
          "name": "stdout"
        }
      ]
    },
    {
      "cell_type": "code",
      "metadata": {
        "id": "z7jGG5nQVZxu"
      },
      "source": [
        "np.savez_compressed('/content/drive/My Drive/ML_Ultrasound_Project/UROPdata/images/leftcolumn3_water', a=boxes_l3)"
      ],
      "execution_count": null,
      "outputs": []
    },
    {
      "cell_type": "code",
      "metadata": {
        "colab": {
          "base_uri": "https://localhost:8080/"
        },
        "id": "minr5t3kAFej",
        "outputId": "61845da7-f842-4348-daf2-9ba07a07b8ee"
      },
      "source": [
        "#left column\n",
        "newdata_l = []    #list for 5box clusters\n",
        "boxes_l4 = []      #list for all 480 box locations for the top row from current_box, where each current_box contains the \n",
        "                #526 5-box size images per location\n",
        "\n",
        "for j in range(40,240,6): #timestep range, each run through gives the next group of 5 boxes\n",
        "  #create the set for each 23x23 box location\n",
        "  for i in range(90):\n",
        "    image0, image1, image2, image3, image4, image5, image6, image7, image8 = get_images(basedata, j)\n",
        "\n",
        "    roi0 = image0[455-11:545+11, 261:295] #gets the cutting box for 372x502 (the inside 350x480 + width 11 border) DONT FORGET ITS [y:y+h, x:x+w]!!!\n",
        "    square_timestep0 = roi0[90-1-i:90+22-i, 11:34] #gets the square in terms of i\n",
        "    square_timestep0_T = np.rot90(square_timestep0, 3)\n",
        "\n",
        "    roi1 = image1[455-11:545+11, 261:295]\n",
        "    square_timestep1 = roi1[90-1-i:90+22-i, 11:34]\n",
        "    square_timestep1_T = np.rot90(square_timestep1, 3)\n",
        "    \n",
        "    roi2 = image2[455-11:545+11, 261:295]\n",
        "    square_timestep2 = roi2[90-1-i:90+22-i, 11:34] \n",
        "    square_timestep2_T = np.rot90(square_timestep2, 3)\n",
        "\n",
        "    roi3 = image3[455-11:545+11, 261:2959]\n",
        "    square_timestep3 = roi3[90-1-i:90+22-i, 11:34]\n",
        "    square_timestep3_T = np.rot90(square_timestep3, 3)\n",
        "\n",
        "    roi4 = image4[455-11:545+11, 261:295]\n",
        "    square_timestep4 = roi4[90-1-i:90+22-i, 11:34]\n",
        "    square_timestep4_T = np.rot90(square_timestep4, 3)\n",
        "    \n",
        "    roi5 = image5[455-11:545+11, 261:295]\n",
        "    square_timestep5 = roi5[90-1-i:90+22-i, 11:34]\n",
        "    square_timestep5_T = np.rot90(square_timestep5, 3)\n",
        "\n",
        "    roi6 = image6[455-11:545+11, 261:295]\n",
        "    square_timestep6 = roi6[90-1-i:90+22-i, 11:34]\n",
        "    square_timestep6_T = np.rot90(square_timestep6, 3)\n",
        "\n",
        "    roi7 = image7[455-11:545+11, 261:295]\n",
        "    square_timestep7 = roi7[90-1-i:90+22-i, 11:34]\n",
        "    square_timestep7_T = np.rot90(square_timestep7, 3)\n",
        "\n",
        "    roi8 = image8[455-11:545+11, 261:295]\n",
        "    square_timestep8 = roi8[90-1-i:90+22-i, 11:34]\n",
        "    square_timestep8_T = np.rot90(square_timestep8, 3)\n",
        "\n",
        "    #link the 5 images together\n",
        "    newdata_l = np.vstack((square_timestep0_T, square_timestep1_T))\n",
        "    newdata_l = np.vstack((newdata_l, square_timestep2_T))\n",
        "    newdata_l = np.vstack((newdata_l, square_timestep3_T))\n",
        "    newdata_l = np.vstack((newdata_l, square_timestep4_T))\n",
        "    newdata_l = np.vstack((newdata_l, square_timestep5_T))\n",
        "    newdata_l = np.vstack((newdata_l, square_timestep6_T))\n",
        "    newdata_l = np.vstack((newdata_l, square_timestep7_T))\n",
        "    newdata_l = np.vstack((newdata_l, square_timestep8_T))\n",
        "\n",
        "    newdata_l = np.reshape(newdata_l, (9,23,23))\n",
        "\n",
        "    boxes_l4.append(newdata_l) #save into current_box\n",
        "\n",
        "boxes_l4 = np.array(boxes_l4) #turn boxes list into array for future ease of use\n",
        "\n",
        "print(boxes_l4.shape)\n"
      ],
      "execution_count": null,
      "outputs": [
        {
          "output_type": "stream",
          "text": [
            "(3060, 9, 23, 23)\n"
          ],
          "name": "stdout"
        }
      ]
    },
    {
      "cell_type": "code",
      "metadata": {
        "id": "c-jO2r03A187"
      },
      "source": [
        "np.savez_compressed('/content/drive/My Drive/ML_Ultrasound_Project/UROPdata/images/leftcolumn4_water', a=boxes_l4)"
      ],
      "execution_count": null,
      "outputs": []
    },
    {
      "cell_type": "code",
      "metadata": {
        "colab": {
          "base_uri": "https://localhost:8080/"
        },
        "id": "AlllRt3TAFnS",
        "outputId": "cee1c642-bee5-47f1-d7c3-4321064b5fe7"
      },
      "source": [
        "#left column 5\n",
        "newdata_l = []    #list for 5box clusters\n",
        "boxes_l5 = []      #list for all 480 box locations for the top row from current_box, where each current_box contains the \n",
        "                #526 5-box size images per location\n",
        "\n",
        "for j in range(240,420,6): #timestep range, each run through gives the next group of 5 boxes\n",
        "  #create the set for each 23x23 box location\n",
        "  for i in range(180):    \n",
        "    image0, image1, image2, image3, image4, image5, image6, image7, image8 = get_images(basedata, j)\n",
        "\n",
        "    roi0 = image0[410-11:590+11, 261:295] #gets the cutting box for 372x502 (the inside 350x480 + width 11 border) DONT FORGET ITS [y:y+h, x:x+w]!!!\n",
        "    square_timestep0 = roi0[179-i:202-i, 11:34] #gets the square in terms of i\n",
        "    square_timestep0_T = np.rot90(square_timestep0, 3)\n",
        "\n",
        "    roi1 = image1[410-11:590+11, 261:295]\n",
        "    square_timestep1 = roi1[179-i:202-i, 11:34]\n",
        "    square_timestep1_T = np.rot90(square_timestep1, 3)\n",
        "    \n",
        "    roi2 = image2[410-11:590+11, 261:295]\n",
        "    square_timestep2 = roi2[179-i:202-i, 11:34] \n",
        "    square_timestep2_T = np.rot90(square_timestep2, 3)\n",
        "\n",
        "    roi3 = image3[410-11:590+11, 261:295]\n",
        "    square_timestep3 = roi3[179-i:202-i, 11:34]\n",
        "    square_timestep3_T = np.rot90(square_timestep3, 3)\n",
        "\n",
        "    roi4 = image4[410-11:590+11, 261:295] \n",
        "    square_timestep4 = roi4[179-i:202-i, 11:34]\n",
        "    square_timestep4_T = np.rot90(square_timestep4, 3)\n",
        "\n",
        "    roi5 = image5[410-11:590+11, 261:295] \n",
        "    square_timestep5 = roi5[179-i:202-i, 11:34]\n",
        "    square_timestep5_T = np.rot90(square_timestep5, 3)\n",
        "\n",
        "    roi6 = image6[410-11:590+11, 261:295] \n",
        "    square_timestep6 = roi6[179-i:202-i, 11:34]\n",
        "    square_timestep6_T = np.rot90(square_timestep6, 3)\n",
        "\n",
        "    roi7 = image7[410-11:590+11, 261:295] \n",
        "    square_timestep7 = roi7[179-i:202-i, 11:34]\n",
        "    square_timestep7_T = np.rot90(square_timestep7, 3)\n",
        "\n",
        "    roi8 = image8[410-11:590+11, 261:295] \n",
        "    square_timestep8 = roi8[179-i:202-i, 11:34]\n",
        "    square_timestep8_T = np.rot90(square_timestep8, 3)\n",
        "\n",
        "    # link the 5 images together\n",
        "    newdata_l = np.vstack((square_timestep0_T, square_timestep1_T))\n",
        "    newdata_l = np.vstack((newdata_l, square_timestep2_T))\n",
        "    newdata_l = np.vstack((newdata_l, square_timestep3_T))\n",
        "    newdata_l = np.vstack((newdata_l, square_timestep4_T))\n",
        "    newdata_l = np.vstack((newdata_l, square_timestep5_T))\n",
        "    newdata_l = np.vstack((newdata_l, square_timestep6_T))\n",
        "    newdata_l = np.vstack((newdata_l, square_timestep7_T))\n",
        "    newdata_l = np.vstack((newdata_l, square_timestep8_T))\n",
        "\n",
        "    newdata_l = np.reshape(newdata_l, (9,23,23))\n",
        "\n",
        "    boxes_l5.append(newdata_l) #save into current_box\n",
        "\n",
        "boxes_l5 = np.array(boxes_l5) #turn boxes list into array for future ease of use\n",
        "\n",
        "print(boxes_l5.shape)"
      ],
      "execution_count": null,
      "outputs": [
        {
          "output_type": "stream",
          "text": [
            "(5400, 9, 23, 23)\n"
          ],
          "name": "stdout"
        }
      ]
    },
    {
      "cell_type": "code",
      "metadata": {
        "id": "QT_abxcCA63q"
      },
      "source": [
        "np.savez_compressed('/content/drive/My Drive/ML_Ultrasound_Project/UROPdata/images/leftcolumn5_water', a=boxes_l5)"
      ],
      "execution_count": null,
      "outputs": []
    },
    {
      "cell_type": "code",
      "metadata": {
        "colab": {
          "base_uri": "https://localhost:8080/"
        },
        "id": "VkMtwOsyAFsG",
        "outputId": "fb3259c5-2c34-48a8-f6f0-895dd266fd81"
      },
      "source": [
        "#left column 6\n",
        "newdata_l = []    #list for 5box clusters\n",
        "boxes_l6 = []      #list for all 480 box locations for the top row from current_box, where each current_box contains the \n",
        "                #526 5-box size images per location\n",
        "\n",
        "for j in range(420,529,6): #timestep range, each run through gives the next group of 5 boxes\n",
        "  #create the set for each 23x23 box location\n",
        "  for i in range(270):\n",
        "    image0, image1, image2, image3, image4, image5, image6, image7, image8 = get_images(basedata, j)\n",
        "\n",
        "    roi0 = image0[365-11:635+11, 261:295] #gets the cutting box for 372x502 (the inside 350x480 + width 11 border) DONT FORGET ITS [y:y+h, x:x+w]!!!\n",
        "    square_timestep0 = roi0[269-i:292-i, 11:34] #gets the square in terms of i\n",
        "    square_timestep0_T = np.rot90(square_timestep0, 3)\n",
        "\n",
        "    roi1 = image1[365-11:635+11, 261:295]\n",
        "    square_timestep1 = roi1[269-i:292-i, 11:34]\n",
        "    square_timestep1_T = np.rot90(square_timestep1, 3)\n",
        "    \n",
        "    roi2 = image2[365-11:635+11, 261:295]\n",
        "    square_timestep2 = roi2[269-i:292-i, 11:34] \n",
        "    square_timestep2_T = np.rot90(square_timestep2, 3)\n",
        "\n",
        "    roi3 = image3[365-11:635+11, 261:295]\n",
        "    square_timestep3 = roi3[269-i:292-i, 11:34]\n",
        "    square_timestep3_T = np.rot90(square_timestep3, 3)\n",
        "\n",
        "    roi4 = image4[365-11:635+11, 261:295] \n",
        "    square_timestep4 = roi4[269-i:292-i, 11:34]\n",
        "    square_timestep4_T = np.rot90(square_timestep4, 3)\n",
        "\n",
        "    roi5 = image5[365-11:635+11, 261:295] \n",
        "    square_timestep5 = roi5[269-i:292-i, 11:34]\n",
        "    square_timestep5_T = np.rot90(square_timestep5, 3)\n",
        "    \n",
        "    roi6 = image6[365-11:635+11, 261:295] \n",
        "    square_timestep6 = roi6[269-i:292-i, 11:34]\n",
        "    square_timestep6_T = np.rot90(square_timestep6, 3)\n",
        "    \n",
        "    roi7 = image7[365-11:635+11, 261:295] \n",
        "    square_timestep7 = roi7[269-i:292-i, 11:34]\n",
        "    square_timestep7_T = np.rot90(square_timestep7, 3)\n",
        "    \n",
        "    roi8 = image8[365-11:635+11, 261:295] \n",
        "    square_timestep8 = roi8[269-i:292-i, 11:34]\n",
        "    square_timestep8_T = np.rot90(square_timestep8, 3)\n",
        "\n",
        "    # link the 5 images together\n",
        "    newdata_l = np.vstack((square_timestep0_T, square_timestep1_T))\n",
        "    newdata_l = np.vstack((newdata_l, square_timestep2_T))\n",
        "    newdata_l = np.vstack((newdata_l, square_timestep3_T))\n",
        "    newdata_l = np.vstack((newdata_l, square_timestep4_T))\n",
        "    newdata_l = np.vstack((newdata_l, square_timestep5_T))\n",
        "    newdata_l = np.vstack((newdata_l, square_timestep6_T))\n",
        "    newdata_l = np.vstack((newdata_l, square_timestep7_T))\n",
        "    newdata_l = np.vstack((newdata_l, square_timestep8_T))\n",
        "\n",
        "    newdata_l = np.reshape(newdata_l, (9,23,23))\n",
        "\n",
        "    boxes_l6.append(newdata_l) #save into current_box\n",
        "\n",
        "boxes_l6 = np.array(boxes_l6) #turn boxes list into array for future ease of use\n",
        "\n",
        "print(boxes_l6.shape)"
      ],
      "execution_count": null,
      "outputs": [
        {
          "output_type": "stream",
          "text": [
            "(5130, 9, 23, 23)\n"
          ],
          "name": "stdout"
        }
      ]
    },
    {
      "cell_type": "code",
      "metadata": {
        "id": "svxG_GPAA7kM"
      },
      "source": [
        "np.savez_compressed('/content/drive/My Drive/ML_Ultrasound_Project/UROPdata/images/leftcolumn6_water', a=boxes_l6)"
      ],
      "execution_count": null,
      "outputs": []
    },
    {
      "cell_type": "code",
      "metadata": {
        "colab": {
          "base_uri": "https://localhost:8080/"
        },
        "id": "8nmRz8AaAFvH",
        "outputId": "e2296c95-1304-4944-c1b2-e978d0444a13"
      },
      "source": [
        "#left column 7\n",
        "newdata_l = []    #list for 5box clusters\n",
        "boxes_l7 = []      #list for all 480 box locations for the top row from current_box, where each current_box contains the \n",
        "                #526 5-box size images per location\n",
        "\n",
        "for j in range(260,340,6): #timestep range, each run through gives the next group of 5 boxes\n",
        "  #create the set for each 23x23 box location\n",
        "  for i in range(90):\n",
        "    image0, image1, image2, image3, image4, image5, image6, image7, image8 = get_images(basedata, j)\n",
        "\n",
        "    roi0 = image0[455-11:545+11, 227:261] #gets the cutting box for 372x502 (the inside 350x480 + width 11 border) DONT FORGET ITS [y:y+h, x:x+w]!!!\n",
        "    square_timestep0 = roi0[90-1-i:90+22-i, 11:34] #gets the square in terms of i\n",
        "    square_timestep0_T = np.rot90(square_timestep0, 3)\n",
        "\n",
        "    roi1 = image1[455-11:545+11, 227:261]\n",
        "    square_timestep1 = roi1[90-1-i:90+22-i, 11:34]\n",
        "    square_timestep1_T = np.rot90(square_timestep1, 3)\n",
        "    \n",
        "    roi2 = image2[455-11:545+11, 227:261]\n",
        "    square_timestep2 = roi2[90-1-i:90+22-i, 11:34] \n",
        "    square_timestep2_T = np.rot90(square_timestep2, 3)\n",
        "\n",
        "    roi3 = image3[455-11:545+11, 227:261]\n",
        "    square_timestep3 = roi3[90-1-i:90+22-i, 11:34]\n",
        "    square_timestep3_T = np.rot90(square_timestep3, 3)\n",
        "\n",
        "    roi4 = image4[455-11:545+11, 227:261] \n",
        "    square_timestep4 = roi4[90-1-i:90+22-i, 11:34]\n",
        "    square_timestep4_T = np.rot90(square_timestep4, 3)\n",
        "    \n",
        "    roi5 = image5[455-11:545+11, 227:261] \n",
        "    square_timestep5 = roi5[90-1-i:90+22-i, 11:34]\n",
        "    square_timestep5_T = np.rot90(square_timestep5, 3)\n",
        "\n",
        "    roi6 = image6[455-11:545+11, 227:261] \n",
        "    square_timestep6 = roi6[90-1-i:90+22-i, 11:34]\n",
        "    square_timestep6_T = np.rot90(square_timestep6, 3)\n",
        "\n",
        "    roi7 = image7[455-11:545+11, 227:261] \n",
        "    square_timestep7 = roi7[90-1-i:90+22-i, 11:34]\n",
        "    square_timestep7_T = np.rot90(square_timestep7, 3)\n",
        "\n",
        "    roi8 = image8[455-11:545+11, 227:261] \n",
        "    square_timestep8 = roi8[90-1-i:90+22-i, 11:34]\n",
        "    square_timestep8_T = np.rot90(square_timestep8, 3)\n",
        "\n",
        "    # link the 5 images together\n",
        "    newdata_l = np.vstack((square_timestep0_T, square_timestep1_T))\n",
        "    newdata_l = np.vstack((newdata_l, square_timestep2_T))\n",
        "    newdata_l = np.vstack((newdata_l, square_timestep3_T))\n",
        "    newdata_l = np.vstack((newdata_l, square_timestep4_T))\n",
        "    newdata_l = np.vstack((newdata_l, square_timestep5_T))\n",
        "    newdata_l = np.vstack((newdata_l, square_timestep6_T))\n",
        "    newdata_l = np.vstack((newdata_l, square_timestep7_T))\n",
        "    newdata_l = np.vstack((newdata_l, square_timestep8_T))\n",
        "\n",
        "    newdata_l = np.reshape(newdata_l, (9,23,23))\n",
        "\n",
        "    boxes_l7.append(newdata_l) #save into current_box\n",
        "\n",
        "boxes_l7 = np.array(boxes_l7) #turn boxes list into array for future ease of use\n",
        "\n",
        "print(boxes_l7.shape)"
      ],
      "execution_count": null,
      "outputs": [
        {
          "output_type": "stream",
          "text": [
            "(1260, 9, 23, 23)\n"
          ],
          "name": "stdout"
        }
      ]
    },
    {
      "cell_type": "code",
      "metadata": {
        "id": "5OFbBDPFA7_e"
      },
      "source": [
        "np.savez_compressed('/content/drive/My Drive/ML_Ultrasound_Project/UROPdata/images/leftcolumn7_water', a=boxes_l7)"
      ],
      "execution_count": null,
      "outputs": []
    },
    {
      "cell_type": "code",
      "metadata": {
        "colab": {
          "base_uri": "https://localhost:8080/"
        },
        "id": "69Z1D4NbAFyD",
        "outputId": "4f42a19e-5354-4102-c7dc-c7c5e21defb5"
      },
      "source": [
        "#left column 8\n",
        "newdata_l = []    #list for 5box clusters\n",
        "boxes_l8 = []      #list for all 480 box locations for the top row from current_box, where each current_box contains the \n",
        "                #526 5-box size images per location\n",
        "\n",
        "for j in range(340,470,6): #timestep range, each run through gives the next group of 5 boxes\n",
        "  #create the set for each 23x23 box location\n",
        "  for i in range(180):\n",
        "    image0, image1, image2, image3, image4, image5, image6, image7, image8 = get_images(basedata, j)\n",
        "\n",
        "    roi0 = image0[410-11:590+11, 227:261] #gets the cutting box for 372x502 (the inside 350x480 + width 11 border) DONT FORGET ITS [y:y+h, x:x+w]!!!\n",
        "    square_timestep0 = roi0[179-i:202-i, 11:34] #gets the square in terms of i\n",
        "    square_timestep0_T = np.rot90(square_timestep0, 3)\n",
        "\n",
        "    roi1 = image1[410-11:590+11, 227:261]\n",
        "    square_timestep1 = roi1[179-i:202-i, 11:34]\n",
        "    square_timestep1_T = np.rot90(square_timestep1, 3)\n",
        "    \n",
        "    roi2 = image2[410-11:590+11, 227:261]\n",
        "    square_timestep2 = roi2[179-i:202-i, 11:34] \n",
        "    square_timestep2_T = np.rot90(square_timestep2, 3)\n",
        "\n",
        "    roi3 = image3[410-11:590+11, 227:261]\n",
        "    square_timestep3 = roi3[179-i:202-i, 11:34]\n",
        "    square_timestep3_T = np.rot90(square_timestep3, 3)\n",
        "\n",
        "    roi4 = image4[410-11:590+11, 227:261] \n",
        "    square_timestep4 = roi4[179-i:202-i, 11:34]\n",
        "    square_timestep4_T = np.rot90(square_timestep4, 3)\n",
        "    \n",
        "    roi5 = image5[410-11:590+11, 227:261] \n",
        "    square_timestep5 = roi5[179-i:202-i, 11:34]\n",
        "    square_timestep5_T = np.rot90(square_timestep5, 3)\n",
        "\n",
        "    roi6 = image6[410-11:590+11, 227:261] \n",
        "    square_timestep6 = roi6[179-i:202-i, 11:34]\n",
        "    square_timestep6_T = np.rot90(square_timestep6, 3)\n",
        "\n",
        "    roi7 = image7[410-11:590+11, 227:261] \n",
        "    square_timestep7 = roi7[179-i:202-i, 11:34]\n",
        "    square_timestep7_T = np.rot90(square_timestep7, 3)\n",
        "\n",
        "    roi8 = image8[410-11:590+11, 227:261] \n",
        "    square_timestep8 = roi8[179-i:202-i, 11:34]\n",
        "    square_timestep84_T = np.rot90(square_timestep8, 3)\n",
        "\n",
        "    # link the 5 images together\n",
        "    newdata_l = np.vstack((square_timestep0_T, square_timestep1_T))\n",
        "    newdata_l = np.vstack((newdata_l, square_timestep2_T))\n",
        "    newdata_l = np.vstack((newdata_l, square_timestep3_T))\n",
        "    newdata_l = np.vstack((newdata_l, square_timestep4_T))\n",
        "    newdata_l = np.vstack((newdata_l, square_timestep5_T))\n",
        "    newdata_l = np.vstack((newdata_l, square_timestep6_T))\n",
        "    newdata_l = np.vstack((newdata_l, square_timestep7_T))\n",
        "    newdata_l = np.vstack((newdata_l, square_timestep8_T))\n",
        "\n",
        "    newdata_l = np.reshape(newdata_l, (9,23,23))\n",
        "\n",
        "    boxes_l8.append(newdata_l) #save into current_box\n",
        "\n",
        "boxes_l8 = np.array(boxes_l8) #turn boxes list into array for future ease of use\n",
        "\n",
        "print(boxes_l8.shape)"
      ],
      "execution_count": null,
      "outputs": [
        {
          "output_type": "stream",
          "text": [
            "(3960, 9, 23, 23)\n"
          ],
          "name": "stdout"
        }
      ]
    },
    {
      "cell_type": "code",
      "metadata": {
        "id": "gPmTrndrA8VK"
      },
      "source": [
        "np.savez_compressed('/content/drive/My Drive/ML_Ultrasound_Project/UROPdata/images/leftcolumn8_water', a=boxes_l8)"
      ],
      "execution_count": null,
      "outputs": []
    },
    {
      "cell_type": "code",
      "metadata": {
        "colab": {
          "base_uri": "https://localhost:8080/"
        },
        "id": "e8v7bm1mAF03",
        "outputId": "16ab5360-85cb-4f40-f9ec-dbefeafea2a6"
      },
      "source": [
        "#left column 9\n",
        "newdata_l = []    #list for 5box clusters\n",
        "boxes_l9 = []      #list for all 480 box locations for the top row from current_box, where each current_box contains the \n",
        "                #526 5-box size images per location\n",
        "\n",
        "for j in range(470,529,6): #timestep range, each run through gives the next group of 5 boxes\n",
        "  #create the set for each 23x23 box location\n",
        "  for i in range(270):\n",
        "    image0, image1, image2, image3, image4, image5, image6, image7, image8 = get_images(basedata, j)\n",
        "\n",
        "    roi0 = image0[365-11:635+11, 227:261] #gets the cutting box for 372x502 (the inside 350x480 + width 11 border) DONT FORGET ITS [y:y+h, x:x+w]!!!\n",
        "    square_timestep0 = roi0[269-i:292-i, 11:34] #gets the square in terms of i\n",
        "    square_timestep0_T = np.rot90(square_timestep0, 3)\n",
        "\n",
        "    roi1 = image1[365-11:635+11, 227:261]\n",
        "    square_timestep1 = roi1[269-i:292-i, 11:34]\n",
        "    square_timestep1_T = np.rot90(square_timestep1, 3)\n",
        "    \n",
        "    roi2 = image2[365-11:635+11, 227:261]\n",
        "    square_timestep2 = roi2[269-i:292-i, 11:34] \n",
        "    square_timestep2_T = np.rot90(square_timestep2, 3)\n",
        "\n",
        "    roi3 = image3[365-11:635+11, 227:261]\n",
        "    square_timestep3 = roi3[269-i:292-i, 11:34]\n",
        "    square_timestep3_T = np.rot90(square_timestep3, 3)\n",
        "\n",
        "    roi4 = image4[365-11:635+11, 227:261] \n",
        "    square_timestep4 = roi4[269-i:292-i, 11:34]\n",
        "    square_timestep4_T = np.rot90(square_timestep4, 3)\n",
        "\n",
        "    roi5 = image5[365-11:635+11, 227:261] \n",
        "    square_timestep5 = roi5[269-i:292-i, 11:34]\n",
        "    square_timestep5_T = np.rot90(square_timestep5, 3)\n",
        "\n",
        "    roi6 = image6[365-11:635+11, 227:261] \n",
        "    square_timestep6 = roi6[269-i:292-i, 11:34]\n",
        "    square_timestep6_T = np.rot90(square_timestep6, 3)\n",
        "\n",
        "    roi7 = image7[365-11:635+11, 227:261] \n",
        "    square_timestep7 = roi7[269-i:292-i, 11:34]\n",
        "    square_timestep7_T = np.rot90(square_timestep7, 3)\n",
        "\n",
        "    roi8 = image8[365-11:635+11, 227:261] \n",
        "    square_timestep8 = roi8[269-i:292-i, 11:34]\n",
        "    square_timestep8_T = np.rot90(square_timestep8, 3)\n",
        "\n",
        "    # link the 5 images together\n",
        "    newdata_l = np.vstack((square_timestep0_T, square_timestep1_T))\n",
        "    newdata_l = np.vstack((newdata_l, square_timestep2_T))\n",
        "    newdata_l = np.vstack((newdata_l, square_timestep3_T))\n",
        "    newdata_l = np.vstack((newdata_l, square_timestep4_T))\n",
        "    newdata_l = np.vstack((newdata_l, square_timestep5_T))\n",
        "    newdata_l = np.vstack((newdata_l, square_timestep6_T))\n",
        "    newdata_l = np.vstack((newdata_l, square_timestep7_T))\n",
        "    newdata_l = np.vstack((newdata_l, square_timestep8_T))\n",
        "\n",
        "    newdata_l = np.reshape(newdata_l, (9,23,23))\n",
        "\n",
        "    boxes_l9.append(newdata_l) #save into current_box\n",
        "\n",
        "boxes_l9 = np.array(boxes_l9) #turn boxes list into array for future ease of use\n",
        "\n",
        "print(boxes_l9.shape)"
      ],
      "execution_count": null,
      "outputs": [
        {
          "output_type": "stream",
          "text": [
            "(2700, 9, 23, 23)\n"
          ],
          "name": "stdout"
        }
      ]
    },
    {
      "cell_type": "code",
      "metadata": {
        "id": "VvTlT8JBA8vr"
      },
      "source": [
        "np.savez_compressed('/content/drive/My Drive/ML_Ultrasound_Project/UROPdata/images/leftcolumn9_water', a=boxes_l9)"
      ],
      "execution_count": null,
      "outputs": []
    },
    {
      "cell_type": "code",
      "metadata": {
        "colab": {
          "base_uri": "https://localhost:8080/"
        },
        "id": "ag2O9gIyAF38",
        "outputId": "b9aa7d5d-95d6-4ca2-a9d5-4b445774c9ec"
      },
      "source": [
        "#left column 10\n",
        "newdata_l = []    #list for 5box clusters\n",
        "boxes_l10 = []      #list for all 480 box locations for the top row from current_box, where each current_box contains the \n",
        "                #526 5-box size images per location\n",
        "\n",
        "for j in range(400,450,6): #timestep range, each run through gives the next group of 5 boxes\n",
        "  #create the set for each 23x23 box location\n",
        "  for i in range(90):\n",
        "    image0, image1, image2, image3, image4, image5, image6, image7, image8 = get_images(basedata, j)\n",
        "\n",
        "    roi0 = image0[455-11:545+11, 193:227] #gets the cutting box for 372x502 (the inside 350x480 + width 11 border) DONT FORGET ITS [y:y+h, x:x+w]!!!\n",
        "    square_timestep0 = roi0[89-i:112-i, 11:34] #gets the square in terms of i\n",
        "    square_timestep0_T = np.rot90(square_timestep0, 3)\n",
        "\n",
        "    roi1 = image1[455-11:545+11, 193:227]\n",
        "    square_timestep1 = roi1[89-i:112-i, 11:34]\n",
        "    square_timestep1_T = np.rot90(square_timestep1, 3)\n",
        "    \n",
        "    roi2 = image2[455-11:545+11, 193:227]\n",
        "    square_timestep2 = roi2[89-i:112-i, 11:34] \n",
        "    square_timestep2_T = np.rot90(square_timestep2, 3)\n",
        "\n",
        "    roi3 = image3[455-11:545+11, 193:227]\n",
        "    square_timestep3 = roi3[89-i:112-i, 11:34]\n",
        "    square_timestep3_T = np.rot90(square_timestep3, 3)\n",
        "\n",
        "    roi4 = image4[455-11:545+11, 193:227] \n",
        "    square_timestep4 = roi4[89-i:112-i, 11:34]\n",
        "    square_timestep4_T = np.rot90(square_timestep4, 3)\n",
        "\n",
        "    roi5 = image5[455-11:545+11, 193:227] \n",
        "    square_timestep5 = roi5[89-i:112-i, 11:34]\n",
        "    square_timestep5_T = np.rot90(square_timestep5, 3)\n",
        "\n",
        "    roi6 = image6[455-11:545+11, 193:227] \n",
        "    square_timestep6 = roi6[89-i:112-i, 11:34]\n",
        "    square_timestep6_T = np.rot90(square_timestep6, 3)\n",
        "\n",
        "    roi7 = image7[455-11:545+11, 193:227] \n",
        "    square_timestep7 = roi7[89-i:112-i, 11:34]\n",
        "    square_timestep7_T = np.rot90(square_timestep7, 3)\n",
        "\n",
        "    roi8 = image8[455-11:545+11, 193:227] \n",
        "    square_timestep8 = roi8[89-i:112-i, 11:34]\n",
        "    square_timestep8_T = np.rot90(square_timestep8, 3)\n",
        "\n",
        "    # link the 5 images together\n",
        "    newdata_l = np.vstack((square_timestep0_T, square_timestep1_T))\n",
        "    newdata_l = np.vstack((newdata_l, square_timestep2_T))\n",
        "    newdata_l = np.vstack((newdata_l, square_timestep3_T))\n",
        "    newdata_l = np.vstack((newdata_l, square_timestep4_T))\n",
        "    newdata_l = np.vstack((newdata_l, square_timestep5_T))\n",
        "    newdata_l = np.vstack((newdata_l, square_timestep6_T))\n",
        "    newdata_l = np.vstack((newdata_l, square_timestep7_T))\n",
        "    newdata_l = np.vstack((newdata_l, square_timestep8_T))\n",
        "\n",
        "    newdata_l = np.reshape(newdata_l, (9,23,23))\n",
        "\n",
        "    boxes_l10.append(newdata_l) #save into current_box\n",
        "\n",
        "boxes_l10 = np.array(boxes_l10) #turn boxes list into array for future ease of use\n",
        "\n",
        "print(boxes_l10.shape)"
      ],
      "execution_count": null,
      "outputs": [
        {
          "output_type": "stream",
          "text": [
            "(810, 9, 23, 23)\n"
          ],
          "name": "stdout"
        }
      ]
    },
    {
      "cell_type": "code",
      "metadata": {
        "id": "q-Y_tHbyA9Ej"
      },
      "source": [
        "np.savez_compressed('/content/drive/My Drive/ML_Ultrasound_Project/UROPdata/images/leftcolumn10_water', a=boxes_l10)"
      ],
      "execution_count": null,
      "outputs": []
    },
    {
      "cell_type": "code",
      "metadata": {
        "colab": {
          "base_uri": "https://localhost:8080/"
        },
        "id": "vYXGMNtqAF6t",
        "outputId": "9f41bb75-5341-4d6e-cb54-6dac9d9434d4"
      },
      "source": [
        "#left column 11\n",
        "newdata_l = []    #list for 5box clusters\n",
        "boxes_l11 = []      #list for all 480 box locations for the top row from current_box, where each current_box contains the \n",
        "                #526 5-box size images per location\n",
        "\n",
        "for j in range(450,529,6): #timestep range, each run through gives the next group of 5 boxes\n",
        "  #create the set for each 23x23 box location\n",
        "  for i in range(180):\n",
        "    image0, image1, image2, image3, image4, image5, image6, image7, image8 = get_images(basedata, j)\n",
        "\n",
        "    roi0 = image0[410-11:590+11, 193:227] #gets the cutting box for 372x502 (the inside 350x480 + width 11 border) DONT FORGET ITS [y:y+h, x:x+w]!!!\n",
        "    square_timestep0 = roi0[179-i:202-i, 11:34] #gets the square in terms of i\n",
        "    square_timestep0_T = np.rot90(square_timestep0, 3)\n",
        "\n",
        "    roi1 = image1[410-11:590+11, 193:227]\n",
        "    square_timestep1 = roi1[179-i:202-i, 11:34]\n",
        "    square_timestep1_T = np.rot90(square_timestep1, 3)\n",
        "    \n",
        "    roi2 = image2[410-11:590+11, 193:227]\n",
        "    square_timestep2 = roi2[179-i:202-i, 11:34] \n",
        "    square_timestep2_T = np.rot90(square_timestep2, 3)\n",
        "\n",
        "    roi3 = image3[410-11:590+11, 193:227]\n",
        "    square_timestep3 = roi3[179-i:202-i, 11:34]\n",
        "    square_timestep3_T = np.rot90(square_timestep3, 3)\n",
        "\n",
        "    roi4 = image4[410-11:590+11, 193:227] \n",
        "    square_timestep4 = roi4[179-i:202-i, 11:34]\n",
        "    square_timestep4_T = np.rot90(square_timestep4, 3)\n",
        "\n",
        "    roi5 = image5[410-11:590+11, 193:227] \n",
        "    square_timestep5 = roi5[179-i:202-i, 11:34]\n",
        "    square_timestep5_T = np.rot90(square_timestep5, 3)\n",
        "\n",
        "    roi6 = image6[410-11:590+11, 193:227] \n",
        "    square_timestep6 = roi6[179-i:202-i, 11:34]\n",
        "    square_timestep6_T = np.rot90(square_timestep6, 3)\n",
        "\n",
        "    roi7 = image7[410-11:590+11, 193:227] \n",
        "    square_timestep7 = roi7[179-i:202-i, 11:34]\n",
        "    square_timestep7_T = np.rot90(square_timestep7, 3)\n",
        "\n",
        "    roi8 = image8[410-11:590+11, 193:227] \n",
        "    square_timestep8 = roi8[179-i:202-i, 11:34]\n",
        "    square_timestep8_T = np.rot90(square_timestep8, 3)\n",
        "\n",
        "    # link the 5 images together\n",
        "    newdata_l = np.vstack((square_timestep0_T, square_timestep1_T))\n",
        "    newdata_l = np.vstack((newdata_l, square_timestep2_T))\n",
        "    newdata_l = np.vstack((newdata_l, square_timestep3_T))\n",
        "    newdata_l = np.vstack((newdata_l, square_timestep4_T))\n",
        "    newdata_l = np.vstack((newdata_l, square_timestep5_T))\n",
        "    newdata_l = np.vstack((newdata_l, square_timestep6_T))\n",
        "    newdata_l = np.vstack((newdata_l, square_timestep7_T))\n",
        "    newdata_l = np.vstack((newdata_l, square_timestep8_T))\n",
        "\n",
        "    newdata_l = np.reshape(newdata_l, (9,23,23))\n",
        "\n",
        "    boxes_l11.append(newdata_l) #save into current_box\n",
        "\n",
        "boxes_l11 = np.array(boxes_l11) #turn boxes list into array for future ease of use\n",
        "\n",
        "print(boxes_l11.shape)"
      ],
      "execution_count": null,
      "outputs": [
        {
          "output_type": "stream",
          "text": [
            "(2520, 9, 23, 23)\n"
          ],
          "name": "stdout"
        }
      ]
    },
    {
      "cell_type": "code",
      "metadata": {
        "id": "5CudOSTlA9Yy"
      },
      "source": [
        "np.savez_compressed('/content/drive/My Drive/ML_Ultrasound_Project/UROPdata/images/leftcolumn11_water', a=boxes_l11)"
      ],
      "execution_count": null,
      "outputs": []
    },
    {
      "cell_type": "code",
      "metadata": {
        "colab": {
          "base_uri": "https://localhost:8080/"
        },
        "id": "sRcLZIDtv1xJ",
        "outputId": "dbf6c86d-5d1d-428e-dbdc-50b814d60b2b"
      },
      "source": [
        "#left column 12\n",
        "newdata_l = []    #list for 5box clusters\n",
        "boxes_l12 = []      #list for all 480 box locations for the top row from current_box, where each current_box contains the \n",
        "                #526 5-box size images per location\n",
        "\n",
        "for j in range(0,350,6): #timestep range, each run through gives the next group of 5 boxes\n",
        "  #create the set for each 23x23 box location\n",
        "  for i in range(150):\n",
        "    image0, image1, image2, image3, image4, image5, image6, image7, image8 = get_images(basedata, j)\n",
        "\n",
        "    roi0 = image0[425-11:575+11, 285:319] #gets the cutting box for 372x502 (the inside 350x480 + width 11 border) DONT FORGET ITS [y:y+h, x:x+w]!!!\n",
        "    square_timestep0 = roi0[149-i:172-i, 11:34] #gets the square in terms of i\n",
        "    square_timestep0_T = np.rot90(square_timestep0, 3)\n",
        "\n",
        "    roi1 = image1[425-11:575+11, 285:319]\n",
        "    square_timestep1 = roi1[149-i:172-i, 11:34]\n",
        "    square_timestep1_T = np.rot90(square_timestep1, 3)\n",
        "    \n",
        "    roi2 = image2[425-11:575+11, 285:319]\n",
        "    square_timestep2 = roi2[149-i:172-i, 11:34] \n",
        "    square_timestep2_T = np.rot90(square_timestep2, 3)\n",
        "\n",
        "    roi3 = image3[425-11:575+11, 285:319]\n",
        "    square_timestep3 = roi3[149-i:172-i, 11:34]\n",
        "    square_timestep3_T = np.rot90(square_timestep3, 3)\n",
        "\n",
        "    roi4 = image4[425-11:575+11, 285:319] \n",
        "    square_timestep4 = roi4[149-i:172-i, 11:34]\n",
        "    square_timestep4_T = np.rot90(square_timestep4, 3)\n",
        "\n",
        "    roi5 = image5[425-11:575+11, 285:319] \n",
        "    square_timestep5 = roi5[149-i:172-i, 11:34]\n",
        "    square_timestep5_T = np.rot90(square_timestep5, 3)\n",
        "\n",
        "    roi6 = image6[425-11:575+11, 285:319] \n",
        "    square_timestep6 = roi6[149-i:172-i, 11:34]\n",
        "    square_timestep6_T = np.rot90(square_timestep6, 3)\n",
        "\n",
        "    roi7 = image7[425-11:575+11, 285:319] \n",
        "    square_timestep7 = roi7[149-i:172-i, 11:34]\n",
        "    square_timestep7_T = np.rot90(square_timestep7, 3)\n",
        "\n",
        "    roi8 = image8[425-11:575+11, 285:319] \n",
        "    square_timestep8 = roi8[149-i:172-i, 11:34]\n",
        "    square_timestep8_T = np.rot90(square_timestep8, 3)\n",
        "\n",
        "    # link the 5 images together\n",
        "    newdata_l = np.vstack((square_timestep0_T, square_timestep1_T))\n",
        "    newdata_l = np.vstack((newdata_l, square_timestep2_T))\n",
        "    newdata_l = np.vstack((newdata_l, square_timestep3_T))\n",
        "    newdata_l = np.vstack((newdata_l, square_timestep4_T))\n",
        "    newdata_l = np.vstack((newdata_l, square_timestep5_T))\n",
        "    newdata_l = np.vstack((newdata_l, square_timestep6_T))\n",
        "    newdata_l = np.vstack((newdata_l, square_timestep7_T))\n",
        "    newdata_l = np.vstack((newdata_l, square_timestep8_T))\n",
        "\n",
        "    newdata_l = np.reshape(newdata_l, (9,23,23))\n",
        "\n",
        "    boxes_l12.append(newdata_l) #save into current_box\n",
        "\n",
        "boxes_l12 = np.array(boxes_l12) #turn boxes list into array for future ease of use\n",
        "\n",
        "print(boxes_l12.shape)"
      ],
      "execution_count": null,
      "outputs": [
        {
          "output_type": "stream",
          "text": [
            "(8850, 9, 23, 23)\n"
          ],
          "name": "stdout"
        }
      ]
    },
    {
      "cell_type": "code",
      "metadata": {
        "id": "P5p84rc7v3ZN"
      },
      "source": [
        "np.savez_compressed('/content/drive/My Drive/ML_Ultrasound_Project/UROPdata/images/leftcolumn12_water', a=boxes_l12)"
      ],
      "execution_count": null,
      "outputs": []
    },
    {
      "cell_type": "code",
      "metadata": {
        "colab": {
          "base_uri": "https://localhost:8080/"
        },
        "id": "HlTQcvJUsc41",
        "outputId": "c1a0027b-49ae-482c-b6c1-1faaa3984204"
      },
      "source": [
        "#left column 13\n",
        "newdata_l = []    #list for 5box clusters\n",
        "boxes_l13 = []      #list for all 480 box locations for the top row from current_box, where each current_box contains the \n",
        "                #526 5-box size images per location\n",
        "\n",
        "for j in range(15,200,6): #timestep range, each run through gives the next group of 5 boxes\n",
        "  #create the set for each 23x23 box location\n",
        "  for i in range(90):\n",
        "    image0, image1, image2, image3, image4, image5, image6, image7, image8 = get_images(basedata, j)\n",
        "\n",
        "    roi0 = image0[455-11:545+11, 278:312] #gets the cutting box for 372x502 (the inside 350x480 + width 11 border) DONT FORGET ITS [y:y+h, x:x+w]!!!\n",
        "    square_timestep0 = roi0[90-1-i:90+22-i, 11:34] #gets the square in terms of i\n",
        "    square_timestep0_T = np.rot90(square_timestep0, 3)\n",
        "\n",
        "    roi1 = image1[455-11:545+11, 278:312]\n",
        "    square_timestep1 = roi1[90-1-i:90+22-i, 11:34]\n",
        "    square_timestep1_T = np.rot90(square_timestep1, 3)\n",
        "    \n",
        "    roi2 = image2[455-11:545+11, 278:312]\n",
        "    square_timestep2 = roi2[90-1-i:90+22-i, 11:34] \n",
        "    square_timestep2_T = np.rot90(square_timestep2, 3)\n",
        "\n",
        "    roi3 = image3[455-11:545+11, 278:312]\n",
        "    square_timestep3 = roi3[90-1-i:90+22-i, 11:34]\n",
        "    square_timestep3_T = np.rot90(square_timestep3, 3)\n",
        "\n",
        "    roi4 = image4[455-11:545+11, 278:312]\n",
        "    square_timestep4 = roi4[90-1-i:90+22-i, 11:34]\n",
        "    square_timestep4_T = np.rot90(square_timestep4, 3)\n",
        "\n",
        "    roi5 = image5[455-11:545+11, 278:312]\n",
        "    square_timestep5 = roi5[90-1-i:90+22-i, 11:34]\n",
        "    square_timestep5_T = np.rot90(square_timestep5, 3)\n",
        "\n",
        "    roi6 = image6[455-11:545+11, 278:312]\n",
        "    square_timestep6 = roi6[90-1-i:90+22-i, 11:34]\n",
        "    square_timestep6_T = np.rot90(square_timestep6, 3)\n",
        "\n",
        "    roi7 = image7[455-11:545+11, 278:312]\n",
        "    square_timestep7 = roi7[90-1-i:90+22-i, 11:34]\n",
        "    square_timestep7_T = np.rot90(square_timestep7, 3)\n",
        "\n",
        "    roi8 = image8[455-11:545+11, 278:312]\n",
        "    square_timestep8 = roi8[90-1-i:90+22-i, 11:34]\n",
        "    square_timestep8_T = np.rot90(square_timestep8, 3)\n",
        "\n",
        "    #link the 5 images together\n",
        "    newdata_l = np.vstack((square_timestep0_T, square_timestep1_T))\n",
        "    newdata_l = np.vstack((newdata_l, square_timestep2_T))\n",
        "    newdata_l = np.vstack((newdata_l, square_timestep3_T))\n",
        "    newdata_l = np.vstack((newdata_l, square_timestep4_T))\n",
        "    newdata_l = np.vstack((newdata_l, square_timestep5_T))\n",
        "    newdata_l = np.vstack((newdata_l, square_timestep6_T))\n",
        "    newdata_l = np.vstack((newdata_l, square_timestep7_T))\n",
        "    newdata_l = np.vstack((newdata_l, square_timestep8_T))\n",
        "\n",
        "    newdata_l = np.reshape(newdata_l, (9,23,23))\n",
        "\n",
        "    boxes_l13.append(newdata_l) #save into current_box\n",
        "\n",
        "boxes_l13 = np.array(boxes_l13) #turn boxes list into array for future ease of use\n",
        "\n",
        "print(boxes_l13.shape)"
      ],
      "execution_count": null,
      "outputs": [
        {
          "output_type": "stream",
          "text": [
            "(2790, 9, 23, 23)\n"
          ],
          "name": "stdout"
        }
      ]
    },
    {
      "cell_type": "code",
      "metadata": {
        "id": "wHq1qptes-Tt"
      },
      "source": [
        "np.savez_compressed('/content/drive/My Drive/ML_Ultrasound_Project/UROPdata/images/leftcolumn13_water', a=boxes_l13)"
      ],
      "execution_count": null,
      "outputs": []
    },
    {
      "cell_type": "code",
      "metadata": {
        "id": "-GvZdvT7tQQI"
      },
      "source": [
        "#left column 14\n",
        "newdata_l = []    #list for 5box clusters\n",
        "boxes_l14 = []      #list for all 480 box locations for the top row from current_box, where each current_box contains the \n",
        "                #526 5-box size images per location\n",
        "\n",
        "for j in range(200,380,6): #timestep range, each run through gives the next group of 5 boxes\n",
        "  #create the set for each 23x23 box location\n",
        "  for i in range(180):\n",
        "    image0, image1, image2, image3, image4, image5, image6, image7, image8 = get_images(basedata, j)\n",
        "\n",
        "    roi0 = image0[410-11:590+11, 278:312] #gets the cutting box for 372x502 (the inside 350x480 + width 11 border) DONT FORGET ITS [y:y+h, x:x+w]!!!\n",
        "    square_timestep0 = roi0[180-1-i:180+22-i, 11:34] #gets the square in terms of i\n",
        "    square_timestep0_T = np.rot90(square_timestep0, 3)\n",
        "\n",
        "    roi1 = image1[410-11:590+11, 278:312]\n",
        "    square_timestep1 = roi1[180-1-i:180+22-i, 11:34]\n",
        "    square_timestep1_T = np.rot90(square_timestep1, 3)\n",
        "    \n",
        "    roi2 = image2[410-11:590+11, 278:312]\n",
        "    square_timestep2 = roi2[180-1-i:180+22-i, 11:34] \n",
        "    square_timestep2_T = np.rot90(square_timestep2, 3)\n",
        "\n",
        "    roi3 = image3[410-11:590+11, 278:312]\n",
        "    square_timestep3 = roi3[180-1-i:180+22-i, 11:34]\n",
        "    square_timestep3_T = np.rot90(square_timestep3, 3)\n",
        "\n",
        "    roi4 = image4[410-11:590+11, 278:312]\n",
        "    square_timestep4 = roi4[180-1-i:180+22-i, 11:34]\n",
        "    square_timestep4_T = np.rot90(square_timestep4, 3)\n",
        "\n",
        "    roi5 = image5[410-11:590+11, 278:312]\n",
        "    square_timestep5 = roi5[180-1-i:180+22-i, 11:34]\n",
        "    square_timestep5_T = np.rot90(square_timestep5, 3)\n",
        "\n",
        "    roi6 = image6[410-11:590+11, 278:312]\n",
        "    square_timestep6 = roi6[180-1-i:180+22-i, 11:34]\n",
        "    square_timestep6_T = np.rot90(square_timestep6, 3)\n",
        "\n",
        "    roi7 = image7[410-11:590+11, 278:312]\n",
        "    square_timestep7 = roi7[180-1-i:180+22-i, 11:34]\n",
        "    square_timestep7_T = np.rot90(square_timestep7, 3)\n",
        "\n",
        "    roi8 = image8[410-11:590+11, 278:312]\n",
        "    square_timestep8 = roi8[180-1-i:180+22-i, 11:34]\n",
        "    square_timestep8_T = np.rot90(square_timestep8, 3)\n",
        "\n",
        "    # link the 5 images together\n",
        "    newdata_l = np.vstack((square_timestep0_T, square_timestep1_T))\n",
        "    newdata_l = np.vstack((newdata_l, square_timestep2_T))\n",
        "    newdata_l = np.vstack((newdata_l, square_timestep3_T))\n",
        "    newdata_l = np.vstack((newdata_l, square_timestep4_T))\n",
        "    newdata_l = np.vstack((newdata_l, square_timestep5_T))\n",
        "    newdata_l = np.vstack((newdata_l, square_timestep6_T))\n",
        "    newdata_l = np.vstack((newdata_l, square_timestep7_T))\n",
        "    newdata_l = np.vstack((newdata_l, square_timestep8_T))\n",
        "\n",
        "    newdata_l = np.reshape(newdata_l, (9,23,23))\n",
        "\n",
        "    boxes_l14.append(newdata_l) #save into current_box\n",
        "\n",
        "boxes_l14 = np.array(boxes_l14) #turn boxes list into array for future ease of use"
      ],
      "execution_count": null,
      "outputs": []
    },
    {
      "cell_type": "code",
      "metadata": {
        "colab": {
          "base_uri": "https://localhost:8080/"
        },
        "id": "asN2uEmLtQQL",
        "outputId": "078d37a9-d4de-4bff-f17c-1173d2d6e11f"
      },
      "source": [
        "print(boxes_l14.shape)"
      ],
      "execution_count": null,
      "outputs": [
        {
          "output_type": "stream",
          "text": [
            "(5400, 9, 23, 23)\n"
          ],
          "name": "stdout"
        }
      ]
    },
    {
      "cell_type": "code",
      "metadata": {
        "id": "KED3yOowtQQM"
      },
      "source": [
        "np.savez_compressed('/content/drive/My Drive/ML_Ultrasound_Project/UROPdata/images/leftcolumn14_water', a=boxes_l14)"
      ],
      "execution_count": null,
      "outputs": []
    },
    {
      "cell_type": "code",
      "metadata": {
        "id": "Sqx8pfNLtQQM"
      },
      "source": [
        "#left column 15\n",
        "newdata_l = []    #list for 5box clusters\n",
        "boxes_l15 = []      #list for all 480 box locations for the top row from current_box, where each current_box contains the \n",
        "                #526 5-box size images per location\n",
        "\n",
        "for j in range(380,529,6): #timestep range, each run through gives the next group of 5 boxes\n",
        "  #create the set for each 23x23 box location\n",
        "  for i in range(270):\n",
        "    image0, image1, image2, image3, image4, image5, image6, image7, image8 = get_images(basedata, j)\n",
        "\n",
        "    roi0 = image0[365-11:635+11, 278:312] #gets the cutting box for 372x502 (the inside 350x480 + width 11 border) DONT FORGET ITS [y:y+h, x:x+w]!!!\n",
        "    square_timestep0 = roi0[269-i:292-i, 11:34] #gets the square in terms of i\n",
        "    square_timestep0_T = np.rot90(square_timestep0, 3)\n",
        "\n",
        "    roi1 = image1[365-11:635+11, 278:312]\n",
        "    square_timestep1 = roi1[269-i:292-i, 11:34]\n",
        "    square_timestep1_T = np.rot90(square_timestep1, 3)\n",
        "    \n",
        "    roi2 = image2[365-11:635+11, 278:312]\n",
        "    square_timestep2 = roi2[269-i:292-i, 11:34] \n",
        "    square_timestep2_T = np.rot90(square_timestep2, 3)\n",
        "\n",
        "    roi3 = image3[365-11:635+11, 278:312]\n",
        "    square_timestep3 = roi3[269-i:292-i, 11:34]\n",
        "    square_timestep3_T = np.rot90(square_timestep3, 3)\n",
        "\n",
        "    roi4 = image4[365-11:635+11, 278:312] \n",
        "    square_timestep4 = roi4[269-i:292-i, 11:34]\n",
        "    square_timestep4_T = np.rot90(square_timestep4, 3)\n",
        "\n",
        "    roi5 = image5[365-11:635+11, 278:312] \n",
        "    square_timestep5 = roi5[269-i:292-i, 11:34]\n",
        "    square_timestep5_T = np.rot90(square_timestep5, 3)\n",
        "\n",
        "    roi6 = image6[365-11:635+11, 278:312] \n",
        "    square_timestep6 = roi6[269-i:292-i, 11:34]\n",
        "    square_timestep6_T = np.rot90(square_timestep6, 3)\n",
        "\n",
        "    roi7 = image7[365-11:635+11, 278:312] \n",
        "    square_timestep7 = roi7[269-i:292-i, 11:34]\n",
        "    square_timestep7_T = np.rot90(square_timestep7, 3)\n",
        "\n",
        "    roi8 = image8[365-11:635+11, 278:312] \n",
        "    square_timestep8 = roi8[269-i:292-i, 11:34]\n",
        "    square_timestep8_T = np.rot90(square_timestep8, 3)\n",
        "\n",
        "    # link the 5 images together\n",
        "    newdata_l = np.vstack((square_timestep0_T, square_timestep1_T))\n",
        "    newdata_l = np.vstack((newdata_l, square_timestep2_T))\n",
        "    newdata_l = np.vstack((newdata_l, square_timestep3_T))\n",
        "    newdata_l = np.vstack((newdata_l, square_timestep4_T))\n",
        "    newdata_l = np.vstack((newdata_l, square_timestep5_T))\n",
        "    newdata_l = np.vstack((newdata_l, square_timestep6_T))\n",
        "    newdata_l = np.vstack((newdata_l, square_timestep7_T))\n",
        "    newdata_l = np.vstack((newdata_l, square_timestep8_T))\n",
        "\n",
        "    newdata_l = np.reshape(newdata_l, (9,23,23))\n",
        "\n",
        "    boxes_l15.append(newdata_l) #save into current_box\n",
        "\n",
        "boxes_l15 = np.array(boxes_l15) #turn boxes list into array for future ease of use"
      ],
      "execution_count": null,
      "outputs": []
    },
    {
      "cell_type": "code",
      "metadata": {
        "colab": {
          "base_uri": "https://localhost:8080/"
        },
        "id": "k_0aX_hqtQQM",
        "outputId": "f78e407a-5e9d-4e50-d0df-9a93ed37c813"
      },
      "source": [
        "print(boxes_l15.shape)"
      ],
      "execution_count": null,
      "outputs": [
        {
          "output_type": "stream",
          "text": [
            "(6750, 9, 23, 23)\n"
          ],
          "name": "stdout"
        }
      ]
    },
    {
      "cell_type": "code",
      "metadata": {
        "id": "O81U8koztQQM"
      },
      "source": [
        "np.savez_compressed('/content/drive/My Drive/ML_Ultrasound_Project/UROPdata/images/leftcolumn15_water', a=boxes_l15)"
      ],
      "execution_count": null,
      "outputs": []
    },
    {
      "cell_type": "markdown",
      "metadata": {
        "id": "Zlw-EJuW1sCL"
      },
      "source": [
        "# Full"
      ]
    },
    {
      "cell_type": "code",
      "metadata": {
        "id": "RNRcZ0qE1sCM"
      },
      "source": [
        "#load data file from 'solve acoustic'\n",
        "data = np.load('/content/drive/My Drive/ML_Ultrasound_Project/UROPdata/basedata.npz')\n",
        "basedata = data['a'] #save 'a' as 'basedata'"
      ],
      "execution_count": null,
      "outputs": []
    },
    {
      "cell_type": "code",
      "metadata": {
        "colab": {
          "base_uri": "https://localhost:8080/"
        },
        "id": "aF_QjUyM1sCM",
        "outputId": "6ad4ef86-96e0-4594-fef0-50181ee893bd"
      },
      "source": [
        "final_max, final_min = np.max(basedata), np.min(basedata)\n",
        "print(final_max, final_min)\n",
        "print(basedata[0].shape)\n",
        "\n",
        "# basedata = (basedata - final_min) / (final_max - final_min) *2-1\n",
        "\n",
        "basedata = basedata/np.max(np.abs(basedata))\n",
        "\n",
        "print(np.max(basedata), np.min(basedata))"
      ],
      "execution_count": null,
      "outputs": [
        {
          "output_type": "stream",
          "text": [
            "8.9908006e-08 -7.546365e-08\n",
            "(1001, 1001)\n",
            "1.0 -0.83934295\n"
          ],
          "name": "stdout"
        }
      ]
    },
    {
      "cell_type": "code",
      "metadata": {
        "colab": {
          "base_uri": "https://localhost:8080/"
        },
        "id": "t6reufxN1sCN",
        "outputId": "c36e3ba3-3a4a-4925-c5f6-526bdf4574ef"
      },
      "source": [
        "len(basedata)"
      ],
      "execution_count": null,
      "outputs": [
        {
          "output_type": "execute_result",
          "data": {
            "text/plain": [
              "530"
            ]
          },
          "metadata": {
            "tags": []
          },
          "execution_count": 62
        }
      ]
    },
    {
      "cell_type": "code",
      "metadata": {
        "colab": {
          "base_uri": "https://localhost:8080/"
        },
        "id": "UZDX8SJU1sCN",
        "outputId": "b8608296-ba80-42d9-c912-795658fc3c5e"
      },
      "source": [
        "# image from one time step\n",
        "image = basedata[380]\n",
        "roi = image[249:751, 324:686]\n",
        "roi = roi[115+11:385+11, 11:150]\n",
        "\n",
        "plt.imshow(image)\n",
        "plt.show()\n",
        "\n",
        "# print(np.max(roi), np.min(roi))\n",
        "# norm_roi = (roi - np.min(basedata)) / (np.max(basedata) - np.min(basedata))\n",
        "# print(norm_roi.shape)\n",
        "# print(np.min(norm_roi), np.max(norm_roi))\n",
        "# plt.imshow(norm_roi)\n",
        "# plt.show()\n",
        "# np.savez_compressed('/content/drive/My Drive/ML_Ultrasound_Project/UROPdata/images/image_475', a=norm_roi)"
      ],
      "execution_count": null,
      "outputs": [
        {
          "output_type": "display_data",
          "data": {
            "image/png": "[encoded data removed]",
            "text/plain": [
              "<Figure size 432x288 with 1 Axes>"
            ]
          },
          "metadata": {
            "tags": [],
            "needs_background": "light"
          }
        }
      ]
    },
    {
      "cell_type": "code",
      "metadata": {
        "colab": {
          "base_uri": "https://localhost:8080/"
        },
        "id": "SjVKomlI1sCO",
        "outputId": "f3dac17e-5360-47e5-da22-ab68c59cbddd"
      },
      "source": [
        "#check correct cutting box is chosen (note it is flipped compared to solve_acoustic data)\n",
        "\n",
        "# starting at t = 5\n",
        "image = basedata[200]\n",
        "roi = image[455:545, 295:329]\n",
        "plt.imshow(roi)\n",
        "plt.xticks([11])\n",
        "plt.show()\n",
        "\n",
        "image = basedata[380]\n",
        "roi = image[410:590, 295:329]\n",
        "plt.imshow(roi)\n",
        "plt.xticks([11])\n",
        "plt.show()\n",
        "\n",
        "image = basedata[525]\n",
        "roi = image[365:635, 295:329]\n",
        "plt.imshow(roi)\n",
        "plt.xticks([11])\n",
        "plt.show()\n",
        "\n",
        "\n",
        "# starting at t = 40\n",
        "print('Border 2')\n",
        "image = basedata[240]\n",
        "roi = image[455:545, 261:295]\n",
        "plt.imshow(roi)\n",
        "plt.xticks([11])\n",
        "plt.show()\n",
        "\n",
        "image = basedata[420]\n",
        "roi = image[410:590, 261:295]\n",
        "plt.imshow(roi)\n",
        "plt.xticks([11])\n",
        "plt.show()\n",
        "\n",
        "image = basedata[525]\n",
        "roi = image[365:635, 261:295]\n",
        "plt.imshow(roi)\n",
        "plt.xticks([11])\n",
        "plt.show()\n",
        "\n",
        "\n",
        "# starting at t = 260\n",
        "print('Border 3')\n",
        "image = basedata[340]\n",
        "roi = image[455:545, 227:261]\n",
        "plt.imshow(roi)\n",
        "plt.xticks([11])\n",
        "plt.show()\n",
        "\n",
        "image = basedata[470]\n",
        "roi = image[410:590, 227:261]\n",
        "plt.imshow(roi)\n",
        "plt.xticks([11])\n",
        "plt.show()\n",
        "\n",
        "image = basedata[525]\n",
        "roi = image[365:635, 227:261]\n",
        "plt.imshow(roi)\n",
        "plt.xticks([11])\n",
        "plt.show()\n",
        "\n",
        "# starting at t = 400\n",
        "print('Border 4')\n",
        "image = basedata[450]\n",
        "roi = image[455:545, 193:227]\n",
        "plt.imshow(roi)\n",
        "plt.xticks([11])\n",
        "plt.show()\n",
        "\n",
        "image = basedata[525]\n",
        "roi = image[410:590, 193:227]\n",
        "plt.imshow(roi)\n",
        "plt.xticks([11])\n",
        "plt.show()\n",
        "\n",
        "# starting at t = 5\n",
        "image = basedata[120]\n",
        "roi = image[470:530, 314:348]\n",
        "plt.figure(figsize=(10,10))\n",
        "plt.imshow(roi)\n",
        "plt.xticks([11])\n",
        "plt.show()\n",
        "\n",
        "# starting at t = 5\n",
        "image = basedata[120]\n",
        "roi = image[470:530, 320:348]\n",
        "plt.figure(figsize=(10,10))\n",
        "plt.imshow(roi)\n",
        "plt.xticks([11])\n",
        "plt.show()\n"
      ],
      "execution_count": null,
      "outputs": [
        {
          "output_type": "display_data",
          "data": {
            "image/png": "[encoded data removed]",
            "text/plain": [
              "<Figure size 432x288 with 1 Axes>"
            ]
          },
          "metadata": {
            "tags": [],
            "needs_background": "light"
          }
        },
        {
          "output_type": "display_data",
          "data": {
            "image/png": "[encoded data removed]",
            "text/plain": [
              "<Figure size 432x288 with 1 Axes>"
            ]
          },
          "metadata": {
            "tags": [],
            "needs_background": "light"
          }
        },
        {
          "output_type": "display_data",
          "data": {
            "image/png": "[encoded data removed]",
            "text/plain": [
              "<Figure size 432x288 with 1 Axes>"
            ]
          },
          "metadata": {
            "tags": [],
            "needs_background": "light"
          }
        },
        {
          "output_type": "stream",
          "text": [
            "Border 2\n"
          ],
          "name": "stdout"
        },
        {
          "output_type": "display_data",
          "data": {
            "image/png": "[encoded data removed]",
            "text/plain": [
              "<Figure size 432x288 with 1 Axes>"
            ]
          },
          "metadata": {
            "tags": [],
            "needs_background": "light"
          }
        },
        {
          "output_type": "display_data",
          "data": {
            "image/png": "[encoded data removed]",
            "text/plain": [
              "<Figure size 432x288 with 1 Axes>"
            ]
          },
          "metadata": {
            "tags": [],
            "needs_background": "light"
          }
        },
        {
          "output_type": "display_data",
          "data": {
            "image/png": "[encoded data removed]",
            "text/plain": [
              "<Figure size 432x288 with 1 Axes>"
            ]
          },
          "metadata": {
            "tags": [],
            "needs_background": "light"
          }
        },
        {
          "output_type": "stream",
          "text": [
            "Border 3\n"
          ],
          "name": "stdout"
        },
        {
          "output_type": "display_data",
          "data": {
            "image/png": "[encoded data removed]",
            "text/plain": [
              "<Figure size 432x288 with 1 Axes>"
            ]
          },
          "metadata": {
            "tags": [],
            "needs_background": "light"
          }
        },
        {
          "output_type": "display_data",
          "data": {
            "image/png": "[encoded data removed]",
            "text/plain": [
              "<Figure size 432x288 with 1 Axes>"
            ]
          },
          "metadata": {
            "tags": [],
            "needs_background": "light"
          }
        },
        {
          "output_type": "display_data",
          "data": {
            "image/png": "[encoded data removed]",
            "text/plain": [
              "<Figure size 432x288 with 1 Axes>"
            ]
          },
          "metadata": {
            "tags": [],
            "needs_background": "light"
          }
        },
        {
          "output_type": "stream",
          "text": [
            "Border 4\n"
          ],
          "name": "stdout"
        },
        {
          "output_type": "display_data",
          "data": {
            "image/png": "[encoded data removed]",
            "text/plain": [
              "<Figure size 432x288 with 1 Axes>"
            ]
          },
          "metadata": {
            "tags": [],
            "needs_background": "light"
          }
        },
        {
          "output_type": "display_data",
          "data": {
            "image/png": "[encoded data removed]",
            "text/plain": [
              "<Figure size 432x288 with 1 Axes>"
            ]
          },
          "metadata": {
            "tags": [],
            "needs_background": "light"
          }
        },
        {
          "output_type": "display_data",
          "data": {
            "image/png": "[encoded data removed]",
            "text/plain": [
              "<Figure size 720x720 with 1 Axes>"
            ]
          },
          "metadata": {
            "tags": [],
            "needs_background": "light"
          }
        },
        {
          "output_type": "display_data",
          "data": {
            "image/png": "[encoded data removed]",
            "text/plain": [
              "<Figure size 720x720 with 1 Axes>"
            ]
          },
          "metadata": {
            "tags": [],
            "needs_background": "light"
          }
        }
      ]
    },
    {
      "cell_type": "code",
      "metadata": {
        "id": "2Ag6XNaCtpBS"
      },
      "source": [
        "def get_images(basedata, t):\n",
        "  \n",
        "  if t < 6:\n",
        "    image0 = np.zeros((1001, 1001))\n",
        "    image1 = np.zeros((1001, 1001))\n",
        "    image2 = np.zeros((1001, 1001))\n",
        "    image3 = np.zeros((1001, 1001))\n",
        "    image4 = np.zeros((1001, 1001))\n",
        "    image5 = np.zeros((1001, 1001))\n",
        "    image6 = np.zeros((1001, 1001))\n",
        "    image7 = np.zeros((1001, 1001))\n",
        "    image8 = basedata[t]\n",
        "    \n",
        "  elif t < 12:\n",
        "    image0 = np.zeros((1001, 1001))\n",
        "    image1 = np.zeros((1001, 1001))\n",
        "    image2 = np.zeros((1001, 1001))\n",
        "    image3 = np.zeros((1001, 1001))\n",
        "    image4 = np.zeros((1001, 1001))\n",
        "    image5 = np.zeros((1001, 1001))\n",
        "    image6 = np.zeros((1001, 1001))\n",
        "    image7 = basedata[t-6]\n",
        "    image8 = basedata[t]    \n",
        "\n",
        "  elif t < 18:\n",
        "    image0 = np.zeros((1001, 1001))\n",
        "    image1 = np.zeros((1001, 1001))\n",
        "    image2 = np.zeros((1001, 1001))\n",
        "    image3 = np.zeros((1001, 1001))\n",
        "    image4 = np.zeros((1001, 1001))\n",
        "    image5 = np.zeros((1001, 1001))\n",
        "    image6 = basedata[t-12]\n",
        "    image7 = basedata[t-6]\n",
        "    image8 = basedata[t]\n",
        "\n",
        "  elif t < 24:\n",
        "    image0 = np.zeros((1001, 1001))\n",
        "    image1 = np.zeros((1001, 1001))\n",
        "    image2 = np.zeros((1001, 1001))\n",
        "    image3 = np.zeros((1001, 1001))\n",
        "    image4 = np.zeros((1001, 1001))\n",
        "    image5 = basedata[t-18]\n",
        "    image6 = basedata[t-12]\n",
        "    image7 = basedata[t-6]\n",
        "    image8 = basedata[t]\n",
        "\n",
        "  elif t < 30:\n",
        "    image0 = np.zeros((1001, 1001))\n",
        "    image1 = np.zeros((1001, 1001))\n",
        "    image2 = np.zeros((1001, 1001))\n",
        "    image3 = np.zeros((1001, 1001))\n",
        "    image4 = basedata[t-24]\n",
        "    image5 = basedata[t-18]\n",
        "    image6 = basedata[t-12]\n",
        "    image7 = basedata[t-6]\n",
        "    image8 = basedata[t]\n",
        "\n",
        "  elif t < 36:\n",
        "    image0 = np.zeros((1001, 1001))\n",
        "    image1 = np.zeros((1001, 1001))\n",
        "    image2 = np.zeros((1001, 1001))\n",
        "    image3 = basedata[t-30]\n",
        "    image4 = basedata[t-24]\n",
        "    image5 = basedata[t-18]\n",
        "    image6 = basedata[t-12]\n",
        "    image7 = basedata[t-6]\n",
        "    image8 = basedata[t]\n",
        "\n",
        "  elif t < 42:\n",
        "    image0 = np.zeros((1001, 1001))\n",
        "    image1 = np.zeros((1001, 1001))\n",
        "    image2 = basedata[t-36]\n",
        "    image3 = basedata[t-30]\n",
        "    image4 = basedata[t-24]\n",
        "    image5 = basedata[t-18]\n",
        "    image6 = basedata[t-12]\n",
        "    image7 = basedata[t-6]\n",
        "    image8 = basedata[t]\n",
        "\n",
        "  elif t < 48:\n",
        "    image0 = np.zeros((1001, 1001))\n",
        "    image1 = basedata[t-42]\n",
        "    image2 = basedata[t-36]\n",
        "    image3 = basedata[t-30]\n",
        "    image4 = basedata[t-24]\n",
        "    image5 = basedata[t-18]\n",
        "    image6 = basedata[t-12]\n",
        "    image7 = basedata[t-6]\n",
        "    image8 = basedata[t]\n",
        "\n",
        "  else:\n",
        "    image0 = basedata[t-48]\n",
        "    image1 = basedata[t-42]\n",
        "    image2 = basedata[t-36]\n",
        "    image3 = basedata[t-30]\n",
        "    image4 = basedata[t-24]\n",
        "    image5 = basedata[t-18]\n",
        "    image6 = basedata[t-12]\n",
        "    image7 = basedata[t-6]\n",
        "    image8 = basedata[t]\n",
        "\n",
        "  return image0, image1, image2, image3, image4, image5, image6, image7, image8"
      ],
      "execution_count": null,
      "outputs": []
    },
    {
      "cell_type": "code",
      "metadata": {
        "id": "uQcjUqYatpBc"
      },
      "source": [
        "#left column\n",
        "newdata_l = []    #list for 5box clusters\n",
        "boxes_l = []      #list for all 480 box locations for the top row from current_box, where each current_box contains the \n",
        "                #526 5-box size images per location\n",
        "\n",
        "for j in range(5,200,6): #timestep range, each run through gives the next group of 5 boxes\n",
        "  #create the set for each 23x23 box location\n",
        "  for i in range(90):\n",
        "    image0, image1, image2, image3, image4, image5, image6, image7, image8 = get_images(basedata, j)\n",
        "\n",
        "    roi0 = image0[455-11:545+11, 290:324] #gets the cutting box for 372x502 (the inside 350x480 + width 11 border) DONT FORGET ITS [y:y+h, x:x+w]!!!\n",
        "    square_timestep0 = roi0[90-1-i:90+22-i, 11:34] #gets the square in terms of i\n",
        "    square_timestep0_T = np.rot90(square_timestep0, 3)\n",
        "\n",
        "    roi1 = image1[455-11:545+11, 290:324]\n",
        "    square_timestep1 = roi1[90-1-i:90+22-i, 11:34]\n",
        "    square_timestep1_T = np.rot90(square_timestep1, 3)\n",
        "    \n",
        "    roi2 = image2[455-11:545+11, 290:324]\n",
        "    square_timestep2 = roi2[90-1-i:90+22-i, 11:34] \n",
        "    square_timestep2_T = np.rot90(square_timestep2, 3)\n",
        "\n",
        "    roi3 = image3[455-11:545+11, 290:324]\n",
        "    square_timestep3 = roi3[90-1-i:90+22-i, 11:34]\n",
        "    square_timestep3_T = np.rot90(square_timestep3, 3)\n",
        "\n",
        "    roi4 = image4[455-11:545+11, 290:324]\n",
        "    square_timestep4 = roi4[90-1-i:90+22-i, 11:34]\n",
        "    square_timestep4_T = np.rot90(square_timestep4, 3)\n",
        "\n",
        "    roi5 = image5[455-11:545+11, 290:324]\n",
        "    square_timestep5 = roi5[90-1-i:90+22-i, 11:34]\n",
        "    square_timestep5_T = np.rot90(square_timestep5, 3)\n",
        "\n",
        "    roi6 = image6[455-11:545+11, 290:324]\n",
        "    square_timestep6 = roi6[90-1-i:90+22-i, 11:34]\n",
        "    square_timestep6_T = np.rot90(square_timestep6, 3)\n",
        "\n",
        "    roi7 = image7[455-11:545+11, 290:324]\n",
        "    square_timestep7 = roi7[90-1-i:90+22-i, 11:34]\n",
        "    square_timestep7_T = np.rot90(square_timestep7, 3)\n",
        "\n",
        "    roi8 = image8[455-11:545+11, 290:324]\n",
        "    square_timestep8 = roi8[90-1-i:90+22-i, 11:34]\n",
        "    square_timestep8_T = np.rot90(square_timestep8, 3)\n",
        "\n",
        "\n",
        "    #link the 5 images together\n",
        "    newdata_l = np.vstack((square_timestep0_T, square_timestep1_T))\n",
        "    newdata_l = np.vstack((newdata_l, square_timestep2_T))\n",
        "    newdata_l = np.vstack((newdata_l, square_timestep3_T))\n",
        "    newdata_l = np.vstack((newdata_l, square_timestep4_T))\n",
        "    newdata_l = np.vstack((newdata_l, square_timestep5_T))\n",
        "    newdata_l = np.vstack((newdata_l, square_timestep6_T))\n",
        "    newdata_l = np.vstack((newdata_l, square_timestep7_T))\n",
        "    newdata_l = np.vstack((newdata_l, square_timestep8_T))\n",
        "\n",
        "    newdata_l = np.reshape(newdata_l, (9,23,23))\n",
        "\n",
        "    boxes_l.append(newdata_l) #save into current_box\n",
        "\n",
        "boxes_l = np.array(boxes_l) #turn boxes list into array for future ease of use"
      ],
      "execution_count": null,
      "outputs": []
    },
    {
      "cell_type": "code",
      "metadata": {
        "colab": {
          "base_uri": "https://localhost:8080/"
        },
        "id": "AH1YzbS1tpBd",
        "outputId": "626eb068-b644-4996-cb99-708739f11c97"
      },
      "source": [
        "print(boxes_l.shape)"
      ],
      "execution_count": null,
      "outputs": [
        {
          "output_type": "stream",
          "text": [
            "(2970, 9, 23, 23)\n"
          ],
          "name": "stdout"
        }
      ]
    },
    {
      "cell_type": "code",
      "metadata": {
        "id": "aBLQbGsvtpBg"
      },
      "source": [
        "np.savez_compressed('/content/drive/My Drive/ML_Ultrasound_Project/UROPdata/images/leftcolumn', a=boxes_l)"
      ],
      "execution_count": null,
      "outputs": []
    },
    {
      "cell_type": "code",
      "metadata": {
        "id": "EqOABRP-tpBg"
      },
      "source": [
        "#left column 2\n",
        "newdata_l = []    #list for 5box clusters\n",
        "boxes_l2 = []      #list for all 480 box locations for the top row from current_box, where each current_box contains the \n",
        "                #526 5-box size images per location\n",
        "\n",
        "for j in range(200,380,6): #timestep range, each run through gives the next group of 5 boxes\n",
        "  #create the set for each 23x23 box location\n",
        "  for i in range(180):\n",
        "    image0, image1, image2, image3, image4, image5, image6, image7, image8 = get_images(basedata, j)\n",
        "\n",
        "    roi0 = image0[410-11:590+11, 290:324] #gets the cutting box for 372x502 (the inside 350x480 + width 11 border) DONT FORGET ITS [y:y+h, x:x+w]!!!\n",
        "    square_timestep0 = roi0[180-1-i:180+22-i, 11:34] #gets the square in terms of i\n",
        "    square_timestep0_T = np.rot90(square_timestep0, 3)\n",
        "\n",
        "    roi1 = image1[410-11:590+11, 290:324]\n",
        "    square_timestep1 = roi1[180-1-i:180+22-i, 11:34]\n",
        "    square_timestep1_T = np.rot90(square_timestep1, 3)\n",
        "    \n",
        "    roi2 = image2[410-11:590+11, 290:324]\n",
        "    square_timestep2 = roi2[180-1-i:180+22-i, 11:34] \n",
        "    square_timestep2_T = np.rot90(square_timestep2, 3)\n",
        "\n",
        "    roi3 = image3[410-11:590+11, 290:324]\n",
        "    square_timestep3 = roi3[180-1-i:180+22-i, 11:34]\n",
        "    square_timestep3_T = np.rot90(square_timestep3, 3)\n",
        "\n",
        "    roi4 = image4[410-11:590+11, 290:324]\n",
        "    square_timestep4 = roi4[180-1-i:180+22-i, 11:34]\n",
        "    square_timestep4_T = np.rot90(square_timestep4, 3)\n",
        "\n",
        "    roi5 = image4[410-11:590+11, 290:324]\n",
        "    square_timestep5 = roi5[180-1-i:180+22-i, 11:34]\n",
        "    square_timestep5_T = np.rot90(square_timestep5, 3)\n",
        "\n",
        "    roi6 = image6[410-11:590+11, 290:324]\n",
        "    square_timestep6 = roi6[180-1-i:180+22-i, 11:34]\n",
        "    square_timestep6_T = np.rot90(square_timestep6, 3)\n",
        "\n",
        "    roi7 = image7[410-11:590+11, 290:324]\n",
        "    square_timestep7 = roi7[180-1-i:180+22-i, 11:34]\n",
        "    square_timestep7_T = np.rot90(square_timestep7, 3)\n",
        "\n",
        "    roi8 = image8[410-11:590+11, 290:324]\n",
        "    square_timestep8 = roi8[180-1-i:180+22-i, 11:34]\n",
        "    square_timestep8_T = np.rot90(square_timestep8, 3)\n",
        "\n",
        "    # link the 5 images together\n",
        "    newdata_l = np.vstack((square_timestep0_T, square_timestep1_T))\n",
        "    newdata_l = np.vstack((newdata_l, square_timestep2_T))\n",
        "    newdata_l = np.vstack((newdata_l, square_timestep3_T))\n",
        "    newdata_l = np.vstack((newdata_l, square_timestep4_T))\n",
        "    newdata_l = np.vstack((newdata_l, square_timestep5_T))\n",
        "    newdata_l = np.vstack((newdata_l, square_timestep6_T))\n",
        "    newdata_l = np.vstack((newdata_l, square_timestep7_T))\n",
        "    newdata_l = np.vstack((newdata_l, square_timestep8_T))\n",
        "\n",
        "    newdata_l = np.reshape(newdata_l, (9,23,23))\n",
        "\n",
        "    boxes_l2.append(newdata_l) #save into current_box\n",
        "\n",
        "boxes_l2 = np.array(boxes_l2) #turn boxes list into array for future ease of use"
      ],
      "execution_count": null,
      "outputs": []
    },
    {
      "cell_type": "code",
      "metadata": {
        "colab": {
          "base_uri": "https://localhost:8080/"
        },
        "id": "lssrMH3-tpBh",
        "outputId": "a878f0da-0ce8-422e-c4c7-59c1b55195e0"
      },
      "source": [
        "print(boxes_l2.shape)"
      ],
      "execution_count": null,
      "outputs": [
        {
          "output_type": "stream",
          "text": [
            "(5400, 9, 23, 23)\n"
          ],
          "name": "stdout"
        }
      ]
    },
    {
      "cell_type": "code",
      "metadata": {
        "id": "EU1dL2ZitpBi"
      },
      "source": [
        "np.savez_compressed('/content/drive/My Drive/ML_Ultrasound_Project/UROPdata/images/leftcolumn2', a=boxes_l2)"
      ],
      "execution_count": null,
      "outputs": []
    },
    {
      "cell_type": "code",
      "metadata": {
        "id": "4pDCFJMwtpBj"
      },
      "source": [
        "#left column 3\n",
        "newdata_l = []    #list for 5box clusters\n",
        "boxes_l3 = []      #list for all 480 box locations for the top row from current_box, where each current_box contains the \n",
        "                #526 5-box size images per location\n",
        "\n",
        "for j in range(380,529,6): #timestep range, each run through gives the next group of 5 boxes\n",
        "  #create the set for each 23x23 box location\n",
        "  for i in range(270):\n",
        "    image0, image1, image2, image3, image4, image5, image6, image7, image8 = get_images(basedata, j)\n",
        "\n",
        "    roi0 = image0[365-11:635+11, 290:324] #gets the cutting box for 372x502 (the inside 350x480 + width 11 border) DONT FORGET ITS [y:y+h, x:x+w]!!!\n",
        "    square_timestep0 = roi0[269-i:292-i, 11:34] #gets the square in terms of i\n",
        "    square_timestep0_T = np.rot90(square_timestep0, 3)\n",
        "\n",
        "    roi1 = image1[365-11:635+11, 290:324]\n",
        "    square_timestep1 = roi1[269-i:292-i, 11:34]\n",
        "    square_timestep1_T = np.rot90(square_timestep1, 3)\n",
        "    \n",
        "    roi2 = image2[365-11:635+11, 290:324]\n",
        "    square_timestep2 = roi2[269-i:292-i, 11:34] \n",
        "    square_timestep2_T = np.rot90(square_timestep2, 3)\n",
        "\n",
        "    roi3 = image3[365-11:635+11, 290:324]\n",
        "    square_timestep3 = roi3[269-i:292-i, 11:34]\n",
        "    square_timestep3_T = np.rot90(square_timestep3, 3)\n",
        "\n",
        "    roi4 = image4[365-11:635+11, 290:324] \n",
        "    square_timestep4 = roi4[269-i:292-i, 11:34]\n",
        "    square_timestep4_T = np.rot90(square_timestep4, 3)\n",
        "\n",
        "    roi5 = image5[365-11:635+11, 290:324] \n",
        "    square_timestep5 = roi5[269-i:292-i, 11:34]\n",
        "    square_timestep5_T = np.rot90(square_timestep5, 3)\n",
        "    \n",
        "    roi6 = image6[365-11:635+11, 290:324] \n",
        "    square_timestep6 = roi6[269-i:292-i, 11:34]\n",
        "    square_timestep6_T = np.rot90(square_timestep6, 3)\n",
        "    \n",
        "    roi7 = image7[365-11:635+11, 290:324] \n",
        "    square_timestep7 = roi7[269-i:292-i, 11:34]\n",
        "    square_timestep7_T = np.rot90(square_timestep7, 3)\n",
        "    \n",
        "    roi8 = image8[365-11:635+11, 290:324] \n",
        "    square_timestep8 = roi8[269-i:292-i, 11:34]\n",
        "    square_timestep8_T = np.rot90(square_timestep8, 3)\n",
        "\n",
        "    # link the 5 images together\n",
        "    newdata_l = np.vstack((square_timestep0_T, square_timestep1_T))\n",
        "    newdata_l = np.vstack((newdata_l, square_timestep2_T))\n",
        "    newdata_l = np.vstack((newdata_l, square_timestep3_T))\n",
        "    newdata_l = np.vstack((newdata_l, square_timestep4_T))\n",
        "    newdata_l = np.vstack((newdata_l, square_timestep5_T))\n",
        "    newdata_l = np.vstack((newdata_l, square_timestep6_T))\n",
        "    newdata_l = np.vstack((newdata_l, square_timestep7_T))\n",
        "    newdata_l = np.vstack((newdata_l, square_timestep8_T))\n",
        "\n",
        "    newdata_l = np.reshape(newdata_l, (9,23,23))\n",
        "\n",
        "    boxes_l3.append(newdata_l) #save into current_box\n",
        "\n",
        "boxes_l3 = np.array(boxes_l3) #turn boxes list into array for future ease of use"
      ],
      "execution_count": null,
      "outputs": []
    },
    {
      "cell_type": "code",
      "metadata": {
        "colab": {
          "base_uri": "https://localhost:8080/"
        },
        "id": "CswhcGJxtpBk",
        "outputId": "623eddd5-46fa-4187-c757-981879dedf45"
      },
      "source": [
        "print(boxes_l3.shape)"
      ],
      "execution_count": null,
      "outputs": [
        {
          "output_type": "stream",
          "text": [
            "(6750, 9, 23, 23)\n"
          ],
          "name": "stdout"
        }
      ]
    },
    {
      "cell_type": "code",
      "metadata": {
        "id": "GKVl1DFBtpBl"
      },
      "source": [
        "np.savez_compressed('/content/drive/My Drive/ML_Ultrasound_Project/UROPdata/images/leftcolumn3', a=boxes_l3)"
      ],
      "execution_count": null,
      "outputs": []
    },
    {
      "cell_type": "code",
      "metadata": {
        "colab": {
          "base_uri": "https://localhost:8080/"
        },
        "id": "gDv3Lq7StpBl",
        "outputId": "859fe037-391f-4de9-95d0-bb5c551cfacb"
      },
      "source": [
        "#left column\n",
        "newdata_l = []    #list for 5box clusters\n",
        "boxes_l4 = []      #list for all 480 box locations for the top row from current_box, where each current_box contains the \n",
        "                #526 5-box size images per location\n",
        "\n",
        "for j in range(40,240,6): #timestep range, each run through gives the next group of 5 boxes\n",
        "  #create the set for each 23x23 box location\n",
        "  for i in range(90):\n",
        "    image0, image1, image2, image3, image4, image5, image6, image7, image8 = get_images(basedata, j)\n",
        "\n",
        "    roi0 = image0[455-11:545+11, 261:295] #gets the cutting box for 372x502 (the inside 350x480 + width 11 border) DONT FORGET ITS [y:y+h, x:x+w]!!!\n",
        "    square_timestep0 = roi0[90-1-i:90+22-i, 11:34] #gets the square in terms of i\n",
        "    square_timestep0_T = np.rot90(square_timestep0, 3)\n",
        "\n",
        "    roi1 = image1[455-11:545+11, 261:295]\n",
        "    square_timestep1 = roi1[90-1-i:90+22-i, 11:34]\n",
        "    square_timestep1_T = np.rot90(square_timestep1, 3)\n",
        "    \n",
        "    roi2 = image2[455-11:545+11, 261:295]\n",
        "    square_timestep2 = roi2[90-1-i:90+22-i, 11:34] \n",
        "    square_timestep2_T = np.rot90(square_timestep2, 3)\n",
        "\n",
        "    roi3 = image3[455-11:545+11, 261:2959]\n",
        "    square_timestep3 = roi3[90-1-i:90+22-i, 11:34]\n",
        "    square_timestep3_T = np.rot90(square_timestep3, 3)\n",
        "\n",
        "    roi4 = image4[455-11:545+11, 261:295]\n",
        "    square_timestep4 = roi4[90-1-i:90+22-i, 11:34]\n",
        "    square_timestep4_T = np.rot90(square_timestep4, 3)\n",
        "    \n",
        "    roi5 = image5[455-11:545+11, 261:295]\n",
        "    square_timestep5 = roi5[90-1-i:90+22-i, 11:34]\n",
        "    square_timestep5_T = np.rot90(square_timestep5, 3)\n",
        "\n",
        "    roi6 = image6[455-11:545+11, 261:295]\n",
        "    square_timestep6 = roi6[90-1-i:90+22-i, 11:34]\n",
        "    square_timestep6_T = np.rot90(square_timestep6, 3)\n",
        "\n",
        "    roi7 = image7[455-11:545+11, 261:295]\n",
        "    square_timestep7 = roi7[90-1-i:90+22-i, 11:34]\n",
        "    square_timestep7_T = np.rot90(square_timestep7, 3)\n",
        "\n",
        "    roi8 = image8[455-11:545+11, 261:295]\n",
        "    square_timestep8 = roi8[90-1-i:90+22-i, 11:34]\n",
        "    square_timestep8_T = np.rot90(square_timestep8, 3)\n",
        "\n",
        "    #link the 5 images together\n",
        "    newdata_l = np.vstack((square_timestep0_T, square_timestep1_T))\n",
        "    newdata_l = np.vstack((newdata_l, square_timestep2_T))\n",
        "    newdata_l = np.vstack((newdata_l, square_timestep3_T))\n",
        "    newdata_l = np.vstack((newdata_l, square_timestep4_T))\n",
        "    newdata_l = np.vstack((newdata_l, square_timestep5_T))\n",
        "    newdata_l = np.vstack((newdata_l, square_timestep6_T))\n",
        "    newdata_l = np.vstack((newdata_l, square_timestep7_T))\n",
        "    newdata_l = np.vstack((newdata_l, square_timestep8_T))\n",
        "\n",
        "    newdata_l = np.reshape(newdata_l, (9,23,23))\n",
        "\n",
        "    boxes_l4.append(newdata_l) #save into current_box\n",
        "\n",
        "boxes_l4 = np.array(boxes_l4) #turn boxes list into array for future ease of use\n",
        "\n",
        "print(boxes_l4.shape)\n"
      ],
      "execution_count": null,
      "outputs": [
        {
          "output_type": "stream",
          "text": [
            "(3060, 9, 23, 23)\n"
          ],
          "name": "stdout"
        }
      ]
    },
    {
      "cell_type": "code",
      "metadata": {
        "id": "PrnIF4fEtpBm"
      },
      "source": [
        "np.savez_compressed('/content/drive/My Drive/ML_Ultrasound_Project/UROPdata/images/leftcolumn4', a=boxes_l4)"
      ],
      "execution_count": null,
      "outputs": []
    },
    {
      "cell_type": "code",
      "metadata": {
        "colab": {
          "base_uri": "https://localhost:8080/"
        },
        "id": "AKFQzDu5tpBn",
        "outputId": "85ea25f1-5338-44a7-d644-f707adcdaf05"
      },
      "source": [
        "#left column 5\n",
        "newdata_l = []    #list for 5box clusters\n",
        "boxes_l5 = []      #list for all 480 box locations for the top row from current_box, where each current_box contains the \n",
        "                #526 5-box size images per location\n",
        "\n",
        "for j in range(240,420,6): #timestep range, each run through gives the next group of 5 boxes\n",
        "  #create the set for each 23x23 box location\n",
        "  for i in range(180):    \n",
        "    image0, image1, image2, image3, image4, image5, image6, image7, image8 = get_images(basedata, j)\n",
        "\n",
        "    roi0 = image0[410-11:590+11, 261:295] #gets the cutting box for 372x502 (the inside 350x480 + width 11 border) DONT FORGET ITS [y:y+h, x:x+w]!!!\n",
        "    square_timestep0 = roi0[179-i:202-i, 11:34] #gets the square in terms of i\n",
        "    square_timestep0_T = np.rot90(square_timestep0, 3)\n",
        "\n",
        "    roi1 = image1[410-11:590+11, 261:295]\n",
        "    square_timestep1 = roi1[179-i:202-i, 11:34]\n",
        "    square_timestep1_T = np.rot90(square_timestep1, 3)\n",
        "    \n",
        "    roi2 = image2[410-11:590+11, 261:295]\n",
        "    square_timestep2 = roi2[179-i:202-i, 11:34] \n",
        "    square_timestep2_T = np.rot90(square_timestep2, 3)\n",
        "\n",
        "    roi3 = image3[410-11:590+11, 261:295]\n",
        "    square_timestep3 = roi3[179-i:202-i, 11:34]\n",
        "    square_timestep3_T = np.rot90(square_timestep3, 3)\n",
        "\n",
        "    roi4 = image4[410-11:590+11, 261:295] \n",
        "    square_timestep4 = roi4[179-i:202-i, 11:34]\n",
        "    square_timestep4_T = np.rot90(square_timestep4, 3)\n",
        "\n",
        "    roi5 = image5[410-11:590+11, 261:295] \n",
        "    square_timestep5 = roi5[179-i:202-i, 11:34]\n",
        "    square_timestep5_T = np.rot90(square_timestep5, 3)\n",
        "\n",
        "    roi6 = image6[410-11:590+11, 261:295] \n",
        "    square_timestep6 = roi6[179-i:202-i, 11:34]\n",
        "    square_timestep6_T = np.rot90(square_timestep6, 3)\n",
        "\n",
        "    roi7 = image7[410-11:590+11, 261:295] \n",
        "    square_timestep7 = roi7[179-i:202-i, 11:34]\n",
        "    square_timestep7_T = np.rot90(square_timestep7, 3)\n",
        "\n",
        "    roi8 = image8[410-11:590+11, 261:295] \n",
        "    square_timestep8 = roi8[179-i:202-i, 11:34]\n",
        "    square_timestep8_T = np.rot90(square_timestep8, 3)\n",
        "\n",
        "    # link the 5 images together\n",
        "    newdata_l = np.vstack((square_timestep0_T, square_timestep1_T))\n",
        "    newdata_l = np.vstack((newdata_l, square_timestep2_T))\n",
        "    newdata_l = np.vstack((newdata_l, square_timestep3_T))\n",
        "    newdata_l = np.vstack((newdata_l, square_timestep4_T))\n",
        "    newdata_l = np.vstack((newdata_l, square_timestep5_T))\n",
        "    newdata_l = np.vstack((newdata_l, square_timestep6_T))\n",
        "    newdata_l = np.vstack((newdata_l, square_timestep7_T))\n",
        "    newdata_l = np.vstack((newdata_l, square_timestep8_T))\n",
        "\n",
        "    newdata_l = np.reshape(newdata_l, (9,23,23))\n",
        "\n",
        "    boxes_l5.append(newdata_l) #save into current_box\n",
        "\n",
        "boxes_l5 = np.array(boxes_l5) #turn boxes list into array for future ease of use\n",
        "\n",
        "print(boxes_l5.shape)"
      ],
      "execution_count": null,
      "outputs": [
        {
          "output_type": "stream",
          "text": [
            "(5400, 9, 23, 23)\n"
          ],
          "name": "stdout"
        }
      ]
    },
    {
      "cell_type": "code",
      "metadata": {
        "id": "lZa-LICztpBo"
      },
      "source": [
        "np.savez_compressed('/content/drive/My Drive/ML_Ultrasound_Project/UROPdata/images/leftcolumn5', a=boxes_l5)"
      ],
      "execution_count": null,
      "outputs": []
    },
    {
      "cell_type": "code",
      "metadata": {
        "colab": {
          "base_uri": "https://localhost:8080/"
        },
        "id": "r6NYdscmtpBo",
        "outputId": "6593a8a1-6027-4f16-e2f2-69f408af81af"
      },
      "source": [
        "#left column 6\n",
        "newdata_l = []    #list for 5box clusters\n",
        "boxes_l6 = []      #list for all 480 box locations for the top row from current_box, where each current_box contains the \n",
        "                #526 5-box size images per location\n",
        "\n",
        "for j in range(420,529,6): #timestep range, each run through gives the next group of 5 boxes\n",
        "  #create the set for each 23x23 box location\n",
        "  for i in range(270):\n",
        "    image0, image1, image2, image3, image4, image5, image6, image7, image8 = get_images(basedata, j)\n",
        "\n",
        "    roi0 = image0[365-11:635+11, 261:295] #gets the cutting box for 372x502 (the inside 350x480 + width 11 border) DONT FORGET ITS [y:y+h, x:x+w]!!!\n",
        "    square_timestep0 = roi0[269-i:292-i, 11:34] #gets the square in terms of i\n",
        "    square_timestep0_T = np.rot90(square_timestep0, 3)\n",
        "\n",
        "    roi1 = image1[365-11:635+11, 261:295]\n",
        "    square_timestep1 = roi1[269-i:292-i, 11:34]\n",
        "    square_timestep1_T = np.rot90(square_timestep1, 3)\n",
        "    \n",
        "    roi2 = image2[365-11:635+11, 261:295]\n",
        "    square_timestep2 = roi2[269-i:292-i, 11:34] \n",
        "    square_timestep2_T = np.rot90(square_timestep2, 3)\n",
        "\n",
        "    roi3 = image3[365-11:635+11, 261:295]\n",
        "    square_timestep3 = roi3[269-i:292-i, 11:34]\n",
        "    square_timestep3_T = np.rot90(square_timestep3, 3)\n",
        "\n",
        "    roi4 = image4[365-11:635+11, 261:295] \n",
        "    square_timestep4 = roi4[269-i:292-i, 11:34]\n",
        "    square_timestep4_T = np.rot90(square_timestep4, 3)\n",
        "\n",
        "    roi5 = image5[365-11:635+11, 261:295] \n",
        "    square_timestep5 = roi5[269-i:292-i, 11:34]\n",
        "    square_timestep5_T = np.rot90(square_timestep5, 3)\n",
        "    \n",
        "    roi6 = image6[365-11:635+11, 261:295] \n",
        "    square_timestep6 = roi6[269-i:292-i, 11:34]\n",
        "    square_timestep6_T = np.rot90(square_timestep6, 3)\n",
        "    \n",
        "    roi7 = image7[365-11:635+11, 261:295] \n",
        "    square_timestep7 = roi7[269-i:292-i, 11:34]\n",
        "    square_timestep7_T = np.rot90(square_timestep7, 3)\n",
        "    \n",
        "    roi8 = image8[365-11:635+11, 261:295] \n",
        "    square_timestep8 = roi8[269-i:292-i, 11:34]\n",
        "    square_timestep8_T = np.rot90(square_timestep8, 3)\n",
        "\n",
        "    # link the 5 images together\n",
        "    newdata_l = np.vstack((square_timestep0_T, square_timestep1_T))\n",
        "    newdata_l = np.vstack((newdata_l, square_timestep2_T))\n",
        "    newdata_l = np.vstack((newdata_l, square_timestep3_T))\n",
        "    newdata_l = np.vstack((newdata_l, square_timestep4_T))\n",
        "    newdata_l = np.vstack((newdata_l, square_timestep5_T))\n",
        "    newdata_l = np.vstack((newdata_l, square_timestep6_T))\n",
        "    newdata_l = np.vstack((newdata_l, square_timestep7_T))\n",
        "    newdata_l = np.vstack((newdata_l, square_timestep8_T))\n",
        "\n",
        "    newdata_l = np.reshape(newdata_l, (9,23,23))\n",
        "\n",
        "    boxes_l6.append(newdata_l) #save into current_box\n",
        "\n",
        "boxes_l6 = np.array(boxes_l6) #turn boxes list into array for future ease of use\n",
        "\n",
        "print(boxes_l6.shape)"
      ],
      "execution_count": null,
      "outputs": [
        {
          "output_type": "stream",
          "text": [
            "(5130, 9, 23, 23)\n"
          ],
          "name": "stdout"
        }
      ]
    },
    {
      "cell_type": "code",
      "metadata": {
        "id": "byD1JllktpBp"
      },
      "source": [
        "np.savez_compressed('/content/drive/My Drive/ML_Ultrasound_Project/UROPdata/images/leftcolumn6', a=boxes_l6)"
      ],
      "execution_count": null,
      "outputs": []
    },
    {
      "cell_type": "code",
      "metadata": {
        "colab": {
          "base_uri": "https://localhost:8080/"
        },
        "id": "rVQMzOi8tpBq",
        "outputId": "25586b44-8681-4792-86aa-7b79f361ebf4"
      },
      "source": [
        "#left column 7\n",
        "newdata_l = []    #list for 5box clusters\n",
        "boxes_l7 = []      #list for all 480 box locations for the top row from current_box, where each current_box contains the \n",
        "                #526 5-box size images per location\n",
        "\n",
        "for j in range(260,340,6): #timestep range, each run through gives the next group of 5 boxes\n",
        "  #create the set for each 23x23 box location\n",
        "  for i in range(90):\n",
        "    image0, image1, image2, image3, image4, image5, image6, image7, image8 = get_images(basedata, j)\n",
        "\n",
        "    roi0 = image0[455-11:545+11, 227:261] #gets the cutting box for 372x502 (the inside 350x480 + width 11 border) DONT FORGET ITS [y:y+h, x:x+w]!!!\n",
        "    square_timestep0 = roi0[90-1-i:90+22-i, 11:34] #gets the square in terms of i\n",
        "    square_timestep0_T = np.rot90(square_timestep0, 3)\n",
        "\n",
        "    roi1 = image1[455-11:545+11, 227:261]\n",
        "    square_timestep1 = roi1[90-1-i:90+22-i, 11:34]\n",
        "    square_timestep1_T = np.rot90(square_timestep1, 3)\n",
        "    \n",
        "    roi2 = image2[455-11:545+11, 227:261]\n",
        "    square_timestep2 = roi2[90-1-i:90+22-i, 11:34] \n",
        "    square_timestep2_T = np.rot90(square_timestep2, 3)\n",
        "\n",
        "    roi3 = image3[455-11:545+11, 227:261]\n",
        "    square_timestep3 = roi3[90-1-i:90+22-i, 11:34]\n",
        "    square_timestep3_T = np.rot90(square_timestep3, 3)\n",
        "\n",
        "    roi4 = image4[455-11:545+11, 227:261] \n",
        "    square_timestep4 = roi4[90-1-i:90+22-i, 11:34]\n",
        "    square_timestep4_T = np.rot90(square_timestep4, 3)\n",
        "    \n",
        "    roi5 = image5[455-11:545+11, 227:261] \n",
        "    square_timestep5 = roi5[90-1-i:90+22-i, 11:34]\n",
        "    square_timestep5_T = np.rot90(square_timestep5, 3)\n",
        "\n",
        "    roi6 = image6[455-11:545+11, 227:261] \n",
        "    square_timestep6 = roi6[90-1-i:90+22-i, 11:34]\n",
        "    square_timestep6_T = np.rot90(square_timestep6, 3)\n",
        "\n",
        "    roi7 = image7[455-11:545+11, 227:261] \n",
        "    square_timestep7 = roi7[90-1-i:90+22-i, 11:34]\n",
        "    square_timestep7_T = np.rot90(square_timestep7, 3)\n",
        "\n",
        "    roi8 = image8[455-11:545+11, 227:261] \n",
        "    square_timestep8 = roi8[90-1-i:90+22-i, 11:34]\n",
        "    square_timestep8_T = np.rot90(square_timestep8, 3)\n",
        "\n",
        "    # link the 5 images together\n",
        "    newdata_l = np.vstack((square_timestep0_T, square_timestep1_T))\n",
        "    newdata_l = np.vstack((newdata_l, square_timestep2_T))\n",
        "    newdata_l = np.vstack((newdata_l, square_timestep3_T))\n",
        "    newdata_l = np.vstack((newdata_l, square_timestep4_T))\n",
        "    newdata_l = np.vstack((newdata_l, square_timestep5_T))\n",
        "    newdata_l = np.vstack((newdata_l, square_timestep6_T))\n",
        "    newdata_l = np.vstack((newdata_l, square_timestep7_T))\n",
        "    newdata_l = np.vstack((newdata_l, square_timestep8_T))\n",
        "\n",
        "    newdata_l = np.reshape(newdata_l, (9,23,23))\n",
        "\n",
        "    boxes_l7.append(newdata_l) #save into current_box\n",
        "\n",
        "boxes_l7 = np.array(boxes_l7) #turn boxes list into array for future ease of use\n",
        "\n",
        "print(boxes_l7.shape)"
      ],
      "execution_count": null,
      "outputs": [
        {
          "output_type": "stream",
          "text": [
            "(1260, 9, 23, 23)\n"
          ],
          "name": "stdout"
        }
      ]
    },
    {
      "cell_type": "code",
      "metadata": {
        "id": "OhxhKwTetpBr"
      },
      "source": [
        "np.savez_compressed('/content/drive/My Drive/ML_Ultrasound_Project/UROPdata/images/leftcolumn7', a=boxes_l7)"
      ],
      "execution_count": null,
      "outputs": []
    },
    {
      "cell_type": "code",
      "metadata": {
        "colab": {
          "base_uri": "https://localhost:8080/"
        },
        "id": "cvFpCS-StpBr",
        "outputId": "2c3660a1-32e7-4e1e-d25a-18bd38dd9940"
      },
      "source": [
        "#left column 8\n",
        "newdata_l = []    #list for 5box clusters\n",
        "boxes_l8 = []      #list for all 480 box locations for the top row from current_box, where each current_box contains the \n",
        "                #526 5-box size images per location\n",
        "\n",
        "for j in range(340,470,6): #timestep range, each run through gives the next group of 5 boxes\n",
        "  #create the set for each 23x23 box location\n",
        "  for i in range(180):\n",
        "    image0, image1, image2, image3, image4, image5, image6, image7, image8 = get_images(basedata, j)\n",
        "\n",
        "    roi0 = image0[410-11:590+11, 227:261] #gets the cutting box for 372x502 (the inside 350x480 + width 11 border) DONT FORGET ITS [y:y+h, x:x+w]!!!\n",
        "    square_timestep0 = roi0[179-i:202-i, 11:34] #gets the square in terms of i\n",
        "    square_timestep0_T = np.rot90(square_timestep0, 3)\n",
        "\n",
        "    roi1 = image1[410-11:590+11, 227:261]\n",
        "    square_timestep1 = roi1[179-i:202-i, 11:34]\n",
        "    square_timestep1_T = np.rot90(square_timestep1, 3)\n",
        "    \n",
        "    roi2 = image2[410-11:590+11, 227:261]\n",
        "    square_timestep2 = roi2[179-i:202-i, 11:34] \n",
        "    square_timestep2_T = np.rot90(square_timestep2, 3)\n",
        "\n",
        "    roi3 = image3[410-11:590+11, 227:261]\n",
        "    square_timestep3 = roi3[179-i:202-i, 11:34]\n",
        "    square_timestep3_T = np.rot90(square_timestep3, 3)\n",
        "\n",
        "    roi4 = image4[410-11:590+11, 227:261] \n",
        "    square_timestep4 = roi4[179-i:202-i, 11:34]\n",
        "    square_timestep4_T = np.rot90(square_timestep4, 3)\n",
        "    \n",
        "    roi5 = image5[410-11:590+11, 227:261] \n",
        "    square_timestep5 = roi5[179-i:202-i, 11:34]\n",
        "    square_timestep5_T = np.rot90(square_timestep5, 3)\n",
        "\n",
        "    roi6 = image6[410-11:590+11, 227:261] \n",
        "    square_timestep6 = roi6[179-i:202-i, 11:34]\n",
        "    square_timestep6_T = np.rot90(square_timestep6, 3)\n",
        "\n",
        "    roi7 = image7[410-11:590+11, 227:261] \n",
        "    square_timestep7 = roi7[179-i:202-i, 11:34]\n",
        "    square_timestep7_T = np.rot90(square_timestep7, 3)\n",
        "\n",
        "    roi8 = image8[410-11:590+11, 227:261] \n",
        "    square_timestep8 = roi8[179-i:202-i, 11:34]\n",
        "    square_timestep84_T = np.rot90(square_timestep8, 3)\n",
        "\n",
        "    # link the 5 images together\n",
        "    newdata_l = np.vstack((square_timestep0_T, square_timestep1_T))\n",
        "    newdata_l = np.vstack((newdata_l, square_timestep2_T))\n",
        "    newdata_l = np.vstack((newdata_l, square_timestep3_T))\n",
        "    newdata_l = np.vstack((newdata_l, square_timestep4_T))\n",
        "    newdata_l = np.vstack((newdata_l, square_timestep5_T))\n",
        "    newdata_l = np.vstack((newdata_l, square_timestep6_T))\n",
        "    newdata_l = np.vstack((newdata_l, square_timestep7_T))\n",
        "    newdata_l = np.vstack((newdata_l, square_timestep8_T))\n",
        "\n",
        "    newdata_l = np.reshape(newdata_l, (9,23,23))\n",
        "\n",
        "    boxes_l8.append(newdata_l) #save into current_box\n",
        "\n",
        "boxes_l8 = np.array(boxes_l8) #turn boxes list into array for future ease of use\n",
        "\n",
        "print(boxes_l8.shape)"
      ],
      "execution_count": null,
      "outputs": [
        {
          "output_type": "stream",
          "text": [
            "(3960, 9, 23, 23)\n"
          ],
          "name": "stdout"
        }
      ]
    },
    {
      "cell_type": "code",
      "metadata": {
        "id": "WFCaItAgtpBs"
      },
      "source": [
        "np.savez_compressed('/content/drive/My Drive/ML_Ultrasound_Project/UROPdata/images/leftcolumn8', a=boxes_l8)"
      ],
      "execution_count": null,
      "outputs": []
    },
    {
      "cell_type": "code",
      "metadata": {
        "colab": {
          "base_uri": "https://localhost:8080/"
        },
        "id": "Ak3tWDYhtpBt",
        "outputId": "b406e422-f9e1-405f-c9b9-807fd7efe0e4"
      },
      "source": [
        "#left column 9\n",
        "newdata_l = []    #list for 5box clusters\n",
        "boxes_l9 = []      #list for all 480 box locations for the top row from current_box, where each current_box contains the \n",
        "                #526 5-box size images per location\n",
        "\n",
        "for j in range(470,529,6): #timestep range, each run through gives the next group of 5 boxes\n",
        "  #create the set for each 23x23 box location\n",
        "  for i in range(270):\n",
        "    image0, image1, image2, image3, image4, image5, image6, image7, image8 = get_images(basedata, j)\n",
        "\n",
        "    roi0 = image0[365-11:635+11, 227:261] #gets the cutting box for 372x502 (the inside 350x480 + width 11 border) DONT FORGET ITS [y:y+h, x:x+w]!!!\n",
        "    square_timestep0 = roi0[269-i:292-i, 11:34] #gets the square in terms of i\n",
        "    square_timestep0_T = np.rot90(square_timestep0, 3)\n",
        "\n",
        "    roi1 = image1[365-11:635+11, 227:261]\n",
        "    square_timestep1 = roi1[269-i:292-i, 11:34]\n",
        "    square_timestep1_T = np.rot90(square_timestep1, 3)\n",
        "    \n",
        "    roi2 = image2[365-11:635+11, 227:261]\n",
        "    square_timestep2 = roi2[269-i:292-i, 11:34] \n",
        "    square_timestep2_T = np.rot90(square_timestep2, 3)\n",
        "\n",
        "    roi3 = image3[365-11:635+11, 227:261]\n",
        "    square_timestep3 = roi3[269-i:292-i, 11:34]\n",
        "    square_timestep3_T = np.rot90(square_timestep3, 3)\n",
        "\n",
        "    roi4 = image4[365-11:635+11, 227:261] \n",
        "    square_timestep4 = roi4[269-i:292-i, 11:34]\n",
        "    square_timestep4_T = np.rot90(square_timestep4, 3)\n",
        "\n",
        "    roi5 = image5[365-11:635+11, 227:261] \n",
        "    square_timestep5 = roi5[269-i:292-i, 11:34]\n",
        "    square_timestep5_T = np.rot90(square_timestep5, 3)\n",
        "\n",
        "    roi6 = image6[365-11:635+11, 227:261] \n",
        "    square_timestep6 = roi6[269-i:292-i, 11:34]\n",
        "    square_timestep6_T = np.rot90(square_timestep6, 3)\n",
        "\n",
        "    roi7 = image7[365-11:635+11, 227:261] \n",
        "    square_timestep7 = roi7[269-i:292-i, 11:34]\n",
        "    square_timestep7_T = np.rot90(square_timestep7, 3)\n",
        "\n",
        "    roi8 = image8[365-11:635+11, 227:261] \n",
        "    square_timestep8 = roi8[269-i:292-i, 11:34]\n",
        "    square_timestep8_T = np.rot90(square_timestep8, 3)\n",
        "\n",
        "    # link the 5 images together\n",
        "    newdata_l = np.vstack((square_timestep0_T, square_timestep1_T))\n",
        "    newdata_l = np.vstack((newdata_l, square_timestep2_T))\n",
        "    newdata_l = np.vstack((newdata_l, square_timestep3_T))\n",
        "    newdata_l = np.vstack((newdata_l, square_timestep4_T))\n",
        "    newdata_l = np.vstack((newdata_l, square_timestep5_T))\n",
        "    newdata_l = np.vstack((newdata_l, square_timestep6_T))\n",
        "    newdata_l = np.vstack((newdata_l, square_timestep7_T))\n",
        "    newdata_l = np.vstack((newdata_l, square_timestep8_T))\n",
        "\n",
        "    newdata_l = np.reshape(newdata_l, (9,23,23))\n",
        "\n",
        "    boxes_l9.append(newdata_l) #save into current_box\n",
        "\n",
        "boxes_l9 = np.array(boxes_l9) #turn boxes list into array for future ease of use\n",
        "\n",
        "print(boxes_l9.shape)"
      ],
      "execution_count": null,
      "outputs": [
        {
          "output_type": "stream",
          "text": [
            "(2700, 9, 23, 23)\n"
          ],
          "name": "stdout"
        }
      ]
    },
    {
      "cell_type": "code",
      "metadata": {
        "id": "TFzmWNkqtpBt"
      },
      "source": [
        "np.savez_compressed('/content/drive/My Drive/ML_Ultrasound_Project/UROPdata/images/leftcolumn9', a=boxes_l9)"
      ],
      "execution_count": null,
      "outputs": []
    },
    {
      "cell_type": "code",
      "metadata": {
        "colab": {
          "base_uri": "https://localhost:8080/"
        },
        "id": "RztrPW5mtpBu",
        "outputId": "4e0d6047-ef2a-4796-8085-c174251f3cc8"
      },
      "source": [
        "#left column 10\n",
        "newdata_l = []    #list for 5box clusters\n",
        "boxes_l10 = []      #list for all 480 box locations for the top row from current_box, where each current_box contains the \n",
        "                #526 5-box size images per location\n",
        "\n",
        "for j in range(400,450,6): #timestep range, each run through gives the next group of 5 boxes\n",
        "  #create the set for each 23x23 box location\n",
        "  for i in range(90):\n",
        "    image0, image1, image2, image3, image4, image5, image6, image7, image8 = get_images(basedata, j)\n",
        "\n",
        "    roi0 = image0[455-11:545+11, 193:227] #gets the cutting box for 372x502 (the inside 350x480 + width 11 border) DONT FORGET ITS [y:y+h, x:x+w]!!!\n",
        "    square_timestep0 = roi0[89-i:112-i, 11:34] #gets the square in terms of i\n",
        "    square_timestep0_T = np.rot90(square_timestep0, 3)\n",
        "\n",
        "    roi1 = image1[455-11:545+11, 193:227]\n",
        "    square_timestep1 = roi1[89-i:112-i, 11:34]\n",
        "    square_timestep1_T = np.rot90(square_timestep1, 3)\n",
        "    \n",
        "    roi2 = image2[455-11:545+11, 193:227]\n",
        "    square_timestep2 = roi2[89-i:112-i, 11:34] \n",
        "    square_timestep2_T = np.rot90(square_timestep2, 3)\n",
        "\n",
        "    roi3 = image3[455-11:545+11, 193:227]\n",
        "    square_timestep3 = roi3[89-i:112-i, 11:34]\n",
        "    square_timestep3_T = np.rot90(square_timestep3, 3)\n",
        "\n",
        "    roi4 = image4[455-11:545+11, 193:227] \n",
        "    square_timestep4 = roi4[89-i:112-i, 11:34]\n",
        "    square_timestep4_T = np.rot90(square_timestep4, 3)\n",
        "\n",
        "    roi5 = image5[455-11:545+11, 193:227] \n",
        "    square_timestep5 = roi5[89-i:112-i, 11:34]\n",
        "    square_timestep5_T = np.rot90(square_timestep5, 3)\n",
        "\n",
        "    roi6 = image6[455-11:545+11, 193:227] \n",
        "    square_timestep6 = roi6[89-i:112-i, 11:34]\n",
        "    square_timestep6_T = np.rot90(square_timestep6, 3)\n",
        "\n",
        "    roi7 = image7[455-11:545+11, 193:227] \n",
        "    square_timestep7 = roi7[89-i:112-i, 11:34]\n",
        "    square_timestep7_T = np.rot90(square_timestep7, 3)\n",
        "\n",
        "    roi8 = image8[455-11:545+11, 193:227] \n",
        "    square_timestep8 = roi8[89-i:112-i, 11:34]\n",
        "    square_timestep8_T = np.rot90(square_timestep8, 3)\n",
        "\n",
        "    # link the 5 images together\n",
        "    newdata_l = np.vstack((square_timestep0_T, square_timestep1_T))\n",
        "    newdata_l = np.vstack((newdata_l, square_timestep2_T))\n",
        "    newdata_l = np.vstack((newdata_l, square_timestep3_T))\n",
        "    newdata_l = np.vstack((newdata_l, square_timestep4_T))\n",
        "    newdata_l = np.vstack((newdata_l, square_timestep5_T))\n",
        "    newdata_l = np.vstack((newdata_l, square_timestep6_T))\n",
        "    newdata_l = np.vstack((newdata_l, square_timestep7_T))\n",
        "    newdata_l = np.vstack((newdata_l, square_timestep8_T))\n",
        "\n",
        "    newdata_l = np.reshape(newdata_l, (9,23,23))\n",
        "\n",
        "    boxes_l10.append(newdata_l) #save into current_box\n",
        "\n",
        "boxes_l10 = np.array(boxes_l10) #turn boxes list into array for future ease of use\n",
        "\n",
        "print(boxes_l10.shape)"
      ],
      "execution_count": null,
      "outputs": [
        {
          "output_type": "stream",
          "text": [
            "(810, 9, 23, 23)\n"
          ],
          "name": "stdout"
        }
      ]
    },
    {
      "cell_type": "code",
      "metadata": {
        "id": "3hWs8HUqtpBx"
      },
      "source": [
        "np.savez_compressed('/content/drive/My Drive/ML_Ultrasound_Project/UROPdata/images/leftcolumn10', a=boxes_l10)"
      ],
      "execution_count": null,
      "outputs": []
    },
    {
      "cell_type": "code",
      "metadata": {
        "colab": {
          "base_uri": "https://localhost:8080/"
        },
        "id": "-HSC5ImQtpBy",
        "outputId": "c43e5af2-46d8-4c1e-d9fe-8ba7f4aec831"
      },
      "source": [
        "#left column 11\n",
        "newdata_l = []    #list for 5box clusters\n",
        "boxes_l11 = []      #list for all 480 box locations for the top row from current_box, where each current_box contains the \n",
        "                #526 5-box size images per location\n",
        "\n",
        "for j in range(450,529,6): #timestep range, each run through gives the next group of 5 boxes\n",
        "  #create the set for each 23x23 box location\n",
        "  for i in range(180):\n",
        "    image0, image1, image2, image3, image4, image5, image6, image7, image8 = get_images(basedata, j)\n",
        "\n",
        "    roi0 = image0[410-11:590+11, 193:227] #gets the cutting box for 372x502 (the inside 350x480 + width 11 border) DONT FORGET ITS [y:y+h, x:x+w]!!!\n",
        "    square_timestep0 = roi0[179-i:202-i, 11:34] #gets the square in terms of i\n",
        "    square_timestep0_T = np.rot90(square_timestep0, 3)\n",
        "\n",
        "    roi1 = image1[410-11:590+11, 193:227]\n",
        "    square_timestep1 = roi1[179-i:202-i, 11:34]\n",
        "    square_timestep1_T = np.rot90(square_timestep1, 3)\n",
        "    \n",
        "    roi2 = image2[410-11:590+11, 193:227]\n",
        "    square_timestep2 = roi2[179-i:202-i, 11:34] \n",
        "    square_timestep2_T = np.rot90(square_timestep2, 3)\n",
        "\n",
        "    roi3 = image3[410-11:590+11, 193:227]\n",
        "    square_timestep3 = roi3[179-i:202-i, 11:34]\n",
        "    square_timestep3_T = np.rot90(square_timestep3, 3)\n",
        "\n",
        "    roi4 = image4[410-11:590+11, 193:227] \n",
        "    square_timestep4 = roi4[179-i:202-i, 11:34]\n",
        "    square_timestep4_T = np.rot90(square_timestep4, 3)\n",
        "\n",
        "    roi5 = image5[410-11:590+11, 193:227] \n",
        "    square_timestep5 = roi5[179-i:202-i, 11:34]\n",
        "    square_timestep5_T = np.rot90(square_timestep5, 3)\n",
        "\n",
        "    roi6 = image6[410-11:590+11, 193:227] \n",
        "    square_timestep6 = roi6[179-i:202-i, 11:34]\n",
        "    square_timestep6_T = np.rot90(square_timestep6, 3)\n",
        "\n",
        "    roi7 = image7[410-11:590+11, 193:227] \n",
        "    square_timestep7 = roi7[179-i:202-i, 11:34]\n",
        "    square_timestep7_T = np.rot90(square_timestep7, 3)\n",
        "\n",
        "    roi8 = image8[410-11:590+11, 193:227] \n",
        "    square_timestep8 = roi8[179-i:202-i, 11:34]\n",
        "    square_timestep8_T = np.rot90(square_timestep8, 3)\n",
        "\n",
        "    # link the 5 images together\n",
        "    newdata_l = np.vstack((square_timestep0_T, square_timestep1_T))\n",
        "    newdata_l = np.vstack((newdata_l, square_timestep2_T))\n",
        "    newdata_l = np.vstack((newdata_l, square_timestep3_T))\n",
        "    newdata_l = np.vstack((newdata_l, square_timestep4_T))\n",
        "    newdata_l = np.vstack((newdata_l, square_timestep5_T))\n",
        "    newdata_l = np.vstack((newdata_l, square_timestep6_T))\n",
        "    newdata_l = np.vstack((newdata_l, square_timestep7_T))\n",
        "    newdata_l = np.vstack((newdata_l, square_timestep8_T))\n",
        "\n",
        "    newdata_l = np.reshape(newdata_l, (9,23,23))\n",
        "\n",
        "    boxes_l11.append(newdata_l) #save into current_box\n",
        "\n",
        "boxes_l11 = np.array(boxes_l11) #turn boxes list into array for future ease of use\n",
        "\n",
        "print(boxes_l11.shape)"
      ],
      "execution_count": null,
      "outputs": [
        {
          "output_type": "stream",
          "text": [
            "(2520, 9, 23, 23)\n"
          ],
          "name": "stdout"
        }
      ]
    },
    {
      "cell_type": "code",
      "metadata": {
        "id": "XU6ZwBgFtpBz"
      },
      "source": [
        "np.savez_compressed('/content/drive/My Drive/ML_Ultrasound_Project/UROPdata/images/leftcolumn11', a=boxes_l11)"
      ],
      "execution_count": null,
      "outputs": []
    },
    {
      "cell_type": "code",
      "metadata": {
        "colab": {
          "base_uri": "https://localhost:8080/"
        },
        "id": "oHjiDrVotpBz",
        "outputId": "318a55f7-53e8-45df-e953-b6abb3afe523"
      },
      "source": [
        "#left column 12\n",
        "newdata_l = []    #list for 5box clusters\n",
        "boxes_l12 = []      #list for all 480 box locations for the top row from current_box, where each current_box contains the \n",
        "                #526 5-box size images per location\n",
        "\n",
        "for j in range(0,350,6): #timestep range, each run through gives the next group of 5 boxes\n",
        "  #create the set for each 23x23 box location\n",
        "  for i in range(150):\n",
        "    image0, image1, image2, image3, image4, image5, image6, image7, image8 = get_images(basedata, j)\n",
        "\n",
        "    roi0 = image0[425-11:575+11, 285:319] #gets the cutting box for 372x502 (the inside 350x480 + width 11 border) DONT FORGET ITS [y:y+h, x:x+w]!!!\n",
        "    square_timestep0 = roi0[149-i:172-i, 11:34] #gets the square in terms of i\n",
        "    square_timestep0_T = np.rot90(square_timestep0, 3)\n",
        "\n",
        "    roi1 = image1[425-11:575+11, 285:319]\n",
        "    square_timestep1 = roi1[149-i:172-i, 11:34]\n",
        "    square_timestep1_T = np.rot90(square_timestep1, 3)\n",
        "    \n",
        "    roi2 = image2[425-11:575+11, 285:319]\n",
        "    square_timestep2 = roi2[149-i:172-i, 11:34] \n",
        "    square_timestep2_T = np.rot90(square_timestep2, 3)\n",
        "\n",
        "    roi3 = image3[425-11:575+11, 285:319]\n",
        "    square_timestep3 = roi3[149-i:172-i, 11:34]\n",
        "    square_timestep3_T = np.rot90(square_timestep3, 3)\n",
        "\n",
        "    roi4 = image4[425-11:575+11, 285:319] \n",
        "    square_timestep4 = roi4[149-i:172-i, 11:34]\n",
        "    square_timestep4_T = np.rot90(square_timestep4, 3)\n",
        "\n",
        "    roi5 = image5[425-11:575+11, 285:319] \n",
        "    square_timestep5 = roi5[149-i:172-i, 11:34]\n",
        "    square_timestep5_T = np.rot90(square_timestep5, 3)\n",
        "\n",
        "    roi6 = image6[425-11:575+11, 285:319] \n",
        "    square_timestep6 = roi6[149-i:172-i, 11:34]\n",
        "    square_timestep6_T = np.rot90(square_timestep6, 3)\n",
        "\n",
        "    roi7 = image7[425-11:575+11, 285:319] \n",
        "    square_timestep7 = roi7[149-i:172-i, 11:34]\n",
        "    square_timestep7_T = np.rot90(square_timestep7, 3)\n",
        "\n",
        "    roi8 = image8[425-11:575+11, 285:319] \n",
        "    square_timestep8 = roi8[149-i:172-i, 11:34]\n",
        "    square_timestep8_T = np.rot90(square_timestep8, 3)\n",
        "\n",
        "    # link the 5 images together\n",
        "    newdata_l = np.vstack((square_timestep0_T, square_timestep1_T))\n",
        "    newdata_l = np.vstack((newdata_l, square_timestep2_T))\n",
        "    newdata_l = np.vstack((newdata_l, square_timestep3_T))\n",
        "    newdata_l = np.vstack((newdata_l, square_timestep4_T))\n",
        "    newdata_l = np.vstack((newdata_l, square_timestep5_T))\n",
        "    newdata_l = np.vstack((newdata_l, square_timestep6_T))\n",
        "    newdata_l = np.vstack((newdata_l, square_timestep7_T))\n",
        "    newdata_l = np.vstack((newdata_l, square_timestep8_T))\n",
        "\n",
        "    newdata_l = np.reshape(newdata_l, (9,23,23))\n",
        "\n",
        "    boxes_l12.append(newdata_l) #save into current_box\n",
        "\n",
        "boxes_l12 = np.array(boxes_l12) #turn boxes list into array for future ease of use\n",
        "\n",
        "print(boxes_l12.shape)"
      ],
      "execution_count": null,
      "outputs": [
        {
          "output_type": "stream",
          "text": [
            "(8850, 9, 23, 23)\n"
          ],
          "name": "stdout"
        }
      ]
    },
    {
      "cell_type": "code",
      "metadata": {
        "id": "zcahFlSatpB0"
      },
      "source": [
        "np.savez_compressed('/content/drive/My Drive/ML_Ultrasound_Project/UROPdata/images/leftcolumn12', a=boxes_l12)"
      ],
      "execution_count": null,
      "outputs": []
    },
    {
      "cell_type": "code",
      "metadata": {
        "colab": {
          "base_uri": "https://localhost:8080/"
        },
        "id": "DkS3fjSJtpB0",
        "outputId": "9b36ed39-3282-4fc9-87f0-14e22b5a06e0"
      },
      "source": [
        "#left column 13\n",
        "newdata_l = []    #list for 5box clusters\n",
        "boxes_l13 = []      #list for all 480 box locations for the top row from current_box, where each current_box contains the \n",
        "                #526 5-box size images per location\n",
        "\n",
        "for j in range(15,200,6): #timestep range, each run through gives the next group of 5 boxes\n",
        "  #create the set for each 23x23 box location\n",
        "  for i in range(90):\n",
        "    image0, image1, image2, image3, image4, image5, image6, image7, image8 = get_images(basedata, j)\n",
        "\n",
        "    roi0 = image0[455-11:545+11, 278:312] #gets the cutting box for 372x502 (the inside 350x480 + width 11 border) DONT FORGET ITS [y:y+h, x:x+w]!!!\n",
        "    square_timestep0 = roi0[90-1-i:90+22-i, 11:34] #gets the square in terms of i\n",
        "    square_timestep0_T = np.rot90(square_timestep0, 3)\n",
        "\n",
        "    roi1 = image1[455-11:545+11, 278:312]\n",
        "    square_timestep1 = roi1[90-1-i:90+22-i, 11:34]\n",
        "    square_timestep1_T = np.rot90(square_timestep1, 3)\n",
        "    \n",
        "    roi2 = image2[455-11:545+11, 278:312]\n",
        "    square_timestep2 = roi2[90-1-i:90+22-i, 11:34] \n",
        "    square_timestep2_T = np.rot90(square_timestep2, 3)\n",
        "\n",
        "    roi3 = image3[455-11:545+11, 278:312]\n",
        "    square_timestep3 = roi3[90-1-i:90+22-i, 11:34]\n",
        "    square_timestep3_T = np.rot90(square_timestep3, 3)\n",
        "\n",
        "    roi4 = image4[455-11:545+11, 278:312]\n",
        "    square_timestep4 = roi4[90-1-i:90+22-i, 11:34]\n",
        "    square_timestep4_T = np.rot90(square_timestep4, 3)\n",
        "\n",
        "    roi5 = image5[455-11:545+11, 278:312]\n",
        "    square_timestep5 = roi5[90-1-i:90+22-i, 11:34]\n",
        "    square_timestep5_T = np.rot90(square_timestep5, 3)\n",
        "\n",
        "    roi6 = image6[455-11:545+11, 278:312]\n",
        "    square_timestep6 = roi6[90-1-i:90+22-i, 11:34]\n",
        "    square_timestep6_T = np.rot90(square_timestep6, 3)\n",
        "\n",
        "    roi7 = image7[455-11:545+11, 278:312]\n",
        "    square_timestep7 = roi7[90-1-i:90+22-i, 11:34]\n",
        "    square_timestep7_T = np.rot90(square_timestep7, 3)\n",
        "\n",
        "    roi8 = image8[455-11:545+11, 278:312]\n",
        "    square_timestep8 = roi8[90-1-i:90+22-i, 11:34]\n",
        "    square_timestep8_T = np.rot90(square_timestep8, 3)\n",
        "\n",
        "    #link the 5 images together\n",
        "    newdata_l = np.vstack((square_timestep0_T, square_timestep1_T))\n",
        "    newdata_l = np.vstack((newdata_l, square_timestep2_T))\n",
        "    newdata_l = np.vstack((newdata_l, square_timestep3_T))\n",
        "    newdata_l = np.vstack((newdata_l, square_timestep4_T))\n",
        "    newdata_l = np.vstack((newdata_l, square_timestep5_T))\n",
        "    newdata_l = np.vstack((newdata_l, square_timestep6_T))\n",
        "    newdata_l = np.vstack((newdata_l, square_timestep7_T))\n",
        "    newdata_l = np.vstack((newdata_l, square_timestep8_T))\n",
        "\n",
        "    newdata_l = np.reshape(newdata_l, (9,23,23))\n",
        "\n",
        "    boxes_l13.append(newdata_l) #save into current_box\n",
        "\n",
        "boxes_l13 = np.array(boxes_l13) #turn boxes list into array for future ease of use\n",
        "\n",
        "print(boxes_l13.shape)"
      ],
      "execution_count": null,
      "outputs": [
        {
          "output_type": "stream",
          "text": [
            "(2790, 9, 23, 23)\n"
          ],
          "name": "stdout"
        }
      ]
    },
    {
      "cell_type": "code",
      "metadata": {
        "id": "BCBNjoAftpB1"
      },
      "source": [
        "np.savez_compressed('/content/drive/My Drive/ML_Ultrasound_Project/UROPdata/images/leftcolumn13', a=boxes_l13)"
      ],
      "execution_count": null,
      "outputs": []
    },
    {
      "cell_type": "code",
      "metadata": {
        "id": "bVitZrWLtpB2"
      },
      "source": [
        "#left column 14\n",
        "newdata_l = []    #list for 5box clusters\n",
        "boxes_l14 = []      #list for all 480 box locations for the top row from current_box, where each current_box contains the \n",
        "                #526 5-box size images per location\n",
        "\n",
        "for j in range(200,380,6): #timestep range, each run through gives the next group of 5 boxes\n",
        "  #create the set for each 23x23 box location\n",
        "  for i in range(180):\n",
        "    image0, image1, image2, image3, image4, image5, image6, image7, image8 = get_images(basedata, j)\n",
        "\n",
        "    roi0 = image0[410-11:590+11, 278:312] #gets the cutting box for 372x502 (the inside 350x480 + width 11 border) DONT FORGET ITS [y:y+h, x:x+w]!!!\n",
        "    square_timestep0 = roi0[180-1-i:180+22-i, 11:34] #gets the square in terms of i\n",
        "    square_timestep0_T = np.rot90(square_timestep0, 3)\n",
        "\n",
        "    roi1 = image1[410-11:590+11, 278:312]\n",
        "    square_timestep1 = roi1[180-1-i:180+22-i, 11:34]\n",
        "    square_timestep1_T = np.rot90(square_timestep1, 3)\n",
        "    \n",
        "    roi2 = image2[410-11:590+11, 278:312]\n",
        "    square_timestep2 = roi2[180-1-i:180+22-i, 11:34] \n",
        "    square_timestep2_T = np.rot90(square_timestep2, 3)\n",
        "\n",
        "    roi3 = image3[410-11:590+11, 278:312]\n",
        "    square_timestep3 = roi3[180-1-i:180+22-i, 11:34]\n",
        "    square_timestep3_T = np.rot90(square_timestep3, 3)\n",
        "\n",
        "    roi4 = image4[410-11:590+11, 278:312]\n",
        "    square_timestep4 = roi4[180-1-i:180+22-i, 11:34]\n",
        "    square_timestep4_T = np.rot90(square_timestep4, 3)\n",
        "\n",
        "    roi5 = image5[410-11:590+11, 278:312]\n",
        "    square_timestep5 = roi5[180-1-i:180+22-i, 11:34]\n",
        "    square_timestep5_T = np.rot90(square_timestep5, 3)\n",
        "\n",
        "    roi6 = image6[410-11:590+11, 278:312]\n",
        "    square_timestep6 = roi6[180-1-i:180+22-i, 11:34]\n",
        "    square_timestep6_T = np.rot90(square_timestep6, 3)\n",
        "\n",
        "    roi7 = image7[410-11:590+11, 278:312]\n",
        "    square_timestep7 = roi7[180-1-i:180+22-i, 11:34]\n",
        "    square_timestep7_T = np.rot90(square_timestep7, 3)\n",
        "\n",
        "    roi8 = image8[410-11:590+11, 278:312]\n",
        "    square_timestep8 = roi8[180-1-i:180+22-i, 11:34]\n",
        "    square_timestep8_T = np.rot90(square_timestep8, 3)\n",
        "\n",
        "    # link the 5 images together\n",
        "    newdata_l = np.vstack((square_timestep0_T, square_timestep1_T))\n",
        "    newdata_l = np.vstack((newdata_l, square_timestep2_T))\n",
        "    newdata_l = np.vstack((newdata_l, square_timestep3_T))\n",
        "    newdata_l = np.vstack((newdata_l, square_timestep4_T))\n",
        "    newdata_l = np.vstack((newdata_l, square_timestep5_T))\n",
        "    newdata_l = np.vstack((newdata_l, square_timestep6_T))\n",
        "    newdata_l = np.vstack((newdata_l, square_timestep7_T))\n",
        "    newdata_l = np.vstack((newdata_l, square_timestep8_T))\n",
        "\n",
        "    newdata_l = np.reshape(newdata_l, (9,23,23))\n",
        "\n",
        "    boxes_l14.append(newdata_l) #save into current_box\n",
        "\n",
        "boxes_l14 = np.array(boxes_l14) #turn boxes list into array for future ease of use"
      ],
      "execution_count": null,
      "outputs": []
    },
    {
      "cell_type": "code",
      "metadata": {
        "colab": {
          "base_uri": "https://localhost:8080/"
        },
        "id": "ZtbPWo2xtpB2",
        "outputId": "9eb0b046-8d06-442b-8dc1-42e71fd173ff"
      },
      "source": [
        "print(boxes_l14.shape)"
      ],
      "execution_count": null,
      "outputs": [
        {
          "output_type": "stream",
          "text": [
            "(5400, 9, 23, 23)\n"
          ],
          "name": "stdout"
        }
      ]
    },
    {
      "cell_type": "code",
      "metadata": {
        "id": "Cii7MYlQtpB3"
      },
      "source": [
        "np.savez_compressed('/content/drive/My Drive/ML_Ultrasound_Project/UROPdata/images/leftcolumn14', a=boxes_l14)"
      ],
      "execution_count": null,
      "outputs": []
    },
    {
      "cell_type": "code",
      "metadata": {
        "id": "p1mHTW0MtpB3"
      },
      "source": [
        "#left column 15\n",
        "newdata_l = []    #list for 5box clusters\n",
        "boxes_l15 = []      #list for all 480 box locations for the top row from current_box, where each current_box contains the \n",
        "                #526 5-box size images per location\n",
        "\n",
        "for j in range(380,529,6): #timestep range, each run through gives the next group of 5 boxes\n",
        "  #create the set for each 23x23 box location\n",
        "  for i in range(270):\n",
        "    image0, image1, image2, image3, image4, image5, image6, image7, image8 = get_images(basedata, j)\n",
        "\n",
        "    roi0 = image0[365-11:635+11, 278:312] #gets the cutting box for 372x502 (the inside 350x480 + width 11 border) DONT FORGET ITS [y:y+h, x:x+w]!!!\n",
        "    square_timestep0 = roi0[269-i:292-i, 11:34] #gets the square in terms of i\n",
        "    square_timestep0_T = np.rot90(square_timestep0, 3)\n",
        "\n",
        "    roi1 = image1[365-11:635+11, 278:312]\n",
        "    square_timestep1 = roi1[269-i:292-i, 11:34]\n",
        "    square_timestep1_T = np.rot90(square_timestep1, 3)\n",
        "    \n",
        "    roi2 = image2[365-11:635+11, 278:312]\n",
        "    square_timestep2 = roi2[269-i:292-i, 11:34] \n",
        "    square_timestep2_T = np.rot90(square_timestep2, 3)\n",
        "\n",
        "    roi3 = image3[365-11:635+11, 278:312]\n",
        "    square_timestep3 = roi3[269-i:292-i, 11:34]\n",
        "    square_timestep3_T = np.rot90(square_timestep3, 3)\n",
        "\n",
        "    roi4 = image4[365-11:635+11, 278:312] \n",
        "    square_timestep4 = roi4[269-i:292-i, 11:34]\n",
        "    square_timestep4_T = np.rot90(square_timestep4, 3)\n",
        "\n",
        "    roi5 = image5[365-11:635+11, 278:312] \n",
        "    square_timestep5 = roi5[269-i:292-i, 11:34]\n",
        "    square_timestep5_T = np.rot90(square_timestep5, 3)\n",
        "\n",
        "    roi6 = image6[365-11:635+11, 278:312] \n",
        "    square_timestep6 = roi6[269-i:292-i, 11:34]\n",
        "    square_timestep6_T = np.rot90(square_timestep6, 3)\n",
        "\n",
        "    roi7 = image7[365-11:635+11, 278:312] \n",
        "    square_timestep7 = roi7[269-i:292-i, 11:34]\n",
        "    square_timestep7_T = np.rot90(square_timestep7, 3)\n",
        "\n",
        "    roi8 = image8[365-11:635+11, 278:312] \n",
        "    square_timestep8 = roi8[269-i:292-i, 11:34]\n",
        "    square_timestep8_T = np.rot90(square_timestep8, 3)\n",
        "\n",
        "    # link the 5 images together\n",
        "    newdata_l = np.vstack((square_timestep0_T, square_timestep1_T))\n",
        "    newdata_l = np.vstack((newdata_l, square_timestep2_T))\n",
        "    newdata_l = np.vstack((newdata_l, square_timestep3_T))\n",
        "    newdata_l = np.vstack((newdata_l, square_timestep4_T))\n",
        "    newdata_l = np.vstack((newdata_l, square_timestep5_T))\n",
        "    newdata_l = np.vstack((newdata_l, square_timestep6_T))\n",
        "    newdata_l = np.vstack((newdata_l, square_timestep7_T))\n",
        "    newdata_l = np.vstack((newdata_l, square_timestep8_T))\n",
        "\n",
        "    newdata_l = np.reshape(newdata_l, (9,23,23))\n",
        "\n",
        "    boxes_l15.append(newdata_l) #save into current_box\n",
        "\n",
        "boxes_l15 = np.array(boxes_l15) #turn boxes list into array for future ease of use"
      ],
      "execution_count": null,
      "outputs": []
    },
    {
      "cell_type": "code",
      "metadata": {
        "colab": {
          "base_uri": "https://localhost:8080/"
        },
        "id": "i1dlZ3mAtpB4",
        "outputId": "d360b295-59f9-4db3-c83d-b8edc26ee658"
      },
      "source": [
        "print(boxes_l15.shape)"
      ],
      "execution_count": null,
      "outputs": [
        {
          "output_type": "stream",
          "text": [
            "(6750, 9, 23, 23)\n"
          ],
          "name": "stdout"
        }
      ]
    },
    {
      "cell_type": "code",
      "metadata": {
        "id": "aLFKaAy8tpB5"
      },
      "source": [
        "np.savez_compressed('/content/drive/My Drive/ML_Ultrasound_Project/UROPdata/images/leftcolumn15', a=boxes_l15)"
      ],
      "execution_count": null,
      "outputs": []
    },
    {
      "cell_type": "markdown",
      "metadata": {
        "id": "CCCzTmTGx-lX"
      },
      "source": [
        "# Fake Zeros"
      ]
    },
    {
      "cell_type": "code",
      "metadata": {
        "id": "wHvXNS0qyKL0"
      },
      "source": [
        "fakeZeros = np.zeros((15000,9,23,23))\n",
        "np.savez_compressed('/content/drive/My Drive/ML_Ultrasound_Project/UROPdata/images/leftcolumnzeros', a=fakeZeros)"
      ],
      "execution_count": null,
      "outputs": []
    },
    {
      "cell_type": "code",
      "metadata": {
        "id": "3amo64Q1Pn6A"
      },
      "source": [
        ""
      ],
      "execution_count": null,
      "outputs": []
    }
  ]
}