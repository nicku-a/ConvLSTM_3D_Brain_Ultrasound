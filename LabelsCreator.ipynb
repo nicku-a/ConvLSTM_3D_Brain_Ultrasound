{
  "nbformat": 4,
  "nbformat_minor": 0,
  "metadata": {
    "colab": {
      "name": "LabelsCreator.ipynb",
      "provenance": [],
      "collapsed_sections": [
        "Q235x8vt2r00",
        "v_ZjhAkV2wbi",
        "CCCzTmTGx-lX"
      ],
      "toc_visible": true
    },
    "kernelspec": {
      "name": "python3",
      "display_name": "Python 3"
    }
  },
  "cells": [
    {
      "cell_type": "code",
      "metadata": {
        "id": "fD4Tb8-XiLnc"
      },
      "source": [
        "#import libraries\n",
        "import numpy as np\n",
        "import matplotlib.pyplot as plt\n",
        "import os"
      ],
      "execution_count": null,
      "outputs": []
    },
    {
      "cell_type": "code",
      "metadata": {
        "id": "qmXpMdBvB3cG",
        "colab": {
          "base_uri": "https://localhost:8080/"
        },
        "outputId": "dcaa8e96-c724-410b-add5-2354e495a228"
      },
      "source": [
        "from google.colab import drive\n",
        "drive.mount('/content/drive')"
      ],
      "execution_count": null,
      "outputs": [
        {
          "output_type": "stream",
          "text": [
            "Mounted at /content/drive\n"
          ],
          "name": "stdout"
        }
      ]
    },
    {
      "cell_type": "markdown",
      "metadata": {
        "id": "Q235x8vt2r00"
      },
      "source": [
        "# Water"
      ]
    },
    {
      "cell_type": "code",
      "metadata": {
        "id": "tPEbHdXOiPwq"
      },
      "source": [
        "#load data file from 'solve acoustic'\n",
        "data = np.load('/content/drive/My Drive/ML_Ultrasound_Project/UROPdata/basedata_water.npz')\n",
        "basedata = data['a'] #save 'a' as 'basedata'"
      ],
      "execution_count": null,
      "outputs": []
    },
    {
      "cell_type": "code",
      "metadata": {
        "colab": {
          "base_uri": "https://localhost:8080/"
        },
        "id": "xQm1DnnP6v5P",
        "outputId": "91121acd-18c3-4ff4-9c26-9cff4e07c199"
      },
      "source": [
        "final_max, final_min = np.max(basedata), np.min(basedata)\n",
        "print(final_max, final_min)\n",
        "print(basedata[0].shape)\n",
        "\n",
        "# basedata = (basedata - final_min) / (final_max - final_min) *2-1\n",
        "\n",
        "basedata = basedata/np.max(np.abs(basedata))\n",
        "\n",
        "print(np.max(basedata), np.min(basedata))"
      ],
      "execution_count": null,
      "outputs": [
        {
          "output_type": "stream",
          "text": [
            "8.9908006e-08 -7.546365e-08\n",
            "(1001, 1001)\n",
            "1.0 -0.83934295\n"
          ],
          "name": "stdout"
        }
      ]
    },
    {
      "cell_type": "markdown",
      "metadata": {
        "id": "sjjQ9lZGmuun"
      },
      "source": [
        "**Left Column**"
      ]
    },
    {
      "cell_type": "code",
      "metadata": {
        "id": "Q0RbSshCZZ20"
      },
      "source": [
        "#left column labels\n",
        "\n",
        "label_left = []\n",
        "for j in range(5,200,6): #timestep range, each run gives the next line INCREMEMENTS OF 10!!\n",
        "  for i in range(90):  #create the location span of the lines\n",
        "    image = basedata[j]    #gets 1001x1001 image corresponding to timestep\n",
        "    roi = image[455-11:545+11, 290:324] #gets the cutting box for 372x502 (the inside 350x480 + width 11 border) DONT FORGET ITS [y:y+h, x:x+w]!!!\n",
        "    line_label = roi[90+10-i:90+11-i, 0:11] #gets the line in terms of i\n",
        "     #TRANSPOSE THE LINE!!!! FLIP IT USING ROT90\n",
        "    line_label_T = np.rot90(line_label, 3)\n",
        "    label_left.append(line_label_T)\n",
        "\n",
        "label_left = np.array(label_left)"
      ],
      "execution_count": null,
      "outputs": []
    },
    {
      "cell_type": "code",
      "metadata": {
        "id": "Yo_j0ngamW1o",
        "colab": {
          "base_uri": "https://localhost:8080/"
        },
        "outputId": "07d6acd3-2eff-40c1-f439-4b7b279e658e"
      },
      "source": [
        "print(label_left.shape)"
      ],
      "execution_count": null,
      "outputs": [
        {
          "output_type": "stream",
          "text": [
            "(2970, 11, 1)\n"
          ],
          "name": "stdout"
        }
      ]
    },
    {
      "cell_type": "code",
      "metadata": {
        "id": "TEvMGF8xhKJn"
      },
      "source": [
        "#save line_label to google drive folder\n",
        "np.savez_compressed('/content/drive/My Drive/ML_Ultrasound_Project/UROPdata/labels/leftcolumn_water', a=label_left)"
      ],
      "execution_count": null,
      "outputs": []
    },
    {
      "cell_type": "code",
      "metadata": {
        "id": "OjZX8MTCqJGK"
      },
      "source": [
        "#left column labels 2\n",
        "\n",
        "label_left = []\n",
        "for j in range(200,380,6): #timestep range, each run gives the next line INCREMEMENTS OF 10!!\n",
        "  for i in range(180):  #create the location span of the lines\n",
        "    image = basedata[j]    #gets 1001x1001 image corresponding to timestep\n",
        "    roi = image[410-11:590+11, 290:324] #gets the cutting box for 372x502 (the inside 350x480 + width 11 border) DONT FORGET ITS [y:y+h, x:x+w]!!!\n",
        "    line_label = roi[190-i:191-i, 0:11] #gets the line in terms of i\n",
        "     #TRANSPOSE THE LINE!!!! FLIP IT USING ROT90\n",
        "    line_label_T = np.rot90(line_label, 3)\n",
        "    label_left.append(line_label_T)\n",
        "\n",
        "label_left = np.array(label_left)"
      ],
      "execution_count": null,
      "outputs": []
    },
    {
      "cell_type": "code",
      "metadata": {
        "colab": {
          "base_uri": "https://localhost:8080/"
        },
        "id": "j9g8zxYmqMl4",
        "outputId": "6d406123-28fb-4a79-ae8b-9e12c5794c11"
      },
      "source": [
        "print(label_left.shape)"
      ],
      "execution_count": null,
      "outputs": [
        {
          "output_type": "stream",
          "text": [
            "(5400, 11, 1)\n"
          ],
          "name": "stdout"
        }
      ]
    },
    {
      "cell_type": "code",
      "metadata": {
        "id": "4AITk_hlqSuJ"
      },
      "source": [
        "#save line_label to google drive folder\n",
        "np.savez_compressed('/content/drive/My Drive/ML_Ultrasound_Project/UROPdata/labels/leftcolumn2_water', a=label_left)"
      ],
      "execution_count": null,
      "outputs": []
    },
    {
      "cell_type": "code",
      "metadata": {
        "id": "1_LaGljuqJO9"
      },
      "source": [
        "#left column labels 3\n",
        "\n",
        "label_left = []\n",
        "\n",
        "for j in range(380,529,6): #timestep range, each run gives the next line INCREMEMENTS OF 10!!\n",
        "  for i in range(270):  #create the location span of the lines\n",
        "    image = basedata[j]    #gets 1001x1001 image corresponding to timestep\n",
        "    roi = image[365-11:635+11, 290:324] #gets the cutting box for 372x502 (the inside 350x480 + width 11 border) DONT FORGET ITS [y:y+h, x:x+w]!!!\n",
        "    line_label = roi[280-i:281-i, 0:11] #gets the line in terms of i\n",
        "     #TRANSPOSE THE LINE!!!! FLIP IT USING ROT90\n",
        "    line_label_T = np.rot90(line_label, 3)\n",
        "    label_left.append(line_label_T)\n",
        "\n",
        "label_left = np.array(label_left)"
      ],
      "execution_count": null,
      "outputs": []
    },
    {
      "cell_type": "code",
      "metadata": {
        "colab": {
          "base_uri": "https://localhost:8080/"
        },
        "id": "wVFcsvWMqNKh",
        "outputId": "f317a5d8-0430-47cb-b301-88b06a601286"
      },
      "source": [
        "print(label_left.shape)"
      ],
      "execution_count": null,
      "outputs": [
        {
          "output_type": "stream",
          "text": [
            "(6750, 11, 1)\n"
          ],
          "name": "stdout"
        }
      ]
    },
    {
      "cell_type": "code",
      "metadata": {
        "id": "XKEmP2nHqTZ6"
      },
      "source": [
        " #save line_label to google drive folder\n",
        "np.savez_compressed('/content/drive/My Drive/ML_Ultrasound_Project/UROPdata/labels/leftcolumn3_water', a=label_left)"
      ],
      "execution_count": null,
      "outputs": []
    },
    {
      "cell_type": "code",
      "metadata": {
        "id": "ZrpeE03HH9Jj"
      },
      "source": [
        "#left column labels 4\n",
        "\n",
        "label_left = []\n",
        "\n",
        "for j in range(40,240,6): #timestep range, each run gives the next line INCREMEMENTS OF 10!!\n",
        "  for i in range(90):  #create the location span of the lines\n",
        "    image = basedata[j]    #gets 1001x1001 image corresponding to timestep\n",
        "    roi = image[455-11:545+11, 261:295] #gets the cutting box for 372x502 (the inside 350x480 + width 11 border) DONT FORGET ITS [y:y+h, x:x+w]!!!\n",
        "    line_label = roi[100-i:101-i, 0:11] #gets the line in terms of i\n",
        "     #TRANSPOSE THE LINE!!!! FLIP IT USING ROT90\n",
        "    line_label_T = np.rot90(line_label, 3)\n",
        "    label_left.append(line_label_T)\n",
        "\n",
        "label_left = np.array(label_left)"
      ],
      "execution_count": null,
      "outputs": []
    },
    {
      "cell_type": "code",
      "metadata": {
        "colab": {
          "base_uri": "https://localhost:8080/"
        },
        "id": "ENnpYBGWH9Jk",
        "outputId": "a0326778-de58-40ef-fa79-ce54c1980eee"
      },
      "source": [
        "print(label_left.shape)"
      ],
      "execution_count": null,
      "outputs": [
        {
          "output_type": "stream",
          "text": [
            "(3060, 11, 1)\n"
          ],
          "name": "stdout"
        }
      ]
    },
    {
      "cell_type": "code",
      "metadata": {
        "id": "Al0UoQ9cH9Jk"
      },
      "source": [
        " #save line_label to google drive folder\n",
        "np.savez_compressed('/content/drive/My Drive/ML_Ultrasound_Project/UROPdata/labels/leftcolumn4_water', a=label_left)"
      ],
      "execution_count": null,
      "outputs": []
    },
    {
      "cell_type": "code",
      "metadata": {
        "id": "fOFXGkE-H9Ri"
      },
      "source": [
        "#left column labels 5\n",
        "\n",
        "label_left = []\n",
        "\n",
        "for j in range(240,420,6): #timestep range, each run gives the next line INCREMEMENTS OF 10!!\n",
        "  for i in range(180):  #create the location span of the lines\n",
        "    image = basedata[j]    #gets 1001x1001 image corresponding to timestep\n",
        "    roi = image[410-11:590+11, 261:295] #gets the cutting box for 372x502 (the inside 350x480 + width 11 border) DONT FORGET ITS [y:y+h, x:x+w]!!!\n",
        "    line_label = roi[190-i:191-i, 0:11] #gets the line in terms of i\n",
        "     #TRANSPOSE THE LINE!!!! FLIP IT USING ROT90\n",
        "    line_label_T = np.rot90(line_label, 3)\n",
        "    label_left.append(line_label_T)\n",
        "\n",
        "label_left = np.array(label_left)"
      ],
      "execution_count": null,
      "outputs": []
    },
    {
      "cell_type": "code",
      "metadata": {
        "colab": {
          "base_uri": "https://localhost:8080/"
        },
        "id": "Kk0jBq9zH9Ri",
        "outputId": "4e0dc37d-1c62-4381-d0c1-fb6ba9c749b0"
      },
      "source": [
        "print(label_left.shape)"
      ],
      "execution_count": null,
      "outputs": [
        {
          "output_type": "stream",
          "text": [
            "(5400, 11, 1)\n"
          ],
          "name": "stdout"
        }
      ]
    },
    {
      "cell_type": "code",
      "metadata": {
        "id": "-97fbzmjH9Rj"
      },
      "source": [
        " #save line_label to google drive folder\n",
        "np.savez_compressed('/content/drive/My Drive/ML_Ultrasound_Project/UROPdata/labels/leftcolumn5_water', a=label_left)"
      ],
      "execution_count": null,
      "outputs": []
    },
    {
      "cell_type": "code",
      "metadata": {
        "id": "Ylo9HMroH9Ya"
      },
      "source": [
        "#left column labels 6\n",
        "\n",
        "label_left = []\n",
        "\n",
        "for j in range(420,529,6): #timestep range, each run gives the next line INCREMEMENTS OF 10!!\n",
        "  for i in range(270):  #create the location span of the lines\n",
        "    image = basedata[j]    #gets 1001x1001 image corresponding to timestep\n",
        "    roi = image[365-11:635+11, 261:295] #gets the cutting box for 372x502 (the inside 350x480 + width 11 border) DONT FORGET ITS [y:y+h, x:x+w]!!!\n",
        "    line_label = roi[280-i:281-i, 0:11] #gets the line in terms of i\n",
        "     #TRANSPOSE THE LINE!!!! FLIP IT USING ROT90\n",
        "    line_label_T = np.rot90(line_label, 3)\n",
        "    label_left.append(line_label_T)\n",
        "\n",
        "label_left = np.array(label_left)"
      ],
      "execution_count": null,
      "outputs": []
    },
    {
      "cell_type": "code",
      "metadata": {
        "colab": {
          "base_uri": "https://localhost:8080/"
        },
        "id": "sDr16QGXH9Yb",
        "outputId": "07485106-c990-4c4b-c6d9-75641afd8fde"
      },
      "source": [
        "print(label_left.shape)"
      ],
      "execution_count": null,
      "outputs": [
        {
          "output_type": "stream",
          "text": [
            "(5130, 11, 1)\n"
          ],
          "name": "stdout"
        }
      ]
    },
    {
      "cell_type": "code",
      "metadata": {
        "id": "RHtKgBQaH9Yb"
      },
      "source": [
        " #save line_label to google drive folder\n",
        "np.savez_compressed('/content/drive/My Drive/ML_Ultrasound_Project/UROPdata/labels/leftcolumn6_water', a=label_left)"
      ],
      "execution_count": null,
      "outputs": []
    },
    {
      "cell_type": "code",
      "metadata": {
        "id": "oc8tN5SKH9er"
      },
      "source": [
        "#left column labels 7\n",
        "\n",
        "label_left = []\n",
        "\n",
        "for j in range(260,340,6): #timestep range, each run gives the next line INCREMEMENTS OF 10!!\n",
        "  for i in range(90):  #create the location span of the lines\n",
        "    image = basedata[j]    #gets 1001x1001 image corresponding to timestep\n",
        "    roi = image[455-11:545+11, 227:261] #gets the cutting box for 372x502 (the inside 350x480 + width 11 border) DONT FORGET ITS [y:y+h, x:x+w]!!!\n",
        "    line_label = roi[100-i:101-i, 0:11] #gets the line in terms of i\n",
        "     #TRANSPOSE THE LINE!!!! FLIP IT USING ROT90\n",
        "    line_label_T = np.rot90(line_label, 3)\n",
        "    label_left.append(line_label_T)\n",
        "\n",
        "label_left = np.array(label_left)"
      ],
      "execution_count": null,
      "outputs": []
    },
    {
      "cell_type": "code",
      "metadata": {
        "colab": {
          "base_uri": "https://localhost:8080/"
        },
        "id": "fcgwqtjkH9er",
        "outputId": "4175ed66-ef96-460b-eb1e-96a42b6d32b8"
      },
      "source": [
        "print(label_left.shape)"
      ],
      "execution_count": null,
      "outputs": [
        {
          "output_type": "stream",
          "text": [
            "(1260, 11, 1)\n"
          ],
          "name": "stdout"
        }
      ]
    },
    {
      "cell_type": "code",
      "metadata": {
        "id": "uZ1s7bK6H9er"
      },
      "source": [
        " #save line_label to google drive folder\n",
        "np.savez_compressed('/content/drive/My Drive/ML_Ultrasound_Project/UROPdata/labels/leftcolumn7_water', a=label_left)"
      ],
      "execution_count": null,
      "outputs": []
    },
    {
      "cell_type": "code",
      "metadata": {
        "id": "C0h-jzFmH9lm"
      },
      "source": [
        "#left column labels 8\n",
        "\n",
        "label_left = []\n",
        "\n",
        "for j in range(340,470,6): #timestep range, each run gives the next line INCREMEMENTS OF 10!!\n",
        "  for i in range(180):  #create the location span of the lines\n",
        "    image = basedata[j]    #gets 1001x1001 image corresponding to timestep\n",
        "    roi = image[410-11:590+11, 227:261] #gets the cutting box for 372x502 (the inside 350x480 + width 11 border) DONT FORGET ITS [y:y+h, x:x+w]!!!\n",
        "    line_label = roi[190-i:191-i, 0:11] #gets the line in terms of i\n",
        "     #TRANSPOSE THE LINE!!!! FLIP IT USING ROT90\n",
        "    line_label_T = np.rot90(line_label, 3)\n",
        "    label_left.append(line_label_T)\n",
        "\n",
        "label_left = np.array(label_left)"
      ],
      "execution_count": null,
      "outputs": []
    },
    {
      "cell_type": "code",
      "metadata": {
        "colab": {
          "base_uri": "https://localhost:8080/"
        },
        "id": "FTe79XlmH9lm",
        "outputId": "c4e1a3da-e61d-4750-cd8b-d91c0372576d"
      },
      "source": [
        "print(label_left.shape)"
      ],
      "execution_count": null,
      "outputs": [
        {
          "output_type": "stream",
          "text": [
            "(3960, 11, 1)\n"
          ],
          "name": "stdout"
        }
      ]
    },
    {
      "cell_type": "code",
      "metadata": {
        "id": "ezWFqMS7H9lm"
      },
      "source": [
        " #save line_label to google drive folder\n",
        "np.savez_compressed('/content/drive/My Drive/ML_Ultrasound_Project/UROPdata/labels/leftcolumn8_water', a=label_left)"
      ],
      "execution_count": null,
      "outputs": []
    },
    {
      "cell_type": "code",
      "metadata": {
        "id": "Py3aNWDvH9s2"
      },
      "source": [
        "#left column labels 9\n",
        "\n",
        "label_left = []\n",
        "\n",
        "for j in range(470,529,6): #timestep range, each run gives the next line INCREMEMENTS OF 10!!\n",
        "  for i in range(270):  #create the location span of the lines\n",
        "    image = basedata[j]    #gets 1001x1001 image corresponding to timestep\n",
        "    roi = image[365-11:635+11, 227:261] #gets the cutting box for 372x502 (the inside 350x480 + width 11 border) DONT FORGET ITS [y:y+h, x:x+w]!!!\n",
        "    line_label = roi[280-i:281-i, 0:11] #gets the line in terms of i\n",
        "     #TRANSPOSE THE LINE!!!! FLIP IT USING ROT90\n",
        "    line_label_T = np.rot90(line_label, 3)\n",
        "    label_left.append(line_label_T)\n",
        "\n",
        "label_left = np.array(label_left)"
      ],
      "execution_count": null,
      "outputs": []
    },
    {
      "cell_type": "code",
      "metadata": {
        "colab": {
          "base_uri": "https://localhost:8080/"
        },
        "id": "rmHnt-YgH9s2",
        "outputId": "5f04c581-486a-470f-aec8-0c8600824729"
      },
      "source": [
        "print(label_left.shape)"
      ],
      "execution_count": null,
      "outputs": [
        {
          "output_type": "stream",
          "text": [
            "(2700, 11, 1)\n"
          ],
          "name": "stdout"
        }
      ]
    },
    {
      "cell_type": "code",
      "metadata": {
        "id": "V4n6cLTaH9s2"
      },
      "source": [
        " #save line_label to google drive folder\n",
        "np.savez_compressed('/content/drive/My Drive/ML_Ultrasound_Project/UROPdata/labels/leftcolumn9_water', a=label_left)"
      ],
      "execution_count": null,
      "outputs": []
    },
    {
      "cell_type": "code",
      "metadata": {
        "id": "-w2xBGvWH9zt"
      },
      "source": [
        "#left column labels 10\n",
        "\n",
        "label_left = []\n",
        "\n",
        "for j in range(400,450,6): #timestep range, each run gives the next line INCREMEMENTS OF 10!!\n",
        "  for i in range(90):  #create the location span of the lines\n",
        "    image = basedata[j]    #gets 1001x1001 image corresponding to timestep\n",
        "    roi = image[455-11:545+11, 193:227] #gets the cutting box for 372x502 (the inside 350x480 + width 11 border) DONT FORGET ITS [y:y+h, x:x+w]!!!\n",
        "    line_label = roi[100-i:101-i, 0:11] #gets the line in terms of i\n",
        "     #TRANSPOSE THE LINE!!!! FLIP IT USING ROT90\n",
        "    line_label_T = np.rot90(line_label, 3)\n",
        "    label_left.append(line_label_T)\n",
        "\n",
        "label_left = np.array(label_left)"
      ],
      "execution_count": null,
      "outputs": []
    },
    {
      "cell_type": "code",
      "metadata": {
        "colab": {
          "base_uri": "https://localhost:8080/"
        },
        "id": "ZcfRO5WtH9zu",
        "outputId": "fda438ad-5a9b-4712-c543-72f9e67e0e82"
      },
      "source": [
        "print(label_left.shape)"
      ],
      "execution_count": null,
      "outputs": [
        {
          "output_type": "stream",
          "text": [
            "(810, 11, 1)\n"
          ],
          "name": "stdout"
        }
      ]
    },
    {
      "cell_type": "code",
      "metadata": {
        "id": "--HHn-SHH9zu"
      },
      "source": [
        " #save line_label to google drive folder\n",
        "np.savez_compressed('/content/drive/My Drive/ML_Ultrasound_Project/UROPdata/labels/leftcolumn10_water', a=label_left)"
      ],
      "execution_count": null,
      "outputs": []
    },
    {
      "cell_type": "code",
      "metadata": {
        "id": "gfi-bJykH97C"
      },
      "source": [
        "#left column labels 11\n",
        "\n",
        "label_left = []\n",
        "\n",
        "for j in range(450,529,6): #timestep range, each run gives the next line INCREMEMENTS OF 10!!\n",
        "  for i in range(180):  #create the location span of the lines\n",
        "    image = basedata[j]    #gets 1001x1001 image corresponding to timestep\n",
        "    roi = image[410-11:590+11, 193:227] #gets the cutting box for 372x502 (the inside 350x480 + width 11 border) DONT FORGET ITS [y:y+h, x:x+w]!!!\n",
        "    line_label = roi[190-i:191-i, 0:11] #gets the line in terms of i\n",
        "     #TRANSPOSE THE LINE!!!! FLIP IT USING ROT90\n",
        "    line_label_T = np.rot90(line_label, 3)\n",
        "    label_left.append(line_label_T)\n",
        "\n",
        "label_left = np.array(label_left)"
      ],
      "execution_count": null,
      "outputs": []
    },
    {
      "cell_type": "code",
      "metadata": {
        "colab": {
          "base_uri": "https://localhost:8080/"
        },
        "id": "mx5NfboSH97C",
        "outputId": "da8ab893-a60b-4292-bb1e-dd98960d1eaf"
      },
      "source": [
        "print(label_left.shape)"
      ],
      "execution_count": null,
      "outputs": [
        {
          "output_type": "stream",
          "text": [
            "(2520, 11, 1)\n"
          ],
          "name": "stdout"
        }
      ]
    },
    {
      "cell_type": "code",
      "metadata": {
        "id": "UAoLgtZhH97D"
      },
      "source": [
        " #save line_label to google drive folder\n",
        "np.savez_compressed('/content/drive/My Drive/ML_Ultrasound_Project/UROPdata/labels/leftcolumn11_water', a=label_left)"
      ],
      "execution_count": null,
      "outputs": []
    },
    {
      "cell_type": "code",
      "metadata": {
        "id": "_Obje9OHyvMB"
      },
      "source": [
        "#left column labels 12\n",
        "\n",
        "label_left = []\n",
        "\n",
        "for j in range(0,350,6): #timestep range, each run gives the next line INCREMEMENTS OF 10!!\n",
        "  for i in range(150):  #create the location span of the lines\n",
        "    image = basedata[j]    #gets 1001x1001 image corresponding to timestep\n",
        "    roi = image[425-11:575+11, 285:319] #gets the cutting box for 372x502 (the inside 350x480 + width 11 border) DONT FORGET ITS [y:y+h, x:x+w]!!!\n",
        "    line_label = roi[160-i:161-i, 0:11] #gets the line in terms of i\n",
        "     #TRANSPOSE THE LINE!!!! FLIP IT USING ROT90\n",
        "    line_label_T = np.rot90(line_label, 3)\n",
        "    label_left.append(line_label_T)\n",
        "\n",
        "label_left = np.array(label_left)"
      ],
      "execution_count": null,
      "outputs": []
    },
    {
      "cell_type": "code",
      "metadata": {
        "colab": {
          "base_uri": "https://localhost:8080/"
        },
        "id": "7oDqYHmkywgu",
        "outputId": "dced5eb7-5ee4-4b89-f331-d95dd5f05661"
      },
      "source": [
        "print(label_left.shape)"
      ],
      "execution_count": null,
      "outputs": [
        {
          "output_type": "stream",
          "text": [
            "(8850, 11, 1)\n"
          ],
          "name": "stdout"
        }
      ]
    },
    {
      "cell_type": "code",
      "metadata": {
        "id": "WJpgoYiuyxsO"
      },
      "source": [
        " #save line_label to google drive folder\n",
        "np.savez_compressed('/content/drive/My Drive/ML_Ultrasound_Project/UROPdata/labels/leftcolumn12_water', a=label_left)"
      ],
      "execution_count": null,
      "outputs": []
    },
    {
      "cell_type": "code",
      "metadata": {
        "id": "sK2fzbZgupyl"
      },
      "source": [
        "#left column labels 13\n",
        "\n",
        "label_left = []\n",
        "for j in range(15,200,6): #timestep range, each run gives the next line INCREMEMENTS OF 10!!\n",
        "  for i in range(90):  #create the location span of the lines\n",
        "    image = basedata[j]    #gets 1001x1001 image corresponding to timestep\n",
        "    roi = image[455-11:545+11, 278:312] #gets the cutting box for 372x502 (the inside 350x480 + width 11 border) DONT FORGET ITS [y:y+h, x:x+w]!!!\n",
        "    line_label = roi[90+10-i:90+11-i, 0:11] #gets the line in terms of i\n",
        "     #TRANSPOSE THE LINE!!!! FLIP IT USING ROT90\n",
        "    line_label_T = np.rot90(line_label, 3)\n",
        "    label_left.append(line_label_T)\n",
        "\n",
        "label_left = np.array(label_left)"
      ],
      "execution_count": null,
      "outputs": []
    },
    {
      "cell_type": "code",
      "metadata": {
        "colab": {
          "base_uri": "https://localhost:8080/"
        },
        "id": "3D3KF07fupyo",
        "outputId": "27149d62-2efb-4f22-f9b7-1455e10d6d66"
      },
      "source": [
        "print(label_left.shape)"
      ],
      "execution_count": null,
      "outputs": [
        {
          "output_type": "stream",
          "text": [
            "(2790, 11, 1)\n"
          ],
          "name": "stdout"
        }
      ]
    },
    {
      "cell_type": "code",
      "metadata": {
        "id": "JyZahCbTupyo"
      },
      "source": [
        "#save line_label to google drive folder\n",
        "np.savez_compressed('/content/drive/My Drive/ML_Ultrasound_Project/UROPdata/labels/leftcolumn13_water', a=label_left)"
      ],
      "execution_count": null,
      "outputs": []
    },
    {
      "cell_type": "code",
      "metadata": {
        "id": "PfCImoWgupyp"
      },
      "source": [
        "#left column labels 14\n",
        "\n",
        "label_left = []\n",
        "for j in range(200,380,6): #timestep range, each run gives the next line INCREMEMENTS OF 10!!\n",
        "  for i in range(180):  #create the location span of the lines\n",
        "    image = basedata[j]    #gets 1001x1001 image corresponding to timestep\n",
        "    roi = image[410-11:590+11, 278:312] #gets the cutting box for 372x502 (the inside 350x480 + width 11 border) DONT FORGET ITS [y:y+h, x:x+w]!!!\n",
        "    line_label = roi[190-i:191-i, 0:11] #gets the line in terms of i\n",
        "     #TRANSPOSE THE LINE!!!! FLIP IT USING ROT90\n",
        "    line_label_T = np.rot90(line_label, 3)\n",
        "    label_left.append(line_label_T)\n",
        "\n",
        "label_left = np.array(label_left)"
      ],
      "execution_count": null,
      "outputs": []
    },
    {
      "cell_type": "code",
      "metadata": {
        "colab": {
          "base_uri": "https://localhost:8080/"
        },
        "id": "lSEF9AdPupyp",
        "outputId": "6d6222a7-0a1e-4b41-a1c1-ed6efb868cc8"
      },
      "source": [
        "print(label_left.shape)"
      ],
      "execution_count": null,
      "outputs": [
        {
          "output_type": "stream",
          "text": [
            "(5400, 11, 1)\n"
          ],
          "name": "stdout"
        }
      ]
    },
    {
      "cell_type": "code",
      "metadata": {
        "id": "0uaqpYbWupyp"
      },
      "source": [
        "#save line_label to google drive folder\n",
        "np.savez_compressed('/content/drive/My Drive/ML_Ultrasound_Project/UROPdata/labels/leftcolumn14_water', a=label_left)"
      ],
      "execution_count": null,
      "outputs": []
    },
    {
      "cell_type": "code",
      "metadata": {
        "id": "sLPiFdjaupyp"
      },
      "source": [
        "#left column labels 15\n",
        "\n",
        "label_left = []\n",
        "\n",
        "for j in range(380,529,6): #timestep range, each run gives the next line INCREMEMENTS OF 10!!\n",
        "  for i in range(270):  #create the location span of the lines\n",
        "    image = basedata[j]    #gets 1001x1001 image corresponding to timestep\n",
        "    roi = image[365-11:635+11, 278:312] #gets the cutting box for 372x502 (the inside 350x480 + width 11 border) DONT FORGET ITS [y:y+h, x:x+w]!!!\n",
        "    line_label = roi[280-i:281-i, 0:11] #gets the line in terms of i\n",
        "     #TRANSPOSE THE LINE!!!! FLIP IT USING ROT90\n",
        "    line_label_T = np.rot90(line_label, 3)\n",
        "    label_left.append(line_label_T)\n",
        "\n",
        "label_left = np.array(label_left)"
      ],
      "execution_count": null,
      "outputs": []
    },
    {
      "cell_type": "code",
      "metadata": {
        "colab": {
          "base_uri": "https://localhost:8080/"
        },
        "id": "sGu-dM__upyp",
        "outputId": "31a6805d-6608-4fdd-dbb0-fb0b29345f4b"
      },
      "source": [
        "print(label_left.shape)"
      ],
      "execution_count": null,
      "outputs": [
        {
          "output_type": "stream",
          "text": [
            "(6750, 11, 1)\n"
          ],
          "name": "stdout"
        }
      ]
    },
    {
      "cell_type": "code",
      "metadata": {
        "id": "IUMTLQLRupyq"
      },
      "source": [
        " #save line_label to google drive folder\n",
        "np.savez_compressed('/content/drive/My Drive/ML_Ultrasound_Project/UROPdata/labels/leftcolumn15_water', a=label_left)"
      ],
      "execution_count": null,
      "outputs": []
    },
    {
      "cell_type": "markdown",
      "metadata": {
        "id": "v_ZjhAkV2wbi"
      },
      "source": [
        "# Full"
      ]
    },
    {
      "cell_type": "code",
      "metadata": {
        "id": "OUejYkqg2wbj"
      },
      "source": [
        "#load data file from 'solve acoustic'\n",
        "data = np.load('/content/drive/My Drive/ML_Ultrasound_Project/UROPdata/basedata.npz')\n",
        "basedata = data['a'] #save 'a' as 'basedata'"
      ],
      "execution_count": null,
      "outputs": []
    },
    {
      "cell_type": "code",
      "metadata": {
        "colab": {
          "base_uri": "https://localhost:8080/"
        },
        "id": "nxEgOHAS6zGM",
        "outputId": "6f277819-b26c-4ed5-8708-df8a16277bcb"
      },
      "source": [
        "final_max, final_min = np.max(basedata), np.min(basedata)\n",
        "print(final_max, final_min)\n",
        "print(basedata[0].shape)\n",
        "\n",
        "# basedata = (basedata - final_min) / (final_max - final_min) *2-1\n",
        "\n",
        "basedata = basedata/np.max(np.abs(basedata))\n",
        "\n",
        "print(np.max(basedata), np.min(basedata))"
      ],
      "execution_count": null,
      "outputs": [
        {
          "output_type": "stream",
          "text": [
            "8.9908006e-08 -7.546365e-08\n",
            "(1001, 1001)\n",
            "1.0 -0.83934295\n"
          ],
          "name": "stdout"
        }
      ]
    },
    {
      "cell_type": "markdown",
      "metadata": {
        "id": "LvPZofP42wbl"
      },
      "source": [
        "**Left Column**"
      ]
    },
    {
      "cell_type": "code",
      "metadata": {
        "id": "T3cETfzq2wbm"
      },
      "source": [
        "#left column labels\n",
        "\n",
        "label_left = []\n",
        "for j in range(5,200,6): #timestep range, each run gives the next line INCREMEMENTS OF 10!!\n",
        "  for i in range(90):  #create the location span of the lines\n",
        "    image = basedata[j]    #gets 1001x1001 image corresponding to timestep\n",
        "    roi = image[455-11:545+11, 290:324] #gets the cutting box for 372x502 (the inside 350x480 + width 11 border) DONT FORGET ITS [y:y+h, x:x+w]!!!\n",
        "    line_label = roi[90+10-i:90+11-i, 0:11] #gets the line in terms of i\n",
        "     #TRANSPOSE THE LINE!!!! FLIP IT USING ROT90\n",
        "    line_label_T = np.rot90(line_label, 3)\n",
        "    label_left.append(line_label_T)\n",
        "\n",
        "label_left = np.array(label_left)"
      ],
      "execution_count": null,
      "outputs": []
    },
    {
      "cell_type": "code",
      "metadata": {
        "colab": {
          "base_uri": "https://localhost:8080/"
        },
        "id": "cs-kjiDB2wbn",
        "outputId": "c84e4c5a-e4d3-4535-9165-f7a7750632f4"
      },
      "source": [
        "print(label_left.shape)"
      ],
      "execution_count": null,
      "outputs": [
        {
          "output_type": "stream",
          "text": [
            "(2970, 11, 1)\n"
          ],
          "name": "stdout"
        }
      ]
    },
    {
      "cell_type": "code",
      "metadata": {
        "id": "fymipDze2wbq"
      },
      "source": [
        "#save line_label to google drive folder\n",
        "np.savez_compressed('/content/drive/My Drive/ML_Ultrasound_Project/UROPdata/labels/leftcolumn', a=label_left)"
      ],
      "execution_count": null,
      "outputs": []
    },
    {
      "cell_type": "code",
      "metadata": {
        "id": "hlmufMQD2wbr"
      },
      "source": [
        "#left column labels 2\n",
        "\n",
        "label_left = []\n",
        "for j in range(200,380,6): #timestep range, each run gives the next line INCREMEMENTS OF 10!!\n",
        "  for i in range(180):  #create the location span of the lines\n",
        "    image = basedata[j]    #gets 1001x1001 image corresponding to timestep\n",
        "    roi = image[410-11:590+11, 290:324] #gets the cutting box for 372x502 (the inside 350x480 + width 11 border) DONT FORGET ITS [y:y+h, x:x+w]!!!\n",
        "    line_label = roi[190-i:191-i, 0:11] #gets the line in terms of i\n",
        "     #TRANSPOSE THE LINE!!!! FLIP IT USING ROT90\n",
        "    line_label_T = np.rot90(line_label, 3)\n",
        "    label_left.append(line_label_T)\n",
        "\n",
        "label_left = np.array(label_left)"
      ],
      "execution_count": null,
      "outputs": []
    },
    {
      "cell_type": "code",
      "metadata": {
        "colab": {
          "base_uri": "https://localhost:8080/"
        },
        "id": "xOxOWFHh2wbs",
        "outputId": "29f1cff2-4cdb-4b2c-bbe2-91fa03337a7d"
      },
      "source": [
        "print(label_left.shape)"
      ],
      "execution_count": null,
      "outputs": [
        {
          "output_type": "stream",
          "text": [
            "(5400, 11, 1)\n"
          ],
          "name": "stdout"
        }
      ]
    },
    {
      "cell_type": "code",
      "metadata": {
        "id": "cRc3uxor2wbt"
      },
      "source": [
        "#save line_label to google drive folder\n",
        "np.savez_compressed('/content/drive/My Drive/ML_Ultrasound_Project/UROPdata/labels/leftcolumn2', a=label_left)"
      ],
      "execution_count": null,
      "outputs": []
    },
    {
      "cell_type": "code",
      "metadata": {
        "id": "ARVTYVWY2wbu"
      },
      "source": [
        "#left column labels 3\n",
        "\n",
        "label_left = []\n",
        "\n",
        "for j in range(380,529,6): #timestep range, each run gives the next line INCREMEMENTS OF 10!!\n",
        "  for i in range(270):  #create the location span of the lines\n",
        "    image = basedata[j]    #gets 1001x1001 image corresponding to timestep\n",
        "    roi = image[365-11:635+11, 290:324] #gets the cutting box for 372x502 (the inside 350x480 + width 11 border) DONT FORGET ITS [y:y+h, x:x+w]!!!\n",
        "    line_label = roi[280-i:281-i, 0:11] #gets the line in terms of i\n",
        "     #TRANSPOSE THE LINE!!!! FLIP IT USING ROT90\n",
        "    line_label_T = np.rot90(line_label, 3)\n",
        "    label_left.append(line_label_T)\n",
        "\n",
        "label_left = np.array(label_left)"
      ],
      "execution_count": null,
      "outputs": []
    },
    {
      "cell_type": "code",
      "metadata": {
        "colab": {
          "base_uri": "https://localhost:8080/"
        },
        "id": "CLnGOFwv2wbu",
        "outputId": "ae5b4df6-9a99-4b19-cf47-c29c9dbc1a49"
      },
      "source": [
        "print(label_left.shape)"
      ],
      "execution_count": null,
      "outputs": [
        {
          "output_type": "stream",
          "text": [
            "(6750, 11, 1)\n"
          ],
          "name": "stdout"
        }
      ]
    },
    {
      "cell_type": "code",
      "metadata": {
        "id": "P17fyaP42wbv"
      },
      "source": [
        " #save line_label to google drive folder\n",
        "np.savez_compressed('/content/drive/My Drive/ML_Ultrasound_Project/UROPdata/labels/leftcolumn3', a=label_left)"
      ],
      "execution_count": null,
      "outputs": []
    },
    {
      "cell_type": "code",
      "metadata": {
        "id": "J_QvwAjR2wbw"
      },
      "source": [
        "#left column labels 4\n",
        "\n",
        "label_left = []\n",
        "\n",
        "for j in range(40,240,6): #timestep range, each run gives the next line INCREMEMENTS OF 10!!\n",
        "  for i in range(90):  #create the location span of the lines\n",
        "    image = basedata[j]    #gets 1001x1001 image corresponding to timestep\n",
        "    roi = image[455-11:545+11, 261:295] #gets the cutting box for 372x502 (the inside 350x480 + width 11 border) DONT FORGET ITS [y:y+h, x:x+w]!!!\n",
        "    line_label = roi[100-i:101-i, 0:11] #gets the line in terms of i\n",
        "     #TRANSPOSE THE LINE!!!! FLIP IT USING ROT90\n",
        "    line_label_T = np.rot90(line_label, 3)\n",
        "    label_left.append(line_label_T)\n",
        "\n",
        "label_left = np.array(label_left)"
      ],
      "execution_count": null,
      "outputs": []
    },
    {
      "cell_type": "code",
      "metadata": {
        "colab": {
          "base_uri": "https://localhost:8080/"
        },
        "id": "p8PRx92k2wbx",
        "outputId": "cbb05c64-0757-44ee-b8a3-d4eeb01fe767"
      },
      "source": [
        "print(label_left.shape)"
      ],
      "execution_count": null,
      "outputs": [
        {
          "output_type": "stream",
          "text": [
            "(3060, 11, 1)\n"
          ],
          "name": "stdout"
        }
      ]
    },
    {
      "cell_type": "code",
      "metadata": {
        "id": "-yQ2sTI32wby"
      },
      "source": [
        " #save line_label to google drive folder\n",
        "np.savez_compressed('/content/drive/My Drive/ML_Ultrasound_Project/UROPdata/labels/leftcolumn4', a=label_left)"
      ],
      "execution_count": null,
      "outputs": []
    },
    {
      "cell_type": "code",
      "metadata": {
        "id": "TnC1XDlg2wbz"
      },
      "source": [
        "#left column labels 5\n",
        "\n",
        "label_left = []\n",
        "\n",
        "for j in range(240,420,6): #timestep range, each run gives the next line INCREMEMENTS OF 10!!\n",
        "  for i in range(180):  #create the location span of the lines\n",
        "    image = basedata[j]    #gets 1001x1001 image corresponding to timestep\n",
        "    roi = image[410-11:590+11, 261:295] #gets the cutting box for 372x502 (the inside 350x480 + width 11 border) DONT FORGET ITS [y:y+h, x:x+w]!!!\n",
        "    line_label = roi[190-i:191-i, 0:11] #gets the line in terms of i\n",
        "     #TRANSPOSE THE LINE!!!! FLIP IT USING ROT90\n",
        "    line_label_T = np.rot90(line_label, 3)\n",
        "    label_left.append(line_label_T)\n",
        "\n",
        "label_left = np.array(label_left)"
      ],
      "execution_count": null,
      "outputs": []
    },
    {
      "cell_type": "code",
      "metadata": {
        "colab": {
          "base_uri": "https://localhost:8080/"
        },
        "id": "L9aD5Vpn2wbz",
        "outputId": "bddb8d13-3f7d-4c65-e953-f1631c68cf8a"
      },
      "source": [
        "print(label_left.shape)"
      ],
      "execution_count": null,
      "outputs": [
        {
          "output_type": "stream",
          "text": [
            "(5400, 11, 1)\n"
          ],
          "name": "stdout"
        }
      ]
    },
    {
      "cell_type": "code",
      "metadata": {
        "id": "QwyMQOoV2wb0"
      },
      "source": [
        " #save line_label to google drive folder\n",
        "np.savez_compressed('/content/drive/My Drive/ML_Ultrasound_Project/UROPdata/labels/leftcolumn5', a=label_left)"
      ],
      "execution_count": null,
      "outputs": []
    },
    {
      "cell_type": "code",
      "metadata": {
        "id": "6YhXN_yV2wb1"
      },
      "source": [
        "#left column labels 6\n",
        "\n",
        "label_left = []\n",
        "\n",
        "for j in range(420,529,6): #timestep range, each run gives the next line INCREMEMENTS OF 10!!\n",
        "  for i in range(270):  #create the location span of the lines\n",
        "    image = basedata[j]    #gets 1001x1001 image corresponding to timestep\n",
        "    roi = image[365-11:635+11, 261:295] #gets the cutting box for 372x502 (the inside 350x480 + width 11 border) DONT FORGET ITS [y:y+h, x:x+w]!!!\n",
        "    line_label = roi[280-i:281-i, 0:11] #gets the line in terms of i\n",
        "     #TRANSPOSE THE LINE!!!! FLIP IT USING ROT90\n",
        "    line_label_T = np.rot90(line_label, 3)\n",
        "    label_left.append(line_label_T)\n",
        "\n",
        "label_left = np.array(label_left)"
      ],
      "execution_count": null,
      "outputs": []
    },
    {
      "cell_type": "code",
      "metadata": {
        "colab": {
          "base_uri": "https://localhost:8080/"
        },
        "id": "25EnjB9B2wb2",
        "outputId": "2ab437c5-b4f5-4821-8cc9-d5c4d0831e51"
      },
      "source": [
        "print(label_left.shape)"
      ],
      "execution_count": null,
      "outputs": [
        {
          "output_type": "stream",
          "text": [
            "(5130, 11, 1)\n"
          ],
          "name": "stdout"
        }
      ]
    },
    {
      "cell_type": "code",
      "metadata": {
        "id": "DIFDM5mb2wb4"
      },
      "source": [
        " #save line_label to google drive folder\n",
        "np.savez_compressed('/content/drive/My Drive/ML_Ultrasound_Project/UROPdata/labels/leftcolumn6', a=label_left)"
      ],
      "execution_count": null,
      "outputs": []
    },
    {
      "cell_type": "code",
      "metadata": {
        "id": "K0D1ou_B2wb4"
      },
      "source": [
        "#left column labels 7\n",
        "\n",
        "label_left = []\n",
        "\n",
        "for j in range(260,340,6): #timestep range, each run gives the next line INCREMEMENTS OF 10!!\n",
        "  for i in range(90):  #create the location span of the lines\n",
        "    image = basedata[j]    #gets 1001x1001 image corresponding to timestep\n",
        "    roi = image[455-11:545+11, 227:261] #gets the cutting box for 372x502 (the inside 350x480 + width 11 border) DONT FORGET ITS [y:y+h, x:x+w]!!!\n",
        "    line_label = roi[100-i:101-i, 0:11] #gets the line in terms of i\n",
        "     #TRANSPOSE THE LINE!!!! FLIP IT USING ROT90\n",
        "    line_label_T = np.rot90(line_label, 3)\n",
        "    label_left.append(line_label_T)\n",
        "\n",
        "label_left = np.array(label_left)"
      ],
      "execution_count": null,
      "outputs": []
    },
    {
      "cell_type": "code",
      "metadata": {
        "colab": {
          "base_uri": "https://localhost:8080/"
        },
        "id": "ItyCqsEw2wb5",
        "outputId": "126dfc6f-08db-4ea7-c8bf-5483b4b04531"
      },
      "source": [
        "print(label_left.shape)"
      ],
      "execution_count": null,
      "outputs": [
        {
          "output_type": "stream",
          "text": [
            "(1260, 11, 1)\n"
          ],
          "name": "stdout"
        }
      ]
    },
    {
      "cell_type": "code",
      "metadata": {
        "id": "EIb9JmfK2wb5"
      },
      "source": [
        " #save line_label to google drive folder\n",
        "np.savez_compressed('/content/drive/My Drive/ML_Ultrasound_Project/UROPdata/labels/leftcolumn7', a=label_left)"
      ],
      "execution_count": null,
      "outputs": []
    },
    {
      "cell_type": "code",
      "metadata": {
        "id": "bAqrWhyU2wb6"
      },
      "source": [
        "#left column labels 8\n",
        "\n",
        "label_left = []\n",
        "\n",
        "for j in range(340,470,6): #timestep range, each run gives the next line INCREMEMENTS OF 10!!\n",
        "  for i in range(180):  #create the location span of the lines\n",
        "    image = basedata[j]    #gets 1001x1001 image corresponding to timestep\n",
        "    roi = image[410-11:590+11, 227:261] #gets the cutting box for 372x502 (the inside 350x480 + width 11 border) DONT FORGET ITS [y:y+h, x:x+w]!!!\n",
        "    line_label = roi[190-i:191-i, 0:11] #gets the line in terms of i\n",
        "     #TRANSPOSE THE LINE!!!! FLIP IT USING ROT90\n",
        "    line_label_T = np.rot90(line_label, 3)\n",
        "    label_left.append(line_label_T)\n",
        "\n",
        "label_left = np.array(label_left)"
      ],
      "execution_count": null,
      "outputs": []
    },
    {
      "cell_type": "code",
      "metadata": {
        "colab": {
          "base_uri": "https://localhost:8080/"
        },
        "id": "_bCazHb42wb6",
        "outputId": "c04b6ba1-a228-4eb7-87f9-b5dd918990a6"
      },
      "source": [
        "print(label_left.shape)"
      ],
      "execution_count": null,
      "outputs": [
        {
          "output_type": "stream",
          "text": [
            "(3960, 11, 1)\n"
          ],
          "name": "stdout"
        }
      ]
    },
    {
      "cell_type": "code",
      "metadata": {
        "id": "07aYy8xC2wb7"
      },
      "source": [
        " #save line_label to google drive folder\n",
        "np.savez_compressed('/content/drive/My Drive/ML_Ultrasound_Project/UROPdata/labels/leftcolumn8', a=label_left)"
      ],
      "execution_count": null,
      "outputs": []
    },
    {
      "cell_type": "code",
      "metadata": {
        "id": "b5T-fHpo2wb7"
      },
      "source": [
        "#left column labels 9\n",
        "\n",
        "label_left = []\n",
        "\n",
        "for j in range(470,529,6): #timestep range, each run gives the next line INCREMEMENTS OF 10!!\n",
        "  for i in range(270):  #create the location span of the lines\n",
        "    image = basedata[j]    #gets 1001x1001 image corresponding to timestep\n",
        "    roi = image[365-11:635+11, 227:261] #gets the cutting box for 372x502 (the inside 350x480 + width 11 border) DONT FORGET ITS [y:y+h, x:x+w]!!!\n",
        "    line_label = roi[280-i:281-i, 0:11] #gets the line in terms of i\n",
        "     #TRANSPOSE THE LINE!!!! FLIP IT USING ROT90\n",
        "    line_label_T = np.rot90(line_label, 3)\n",
        "    label_left.append(line_label_T)\n",
        "\n",
        "label_left = np.array(label_left)"
      ],
      "execution_count": null,
      "outputs": []
    },
    {
      "cell_type": "code",
      "metadata": {
        "colab": {
          "base_uri": "https://localhost:8080/"
        },
        "id": "74-gSxot2wb8",
        "outputId": "b1a0ca94-d36c-4edf-b44f-f6216cb10e49"
      },
      "source": [
        "print(label_left.shape)"
      ],
      "execution_count": null,
      "outputs": [
        {
          "output_type": "stream",
          "text": [
            "(2700, 11, 1)\n"
          ],
          "name": "stdout"
        }
      ]
    },
    {
      "cell_type": "code",
      "metadata": {
        "id": "bhoornyF2wb8"
      },
      "source": [
        " #save line_label to google drive folder\n",
        "np.savez_compressed('/content/drive/My Drive/ML_Ultrasound_Project/UROPdata/labels/leftcolumn9', a=label_left)"
      ],
      "execution_count": null,
      "outputs": []
    },
    {
      "cell_type": "code",
      "metadata": {
        "id": "2inrEYEI2wb9"
      },
      "source": [
        "#left column labels 10\n",
        "\n",
        "label_left = []\n",
        "\n",
        "for j in range(400,450,6): #timestep range, each run gives the next line INCREMEMENTS OF 10!!\n",
        "  for i in range(90):  #create the location span of the lines\n",
        "    image = basedata[j]    #gets 1001x1001 image corresponding to timestep\n",
        "    roi = image[455-11:545+11, 193:227] #gets the cutting box for 372x502 (the inside 350x480 + width 11 border) DONT FORGET ITS [y:y+h, x:x+w]!!!\n",
        "    line_label = roi[100-i:101-i, 0:11] #gets the line in terms of i\n",
        "     #TRANSPOSE THE LINE!!!! FLIP IT USING ROT90\n",
        "    line_label_T = np.rot90(line_label, 3)\n",
        "    label_left.append(line_label_T)\n",
        "\n",
        "label_left = np.array(label_left)"
      ],
      "execution_count": null,
      "outputs": []
    },
    {
      "cell_type": "code",
      "metadata": {
        "colab": {
          "base_uri": "https://localhost:8080/"
        },
        "id": "Bay7jKJ82wb9",
        "outputId": "c71b4777-e8ee-43a3-da48-bda2640a9a26"
      },
      "source": [
        "print(label_left.shape)"
      ],
      "execution_count": null,
      "outputs": [
        {
          "output_type": "stream",
          "text": [
            "(810, 11, 1)\n"
          ],
          "name": "stdout"
        }
      ]
    },
    {
      "cell_type": "code",
      "metadata": {
        "id": "GHB6bNYA2wb9"
      },
      "source": [
        " #save line_label to google drive folder\n",
        "np.savez_compressed('/content/drive/My Drive/ML_Ultrasound_Project/UROPdata/labels/leftcolumn10', a=label_left)"
      ],
      "execution_count": null,
      "outputs": []
    },
    {
      "cell_type": "code",
      "metadata": {
        "id": "N73aAMZp2wb-"
      },
      "source": [
        "#left column labels 11\n",
        "\n",
        "label_left = []\n",
        "\n",
        "for j in range(450,529,6): #timestep range, each run gives the next line INCREMEMENTS OF 10!!\n",
        "  for i in range(180):  #create the location span of the lines\n",
        "    image = basedata[j]    #gets 1001x1001 image corresponding to timestep\n",
        "    roi = image[410-11:590+11, 193:227] #gets the cutting box for 372x502 (the inside 350x480 + width 11 border) DONT FORGET ITS [y:y+h, x:x+w]!!!\n",
        "    line_label = roi[190-i:191-i, 0:11] #gets the line in terms of i\n",
        "     #TRANSPOSE THE LINE!!!! FLIP IT USING ROT90\n",
        "    line_label_T = np.rot90(line_label, 3)\n",
        "    label_left.append(line_label_T)\n",
        "\n",
        "label_left = np.array(label_left)"
      ],
      "execution_count": null,
      "outputs": []
    },
    {
      "cell_type": "code",
      "metadata": {
        "colab": {
          "base_uri": "https://localhost:8080/"
        },
        "id": "kn_K7A2O2wb-",
        "outputId": "fb92b464-9d40-4270-ce96-32ab8927260a"
      },
      "source": [
        "print(label_left.shape)"
      ],
      "execution_count": null,
      "outputs": [
        {
          "output_type": "stream",
          "text": [
            "(2520, 11, 1)\n"
          ],
          "name": "stdout"
        }
      ]
    },
    {
      "cell_type": "code",
      "metadata": {
        "id": "O3S1LG2t2wb-"
      },
      "source": [
        " #save line_label to google drive folder\n",
        "np.savez_compressed('/content/drive/My Drive/ML_Ultrasound_Project/UROPdata/labels/leftcolumn11', a=label_left)"
      ],
      "execution_count": null,
      "outputs": []
    },
    {
      "cell_type": "code",
      "metadata": {
        "id": "-4WlasxNzb5s"
      },
      "source": [
        "#left column labels 12\n",
        "\n",
        "label_left = []\n",
        "\n",
        "for j in range(0,350,6): #timestep range, each run gives the next line INCREMEMENTS OF 10!!\n",
        "  for i in range(150):  #create the location span of the lines\n",
        "    image = basedata[j]    #gets 1001x1001 image corresponding to timestep\n",
        "    roi = image[425-11:575+11, 285:319] #gets the cutting box for 372x502 (the inside 350x480 + width 11 border) DONT FORGET ITS [y:y+h, x:x+w]!!!\n",
        "    line_label = roi[160-i:161-i, 0:11] #gets the line in terms of i\n",
        "     #TRANSPOSE THE LINE!!!! FLIP IT USING ROT90\n",
        "    line_label_T = np.rot90(line_label, 3)\n",
        "    label_left.append(line_label_T)\n",
        "\n",
        "label_left = np.array(label_left)"
      ],
      "execution_count": null,
      "outputs": []
    },
    {
      "cell_type": "code",
      "metadata": {
        "colab": {
          "base_uri": "https://localhost:8080/"
        },
        "id": "Fbg8e7qQzdiH",
        "outputId": "955b9aec-9a1d-429a-c34b-7450acc6b77b"
      },
      "source": [
        "print(label_left.shape)"
      ],
      "execution_count": null,
      "outputs": [
        {
          "output_type": "stream",
          "text": [
            "(8850, 11, 1)\n"
          ],
          "name": "stdout"
        }
      ]
    },
    {
      "cell_type": "code",
      "metadata": {
        "id": "dufNKz3nzeqO"
      },
      "source": [
        " #save line_label to google drive folder\n",
        "np.savez_compressed('/content/drive/My Drive/ML_Ultrasound_Project/UROPdata/labels/leftcolumn12', a=label_left)"
      ],
      "execution_count": null,
      "outputs": []
    },
    {
      "cell_type": "code",
      "metadata": {
        "id": "teC6kHKYvRkb"
      },
      "source": [
        "#left column labels 13\n",
        "\n",
        "label_left = []\n",
        "for j in range(15,200,6): #timestep range, each run gives the next line INCREMEMENTS OF 10!!\n",
        "  for i in range(90):  #create the location span of the lines\n",
        "    image = basedata[j]    #gets 1001x1001 image corresponding to timestep\n",
        "    roi = image[455-11:545+11, 278:312] #gets the cutting box for 372x502 (the inside 350x480 + width 11 border) DONT FORGET ITS [y:y+h, x:x+w]!!!\n",
        "    line_label = roi[90+10-i:90+11-i, 0:11] #gets the line in terms of i\n",
        "     #TRANSPOSE THE LINE!!!! FLIP IT USING ROT90\n",
        "    line_label_T = np.rot90(line_label, 3)\n",
        "    label_left.append(line_label_T)\n",
        "\n",
        "label_left = np.array(label_left)"
      ],
      "execution_count": null,
      "outputs": []
    },
    {
      "cell_type": "code",
      "metadata": {
        "colab": {
          "base_uri": "https://localhost:8080/"
        },
        "id": "QS861LOwvRki",
        "outputId": "5c12eb6b-65cf-46f6-e5f2-b7c70fcf86d4"
      },
      "source": [
        "print(label_left.shape)"
      ],
      "execution_count": null,
      "outputs": [
        {
          "output_type": "stream",
          "text": [
            "(2790, 11, 1)\n"
          ],
          "name": "stdout"
        }
      ]
    },
    {
      "cell_type": "code",
      "metadata": {
        "id": "MMzqz60ovRki"
      },
      "source": [
        "#save line_label to google drive folder\n",
        "np.savez_compressed('/content/drive/My Drive/ML_Ultrasound_Project/UROPdata/labels/leftcolumn13', a=label_left)"
      ],
      "execution_count": null,
      "outputs": []
    },
    {
      "cell_type": "code",
      "metadata": {
        "id": "Z0G3LQP6vRki"
      },
      "source": [
        "#left column labels 14\n",
        "\n",
        "label_left = []\n",
        "for j in range(200,380,6): #timestep range, each run gives the next line INCREMEMENTS OF 10!!\n",
        "  for i in range(180):  #create the location span of the lines\n",
        "    image = basedata[j]    #gets 1001x1001 image corresponding to timestep\n",
        "    roi = image[410-11:590+11, 278:312] #gets the cutting box for 372x502 (the inside 350x480 + width 11 border) DONT FORGET ITS [y:y+h, x:x+w]!!!\n",
        "    line_label = roi[190-i:191-i, 0:11] #gets the line in terms of i\n",
        "     #TRANSPOSE THE LINE!!!! FLIP IT USING ROT90\n",
        "    line_label_T = np.rot90(line_label, 3)\n",
        "    label_left.append(line_label_T)\n",
        "\n",
        "label_left = np.array(label_left)"
      ],
      "execution_count": null,
      "outputs": []
    },
    {
      "cell_type": "code",
      "metadata": {
        "colab": {
          "base_uri": "https://localhost:8080/"
        },
        "id": "WWc1R6YivRki",
        "outputId": "49468e89-91c7-4bd2-e511-193d8b152dbb"
      },
      "source": [
        "print(label_left.shape)"
      ],
      "execution_count": null,
      "outputs": [
        {
          "output_type": "stream",
          "text": [
            "(5400, 11, 1)\n"
          ],
          "name": "stdout"
        }
      ]
    },
    {
      "cell_type": "code",
      "metadata": {
        "id": "ueGExDOTvRkj"
      },
      "source": [
        "#save line_label to google drive folder\n",
        "np.savez_compressed('/content/drive/My Drive/ML_Ultrasound_Project/UROPdata/labels/leftcolumn14', a=label_left)"
      ],
      "execution_count": null,
      "outputs": []
    },
    {
      "cell_type": "code",
      "metadata": {
        "id": "5OZHwM0nvRkj"
      },
      "source": [
        "#left column labels 15\n",
        "\n",
        "label_left = []\n",
        "\n",
        "for j in range(380,529,6): #timestep range, each run gives the next line INCREMEMENTS OF 10!!\n",
        "  for i in range(270):  #create the location span of the lines\n",
        "    image = basedata[j]    #gets 1001x1001 image corresponding to timestep\n",
        "    roi = image[365-11:635+11, 278:312] #gets the cutting box for 372x502 (the inside 350x480 + width 11 border) DONT FORGET ITS [y:y+h, x:x+w]!!!\n",
        "    line_label = roi[280-i:281-i, 0:11] #gets the line in terms of i\n",
        "     #TRANSPOSE THE LINE!!!! FLIP IT USING ROT90\n",
        "    line_label_T = np.rot90(line_label, 3)\n",
        "    label_left.append(line_label_T)\n",
        "\n",
        "label_left = np.array(label_left)"
      ],
      "execution_count": null,
      "outputs": []
    },
    {
      "cell_type": "code",
      "metadata": {
        "colab": {
          "base_uri": "https://localhost:8080/"
        },
        "id": "ZCHYmVyAvRkj",
        "outputId": "637c93d5-4fc6-462e-dc50-0cff3a5e940c"
      },
      "source": [
        "print(label_left.shape)"
      ],
      "execution_count": null,
      "outputs": [
        {
          "output_type": "stream",
          "text": [
            "(6750, 11, 1)\n"
          ],
          "name": "stdout"
        }
      ]
    },
    {
      "cell_type": "code",
      "metadata": {
        "id": "mryxooPHvRkj"
      },
      "source": [
        " #save line_label to google drive folder\n",
        "np.savez_compressed('/content/drive/My Drive/ML_Ultrasound_Project/UROPdata/labels/leftcolumn15', a=label_left)"
      ],
      "execution_count": null,
      "outputs": []
    },
    {
      "cell_type": "code",
      "metadata": {
        "id": "zWJ9Gl_xTwx5"
      },
      "source": [
        ""
      ],
      "execution_count": null,
      "outputs": []
    },
    {
      "cell_type": "markdown",
      "metadata": {
        "id": "CCCzTmTGx-lX"
      },
      "source": [
        "# Fake Zeros"
      ]
    },
    {
      "cell_type": "code",
      "metadata": {
        "id": "wHvXNS0qyKL0"
      },
      "source": [
        "fakeZeros = np.zeros((15000,11,1))\n",
        "np.savez_compressed('/content/drive/My Drive/ML_Ultrasound_Project/UROPdata/labels/leftcolumnzeros', a=fakeZeros)"
      ],
      "execution_count": null,
      "outputs": []
    },
    {
      "cell_type": "code",
      "metadata": {
        "id": "REC7Bha-PxhC"
      },
      "source": [
        ""
      ],
      "execution_count": null,
      "outputs": []
    }
  ]
}