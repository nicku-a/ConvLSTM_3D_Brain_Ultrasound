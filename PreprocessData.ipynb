{
  "nbformat": 4,
  "nbformat_minor": 0,
  "metadata": {
    "colab": {
      "name": "PreprocessData.ipynb",
      "provenance": [],
      "collapsed_sections": [],
      "toc_visible": true,
      "machine_shape": "hm"
    },
    "kernelspec": {
      "display_name": "Python 3",
      "name": "python3"
    }
  },
  "cells": [
    {
      "cell_type": "markdown",
      "metadata": {
        "id": "suYoJwOKeRj4"
      },
      "source": [
        "# Load, normalise and save dataset"
      ]
    },
    {
      "cell_type": "markdown",
      "metadata": {
        "id": "4aiUgpoDHFj2"
      },
      "source": [
        "This notebook combines different trials and creates normalised training and testing datasets."
      ]
    },
    {
      "cell_type": "code",
      "metadata": {
        "colab": {
          "base_uri": "https://localhost:8080/"
        },
        "id": "udu6nTvhxesD",
        "outputId": "6a9924a7-dcfa-4e73-a794-afbdd50aa03f"
      },
      "source": [
        "from google.colab import drive\n",
        "drive.mount('/content/drive', force_remount=True)"
      ],
      "execution_count": null,
      "outputs": [
        {
          "output_type": "stream",
          "text": [
            "Mounted at /content/drive\n"
          ],
          "name": "stdout"
        }
      ]
    },
    {
      "cell_type": "code",
      "metadata": {
        "id": "94djeW8lAK66"
      },
      "source": [
        "#import libraries\n",
        "import numpy as np\n",
        "import matplotlib.pyplot as plt\n",
        "from matplotlib import pyplot\n",
        "import random"
      ],
      "execution_count": null,
      "outputs": []
    },
    {
      "cell_type": "markdown",
      "metadata": {
        "id": "Wg46AtEAeRkC"
      },
      "source": [
        "**Load Images and Targets, save samples from different trials together**"
      ]
    },
    {
      "cell_type": "code",
      "metadata": {
        "colab": {
          "base_uri": "https://localhost:8080/"
        },
        "id": "dQIU5al3tjcj",
        "outputId": "d998a2b7-e91d-43f0-c18e-ac20b779cf85"
      },
      "source": [
        "# Start with zeros to supplement dataset\n",
        "additional_zeros = 9000\n",
        "images = np.zeros((additional_zeros,9,23,23))\n",
        "print(images.shape)\n",
        "for i in range(0,8,1):\n",
        "  new_images = np.load('/content/drive/My Drive/ML_Ultrasound_Project/UROPdata/skull_images_{}.npz'.format(i))['a']\n",
        "  images = np.vstack((images, new_images))\n",
        "\n",
        "  print(images.shape)\n",
        "\n",
        "final_max, final_min = np.max(images), np.min(images)\n",
        "norm = np.max(np.abs(images))\n",
        "images = images/norm    # Normalise data\n",
        "\n",
        "print(final_max, final_min, norm)\n",
        "print(np.max(images), np.min(images))"
      ],
      "execution_count": null,
      "outputs": [
        {
          "output_type": "stream",
          "text": [
            "(9000, 9, 23, 23)\n",
            "(43020, 9, 23, 23)\n",
            "(78750, 9, 23, 23)\n",
            "(115710, 9, 23, 23)\n",
            "(141930, 9, 23, 23)\n",
            "(168450, 9, 23, 23)\n",
            "(205710, 9, 23, 23)\n",
            "(238440, 9, 23, 23)\n",
            "(271680, 9, 23, 23)\n",
            "3.005867554861652e-08 -2.37463630980983e-08 3.005867554861652e-08\n",
            "1.0 -0.7900003132104485\n"
          ],
          "name": "stdout"
        }
      ]
    },
    {
      "cell_type": "code",
      "metadata": {
        "id": "Ht_8FrTkeRkE"
      },
      "source": [
        "np.savez_compressed('/content/drive/My Drive/ML_Ultrasound_Project/UROPdata/artificial_inputs', images)"
      ],
      "execution_count": null,
      "outputs": []
    },
    {
      "cell_type": "code",
      "metadata": {
        "colab": {
          "base_uri": "https://localhost:8080/"
        },
        "id": "tX2zmKphw9Nb",
        "outputId": "6f5fda41-932a-4fc3-c881-003c05a40d84"
      },
      "source": [
        "labels = np.zeros((additional_zeros,11,1))\n",
        "print(labels.shape)\n",
        "for i in range(0,8,1):\n",
        "  new_labels = np.load('/content/drive/My Drive/ML_Ultrasound_Project/UROPdata/skull_labels_{}.npz'.format(i))['a']\n",
        "  labels = np.vstack((labels, new_labels))\n",
        "\n",
        "  print(labels.shape)\n",
        "\n",
        "labels /= norm\n",
        "\n",
        "print(np.max(labels), np.min(labels))"
      ],
      "execution_count": null,
      "outputs": [
        {
          "output_type": "stream",
          "text": [
            "(9000, 11, 1)\n",
            "(43020, 11, 1)\n",
            "(78750, 11, 1)\n",
            "(115710, 11, 1)\n",
            "(141930, 11, 1)\n",
            "(168450, 11, 1)\n",
            "(205710, 11, 1)\n",
            "(238440, 11, 1)\n",
            "(271680, 11, 1)\n",
            "0.3309766019975735 -0.2603016393907643\n"
          ],
          "name": "stdout"
        }
      ]
    },
    {
      "cell_type": "code",
      "metadata": {
        "id": "m_ZFoTlSeRkE"
      },
      "source": [
        "np.savez_compressed('/content/drive/My Drive/ML_Ultrasound_Project/UROPdata/artificial_labels', labels)"
      ],
      "execution_count": null,
      "outputs": []
    },
    {
      "cell_type": "code",
      "metadata": {
        "colab": {
          "base_uri": "https://localhost:8080/"
        },
        "id": "_9CWPKBWDudN",
        "outputId": "aeda216c-e243-4926-d3f7-c1dfe1e6951e"
      },
      "source": [
        "print(images.shape, labels.shape)"
      ],
      "execution_count": null,
      "outputs": [
        {
          "output_type": "stream",
          "text": [
            "(271680, 9, 23, 23) (271680, 11, 1)\n"
          ],
          "name": "stdout"
        }
      ]
    },
    {
      "cell_type": "markdown",
      "metadata": {
        "id": "juT55nGG99lt"
      },
      "source": [
        "**Load wave dataset**\n",
        "\n"
      ]
    },
    {
      "cell_type": "code",
      "metadata": {
        "colab": {
          "base_uri": "https://localhost:8080/"
        },
        "id": "p9KeVgS2Gj6l",
        "outputId": "e546c4b6-3f7f-40c1-d81a-3b7717d00702"
      },
      "source": [
        "wavedataset = np.asarray(list(zip(np.load('/content/drive/My Drive/ML_Ultrasound_Project/UROPdata/artificial_inputs.npz')['arr_0'], np.load('/content/drive/My Drive/ML_Ultrasound_Project/UROPdata/artificial_labels.npz')['arr_0'])))\n",
        "print(wavedataset.shape)"
      ],
      "execution_count": null,
      "outputs": [
        {
          "output_type": "stream",
          "text": [
            "(271680, 2)\n"
          ],
          "name": "stdout"
        },
        {
          "output_type": "stream",
          "text": [
            "/usr/local/lib/python3.7/dist-packages/numpy/core/_asarray.py:83: VisibleDeprecationWarning: Creating an ndarray from ragged nested sequences (which is a list-or-tuple of lists-or-tuples-or ndarrays with different lengths or shapes) is deprecated. If you meant to do this, you must specify 'dtype=object' when creating the ndarray\n",
            "  return array(a, dtype, copy=False, order=order)\n"
          ],
          "name": "stderr"
        }
      ]
    },
    {
      "cell_type": "markdown",
      "metadata": {
        "id": "8OSZD4IKuqR8"
      },
      "source": [
        "**Split into train and test data**"
      ]
    },
    {
      "cell_type": "code",
      "metadata": {
        "colab": {
          "base_uri": "https://localhost:8080/"
        },
        "id": "hEwc3ssHC-b-",
        "outputId": "01ac1fce-0392-40b2-c549-eddcd7eceac5"
      },
      "source": [
        "# Shuffle data\n",
        "shuffle_array = wavedataset.reshape(-1, 30, 2)\n",
        "np.random.shuffle(shuffle_array)\n",
        "print(shuffle_array.shape)"
      ],
      "execution_count": null,
      "outputs": [
        {
          "output_type": "stream",
          "text": [
            "(9056, 30, 2)\n"
          ],
          "name": "stdout"
        }
      ]
    },
    {
      "cell_type": "code",
      "metadata": {
        "colab": {
          "base_uri": "https://localhost:8080/"
        },
        "id": "F_qjxj1FFmTd",
        "outputId": "5a0a3807-dbad-4f3d-a492-9132b0a950f0"
      },
      "source": [
        "# Optional - reduce size of dataset\n",
        "no_samples = shuffle_array.shape[0]\n",
        "print(no_samples)\n",
        "random_indices = np.random.choice(no_samples, size=int(180000/30))\n",
        "print(random_indices.shape)\n",
        "reduced_dataset = shuffle_array[random_indices, :]\n",
        "reduced_dataset = reduced_dataset.reshape(-1, 2)\n",
        "print(reduced_dataset.shape)"
      ],
      "execution_count": null,
      "outputs": [
        {
          "output_type": "stream",
          "text": [
            "9056\n",
            "(6000,)\n",
            "(180000, 2)\n"
          ],
          "name": "stdout"
        }
      ]
    },
    {
      "cell_type": "code",
      "metadata": {
        "colab": {
          "base_uri": "https://localhost:8080/"
        },
        "id": "QheDASSxuqR-",
        "outputId": "e18258cc-cfe0-4fe6-97eb-bcfc8dddaaab"
      },
      "source": [
        "# Training data is 80% of whole dataset\n",
        "test_data = reduced_dataset[:42000]\n",
        "training_data = reduced_dataset[42000:]\n",
        "       \n",
        "print(training_data.shape)\n",
        "print(test_data.shape)"
      ],
      "execution_count": null,
      "outputs": [
        {
          "output_type": "stream",
          "text": [
            "(138000, 2)\n",
            "(42000, 2)\n"
          ],
          "name": "stdout"
        }
      ]
    },
    {
      "cell_type": "code",
      "metadata": {
        "id": "HWvNeo6i9L7z"
      },
      "source": [
        "# for i in range (0, len(training_data), 30000):\n",
        "#   print('Train ' + str(i))\n",
        "#   plt.axis('off')\n",
        "#   plt.imshow(training_data[i][0][0])\n",
        "#   plt.show()\n",
        "#   plt.axis('off')\n",
        "#   plt.imshow(training_data[i][1])\n",
        "#   plt.show()"
      ],
      "execution_count": null,
      "outputs": []
    },
    {
      "cell_type": "code",
      "metadata": {
        "id": "Z7ABQVHFuqSn"
      },
      "source": [
        "# np.savez_compressed('/content/drive/My Drive/ML_Ultrasound_Project/UROPdata/training_data_all_zeroed', training_data)\n",
        "np.savez_compressed('/content/drive/My Drive/ML_Ultrasound_Project/UROPdata/artificial_training_data', training_data)"
      ],
      "execution_count": null,
      "outputs": []
    },
    {
      "cell_type": "code",
      "metadata": {
        "id": "lt7ZHl-w9Rf0"
      },
      "source": [
        "# for i in range (0,len(test_data),1000):\n",
        "#   print('Test ' + str(i))\n",
        "#   plt.axis('off')\n",
        "#   plt.imshow(test_data[i][0][0])\n",
        "#   plt.show()"
      ],
      "execution_count": null,
      "outputs": []
    },
    {
      "cell_type": "code",
      "metadata": {
        "id": "lrFtMlnnuqTk"
      },
      "source": [
        "# np.savez_compressed('/content/drive/My Drive/ML_Ultrasound_Project/UROPdata/test_data_all_zeroed', test_data)\n",
        "np.savez_compressed('/content/drive/My Drive/ML_Ultrasound_Project/UROPdata/artificial_test_data', test_data)"
      ],
      "execution_count": null,
      "outputs": []
    },
    {
      "cell_type": "code",
      "metadata": {
        "id": "XwdrJEv5exCc"
      },
      "source": [
        ""
      ],
      "execution_count": null,
      "outputs": []
    }
  ]
}