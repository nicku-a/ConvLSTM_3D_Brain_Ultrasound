{
  "nbformat": 4,
  "nbformat_minor": 0,
  "metadata": {
    "colab": {
      "name": "Preprocess_Data.ipynb",
      "provenance": [],
      "collapsed_sections": [
        "flils-Za8LXY",
        "7NJB-QS98Vs1",
        "T6IuC5M-AoY6",
        "kJIfhCw_Zsac",
        "8OSZD4IKuqR8"
      ],
      "machine_shape": "hm"
    },
    "kernelspec": {
      "display_name": "Python 3",
      "name": "python3"
    }
  },
  "cells": [
    {
      "cell_type": "code",
      "metadata": {
        "colab": {
          "base_uri": "https://localhost:8080/"
        },
        "id": "udu6nTvhxesD",
        "outputId": "42ba8b1b-e3b8-469e-ec99-f0809c87764f"
      },
      "source": [
        "from google.colab import drive\n",
        "drive.mount('/content/drive', force_remount=True)"
      ],
      "execution_count": null,
      "outputs": [
        {
          "output_type": "stream",
          "text": [
            "Mounted at /content/drive\n"
          ],
          "name": "stdout"
        }
      ]
    },
    {
      "cell_type": "code",
      "metadata": {
        "id": "94djeW8lAK66"
      },
      "source": [
        "#import libraries\n",
        "import numpy as np\n",
        "import matplotlib.pyplot as plt\n",
        "from matplotlib import pyplot\n",
        "import random"
      ],
      "execution_count": null,
      "outputs": []
    },
    {
      "cell_type": "markdown",
      "metadata": {
        "id": "flils-Za8LXY"
      },
      "source": [
        "# Load and save all water data"
      ]
    },
    {
      "cell_type": "markdown",
      "metadata": {
        "id": "JktS2RIej8AG"
      },
      "source": [
        "**Load Images and Labels**"
      ]
    },
    {
      "cell_type": "code",
      "metadata": {
        "colab": {
          "base_uri": "https://localhost:8080/"
        },
        "id": "ZnmJHnRPw7jX",
        "outputId": "1ebfe246-869a-4ee2-e5e5-136d2a57d7a3"
      },
      "source": [
        "#Load array containing all images\n",
        "images_list = np.load('/content/drive/My Drive/ML_Ultrasound_Project/UROPdata/images/leftcolumn_water.npz')\n",
        "images = images_list['a']\n",
        "\n",
        "images_list = np.load('/content/drive/My Drive/ML_Ultrasound_Project/UROPdata/images/leftcolumn2_water.npz')\n",
        "images2 = images_list['a']\n",
        "\n",
        "images_list = np.load('/content/drive/My Drive/ML_Ultrasound_Project/UROPdata/images/leftcolumn3_water.npz')\n",
        "images3 = images_list['a']\n",
        "\n",
        "images_list = np.load('/content/drive/My Drive/ML_Ultrasound_Project/UROPdata/images/leftcolumn4_water.npz')\n",
        "images4 = images_list['a']\n",
        "\n",
        "images_list = np.load('/content/drive/My Drive/ML_Ultrasound_Project/UROPdata/images/leftcolumn5_water.npz')\n",
        "images5 = images_list['a']\n",
        "\n",
        "images_list = np.load('/content/drive/My Drive/ML_Ultrasound_Project/UROPdata/images/leftcolumn6_water.npz')\n",
        "images6 = images_list['a']\n",
        "\n",
        "images_list = np.load('/content/drive/My Drive/ML_Ultrasound_Project/UROPdata/images/leftcolumn7_water.npz')\n",
        "images7 = images_list['a']\n",
        "\n",
        "images_list = np.load('/content/drive/My Drive/ML_Ultrasound_Project/UROPdata/images/leftcolumn8_water.npz')\n",
        "images8 = images_list['a']\n",
        "\n",
        "images_list = np.load('/content/drive/My Drive/ML_Ultrasound_Project/UROPdata/images/leftcolumn9_water.npz')\n",
        "images9 = images_list['a']\n",
        "\n",
        "images_list = np.load('/content/drive/My Drive/ML_Ultrasound_Project/UROPdata/images/leftcolumn10_water.npz')\n",
        "images10 = images_list['a']\n",
        "\n",
        "images_list = np.load('/content/drive/My Drive/ML_Ultrasound_Project/UROPdata/images/leftcolumn11_water.npz')\n",
        "images11 = images_list['a']\n",
        "\n",
        "images_list = np.load('/content/drive/My Drive/ML_Ultrasound_Project/UROPdata/images/leftcolumn12_water.npz')\n",
        "images12 = images_list['a']\n",
        "\n",
        "images_list = np.load('/content/drive/My Drive/ML_Ultrasound_Project/UROPdata/images/leftcolumn13_water.npz')\n",
        "images13 = images_list['a']\n",
        "\n",
        "images_list = np.load('/content/drive/My Drive/ML_Ultrasound_Project/UROPdata/images/leftcolumn14_water.npz')\n",
        "images14 = images_list['a']\n",
        "\n",
        "images_list = np.load('/content/drive/My Drive/ML_Ultrasound_Project/UROPdata/images/leftcolumn15_water.npz')\n",
        "images15 = images_list['a']\n",
        "\n",
        "images_list = np.load('/content/drive/My Drive/ML_Ultrasound_Project/UROPdata/images/leftcolumnzeros.npz')\n",
        "images16 = images_list['a']\n",
        "\n",
        "\n",
        "images = np.vstack((images, images2))\n",
        "images = np.vstack((images, images3))\n",
        "images = np.vstack((images, images4))\n",
        "images = np.vstack((images, images5))\n",
        "images = np.vstack((images, images6))\n",
        "images = np.vstack((images, images7))\n",
        "images = np.vstack((images, images8))\n",
        "images = np.vstack((images, images9))\n",
        "images = np.vstack((images, images10))\n",
        "images = np.vstack((images, images11))\n",
        "images = np.vstack((images, images12))\n",
        "images = np.vstack((images, images13))\n",
        "images = np.vstack((images, images14))\n",
        "images = np.vstack((images, images15))\n",
        "images = np.vstack((images, images16))\n",
        "\n",
        "print(images.shape)\n",
        "\n",
        "# for image in range (0, len(images), 5000):\n",
        "# # for image in range (50000, 70000, 2000):\n",
        "#   print(image)\n",
        "#   plt.imshow(images[image])\n",
        "#   plt.show()"
      ],
      "execution_count": null,
      "outputs": [
        {
          "output_type": "stream",
          "text": [
            "(78750, 9, 23, 23)\n"
          ],
          "name": "stdout"
        }
      ]
    },
    {
      "cell_type": "code",
      "metadata": {
        "colab": {
          "base_uri": "https://localhost:8080/"
        },
        "id": "y9uIjJtuObwr",
        "outputId": "0d95c119-f8a9-4448-bf2a-7fd044bd4abf"
      },
      "source": [
        "#Load array containing all labels\n",
        "labels_list = np.load('/content/drive/My Drive/ML_Ultrasound_Project/UROPdata/labels/leftcolumn_water.npz')\n",
        "labels = labels_list['a']\n",
        "\n",
        "labels_list = np.load('/content/drive/My Drive/ML_Ultrasound_Project/UROPdata/labels/leftcolumn2_water.npz')\n",
        "labels2 = labels_list['a']\n",
        "\n",
        "labels_list = np.load('/content/drive/My Drive/ML_Ultrasound_Project/UROPdata/labels/leftcolumn3_water.npz')\n",
        "labels3 = labels_list['a']\n",
        "\n",
        "labels_list = np.load('/content/drive/My Drive/ML_Ultrasound_Project/UROPdata/labels/leftcolumn4_water.npz')\n",
        "labels4 = labels_list['a']\n",
        "\n",
        "labels_list = np.load('/content/drive/My Drive/ML_Ultrasound_Project/UROPdata/labels/leftcolumn5_water.npz')\n",
        "labels5 = labels_list['a']\n",
        "\n",
        "labels_list = np.load('/content/drive/My Drive/ML_Ultrasound_Project/UROPdata/labels/leftcolumn6_water.npz')\n",
        "labels6 = labels_list['a']\n",
        "\n",
        "labels_list = np.load('/content/drive/My Drive/ML_Ultrasound_Project/UROPdata/labels/leftcolumn7_water.npz')\n",
        "labels7 = labels_list['a']\n",
        "\n",
        "labels_list = np.load('/content/drive/My Drive/ML_Ultrasound_Project/UROPdata/labels/leftcolumn8_water.npz')\n",
        "labels8 = labels_list['a']\n",
        "\n",
        "labels_list = np.load('/content/drive/My Drive/ML_Ultrasound_Project/UROPdata/labels/leftcolumn9_water.npz')\n",
        "labels9 = labels_list['a']\n",
        "\n",
        "labels_list = np.load('/content/drive/My Drive/ML_Ultrasound_Project/UROPdata/labels/leftcolumn10_water.npz')\n",
        "labels10 = labels_list['a']\n",
        "\n",
        "labels_list = np.load('/content/drive/My Drive/ML_Ultrasound_Project/UROPdata/labels/leftcolumn11_water.npz')\n",
        "labels11 = labels_list['a']\n",
        "\n",
        "labels_list = np.load('/content/drive/My Drive/ML_Ultrasound_Project/UROPdata/labels/leftcolumn12_water.npz')\n",
        "labels12 = labels_list['a']\n",
        "\n",
        "labels_list = np.load('/content/drive/My Drive/ML_Ultrasound_Project/UROPdata/labels/leftcolumn13_water.npz')\n",
        "labels13 = labels_list['a']\n",
        "\n",
        "labels_list = np.load('/content/drive/My Drive/ML_Ultrasound_Project/UROPdata/labels/leftcolumn14_water.npz')\n",
        "labels14 = labels_list['a']\n",
        "\n",
        "labels_list = np.load('/content/drive/My Drive/ML_Ultrasound_Project/UROPdata/labels/leftcolumn15_water.npz')\n",
        "labels15 = labels_list['a']\n",
        "\n",
        "labels_list = np.load('/content/drive/My Drive/ML_Ultrasound_Project/UROPdata/labels/leftcolumnzeros.npz')\n",
        "labels16 = labels_list['a']\n",
        "\n",
        "\n",
        "labels = np.vstack((labels, labels2))\n",
        "labels = np.vstack((labels, labels3))\n",
        "labels = np.vstack((labels, labels4))\n",
        "labels = np.vstack((labels, labels5))\n",
        "labels = np.vstack((labels, labels6))\n",
        "labels = np.vstack((labels, labels7))\n",
        "labels = np.vstack((labels, labels8))\n",
        "labels = np.vstack((labels, labels9))\n",
        "labels = np.vstack((labels, labels10))\n",
        "labels = np.vstack((labels, labels11))\n",
        "labels = np.vstack((labels, labels12))\n",
        "labels = np.vstack((labels, labels13))\n",
        "labels = np.vstack((labels, labels14))\n",
        "labels = np.vstack((labels, labels15))\n",
        "labels = np.vstack((labels, labels16))\n",
        "\n",
        "print(labels.shape)\n",
        "\n",
        "# for i in range (0, len(labels), 5000):\n",
        "# # for i in range (50000, 70000, 2000):\n",
        "#   plt.imshow(labels[i])\n",
        "#   plt.show()"
      ],
      "execution_count": null,
      "outputs": [
        {
          "output_type": "stream",
          "text": [
            "(78750, 11, 1)\n"
          ],
          "name": "stdout"
        }
      ]
    },
    {
      "cell_type": "markdown",
      "metadata": {
        "id": "RBarRdeM8xWq"
      },
      "source": [
        "Save as one array each"
      ]
    },
    {
      "cell_type": "code",
      "metadata": {
        "id": "l9RP8lozyLKL"
      },
      "source": [
        "np.savez_compressed('/content/drive/My Drive/ML_Ultrasound_Project/UROPdata/norm_inputs_water_zeroed', images)"
      ],
      "execution_count": null,
      "outputs": []
    },
    {
      "cell_type": "code",
      "metadata": {
        "id": "45qLg27SyZn5"
      },
      "source": [
        "np.savez_compressed('/content/drive/My Drive/ML_Ultrasound_Project/UROPdata/norm_labels_water_zeroed', labels)"
      ],
      "execution_count": null,
      "outputs": []
    },
    {
      "cell_type": "markdown",
      "metadata": {
        "id": "7NJB-QS98Vs1"
      },
      "source": [
        "# Load and save all full data"
      ]
    },
    {
      "cell_type": "markdown",
      "metadata": {
        "id": "hUTYSM9Y8Vs2"
      },
      "source": [
        "**Load Images and Labels**"
      ]
    },
    {
      "cell_type": "code",
      "metadata": {
        "colab": {
          "base_uri": "https://localhost:8080/"
        },
        "id": "tP4Q5o5n8Vs3",
        "outputId": "ded793b3-fcff-4ad3-f45e-217d16ea2cc3"
      },
      "source": [
        "#Load array containing all images\n",
        "images_list = np.load('/content/drive/My Drive/ML_Ultrasound_Project/UROPdata/images/leftcolumn.npz')\n",
        "images = images_list['a']\n",
        "\n",
        "images_list = np.load('/content/drive/My Drive/ML_Ultrasound_Project/UROPdata/images/leftcolumn2.npz')\n",
        "images2 = images_list['a']\n",
        "\n",
        "images_list = np.load('/content/drive/My Drive/ML_Ultrasound_Project/UROPdata/images/leftcolumn3.npz')\n",
        "images3 = images_list['a']\n",
        "\n",
        "images_list = np.load('/content/drive/My Drive/ML_Ultrasound_Project/UROPdata/images/leftcolumn4.npz')\n",
        "images4 = images_list['a']\n",
        "\n",
        "images_list = np.load('/content/drive/My Drive/ML_Ultrasound_Project/UROPdata/images/leftcolumn5.npz')\n",
        "images5 = images_list['a']\n",
        "\n",
        "images_list = np.load('/content/drive/My Drive/ML_Ultrasound_Project/UROPdata/images/leftcolumn6.npz')\n",
        "images6 = images_list['a']\n",
        "\n",
        "images_list = np.load('/content/drive/My Drive/ML_Ultrasound_Project/UROPdata/images/leftcolumn7.npz')\n",
        "images7 = images_list['a']\n",
        "\n",
        "images_list = np.load('/content/drive/My Drive/ML_Ultrasound_Project/UROPdata/images/leftcolumn8.npz')\n",
        "images8 = images_list['a']\n",
        "\n",
        "images_list = np.load('/content/drive/My Drive/ML_Ultrasound_Project/UROPdata/images/leftcolumn9.npz')\n",
        "images9 = images_list['a']\n",
        "\n",
        "images_list = np.load('/content/drive/My Drive/ML_Ultrasound_Project/UROPdata/images/leftcolumn10.npz')\n",
        "images10 = images_list['a']\n",
        "\n",
        "images_list = np.load('/content/drive/My Drive/ML_Ultrasound_Project/UROPdata/images/leftcolumn11.npz')\n",
        "images11 = images_list['a']\n",
        "\n",
        "images_list = np.load('/content/drive/My Drive/ML_Ultrasound_Project/UROPdata/images/leftcolumn12.npz')\n",
        "images12 = images_list['a']\n",
        "\n",
        "images_list = np.load('/content/drive/My Drive/ML_Ultrasound_Project/UROPdata/images/leftcolumn13.npz')\n",
        "images13 = images_list['a']\n",
        "\n",
        "images_list = np.load('/content/drive/My Drive/ML_Ultrasound_Project/UROPdata/images/leftcolumn14.npz')\n",
        "images14 = images_list['a']\n",
        "\n",
        "images_list = np.load('/content/drive/My Drive/ML_Ultrasound_Project/UROPdata/images/leftcolumn15.npz')\n",
        "images15 = images_list['a']\n",
        "\n",
        "images_list = np.load('/content/drive/My Drive/ML_Ultrasound_Project/UROPdata/images/leftcolumnzeros.npz')\n",
        "images16 = images_list['a']\n",
        "\n",
        "\n",
        "images = np.vstack((images, images2))\n",
        "images = np.vstack((images, images3))\n",
        "images = np.vstack((images, images4))\n",
        "images = np.vstack((images, images5))\n",
        "images = np.vstack((images, images6))\n",
        "images = np.vstack((images, images7))\n",
        "images = np.vstack((images, images8))\n",
        "images = np.vstack((images, images9))\n",
        "images = np.vstack((images, images10))\n",
        "images = np.vstack((images, images11))\n",
        "images = np.vstack((images, images12))\n",
        "images = np.vstack((images, images13))\n",
        "images = np.vstack((images, images14))\n",
        "images = np.vstack((images, images15))\n",
        "images = np.vstack((images, images16))\n",
        "\n",
        "print(images.shape)\n",
        "\n",
        "# for image in range (0, len(images), 5000):\n",
        "# # for image in range (50000, 70000, 2000):\n",
        "#   print(image)\n",
        "#   plt.imshow(images[image])\n",
        "#   plt.show()"
      ],
      "execution_count": null,
      "outputs": [
        {
          "output_type": "stream",
          "text": [
            "(78750, 9, 23, 23)\n"
          ],
          "name": "stdout"
        }
      ]
    },
    {
      "cell_type": "code",
      "metadata": {
        "colab": {
          "base_uri": "https://localhost:8080/"
        },
        "id": "fc3Envu68Vs6",
        "outputId": "a39af25d-2d9b-4c3d-b0b7-31ee932bdf97"
      },
      "source": [
        "#Load array containing all labels\n",
        "labels_list = np.load('/content/drive/My Drive/ML_Ultrasound_Project/UROPdata/labels/leftcolumn.npz')\n",
        "labels = labels_list['a']\n",
        "\n",
        "labels_list = np.load('/content/drive/My Drive/ML_Ultrasound_Project/UROPdata/labels/leftcolumn2.npz')\n",
        "labels2 = labels_list['a']\n",
        "\n",
        "labels_list = np.load('/content/drive/My Drive/ML_Ultrasound_Project/UROPdata/labels/leftcolumn3.npz')\n",
        "labels3 = labels_list['a']\n",
        "\n",
        "labels_list = np.load('/content/drive/My Drive/ML_Ultrasound_Project/UROPdata/labels/leftcolumn4.npz')\n",
        "labels4 = labels_list['a']\n",
        "\n",
        "labels_list = np.load('/content/drive/My Drive/ML_Ultrasound_Project/UROPdata/labels/leftcolumn5.npz')\n",
        "labels5 = labels_list['a']\n",
        "\n",
        "labels_list = np.load('/content/drive/My Drive/ML_Ultrasound_Project/UROPdata/labels/leftcolumn6.npz')\n",
        "labels6 = labels_list['a']\n",
        "\n",
        "labels_list = np.load('/content/drive/My Drive/ML_Ultrasound_Project/UROPdata/labels/leftcolumn7.npz')\n",
        "labels7 = labels_list['a']\n",
        "\n",
        "labels_list = np.load('/content/drive/My Drive/ML_Ultrasound_Project/UROPdata/labels/leftcolumn8.npz')\n",
        "labels8 = labels_list['a']\n",
        "\n",
        "labels_list = np.load('/content/drive/My Drive/ML_Ultrasound_Project/UROPdata/labels/leftcolumn9.npz')\n",
        "labels9 = labels_list['a']\n",
        "\n",
        "labels_list = np.load('/content/drive/My Drive/ML_Ultrasound_Project/UROPdata/labels/leftcolumn10.npz')\n",
        "labels10 = labels_list['a']\n",
        "\n",
        "labels_list = np.load('/content/drive/My Drive/ML_Ultrasound_Project/UROPdata/labels/leftcolumn11.npz')\n",
        "labels11 = labels_list['a']\n",
        "\n",
        "labels_list = np.load('/content/drive/My Drive/ML_Ultrasound_Project/UROPdata/labels/leftcolumn12.npz')\n",
        "labels12 = labels_list['a']\n",
        "\n",
        "labels_list = np.load('/content/drive/My Drive/ML_Ultrasound_Project/UROPdata/labels/leftcolumn13.npz')\n",
        "labels13 = labels_list['a']\n",
        "\n",
        "labels_list = np.load('/content/drive/My Drive/ML_Ultrasound_Project/UROPdata/labels/leftcolumn14.npz')\n",
        "labels14 = labels_list['a']\n",
        "\n",
        "labels_list = np.load('/content/drive/My Drive/ML_Ultrasound_Project/UROPdata/labels/leftcolumn15.npz')\n",
        "labels15 = labels_list['a']\n",
        "\n",
        "labels_list = np.load('/content/drive/My Drive/ML_Ultrasound_Project/UROPdata/labels/leftcolumnzeros.npz')\n",
        "labels16 = labels_list['a']\n",
        "\n",
        "\n",
        "labels = np.vstack((labels, labels2))\n",
        "labels = np.vstack((labels, labels3))\n",
        "labels = np.vstack((labels, labels4))\n",
        "labels = np.vstack((labels, labels5))\n",
        "labels = np.vstack((labels, labels6))\n",
        "labels = np.vstack((labels, labels7))\n",
        "labels = np.vstack((labels, labels8))\n",
        "labels = np.vstack((labels, labels9))\n",
        "labels = np.vstack((labels, labels10))\n",
        "labels = np.vstack((labels, labels11))\n",
        "labels = np.vstack((labels, labels12))\n",
        "labels = np.vstack((labels, labels13))\n",
        "labels = np.vstack((labels, labels14))\n",
        "labels = np.vstack((labels, labels15))\n",
        "labels = np.vstack((labels, labels16))\n",
        "\n",
        "print(labels.shape)\n",
        "\n",
        "# for i in range (0, len(labels), 5000):\n",
        "# # for i in range (50000, 70000, 2000):\n",
        "#   plt.imshow(labels[i])\n",
        "#   plt.show()"
      ],
      "execution_count": null,
      "outputs": [
        {
          "output_type": "stream",
          "text": [
            "(78750, 11, 1)\n"
          ],
          "name": "stdout"
        }
      ]
    },
    {
      "cell_type": "markdown",
      "metadata": {
        "id": "pzQrte8H85pv"
      },
      "source": [
        "Save as one array each"
      ]
    },
    {
      "cell_type": "code",
      "metadata": {
        "id": "LKhMM9AN85pw"
      },
      "source": [
        "np.savez_compressed('/content/drive/My Drive/ML_Ultrasound_Project/UROPdata/norm_inputs_zeroed', images)"
      ],
      "execution_count": null,
      "outputs": []
    },
    {
      "cell_type": "code",
      "metadata": {
        "id": "scGUUVay85px"
      },
      "source": [
        "np.savez_compressed('/content/drive/My Drive/ML_Ultrasound_Project/UROPdata/norm_labels_zeroed', labels)"
      ],
      "execution_count": null,
      "outputs": []
    },
    {
      "cell_type": "markdown",
      "metadata": {
        "id": "T6IuC5M-AoY6"
      },
      "source": [
        "#Save all together"
      ]
    },
    {
      "cell_type": "code",
      "metadata": {
        "id": "r7S84tvUoQay"
      },
      "source": [
        "norm_inputs = np.load('/content/drive/My Drive/ML_Ultrasound_Project/UROPdata/norm_inputs_zeroed.npz')['arr_0']\n",
        "norm_inputs_water = np.load('/content/drive/My Drive/ML_Ultrasound_Project/UROPdata/norm_inputs_water_zeroed.npz')['arr_0']"
      ],
      "execution_count": null,
      "outputs": []
    },
    {
      "cell_type": "code",
      "metadata": {
        "id": "jE6Kcrff-G7M"
      },
      "source": [
        "np.savez_compressed('/content/drive/My Drive/ML_Ultrasound_Project/UROPdata/norm_inputs_all_zeroed', np.vstack((norm_inputs, norm_inputs_water)))"
      ],
      "execution_count": null,
      "outputs": []
    },
    {
      "cell_type": "code",
      "metadata": {
        "id": "VJVyloOP-HH1"
      },
      "source": [
        "norm_labels = np.load('/content/drive/My Drive/ML_Ultrasound_Project/UROPdata/norm_labels_zeroed.npz')['arr_0']\n",
        "norm_labels_water = np.load('/content/drive/My Drive/ML_Ultrasound_Project/UROPdata/norm_labels_water_zeroed.npz')['arr_0']"
      ],
      "execution_count": null,
      "outputs": []
    },
    {
      "cell_type": "code",
      "metadata": {
        "id": "4dXIEnjq5FG2"
      },
      "source": [
        "np.savez_compressed('/content/drive/My Drive/ML_Ultrasound_Project/UROPdata/norm_labels_all_zeroed', np.vstack((norm_labels, norm_labels_water)))"
      ],
      "execution_count": null,
      "outputs": []
    },
    {
      "cell_type": "code",
      "metadata": {
        "id": "LVf4OKES5meZ"
      },
      "source": [
        "# norm_inputs_all = np.load('/content/drive/My Drive/ML_Ultrasound_Project/UROPdata/norm_inputs_all.npz')['arr_0']\n",
        "# norm_labels_all = np.load('/content/drive/My Drive/ML_Ultrasound_Project/UROPdata/norm_labels_all.npz')['arr_0']\n",
        "# print(norm_labels_all.shape)"
      ],
      "execution_count": null,
      "outputs": []
    },
    {
      "cell_type": "code",
      "metadata": {
        "id": "LADHLk0yxIvH"
      },
      "source": [
        "# print(np.max(norm_inputs_all), np.min(norm_inputs_all))\n",
        "# print(np.max(norm_labels_all), np.min(norm_labels_all))"
      ],
      "execution_count": null,
      "outputs": []
    },
    {
      "cell_type": "markdown",
      "metadata": {
        "id": "juT55nGG99lt"
      },
      "source": [
        "#Load wave dataset"
      ]
    },
    {
      "cell_type": "code",
      "metadata": {
        "colab": {
          "base_uri": "https://localhost:8080/"
        },
        "id": "p9KeVgS2Gj6l",
        "outputId": "7f61c728-a335-4e1e-db36-6b5f726994c0"
      },
      "source": [
        "wavedataset = np.asarray(list(zip(np.load('/content/drive/My Drive/ML_Ultrasound_Project/UROPdata/norm_inputs_all_zeroed.npz')['arr_0'], np.load('/content/drive/My Drive/ML_Ultrasound_Project/UROPdata/norm_labels_all_zeroed.npz')['arr_0'])))\n",
        "\n",
        "print(wavedataset.shape)"
      ],
      "execution_count": null,
      "outputs": [
        {
          "output_type": "stream",
          "text": [
            "(157500, 2)\n"
          ],
          "name": "stdout"
        },
        {
          "output_type": "stream",
          "text": [
            "/usr/local/lib/python3.7/dist-packages/numpy/core/_asarray.py:83: VisibleDeprecationWarning: Creating an ndarray from ragged nested sequences (which is a list-or-tuple of lists-or-tuples-or ndarrays with different lengths or shapes) is deprecated. If you meant to do this, you must specify 'dtype=object' when creating the ndarray\n",
            "  return array(a, dtype, copy=False, order=order)\n"
          ],
          "name": "stderr"
        }
      ]
    },
    {
      "cell_type": "markdown",
      "metadata": {
        "id": "kJIfhCw_Zsac"
      },
      "source": [
        "#Check formatting by printing images and labels"
      ]
    },
    {
      "cell_type": "code",
      "metadata": {
        "id": "2W5SqcqY8u9l",
        "colab": {
          "base_uri": "https://localhost:8080/"
        },
        "outputId": "1255c6af-50cc-4196-99dd-df99ce932c9b"
      },
      "source": [
        "labels = np.asarray(wavedataset[:,1])\n",
        "print(labels[0].shape)\n",
        "wall=[]\n",
        "for i in range(len(labels)):\n",
        "  wall.append(labels[i].squeeze())\n",
        "\n",
        "print(len(wall))\n",
        "print(wall[0].shape)\n"
      ],
      "execution_count": null,
      "outputs": [
        {
          "output_type": "stream",
          "text": [
            "(11, 1)\n",
            "236340\n",
            "(11,)\n"
          ],
          "name": "stdout"
        }
      ]
    },
    {
      "cell_type": "code",
      "metadata": {
        "colab": {
          "base_uri": "https://localhost:8080/"
        },
        "id": "-upWA5-_chjf",
        "outputId": "e13fe557-cd40-48f4-e510-c0fb5fed1724"
      },
      "source": [
        "images = np.asarray(wavedataset[:,0])\n",
        "print(images[0].shape)"
      ],
      "execution_count": null,
      "outputs": [
        {
          "output_type": "stream",
          "text": [
            "(5, 23, 23)\n"
          ],
          "name": "stdout"
        }
      ]
    },
    {
      "cell_type": "code",
      "metadata": {
        "colab": {
          "base_uri": "https://localhost:8080/",
          "height": 1000
        },
        "id": "twt6Qls31JLi",
        "outputId": "d0711cb0-281d-43e3-933f-db3f034fb55b"
      },
      "source": [
        "i = 125000\n",
        "border0=[]\n",
        "border4=[]\n",
        "border10=[]\n",
        "border20=[]\n",
        "border40=[]\n",
        "border60=[]\n",
        "\n",
        "image = np.append(images[i+11][0], images[i+23+11][0], axis=1)\n",
        "image = np.append(image, images[i+46+11][0], axis=1)\n",
        "image = np.append(image, images[i+69+11][0], axis=1)\n",
        "image = np.append(image, images[i+92+11][0], axis=1)\n",
        "border0.append(image)\n",
        "\n",
        "image = np.append(images[i+11][4], images[i+23+11][4], axis=1)\n",
        "image = np.append(image, images[i+46+11][4], axis=1)\n",
        "image = np.append(image, images[i+69+11][4], axis=1)\n",
        "image = np.append(image, images[i+92+11][4], axis=1)\n",
        "border4.append(image)\n",
        "\n",
        "i -= 90*9\n",
        "image = np.append(images[i+11][4], images[i+23+11][4], axis=1)\n",
        "image = np.append(image, images[i+46+11][4], axis=1)\n",
        "image = np.append(image, images[i+69+11][4], axis=1)\n",
        "image = np.append(image, images[i+92+11][4], axis=1)\n",
        "border10.append(image)\n",
        "\n",
        "i = 125000 - 90*19\n",
        "image = np.append(images[i+11][4], images[i+23+11][4], axis=1)\n",
        "image = np.append(image, images[i+46+11][4], axis=1)\n",
        "image = np.append(image, images[i+69+11][4], axis=1)\n",
        "image = np.append(image, images[i+92+11][4], axis=1)\n",
        "border20.append(image)\n",
        "\n",
        "i = 125000 - 90*39\n",
        "image = np.append(images[i+11][4], images[i+23+11][4], axis=1)\n",
        "image = np.append(image, images[i+46+11][4], axis=1)\n",
        "image = np.append(image, images[i+69+11][4], axis=1)\n",
        "image = np.append(image, images[i+92+11][4], axis=1)\n",
        "border40.append(image)\n",
        "\n",
        "i = 125000 - 90*59\n",
        "image = np.append(images[i+11][4], images[i+23+11][4], axis=1)\n",
        "image = np.append(image, images[i+46+11][4], axis=1)\n",
        "image = np.append(image, images[i+69+11][4], axis=1)\n",
        "image = np.append(image, images[i+92+11][4], axis=1)\n",
        "border60.append(image)\n",
        "\n",
        "print(border0[0].shape)\n",
        "print('t')\n",
        "plt.imshow(border4[0][:,53:76])\n",
        "plt.show()\n",
        "print('t-4')\n",
        "plt.imshow(border0[0][:,53:76])\n",
        "plt.show()\n",
        "print('t-9')\n",
        "plt.imshow(border10[0][:,53:76])\n",
        "plt.show()\n",
        "print('t-19')\n",
        "plt.imshow(border20[0][:,53:76])\n",
        "plt.show()\n",
        "print('t-39')\n",
        "plt.imshow(border40[0][:,53:76])\n",
        "plt.show()\n",
        "print('t-59')\n",
        "plt.imshow(border60[0][:,53:76])\n",
        "plt.show()"
      ],
      "execution_count": null,
      "outputs": [
        {
          "output_type": "stream",
          "text": [
            "(23, 115)\n",
            "t\n"
          ],
          "name": "stdout"
        },
        {
          "output_type": "display_data",
          "data": {
            "image/png": "[encoded data removed]",
            "text/plain": [
              "<Figure size 432x288 with 1 Axes>"
            ]
          },
          "metadata": {
            "tags": [],
            "needs_background": "light"
          }
        },
        {
          "output_type": "stream",
          "text": [
            "t-4\n"
          ],
          "name": "stdout"
        },
        {
          "output_type": "display_data",
          "data": {
            "image/png": "[encoded data removed]",
            "text/plain": [
              "<Figure size 432x288 with 1 Axes>"
            ]
          },
          "metadata": {
            "tags": [],
            "needs_background": "light"
          }
        },
        {
          "output_type": "stream",
          "text": [
            "t-9\n"
          ],
          "name": "stdout"
        },
        {
          "output_type": "display_data",
          "data": {
            "image/png": "[encoded data removed]",
            "text/plain": [
              "<Figure size 432x288 with 1 Axes>"
            ]
          },
          "metadata": {
            "tags": [],
            "needs_background": "light"
          }
        },
        {
          "output_type": "stream",
          "text": [
            "t-19\n"
          ],
          "name": "stdout"
        },
        {
          "output_type": "display_data",
          "data": {
            "image/png": "[encoded data removed]",
            "text/plain": [
              "<Figure size 432x288 with 1 Axes>"
            ]
          },
          "metadata": {
            "tags": [],
            "needs_background": "light"
          }
        },
        {
          "output_type": "stream",
          "text": [
            "t-39\n"
          ],
          "name": "stdout"
        },
        {
          "output_type": "display_data",
          "data": {
            "image/png": "[encoded data removed]",
            "text/plain": [
              "<Figure size 432x288 with 1 Axes>"
            ]
          },
          "metadata": {
            "tags": [],
            "needs_background": "light"
          }
        },
        {
          "output_type": "stream",
          "text": [
            "t-59\n"
          ],
          "name": "stdout"
        },
        {
          "output_type": "display_data",
          "data": {
            "image/png": "[encoded data removed]",
            "text/plain": [
              "<Figure size 432x288 with 1 Axes>"
            ]
          },
          "metadata": {
            "tags": [],
            "needs_background": "light"
          }
        }
      ]
    },
    {
      "cell_type": "code",
      "metadata": {
        "colab": {
          "base_uri": "https://localhost:8080/",
          "height": 1000
        },
        "id": "LI4zNSitNJN0",
        "outputId": "f7a6a427-84f3-4012-ec2e-953883a9dc89"
      },
      "source": [
        "# for i, j in enumerate(range(0,len(wall),50000)):\n",
        "j = 125000\n",
        "\n",
        "print('border timestep t, image t')\n",
        "plt.figure(figsize=(7,7))\n",
        "plt.imshow(np.append(wall[j:j+115][53:76], np.rot90(border0[0][:,53:76]), axis=1))\n",
        "plt.show()\n",
        "\n",
        "print('border timestep t, image t-4')\n",
        "plt.figure(figsize=(7,7))\n",
        "plt.imshow(np.append(wall[j:j+115][53:76], np.rot90(border4[0][:,53:76]), axis=1))\n",
        "plt.show()\n",
        "\n",
        "print('border timestep t, image t-9')\n",
        "plt.figure(figsize=(7,7))\n",
        "plt.imshow(np.append(wall[j:j+115][53:76], np.rot90(border10[0][:,53:76]), axis=1))\n",
        "plt.show()\n",
        "\n",
        "print('border timestep t, image t-19')\n",
        "plt.figure(figsize=(7,7))\n",
        "plt.imshow(np.append(wall[j:j+115][53:76], np.rot90(border20[0][:,53:76]), axis=1))\n",
        "plt.show()\n",
        "\n",
        "print('border timestep t, image t-39')\n",
        "plt.figure(figsize=(7,7))\n",
        "plt.imshow(np.append(wall[j:j+115][53:76], np.rot90(border40[0][:,53:76]), axis=1))\n",
        "plt.show()\n",
        "\n",
        "print('border timestep t, image t-59')\n",
        "plt.figure(figsize=(7,7))\n",
        "plt.imshow(np.append(wall[j:j+115][53:76], np.rot90(border60[0][:,53:76]), axis=1))\n",
        "plt.show()\n",
        "  "
      ],
      "execution_count": null,
      "outputs": [
        {
          "output_type": "stream",
          "text": [
            "border timestep t, image t\n"
          ],
          "name": "stdout"
        },
        {
          "output_type": "display_data",
          "data": {
            "image/png": "[encoded data removed]",
            "text/plain": [
              "<Figure size 504x504 with 1 Axes>"
            ]
          },
          "metadata": {
            "tags": [],
            "needs_background": "light"
          }
        },
        {
          "output_type": "stream",
          "text": [
            "border timestep t, image t-4\n"
          ],
          "name": "stdout"
        },
        {
          "output_type": "display_data",
          "data": {
            "image/png": "[encoded data removed]",
            "text/plain": [
              "<Figure size 504x504 with 1 Axes>"
            ]
          },
          "metadata": {
            "tags": [],
            "needs_background": "light"
          }
        },
        {
          "output_type": "stream",
          "text": [
            "border timestep t, image t-9\n"
          ],
          "name": "stdout"
        },
        {
          "output_type": "display_data",
          "data": {
            "image/png": "[encoded data removed]",
            "text/plain": [
              "<Figure size 504x504 with 1 Axes>"
            ]
          },
          "metadata": {
            "tags": [],
            "needs_background": "light"
          }
        },
        {
          "output_type": "stream",
          "text": [
            "border timestep t, image t-19\n"
          ],
          "name": "stdout"
        },
        {
          "output_type": "display_data",
          "data": {
            "image/png": "[encoded data removed]",
            "text/plain": [
              "<Figure size 504x504 with 1 Axes>"
            ]
          },
          "metadata": {
            "tags": [],
            "needs_background": "light"
          }
        },
        {
          "output_type": "stream",
          "text": [
            "border timestep t, image t-39\n"
          ],
          "name": "stdout"
        },
        {
          "output_type": "display_data",
          "data": {
            "image/png": "[encoded data removed]",
            "text/plain": [
              "<Figure size 504x504 with 1 Axes>"
            ]
          },
          "metadata": {
            "tags": [],
            "needs_background": "light"
          }
        },
        {
          "output_type": "stream",
          "text": [
            "border timestep t, image t-59\n"
          ],
          "name": "stdout"
        },
        {
          "output_type": "display_data",
          "data": {
            "image/png": "[encoded data removed]",
            "text/plain": [
              "<Figure size 504x504 with 1 Axes>"
            ]
          },
          "metadata": {
            "tags": [],
            "needs_background": "light"
          }
        }
      ]
    },
    {
      "cell_type": "markdown",
      "metadata": {
        "id": "8OSZD4IKuqR8"
      },
      "source": [
        "#Split into train and test data"
      ]
    },
    {
      "cell_type": "code",
      "metadata": {
        "colab": {
          "base_uri": "https://localhost:8080/"
        },
        "id": "hEwc3ssHC-b-",
        "outputId": "dbe92312-cf5e-483b-db59-5f0dbf7ea444"
      },
      "source": [
        "# Shuffle data\n",
        "shuffle_array = wavedataset.reshape(-1, 2, 30)\n",
        "random.shuffle(shuffle_array)\n",
        "wavedataset = shuffle_array.reshape(-1, 2)\n",
        "print(wavedataset.shape)"
      ],
      "execution_count": null,
      "outputs": [
        {
          "output_type": "stream",
          "text": [
            "(157500, 2)\n"
          ],
          "name": "stdout"
        }
      ]
    },
    {
      "cell_type": "code",
      "metadata": {
        "colab": {
          "base_uri": "https://localhost:8080/"
        },
        "id": "QheDASSxuqR-",
        "outputId": "5403e779-89b0-42c1-bae6-335e6818ad51"
      },
      "source": [
        "# Training data is 80% of whole dataset\n",
        "\n",
        "training_data = []\n",
        "test_data = []\n",
        "\n",
        "for a, [samples, labels] in enumerate(wavedataset):\n",
        "\n",
        "    if a < 27900:\n",
        "        test_data.append([samples, labels])\n",
        "    else:\n",
        "        training_data.append([samples, labels])\n",
        "\n",
        "        \n",
        "print(np.array(training_data).shape)\n",
        "print(np.array(test_data).shape)"
      ],
      "execution_count": null,
      "outputs": [
        {
          "output_type": "stream",
          "text": [
            "(129600, 2)\n",
            "(27900, 2)\n"
          ],
          "name": "stdout"
        },
        {
          "output_type": "stream",
          "text": [
            "/usr/local/lib/python3.7/dist-packages/ipykernel_launcher.py:14: VisibleDeprecationWarning: Creating an ndarray from ragged nested sequences (which is a list-or-tuple of lists-or-tuples-or ndarrays with different lengths or shapes) is deprecated. If you meant to do this, you must specify 'dtype=object' when creating the ndarray\n",
            "  \n",
            "/usr/local/lib/python3.7/dist-packages/ipykernel_launcher.py:15: VisibleDeprecationWarning: Creating an ndarray from ragged nested sequences (which is a list-or-tuple of lists-or-tuples-or ndarrays with different lengths or shapes) is deprecated. If you meant to do this, you must specify 'dtype=object' when creating the ndarray\n",
            "  from ipykernel import kernelapp as app\n"
          ],
          "name": "stderr"
        }
      ]
    },
    {
      "cell_type": "code",
      "metadata": {
        "id": "HWvNeo6i9L7z"
      },
      "source": [
        "# for i in range (0, len(training_data), 30000):\n",
        "#   print('Train ' + str(i))\n",
        "#   plt.axis('off')\n",
        "#   plt.imshow(training_data[i][0][0])\n",
        "#   plt.show()\n",
        "#   plt.axis('off')\n",
        "#   plt.imshow(training_data[i][1])\n",
        "#   plt.show()"
      ],
      "execution_count": null,
      "outputs": []
    },
    {
      "cell_type": "code",
      "metadata": {
        "id": "Z7ABQVHFuqSn",
        "colab": {
          "base_uri": "https://localhost:8080/"
        },
        "outputId": "4c7ab401-acd3-4477-a101-d9945ddebfe2"
      },
      "source": [
        "np.savez_compressed('/content/drive/My Drive/ML_Ultrasound_Project/UROPdata/training_data_all_zeroed', training_data)"
      ],
      "execution_count": null,
      "outputs": [
        {
          "output_type": "stream",
          "text": [
            "/usr/local/lib/python3.7/dist-packages/numpy/core/_asarray.py:136: VisibleDeprecationWarning: Creating an ndarray from ragged nested sequences (which is a list-or-tuple of lists-or-tuples-or ndarrays with different lengths or shapes) is deprecated. If you meant to do this, you must specify 'dtype=object' when creating the ndarray\n",
            "  return array(a, dtype, copy=False, order=order, subok=True)\n"
          ],
          "name": "stderr"
        }
      ]
    },
    {
      "cell_type": "code",
      "metadata": {
        "id": "lt7ZHl-w9Rf0"
      },
      "source": [
        "# for i in range (0,len(test_data),1000):\n",
        "#   print('Test ' + str(i))\n",
        "#   plt.axis('off')\n",
        "#   plt.imshow(test_data[i][0][0])\n",
        "#   plt.show()"
      ],
      "execution_count": null,
      "outputs": []
    },
    {
      "cell_type": "code",
      "metadata": {
        "colab": {
          "base_uri": "https://localhost:8080/"
        },
        "id": "lrFtMlnnuqTk",
        "outputId": "a0b7d237-11b5-4884-851d-0429b23088c4"
      },
      "source": [
        "np.savez_compressed('/content/drive/My Drive/ML_Ultrasound_Project/UROPdata/test_data_all_zeroed', test_data)"
      ],
      "execution_count": null,
      "outputs": [
        {
          "output_type": "stream",
          "text": [
            "/usr/local/lib/python3.7/dist-packages/numpy/core/_asarray.py:136: VisibleDeprecationWarning: Creating an ndarray from ragged nested sequences (which is a list-or-tuple of lists-or-tuples-or ndarrays with different lengths or shapes) is deprecated. If you meant to do this, you must specify 'dtype=object' when creating the ndarray\n",
            "  return array(a, dtype, copy=False, order=order, subok=True)\n"
          ],
          "name": "stderr"
        }
      ]
    },
    {
      "cell_type": "code",
      "metadata": {
        "id": "XwdrJEv5exCc"
      },
      "source": [
        ""
      ],
      "execution_count": null,
      "outputs": []
    }
  ]
}