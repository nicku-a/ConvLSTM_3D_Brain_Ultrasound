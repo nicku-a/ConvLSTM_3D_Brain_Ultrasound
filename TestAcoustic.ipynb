{
  "nbformat": 4,
  "nbformat_minor": 0,
  "metadata": {
    "colab": {
      "name": "TestAcoustic.ipynb",
      "provenance": [],
      "collapsed_sections": [],
      "toc_visible": true,
      "machine_shape": "hm"
    },
    "kernelspec": {
      "display_name": "Python 3",
      "language": "python",
      "name": "python3"
    },
    "language_info": {
      "codemirror_mode": {
        "name": "ipython",
        "version": 3
      },
      "file_extension": ".py",
      "mimetype": "text/x-python",
      "name": "python",
      "nbconvert_exporter": "python",
      "pygments_lexer": "ipython3",
      "version": "3.6.9"
    },
    "widgets": {
      "application/vnd.jupyter.widget-state+json": {
        "68326de829dd4b8d9ade8e1fdbec5d88": {
          "model_module": "@jupyter-widgets/controls",
          "model_name": "HBoxModel",
          "state": {
            "_view_name": "HBoxView",
            "_dom_classes": [],
            "_model_name": "HBoxModel",
            "_view_module": "@jupyter-widgets/controls",
            "_model_module_version": "1.5.0",
            "_view_count": null,
            "_view_module_version": "1.5.0",
            "box_style": "",
            "layout": "IPY_MODEL_db3d8151b64f45369ef99a74b1c0d52b",
            "_model_module": "@jupyter-widgets/controls",
            "children": [
              "IPY_MODEL_ed0ee8dace74483a8a2cc0f89c9ba662",
              "IPY_MODEL_f09fd0d4d6914530900090398e499753"
            ]
          }
        },
        "db3d8151b64f45369ef99a74b1c0d52b": {
          "model_module": "@jupyter-widgets/base",
          "model_name": "LayoutModel",
          "state": {
            "_view_name": "LayoutView",
            "grid_template_rows": null,
            "right": null,
            "justify_content": null,
            "_view_module": "@jupyter-widgets/base",
            "overflow": null,
            "_model_module_version": "1.2.0",
            "_view_count": null,
            "flex_flow": null,
            "width": null,
            "min_width": null,
            "border": null,
            "align_items": null,
            "bottom": null,
            "_model_module": "@jupyter-widgets/base",
            "top": null,
            "grid_column": null,
            "overflow_y": null,
            "overflow_x": null,
            "grid_auto_flow": null,
            "grid_area": null,
            "grid_template_columns": null,
            "flex": null,
            "_model_name": "LayoutModel",
            "justify_items": null,
            "grid_row": null,
            "max_height": null,
            "align_content": null,
            "visibility": null,
            "align_self": null,
            "height": null,
            "min_height": null,
            "padding": null,
            "grid_auto_rows": null,
            "grid_gap": null,
            "max_width": null,
            "order": null,
            "_view_module_version": "1.2.0",
            "grid_template_areas": null,
            "object_position": null,
            "object_fit": null,
            "grid_auto_columns": null,
            "margin": null,
            "display": null,
            "left": null
          }
        },
        "ed0ee8dace74483a8a2cc0f89c9ba662": {
          "model_module": "@jupyter-widgets/controls",
          "model_name": "FloatProgressModel",
          "state": {
            "_view_name": "ProgressView",
            "style": "IPY_MODEL_820627198c7c4a3c93fd4f03eb4699aa",
            "_dom_classes": [],
            "description": "100%",
            "_model_name": "FloatProgressModel",
            "bar_style": "success",
            "max": 2497,
            "_view_module": "@jupyter-widgets/controls",
            "_model_module_version": "1.5.0",
            "value": 2497,
            "_view_count": null,
            "_view_module_version": "1.5.0",
            "orientation": "horizontal",
            "min": 0,
            "description_tooltip": null,
            "_model_module": "@jupyter-widgets/controls",
            "layout": "IPY_MODEL_0753167690c94b37a30832a47939fb67"
          }
        },
        "f09fd0d4d6914530900090398e499753": {
          "model_module": "@jupyter-widgets/controls",
          "model_name": "HTMLModel",
          "state": {
            "_view_name": "HTMLView",
            "style": "IPY_MODEL_5c562ea513bc4def874d79a1e3a97f11",
            "_dom_classes": [],
            "description": "",
            "_model_name": "HTMLModel",
            "placeholder": "​",
            "_view_module": "@jupyter-widgets/controls",
            "_model_module_version": "1.5.0",
            "value": " 2497/2497 [34:02&lt;00:00,  1.22it/s]",
            "_view_count": null,
            "_view_module_version": "1.5.0",
            "description_tooltip": null,
            "_model_module": "@jupyter-widgets/controls",
            "layout": "IPY_MODEL_f34ab18d58504f7ab23c924fb482ea1c"
          }
        },
        "820627198c7c4a3c93fd4f03eb4699aa": {
          "model_module": "@jupyter-widgets/controls",
          "model_name": "ProgressStyleModel",
          "state": {
            "_view_name": "StyleView",
            "_model_name": "ProgressStyleModel",
            "description_width": "initial",
            "_view_module": "@jupyter-widgets/base",
            "_model_module_version": "1.5.0",
            "_view_count": null,
            "_view_module_version": "1.2.0",
            "bar_color": null,
            "_model_module": "@jupyter-widgets/controls"
          }
        },
        "0753167690c94b37a30832a47939fb67": {
          "model_module": "@jupyter-widgets/base",
          "model_name": "LayoutModel",
          "state": {
            "_view_name": "LayoutView",
            "grid_template_rows": null,
            "right": null,
            "justify_content": null,
            "_view_module": "@jupyter-widgets/base",
            "overflow": null,
            "_model_module_version": "1.2.0",
            "_view_count": null,
            "flex_flow": null,
            "width": null,
            "min_width": null,
            "border": null,
            "align_items": null,
            "bottom": null,
            "_model_module": "@jupyter-widgets/base",
            "top": null,
            "grid_column": null,
            "overflow_y": null,
            "overflow_x": null,
            "grid_auto_flow": null,
            "grid_area": null,
            "grid_template_columns": null,
            "flex": null,
            "_model_name": "LayoutModel",
            "justify_items": null,
            "grid_row": null,
            "max_height": null,
            "align_content": null,
            "visibility": null,
            "align_self": null,
            "height": null,
            "min_height": null,
            "padding": null,
            "grid_auto_rows": null,
            "grid_gap": null,
            "max_width": null,
            "order": null,
            "_view_module_version": "1.2.0",
            "grid_template_areas": null,
            "object_position": null,
            "object_fit": null,
            "grid_auto_columns": null,
            "margin": null,
            "display": null,
            "left": null
          }
        },
        "5c562ea513bc4def874d79a1e3a97f11": {
          "model_module": "@jupyter-widgets/controls",
          "model_name": "DescriptionStyleModel",
          "state": {
            "_view_name": "StyleView",
            "_model_name": "DescriptionStyleModel",
            "description_width": "",
            "_view_module": "@jupyter-widgets/base",
            "_model_module_version": "1.5.0",
            "_view_count": null,
            "_view_module_version": "1.2.0",
            "_model_module": "@jupyter-widgets/controls"
          }
        },
        "f34ab18d58504f7ab23c924fb482ea1c": {
          "model_module": "@jupyter-widgets/base",
          "model_name": "LayoutModel",
          "state": {
            "_view_name": "LayoutView",
            "grid_template_rows": null,
            "right": null,
            "justify_content": null,
            "_view_module": "@jupyter-widgets/base",
            "overflow": null,
            "_model_module_version": "1.2.0",
            "_view_count": null,
            "flex_flow": null,
            "width": null,
            "min_width": null,
            "border": null,
            "align_items": null,
            "bottom": null,
            "_model_module": "@jupyter-widgets/base",
            "top": null,
            "grid_column": null,
            "overflow_y": null,
            "overflow_x": null,
            "grid_auto_flow": null,
            "grid_area": null,
            "grid_template_columns": null,
            "flex": null,
            "_model_name": "LayoutModel",
            "justify_items": null,
            "grid_row": null,
            "max_height": null,
            "align_content": null,
            "visibility": null,
            "align_self": null,
            "height": null,
            "min_height": null,
            "padding": null,
            "grid_auto_rows": null,
            "grid_gap": null,
            "max_width": null,
            "order": null,
            "_view_module_version": "1.2.0",
            "grid_template_areas": null,
            "object_position": null,
            "object_fit": null,
            "grid_auto_columns": null,
            "margin": null,
            "display": null,
            "left": null
          }
        },
        "05a3ff11cd5349d38ec5b828530e69fa": {
          "model_module": "@jupyter-widgets/controls",
          "model_name": "HBoxModel",
          "state": {
            "_view_name": "HBoxView",
            "_dom_classes": [],
            "_model_name": "HBoxModel",
            "_view_module": "@jupyter-widgets/controls",
            "_model_module_version": "1.5.0",
            "_view_count": null,
            "_view_module_version": "1.5.0",
            "box_style": "",
            "layout": "IPY_MODEL_8f711c9d3d2e4dd8ba6c09bfee43efa6",
            "_model_module": "@jupyter-widgets/controls",
            "children": [
              "IPY_MODEL_b06c2ce62df34933acb83a46e84e9806",
              "IPY_MODEL_4b43f53dc12e4d4a9f329eb1a0268ebd"
            ]
          }
        },
        "8f711c9d3d2e4dd8ba6c09bfee43efa6": {
          "model_module": "@jupyter-widgets/base",
          "model_name": "LayoutModel",
          "state": {
            "_view_name": "LayoutView",
            "grid_template_rows": null,
            "right": null,
            "justify_content": null,
            "_view_module": "@jupyter-widgets/base",
            "overflow": null,
            "_model_module_version": "1.2.0",
            "_view_count": null,
            "flex_flow": null,
            "width": null,
            "min_width": null,
            "border": null,
            "align_items": null,
            "bottom": null,
            "_model_module": "@jupyter-widgets/base",
            "top": null,
            "grid_column": null,
            "overflow_y": null,
            "overflow_x": null,
            "grid_auto_flow": null,
            "grid_area": null,
            "grid_template_columns": null,
            "flex": null,
            "_model_name": "LayoutModel",
            "justify_items": null,
            "grid_row": null,
            "max_height": null,
            "align_content": null,
            "visibility": null,
            "align_self": null,
            "height": null,
            "min_height": null,
            "padding": null,
            "grid_auto_rows": null,
            "grid_gap": null,
            "max_width": null,
            "order": null,
            "_view_module_version": "1.2.0",
            "grid_template_areas": null,
            "object_position": null,
            "object_fit": null,
            "grid_auto_columns": null,
            "margin": null,
            "display": null,
            "left": null
          }
        },
        "b06c2ce62df34933acb83a46e84e9806": {
          "model_module": "@jupyter-widgets/controls",
          "model_name": "FloatProgressModel",
          "state": {
            "_view_name": "ProgressView",
            "style": "IPY_MODEL_765e40fceaaa4e0fb7b1a89d3749587e",
            "_dom_classes": [],
            "description": "100%",
            "_model_name": "FloatProgressModel",
            "bar_style": "success",
            "max": 250,
            "_view_module": "@jupyter-widgets/controls",
            "_model_module_version": "1.5.0",
            "value": 250,
            "_view_count": null,
            "_view_module_version": "1.5.0",
            "orientation": "horizontal",
            "min": 0,
            "description_tooltip": null,
            "_model_module": "@jupyter-widgets/controls",
            "layout": "IPY_MODEL_276784a609974a55b1756b0999626781"
          }
        },
        "4b43f53dc12e4d4a9f329eb1a0268ebd": {
          "model_module": "@jupyter-widgets/controls",
          "model_name": "HTMLModel",
          "state": {
            "_view_name": "HTMLView",
            "style": "IPY_MODEL_a428dac3c756458598c3079c06160cae",
            "_dom_classes": [],
            "description": "",
            "_model_name": "HTMLModel",
            "placeholder": "​",
            "_view_module": "@jupyter-widgets/controls",
            "_model_module_version": "1.5.0",
            "value": " 250/250 [01:39&lt;00:00,  2.50it/s]",
            "_view_count": null,
            "_view_module_version": "1.5.0",
            "description_tooltip": null,
            "_model_module": "@jupyter-widgets/controls",
            "layout": "IPY_MODEL_6e0c9890ad9748859a7720899455f04e"
          }
        },
        "765e40fceaaa4e0fb7b1a89d3749587e": {
          "model_module": "@jupyter-widgets/controls",
          "model_name": "ProgressStyleModel",
          "state": {
            "_view_name": "StyleView",
            "_model_name": "ProgressStyleModel",
            "description_width": "initial",
            "_view_module": "@jupyter-widgets/base",
            "_model_module_version": "1.5.0",
            "_view_count": null,
            "_view_module_version": "1.2.0",
            "bar_color": null,
            "_model_module": "@jupyter-widgets/controls"
          }
        },
        "276784a609974a55b1756b0999626781": {
          "model_module": "@jupyter-widgets/base",
          "model_name": "LayoutModel",
          "state": {
            "_view_name": "LayoutView",
            "grid_template_rows": null,
            "right": null,
            "justify_content": null,
            "_view_module": "@jupyter-widgets/base",
            "overflow": null,
            "_model_module_version": "1.2.0",
            "_view_count": null,
            "flex_flow": null,
            "width": null,
            "min_width": null,
            "border": null,
            "align_items": null,
            "bottom": null,
            "_model_module": "@jupyter-widgets/base",
            "top": null,
            "grid_column": null,
            "overflow_y": null,
            "overflow_x": null,
            "grid_auto_flow": null,
            "grid_area": null,
            "grid_template_columns": null,
            "flex": null,
            "_model_name": "LayoutModel",
            "justify_items": null,
            "grid_row": null,
            "max_height": null,
            "align_content": null,
            "visibility": null,
            "align_self": null,
            "height": null,
            "min_height": null,
            "padding": null,
            "grid_auto_rows": null,
            "grid_gap": null,
            "max_width": null,
            "order": null,
            "_view_module_version": "1.2.0",
            "grid_template_areas": null,
            "object_position": null,
            "object_fit": null,
            "grid_auto_columns": null,
            "margin": null,
            "display": null,
            "left": null
          }
        },
        "a428dac3c756458598c3079c06160cae": {
          "model_module": "@jupyter-widgets/controls",
          "model_name": "DescriptionStyleModel",
          "state": {
            "_view_name": "StyleView",
            "_model_name": "DescriptionStyleModel",
            "description_width": "",
            "_view_module": "@jupyter-widgets/base",
            "_model_module_version": "1.5.0",
            "_view_count": null,
            "_view_module_version": "1.2.0",
            "_model_module": "@jupyter-widgets/controls"
          }
        },
        "6e0c9890ad9748859a7720899455f04e": {
          "model_module": "@jupyter-widgets/base",
          "model_name": "LayoutModel",
          "state": {
            "_view_name": "LayoutView",
            "grid_template_rows": null,
            "right": null,
            "justify_content": null,
            "_view_module": "@jupyter-widgets/base",
            "overflow": null,
            "_model_module_version": "1.2.0",
            "_view_count": null,
            "flex_flow": null,
            "width": null,
            "min_width": null,
            "border": null,
            "align_items": null,
            "bottom": null,
            "_model_module": "@jupyter-widgets/base",
            "top": null,
            "grid_column": null,
            "overflow_y": null,
            "overflow_x": null,
            "grid_auto_flow": null,
            "grid_area": null,
            "grid_template_columns": null,
            "flex": null,
            "_model_name": "LayoutModel",
            "justify_items": null,
            "grid_row": null,
            "max_height": null,
            "align_content": null,
            "visibility": null,
            "align_self": null,
            "height": null,
            "min_height": null,
            "padding": null,
            "grid_auto_rows": null,
            "grid_gap": null,
            "max_width": null,
            "order": null,
            "_view_module_version": "1.2.0",
            "grid_template_areas": null,
            "object_position": null,
            "object_fit": null,
            "grid_auto_columns": null,
            "margin": null,
            "display": null,
            "left": null
          }
        }
      }
    }
  },
  "cells": [
    {
      "cell_type": "markdown",
      "metadata": {
        "id": "Qo6aKD2YLKMx"
      },
      "source": [
        "# Predict wavefield borders using the network combined with an FD solver"
      ]
    },
    {
      "cell_type": "markdown",
      "metadata": {
        "id": "_daezAfmLX5c"
      },
      "source": [
        "This notebook tests the NN's ability to continually predict wavefield borders during a simulation."
      ]
    },
    {
      "cell_type": "markdown",
      "metadata": {
        "id": "3ww0SW9BIICD"
      },
      "source": [
        "**Install necessary versions of packages**"
      ]
    },
    {
      "cell_type": "code",
      "metadata": {
        "colab": {
          "base_uri": "https://localhost:8080/"
        },
        "id": "vuLCrGRKQYdC",
        "outputId": "bbfae1fe-9683-4807-88be-3d8da688db64"
      },
      "source": [
        "# Install packages if not available yet\n",
        "!pip install git+https://github.com/devitocodes/devito.git --quiet\n",
        "!pip install sympy==1.7.0 --quiet\n",
        "!pip install numpy==1.17.0 --quiet"
      ],
      "execution_count": null,
      "outputs": [
        {
          "output_type": "stream",
          "text": [
            "\u001b[K     |████████████████████████████████| 81kB 2.8MB/s \n",
            "\u001b[K     |████████████████████████████████| 102kB 7.4MB/s \n",
            "\u001b[K     |████████████████████████████████| 143kB 32.5MB/s \n",
            "\u001b[K     |████████████████████████████████| 51kB 6.9MB/s \n",
            "\u001b[K     |████████████████████████████████| 194kB 50.3MB/s \n",
            "\u001b[K     |████████████████████████████████| 71kB 8.5MB/s \n",
            "\u001b[K     |████████████████████████████████| 51kB 7.0MB/s \n",
            "\u001b[K     |████████████████████████████████| 71kB 8.6MB/s \n",
            "\u001b[?25h  Building wheel for devito (setup.py) ... \u001b[?25l\u001b[?25hdone\n",
            "  Building wheel for py-cpuinfo (setup.py) ... \u001b[?25l\u001b[?25hdone\n",
            "  Building wheel for cgen (setup.py) ... \u001b[?25l\u001b[?25hdone\n",
            "  Building wheel for codepy (setup.py) ... \u001b[?25l\u001b[?25hdone\n",
            "  Building wheel for pyrevolve (setup.py) ... \u001b[?25l\u001b[?25hdone\n",
            "  Building wheel for pytools (setup.py) ... \u001b[?25l\u001b[?25hdone\n",
            "  Building wheel for contexttimer (setup.py) ... \u001b[?25l\u001b[?25hdone\n",
            "\u001b[31mERROR: pytest-cov 2.12.1 has requirement coverage>=5.2.1, but you'll have coverage 3.7.1 which is incompatible.\u001b[0m\n",
            "\u001b[31mERROR: pytest-cov 2.12.1 has requirement pytest>=4.6, but you'll have pytest 3.6.4 which is incompatible.\u001b[0m\n",
            "\u001b[K     |████████████████████████████████| 5.9MB 3.0MB/s \n",
            "\u001b[K     |████████████████████████████████| 20.3MB 1.3MB/s \n",
            "\u001b[31mERROR: tensorflow 2.5.0 has requirement numpy~=1.19.2, but you'll have numpy 1.17.0 which is incompatible.\u001b[0m\n",
            "\u001b[31mERROR: kapre 0.3.5 has requirement numpy>=1.18.5, but you'll have numpy 1.17.0 which is incompatible.\u001b[0m\n",
            "\u001b[31mERROR: datascience 0.10.6 has requirement folium==0.2.1, but you'll have folium 0.8.3 which is incompatible.\u001b[0m\n",
            "\u001b[31mERROR: albumentations 0.1.12 has requirement imgaug<0.2.7,>=0.2.5, but you'll have imgaug 0.2.9 which is incompatible.\u001b[0m\n",
            "\u001b[?25h"
          ],
          "name": "stdout"
        }
      ]
    },
    {
      "cell_type": "code",
      "metadata": {
        "colab": {
          "base_uri": "https://localhost:8080/"
        },
        "id": "wvKkGyUOqar5",
        "outputId": "6f03b67e-e4e4-45e0-bf27-d5b7279a104d"
      },
      "source": [
        "!nvidia-smi"
      ],
      "execution_count": null,
      "outputs": [
        {
          "output_type": "stream",
          "text": [
            "Fri Jun 18 16:11:02 2021       \n",
            "+-----------------------------------------------------------------------------+\n",
            "| NVIDIA-SMI 465.27       Driver Version: 460.32.03    CUDA Version: 11.2     |\n",
            "|-------------------------------+----------------------+----------------------+\n",
            "| GPU  Name        Persistence-M| Bus-Id        Disp.A | Volatile Uncorr. ECC |\n",
            "| Fan  Temp  Perf  Pwr:Usage/Cap|         Memory-Usage | GPU-Util  Compute M. |\n",
            "|                               |                      |               MIG M. |\n",
            "|===============================+======================+======================|\n",
            "|   0  Tesla V100-SXM2...  Off  | 00000000:00:04.0 Off |                    0 |\n",
            "| N/A   35C    P0    23W / 300W |      0MiB / 16160MiB |      0%      Default |\n",
            "|                               |                      |                  N/A |\n",
            "+-------------------------------+----------------------+----------------------+\n",
            "                                                                               \n",
            "+-----------------------------------------------------------------------------+\n",
            "| Processes:                                                                  |\n",
            "|  GPU   GI   CI        PID   Type   Process name                  GPU Memory |\n",
            "|        ID   ID                                                   Usage      |\n",
            "|=============================================================================|\n",
            "|  No running processes found                                                 |\n",
            "+-----------------------------------------------------------------------------+\n"
          ],
          "name": "stdout"
        }
      ]
    },
    {
      "cell_type": "code",
      "metadata": {
        "colab": {
          "base_uri": "https://localhost:8080/"
        },
        "id": "sDYMkPwEQgWT",
        "outputId": "083616ea-cb8c-4500-fd77-ada291d47056"
      },
      "source": [
        "from google.colab import drive\n",
        "drive.mount('/content/drive', force_remount=True)"
      ],
      "execution_count": null,
      "outputs": [
        {
          "output_type": "stream",
          "text": [
            "Mounted at /content/drive\n"
          ],
          "name": "stdout"
        }
      ]
    },
    {
      "cell_type": "code",
      "metadata": {
        "colab": {
          "base_uri": "https://localhost:8080/"
        },
        "id": "lo4U6gon4gt4",
        "outputId": "1519d2d2-dd80-4551-d4f8-7da398a79cd5"
      },
      "source": [
        "%cd /content/drive/My\\ Drive/ML_Ultrasound_Project/UROPdata"
      ],
      "execution_count": null,
      "outputs": [
        {
          "output_type": "stream",
          "text": [
            "/content/drive/My Drive/ML_Ultrasound_Project/UROPdata\n"
          ],
          "name": "stdout"
        }
      ]
    },
    {
      "cell_type": "code",
      "metadata": {
        "colab": {
          "base_uri": "https://localhost:8080/"
        },
        "id": "JtbSrMWd14YS",
        "outputId": "e3f2ddce-953b-4ba8-bb19-04a00b3d813c"
      },
      "source": [
        "pip install -U fvcore --quiet"
      ],
      "execution_count": null,
      "outputs": [
        {
          "output_type": "stream",
          "text": [
            "\u001b[K     |████████████████████████████████| 51kB 2.1MB/s \n",
            "\u001b[K     |████████████████████████████████| 645kB 5.4MB/s \n",
            "\u001b[?25h  Building wheel for fvcore (setup.py) ... \u001b[?25l\u001b[?25hdone\n"
          ],
          "name": "stdout"
        }
      ]
    },
    {
      "cell_type": "code",
      "metadata": {
        "id": "u5WqU00L0Zya"
      },
      "source": [
        "import numpy as np\n",
        "import matplotlib as mpl\n",
        "import matplotlib.pyplot as plt\n",
        "import math\n",
        "import copy\n",
        "\n",
        "from collections import deque\n",
        "\n",
        "import pprint\n",
        "from mpl_toolkits.axes_grid1 import make_axes_locatable\n",
        "\n",
        "import devito\n",
        "from sympy import Symbol\n",
        "from devito import Operator\n",
        "from devito import Eq, solve\n",
        "from devito import TimeFunction\n",
        "\n",
        "import torch\n",
        "from torch.autograd import Variable\n",
        "from torch.utils.data import TensorDataset\n",
        "from torch.utils.data import DataLoader\n",
        "from torch import nn\n",
        "\n",
        "from sklearn.preprocessing import MinMaxScaler\n",
        "import cv2\n",
        "from scipy import stats\n",
        "from scipy.ndimage import gaussian_filter\n",
        "\n",
        "from tqdm.notebook import tqdm\n",
        "\n",
        "from networks.convlstm import RNN\n",
        "\n",
        "from medical.plotting import plot_shotrecord, plot_velocity\n",
        "from medical.source import ToneBurstSource, Receiver\n",
        "from medical.source import TimeAxis\n",
        "from medical.model import Model\n",
        "\n",
        "from fvcore.nn import FlopCountAnalysis"
      ],
      "execution_count": null,
      "outputs": []
    },
    {
      "cell_type": "markdown",
      "metadata": {
        "id": "h2Hp-gXsEHs3"
      },
      "source": [
        "**Global settings**"
      ]
    },
    {
      "cell_type": "code",
      "metadata": {
        "id": "T0yUJDEKEKzG"
      },
      "source": [
        "src_index = 315      # From 0 to 512\n",
        "num = 2500            # Simulation last number of time steps\n",
        "model_type = 'skull'  # water, skull or full\n",
        "\n",
        "if src_index > 448 or src_index <= 64:\n",
        "  nearest_border = 'right'\n",
        "if src_index > 64 and src_index <= 192:\n",
        "  nearest_border = 'bottom'\n",
        "if src_index > 192 and src_index <=320:\n",
        "  nearest_border = 'left'\n",
        "if src_index > 320 and src_index <= 448:\n",
        "  nearest_border = 'top'"
      ],
      "execution_count": null,
      "outputs": []
    },
    {
      "cell_type": "code",
      "metadata": {
        "id": "pWqQcmpZEKxN"
      },
      "source": [
        "def create_eliptic_array(n_sources, boundary_offset, dx, shape):\n",
        "    a = (shape[1] / 2)\n",
        "    b = (shape[0] / 2)\n",
        "\n",
        "    pos = np.empty((2, n_sources), dtype=np.float32)\n",
        "    angle = np.zeros((n_sources))\n",
        "    for idx in range(n_sources):\n",
        "        angle[idx] = ((idx) * 360.0 / n_sources) * 2 * np.pi / 360.0  # transducer angle\n",
        "        pos[1, idx] = (a * np.cos(angle[idx]) + shape[1] / 2)  # spherical equation of ellipse\n",
        "        pos[0, idx] = (b * np.sin(angle[idx]) + shape[0] / 2)  # spherical equation of ellipse\n",
        "\n",
        "    pos[0, :] += boundary_offset[0]\n",
        "    pos[1, :] += boundary_offset[1]\n",
        "    pos *= dx\n",
        "    # np.array((np.divide(grid[0] ** 2, major_ax ** 2) + np.divide(grid[1] ** 2, minor_ax ** 2)) < 1, dtype=np.float32)\n",
        "    return pos"
      ],
      "execution_count": null,
      "outputs": []
    },
    {
      "cell_type": "code",
      "metadata": {
        "id": "ya9h3zbyYUjZ"
      },
      "source": [
        "class MidpointNormalize(mpl.colors.Normalize):\n",
        "    def __init__(self, vmin, vmax, midpoint=0, clip=False):\n",
        "        self.midpoint = midpoint\n",
        "        mpl.colors.Normalize.__init__(self, vmin, vmax, clip)\n",
        "\n",
        "    def __call__(self, value, clip=None):\n",
        "        normalized_min = max(0, 1 / 2 * (1 - abs((self.midpoint - self.vmin) / (self.midpoint - self.vmax))))\n",
        "        normalized_max = min(1, 1 / 2 * (1 + abs((self.vmax - self.midpoint) / (self.midpoint - self.vmin))))\n",
        "        normalized_mid = 0.5\n",
        "        x, y = [self.vmin, self.midpoint, self.vmax], [normalized_min, normalized_mid, normalized_max]\n",
        "        return np.ma.masked_array(np.interp(value, x, y))\n",
        "\n",
        "class ModMidpointNormalize(mpl.colors.Normalize):\n",
        "    def __init__(self, vmin, vmax, midpoint=0, clip=False):\n",
        "        self.midpoint = midpoint\n",
        "        mpl.colors.Normalize.__init__(self, vmin, vmax, clip)\n",
        "\n",
        "    def __call__(self, value, clip=None):\n",
        "        normalized_min = max(0, 1 / 2 * (1 - abs((self.midpoint - self.vmin) / (self.midpoint - self.vmax))))\n",
        "        normalized_max = 1 #min(1, 1 / 2 * (1 + abs((self.vmax - self.midpoint) / (self.midpoint - self.vmin))))\n",
        "        normalized_mid = 0.5\n",
        "        x, y = [self.vmin, self.midpoint, self.vmax], [normalized_min, normalized_mid, normalized_max]\n",
        "        return np.ma.masked_array(np.interp(value, x, y))\n",
        "\n",
        "class OnesMidpointNormalize(mpl.colors.Normalize):\n",
        "    def __init__(self, vmin, vmax, midpoint=0, clip=False):\n",
        "        self.midpoint = midpoint\n",
        "        mpl.colors.Normalize.__init__(self, vmin, vmax, clip)\n",
        "\n",
        "    def __call__(self, value, clip=None):\n",
        "        normalized_min = -1 #max(0, 1 / 2 * (1 - abs((self.midpoint - self.vmin) / (self.midpoint - self.vmax))))\n",
        "        normalized_max = 1 #min(1, 1 / 2 * (1 + abs((self.vmax - self.midpoint) / (self.midpoint - self.vmin))))\n",
        "        normalized_mid = 0.5\n",
        "        x, y = [self.vmin, self.midpoint, self.vmax], [normalized_min, normalized_mid, normalized_max]\n",
        "        return np.ma.masked_array(np.interp(value, x, y))"
      ],
      "execution_count": null,
      "outputs": []
    },
    {
      "cell_type": "markdown",
      "metadata": {
        "id": "BXqVAF7sIPdR"
      },
      "source": [
        "##Model Integration with Devito"
      ]
    },
    {
      "cell_type": "code",
      "metadata": {
        "colab": {
          "base_uri": "https://localhost:8080/"
        },
        "id": "4D6NjGehz27b",
        "outputId": "3362bf38-ccac-4618-e9d9-e7862732f76b"
      },
      "source": [
        "# Load trained RNN state dict\n",
        "\n",
        "dev = torch.device(\"cuda\") if torch.cuda.is_available() else torch.device(\"cpu\")\n",
        "\n",
        "numLayers = 3\n",
        "numFeatures = 32\n",
        "\n",
        "rnn = RNN(numLayers, numFeatures)\n",
        "rnn.to(dev)\n",
        "rnn.load_state_dict(torch.load('/content/drive/My Drive/ML_Ultrasound_Project/UROPdata/rnn46_state_dict_zeroed_225'))\n",
        "rnn.eval()"
      ],
      "execution_count": null,
      "outputs": [
        {
          "output_type": "execute_result",
          "data": {
            "text/plain": [
              "RNN(\n",
              "  (convlstm1): CLSTM_cell(\n",
              "    (conv): Sequential(\n",
              "      (0): Conv2d(33, 128, kernel_size=(3, 3), stride=(1, 1), padding=(1, 1))\n",
              "      (1): GroupNorm(4, 128, eps=1e-05, affine=True)\n",
              "    )\n",
              "  )\n",
              "  (convlstm2): CLSTM_cell(\n",
              "    (conv): Sequential(\n",
              "      (0): Conv2d(64, 128, kernel_size=(3, 3), stride=(1, 1), padding=(1, 1))\n",
              "      (1): GroupNorm(4, 128, eps=1e-05, affine=True)\n",
              "    )\n",
              "  )\n",
              "  (convlstm3): CLSTM_cell(\n",
              "    (conv): Sequential(\n",
              "      (0): Conv2d(64, 128, kernel_size=(3, 3), stride=(1, 1), padding=(1, 1))\n",
              "      (1): GroupNorm(4, 128, eps=1e-05, affine=True)\n",
              "    )\n",
              "  )\n",
              "  (reshape_output): ProcessOut(\n",
              "    (tanh): Tanh()\n",
              "    (flat): Flatten(start_dim=1, end_dim=-1)\n",
              "    (linear): Linear(in_features=152352, out_features=11, bias=True)\n",
              "  )\n",
              "  (lambda_1): Lambda()\n",
              ")"
            ]
          },
          "metadata": {
            "tags": []
          },
          "execution_count": 31
        }
      ]
    },
    {
      "cell_type": "code",
      "metadata": {
        "id": "fHPkOenNPJ6C",
        "colab": {
          "base_uri": "https://localhost:8080/",
          "height": 1000
        },
        "outputId": "97e18e35-19cb-441d-9755-2b10eecbb352"
      },
      "source": [
        "devito.parameters.configuration['language'] = 'openmp'\n",
        "devito.parameters.configuration['mpi'] = False\n",
        "\n",
        "# By changing the src_index you'll be selecting a different source coordinate from the different 512 that have been created\n",
        "# By changing the model type to water, skull or full you'll get different background mediums\n",
        "# The cutting box has dimensions of (485, 355) in this case. This cannot change\n",
        "# The cutting box is centred in the medium\n",
        "# The complete medium is currently (1001, 1001) but you will have to make this bigger if you need to in order to\n",
        "# make sure that the wavefield does not come back into the cutting box after hitting the edges of the complete medium\n",
        "\n",
        "run_type = 'limited'  # infinite, limited\n",
        "\n",
        "# Infinite will run the operator like when you generated your dataset. When you plot the resulting wavefield\n",
        "# at the end, 'infinite' will look as if the wave is expanding into infinity. If you run it with 'limited'\n",
        "# however, you'll see how the wave bounces back against the edge. The goal is to make the 'limited' case\n",
        "# run as if it was the 'infinite' one by using your network.\n",
        "\n",
        "\n",
        "# Load different types of background models\n",
        "if model_type == 'water':\n",
        "    model = np.ones((480, 350)) * 1500.\n",
        "\n",
        "elif model_type == 'skull':\n",
        "    model = np.fromfile('/content/drive/My Drive/ML_Ultrasound_Project/UROPdata/data/alpha2D-ExactSkull.raw', dtype=np.float32, count=-1)\n",
        "    model = model.reshape([350, 480])[::1, ::1].transpose()\n",
        "\n",
        "elif model_type == 'full':\n",
        "    model = np.fromfile('/content/drive/My Drive/ML_Ultrasound_Project/UROPdata/data/alpha2D-TrueVp.raw', dtype=np.float32, count=-1)\n",
        "    model = model.reshape([350, 480])[::1, ::1].transpose()\n",
        "\n",
        "y_length = 480+66+4  #480+11\n",
        "x_length = 350+66+4  #350+11\n",
        "\n",
        "# Define a physical size\n",
        "if run_type == 'infinite':\n",
        "    shape = (1001, 1001)            # Number of grid point (nx, nz) - CHANGE THIS FOR THE MEDIUM SIZE\n",
        "else:\n",
        "    shape = (y_length, x_length)\n",
        "    \n",
        "spacing = (0.5e-3, 0.5e-3)      # Grid spacing in m.\n",
        "origin = (0., 0.)               # What is the location of the top left corner. This is necessary to define\n",
        "                                # the absolute location of the source and receivers\n",
        "\n",
        "# Define a velocity profile. The velocity is in m/s\n",
        "diff_x = shape[0] - model.shape[0]\n",
        "diff_y = shape[1] - model.shape[1]\n",
        "offset_x = int(np.floor(diff_x/2))\n",
        "offset_y = int(np.floor(diff_y/2))\n",
        "\n",
        "model = np.pad(model,\n",
        "               ((int(np.floor(diff_x/2)), int(np.ceil(diff_x/2))), \n",
        "                (int(np.floor(diff_y/2)), int(np.ceil(diff_y/2)))),\n",
        "               'edge')\n",
        "\n",
        "plt.imshow(np.transpose(model), origin='lower')\n",
        "\n",
        "# With the velocity and model size defined, we can create the seismic model that\n",
        "# encapsulates this properties. We also define the size of the absorbing layer as 10 grid points\n",
        "model = Model(vp=model, origin=origin, shape=shape, spacing=spacing, space_order=4, nbpml=0)\n",
        "\n",
        "t0 = 0.                 # Simulation starts a t=0\n",
        "dt = 0.08e-6            # Time step from model grid spacing\n",
        "\n",
        "time_range = TimeAxis(start=t0, num=num, step=dt)\n",
        "\n",
        "f0 = 0.40e6  # Source peak frequency is 400kHz\n",
        "src = ToneBurstSource(name='src', grid=model.grid, f0=f0, npoint=1, time_range=time_range)\n",
        "\n",
        "# First, position source centrally in all dimensions\n",
        "src_positions = create_eliptic_array(512, (offset_x, offset_y), spacing[0], (480, 350))\n",
        "src.coordinates.data[0, :] = src_positions[:, src_index]\n",
        "\n",
        "print(src.coordinates.data)\n",
        "\n",
        "plt.scatter(src_positions[0, :]/spacing[0], src_positions[1, :]/spacing[1])\n",
        "plt.show()\n",
        "\n",
        "# We can plot the time signature to see the wavelet\n",
        "src.show()\n",
        "\n",
        "# We can now show the source and receivers within our domain:\n",
        "# Red dot: Source location\n",
        "plot_velocity(model, source=src.coordinates.data)"
      ],
      "execution_count": null,
      "outputs": [
        {
          "output_type": "stream",
          "text": [
            "[[0.05801011 0.03945057]]\n"
          ],
          "name": "stdout"
        },
        {
          "output_type": "display_data",
          "data": {
            "image/png": "[encoded data removed]",
            "text/plain": [
              "<Figure size 576x432 with 1 Axes>"
            ]
          },
          "metadata": {
            "tags": [],
            "needs_background": "light"
          }
        },
        {
          "output_type": "display_data",
          "data": {
            "image/png": "[encoded data removed]",
            "text/plain": [
              "<Figure size 576x432 with 1 Axes>"
            ]
          },
          "metadata": {
            "tags": [],
            "needs_background": "light"
          }
        },
        {
          "output_type": "display_data",
          "data": {
            "image/png": "[encoded data removed]",
            "text/plain": [
              "<Figure size 576x432 with 2 Axes>"
            ]
          },
          "metadata": {
            "tags": [],
            "needs_background": "light"
          }
        }
      ]
    },
    {
      "cell_type": "code",
      "metadata": {
        "id": "2U5XN5_924RU"
      },
      "source": [
        "# In order to represent the wavefield u and the square slowness we need symbolic objects\n",
        "# corresponding to time-space-varying field (u, TimeFunction) and\n",
        "# space-varying field (m, Function)\n",
        "\n",
        "# Define the wavefield with the size of the model and the time dimension\n",
        "u = TimeFunction(name=\"u\", grid=model.grid, time_order=2, space_order=4, save=num)\n",
        "\n",
        "# Create a temporary symbol for H to avoid expensive sympy solve\n",
        "H = Symbol('H')\n",
        "\n",
        "# Define PDE\n",
        "eq = model.m * u.dt2 - H\n",
        "\n",
        "# Solve the symbolic equation for the field to be updated\n",
        "eq_time = solve(eq, u.forward)\n",
        "\n",
        "# Get the spacial FD\n",
        "biharmonic = u.biharmonic(1/model.m)\n",
        "laplacian = u.laplace + dt**2/12 * biharmonic\n",
        "\n",
        "# This discrete PDE can be solved in a time-marching way updating u(t+dt) from the previous time step\n",
        "# Devito as a shortcut for u(t+dt) which is u.forward. We can then rewrite the PDE as\n",
        "# a time marching updating equation known as a stencil using customized SymPy functions\n",
        "stencil = Eq(u.forward, eq_time.subs({H: laplacian}))\n",
        "\n",
        "# Finally we define the source injection function to generate the corresponding code\n",
        "src_term = src.inject(field=u.forward, expr=src * dt**2 / model.m)\n"
      ],
      "execution_count": null,
      "outputs": []
    },
    {
      "cell_type": "code",
      "metadata": {
        "id": "_p9oU_vz-INJ"
      },
      "source": [
        "def execute_operator(kwargs, time_min=None, time_max=None):\n",
        "    if time_min is None:\n",
        "        time_min = 1\n",
        "\n",
        "    if time_max is None:\n",
        "        time_max = num-1\n",
        "\n",
        "    kwargs['time_m'] = time_min\n",
        "    kwargs['time_M'] = time_max\n",
        "    \n",
        "    args = op.arguments(**kwargs)\n",
        "\n",
        "    arg_values = [args[p.name] for p in op.parameters]\n",
        "    try:\n",
        "        op.cfunction(*arg_values)\n",
        "\n",
        "    except ctypes.ArgumentError as e:\n",
        "        if e.args[0].startswith(\"argument \"):\n",
        "            argnum = int(e.args[0][9:].split(':')[0]) - 1\n",
        "            newmsg = \"error in argument '%s' with value '%s': %s\" % (\n",
        "                self._operator.parameters[argnum].name,\n",
        "                arg_values[argnum],\n",
        "                e.args[0])\n",
        "            raise ctypes.ArgumentError(newmsg) from e\n",
        "        else:\n",
        "            raise\n",
        "            \n",
        "    op._postprocess_arguments(args, **kwargs)\n"
      ],
      "execution_count": null,
      "outputs": []
    },
    {
      "cell_type": "code",
      "metadata": {
        "id": "U0Nly1P42Rzg"
      },
      "source": [
        "def get_network_inputs(w, y_len, x_len, top, right, bottom, left, t, norm):\n",
        "\n",
        "  inputs = []\n",
        "\n",
        "  # top row\n",
        "  for i in range(y_len-22):\n",
        "    square_timestep0_T = w[t-48][top][i:i+23, 11:34]\n",
        "    square_timestep1_T = w[t-42][top][i:i+23, 11:34]\n",
        "    square_timestep2_T = w[t-36][top][i:i+23, 11:34]\n",
        "    square_timestep3_T = w[t-30][top][i:i+23, 11:34]\n",
        "    square_timestep4_T = w[t-24][top][i:i+23, 11:34]\n",
        "    square_timestep5_T = w[t-18][top][i:i+23, 11:34]\n",
        "    square_timestep6_T = w[t-12][top][i:i+23, 11:34]\n",
        "    square_timestep7_T = w[t-6][top][i:i+23, 11:34]\n",
        "    square_timestep8_T = w[t][top][i:i+23, 11:34]\n",
        "\n",
        "    #link the 5 images together\n",
        "    inputs.append(np.stack((square_timestep0_T, square_timestep1_T, square_timestep2_T, square_timestep3_T, square_timestep4_T,\n",
        "                                square_timestep5_T, square_timestep6_T, square_timestep7_T, square_timestep8_T), axis = 0))\n",
        "\n",
        "  # right column\n",
        "  for i in range(x_len-22):\n",
        "    square_timestep0_T = np.rot90(w[t-48][right], 3)[i:i+23, 11:34]\n",
        "    square_timestep1_T = np.rot90(w[t-42][right], 3)[i:i+23, 11:34]\n",
        "    square_timestep2_T = np.rot90(w[t-36][right], 3)[i:i+23, 11:34]\n",
        "    square_timestep3_T = np.rot90(w[t-30][right], 3)[i:i+23, 11:34]\n",
        "    square_timestep4_T = np.rot90(w[t-24][right], 3)[i:i+23, 11:34]\n",
        "    square_timestep5_T = np.rot90(w[t-18][right], 3)[i:i+23, 11:34]\n",
        "    square_timestep6_T = np.rot90(w[t-12][right], 3)[i:i+23, 11:34]\n",
        "    square_timestep7_T = np.rot90(w[t-6][right], 3)[i:i+23, 11:34]\n",
        "    square_timestep8_T = np.rot90(w[t][right], 3)[i:i+23, 11:34]\n",
        "\n",
        "    inputs.append(np.stack((square_timestep0_T, square_timestep1_T, square_timestep2_T, square_timestep3_T, square_timestep4_T,\n",
        "                                square_timestep5_T, square_timestep6_T, square_timestep7_T, square_timestep8_T), axis = 0))\n",
        "\n",
        "  # bottom row\n",
        "  for i in range(y_len-22):\n",
        "    square_timestep0_T = np.rot90(w[t-48][bottom], 2)[i:i+23, 11:34]\n",
        "    square_timestep1_T = np.rot90(w[t-42][bottom], 2)[i:i+23, 11:34]\n",
        "    square_timestep2_T = np.rot90(w[t-36][bottom], 2)[i:i+23, 11:34]\n",
        "    square_timestep3_T = np.rot90(w[t-30][bottom], 2)[i:i+23, 11:34]\n",
        "    square_timestep4_T = np.rot90(w[t-24][bottom], 2)[i:i+23, 11:34]\n",
        "    square_timestep5_T = np.rot90(w[t-18][bottom], 2)[i:i+23, 11:34]\n",
        "    square_timestep6_T = np.rot90(w[t-12][bottom], 2)[i:i+23, 11:34]\n",
        "    square_timestep7_T = np.rot90(w[t-6][bottom], 2)[i:i+23, 11:34]\n",
        "    square_timestep8_T = np.rot90(w[t][bottom], 2)[i:i+23, 11:34]\n",
        "\n",
        "    inputs.append(np.stack((square_timestep0_T, square_timestep1_T, square_timestep2_T, square_timestep3_T, square_timestep4_T,\n",
        "                                square_timestep5_T, square_timestep6_T, square_timestep7_T, square_timestep8_T), axis = 0))\n",
        "\n",
        "  # left column\n",
        "  for i in range(x_len-22):\n",
        "    square_timestep0_T = np.rot90(w[t-48][left], 1)[i:i+23, 11:34]\n",
        "    square_timestep1_T = np.rot90(w[t-42][left], 1)[i:i+23, 11:34]\n",
        "    square_timestep2_T = np.rot90(w[t-36][left], 1)[i:i+23, 11:34]\n",
        "    square_timestep3_T = np.rot90(w[t-30][left], 1)[i:i+23, 11:34]\n",
        "    square_timestep4_T = np.rot90(w[t-24][left], 1)[i:i+23, 11:34]\n",
        "    square_timestep5_T = np.rot90(w[t-18][left], 1)[i:i+23, 11:34]\n",
        "    square_timestep6_T = np.rot90(w[t-12][left], 1)[i:i+23, 11:34]\n",
        "    square_timestep7_T = np.rot90(w[t-6][left], 1)[i:i+23, 11:34]\n",
        "    square_timestep8_T = np.rot90(w[t][left], 1)[i:i+23, 11:34]\n",
        "\n",
        "    inputs.append(np.stack((square_timestep0_T, square_timestep1_T, square_timestep2_T, square_timestep3_T, square_timestep4_T,\n",
        "                                square_timestep5_T, square_timestep6_T, square_timestep7_T, square_timestep8_T), axis = 0))\n",
        "\n",
        "  return torch.from_numpy(np.asarray(inputs)/norm).cuda().view(-1, 9, 1, 23, 23)\n"
      ],
      "execution_count": null,
      "outputs": []
    },
    {
      "cell_type": "code",
      "metadata": {
        "id": "ILLbKe84tn8y"
      },
      "source": [
        "# Generator\n",
        "class WrappedDataLoader:\n",
        "    def __init__(self, dl, func):\n",
        "        self.dl = dl\n",
        "        self.func = func\n",
        "\n",
        "    def __len__(self):\n",
        "        return len(self.dl)\n",
        "\n",
        "    def __iter__(self):\n",
        "        batches = iter(self.dl)\n",
        "        for b in batches:\n",
        "            yield (self.func(*b))"
      ],
      "execution_count": null,
      "outputs": []
    },
    {
      "cell_type": "code",
      "metadata": {
        "id": "7vW8-CDNtpjM"
      },
      "source": [
        "def preprocess(x):\n",
        "    return x.view(-1, 9, 1, 23, 23)#.to(dev)"
      ],
      "execution_count": null,
      "outputs": []
    },
    {
      "cell_type": "code",
      "metadata": {
        "colab": {
          "base_uri": "https://localhost:8080/"
        },
        "id": "n4459lhBtxfc",
        "outputId": "2e653d0c-bfbe-4227-f382-6e986205aa52"
      },
      "source": [
        "!nvidia-smi"
      ],
      "execution_count": null,
      "outputs": [
        {
          "output_type": "stream",
          "text": [
            "Mon Jun 21 10:42:39 2021       \n",
            "+-----------------------------------------------------------------------------+\n",
            "| NVIDIA-SMI 465.27       Driver Version: 460.32.03    CUDA Version: 11.2     |\n",
            "|-------------------------------+----------------------+----------------------+\n",
            "| GPU  Name        Persistence-M| Bus-Id        Disp.A | Volatile Uncorr. ECC |\n",
            "| Fan  Temp  Perf  Pwr:Usage/Cap|         Memory-Usage | GPU-Util  Compute M. |\n",
            "|                               |                      |               MIG M. |\n",
            "|===============================+======================+======================|\n",
            "|   0  Tesla V100-SXM2...  Off  | 00000000:00:04.0 Off |                    0 |\n",
            "| N/A   36C    P0    40W / 300W |   1363MiB / 16160MiB |      0%      Default |\n",
            "|                               |                      |                  N/A |\n",
            "+-------------------------------+----------------------+----------------------+\n",
            "                                                                               \n",
            "+-----------------------------------------------------------------------------+\n",
            "| Processes:                                                                  |\n",
            "|  GPU   GI   CI        PID   Type   Process name                  GPU Memory |\n",
            "|        ID   ID                                                   Usage      |\n",
            "|=============================================================================|\n",
            "+-----------------------------------------------------------------------------+\n"
          ],
          "name": "stdout"
        }
      ]
    },
    {
      "cell_type": "code",
      "metadata": {
        "colab": {
          "base_uri": "https://localhost:8080/",
          "height": 67,
          "referenced_widgets": [
            "68326de829dd4b8d9ade8e1fdbec5d88",
            "db3d8151b64f45369ef99a74b1c0d52b",
            "ed0ee8dace74483a8a2cc0f89c9ba662",
            "f09fd0d4d6914530900090398e499753",
            "820627198c7c4a3c93fd4f03eb4699aa",
            "0753167690c94b37a30832a47939fb67",
            "5c562ea513bc4def874d79a1e3a97f11",
            "f34ab18d58504f7ab23c924fb482ea1c"
          ]
        },
        "id": "QobNu-7lQYdD",
        "outputId": "b6b26e1a-5758-49d3-c8d6-244ba1c6ce77"
      },
      "source": [
        "top = (slice(0,None), slice(0,34))\n",
        "right = (slice(-34,None), slice(0,None))\n",
        "bottom = (slice(0,None), slice(-34,None))\n",
        "left = (slice(0,34), slice(0,None))\n",
        "\n",
        "norm = 3.005867554861652e-08\n",
        "\n",
        "# Prepare the operator\n",
        "u.data.fill(0.)\n",
        "op = Operator([stencil] + src_term, subs=model.spacing_map)\n",
        "    \n",
        "kwargs = {'dt': dt}\n",
        "\n",
        "shape = (1001, 1001) #(1001, 1001)            # Number of grid point (nx, nz) - CHANGE THIS FOR THE MEDIUM SIZE\n",
        "size_diff = int((shape[0]-1001)/2)\n",
        "\n",
        "# Execute the operator\n",
        "for t in tqdm(range(1, num-2)):\n",
        "  \n",
        "  borders = get_network_inputs(np.asarray(u.data, dtype=np.float32), y_length, x_length, top, right, bottom, left, t+1, norm)\n",
        "\n",
        "  with torch.no_grad():\n",
        "    predictions = rnn(borders).cpu().detach()\n",
        "    predictions *= norm\n",
        "\n",
        "  execute_operator(kwargs, t, t+1)\n",
        "\n",
        "  u.data[t+1][11:y_length-11,:11] = predictions[:y_length-22]\n",
        "  u.data[t+1][-11:,11:x_length-11] = torch.rot90(predictions[y_length-22:y_length-22 + x_length-22], 1)\n",
        "  u.data[t+1][11:y_length-11,-11:] = torch.rot90(predictions[y_length-22 + x_length-22:y_length-22 + x_length-22 + y_length-22], 2)\n",
        "  u.data[t+1][:11,11:x_length-11] = torch.rot90(predictions[y_length-22 + x_length-22 + y_length-22:], 3)\n",
        "\n",
        "  # Make corners zero\n",
        "  u.data[t+1][:11,:11] = 0\n",
        "  u.data[t+1][-11:,:11] = 0\n",
        "  u.data[t+1][:11, -11:] = 0\n",
        "  u.data[t+1][-11:, -11:] = 0\n",
        "\n",
        "    # print('=========================================================================================================')\n",
        "    # print('Timestep ',t)\n",
        "\n",
        "    # plt.figure(figsize=(15,6))\n",
        "    # plt.title('Wavefield with predicted borders')\n",
        "    # plt.imshow(np.transpose(u.data[t+1][:,:]), cmap = 'seismic', norm=ModMidpointNormalize(vmin=np.max(v), vmax=np.min(v), midpoint=0))\n",
        "    # plt.colorbar()\n",
        "    # plt.show()\n"
      ],
      "execution_count": null,
      "outputs": [
        {
          "output_type": "display_data",
          "data": {
            "application/vnd.jupyter.widget-view+json": {
              "model_id": "68326de829dd4b8d9ade8e1fdbec5d88",
              "version_minor": 0,
              "version_major": 2
            },
            "text/plain": [
              "HBox(children=(FloatProgress(value=0.0, max=2497.0), HTML(value='')))"
            ]
          },
          "metadata": {
            "tags": []
          }
        },
        {
          "output_type": "stream",
          "text": [
            "\n"
          ],
          "name": "stdout"
        }
      ]
    },
    {
      "cell_type": "code",
      "metadata": {
        "id": "SIb6WhGP2PpT"
      },
      "source": [
        "borders = get_network_inputs(np.zeros((2500,y_length,x_length), dtype=np.float32), y_length, x_length, top, right, bottom, left, 50, norm)"
      ],
      "execution_count": null,
      "outputs": []
    },
    {
      "cell_type": "code",
      "metadata": {
        "colab": {
          "base_uri": "https://localhost:8080/"
        },
        "id": "VaettwsE2Ce_",
        "outputId": "3e159634-afe1-4667-d628-6db723c367b5"
      },
      "source": [
        "flops = FlopCountAnalysis(rnn, borders)\n",
        "flops.total()\n",
        "# flops.by_module_and_operator()"
      ],
      "execution_count": null,
      "outputs": [
        {
          "output_type": "stream",
          "text": [
            "Unsupported operator aten::sigmoid encountered 81 time(s)\n",
            "Unsupported operator aten::tanh encountered 55 time(s)\n",
            "Unsupported operator aten::mul encountered 81 time(s)\n",
            "Unsupported operator aten::add encountered 27 time(s)\n"
          ],
          "name": "stderr"
        },
        {
          "output_type": "execute_result",
          "data": {
            "text/plain": [
              "109123795872"
            ]
          },
          "metadata": {
            "tags": []
          },
          "execution_count": 57
        }
      ]
    },
    {
      "cell_type": "code",
      "metadata": {
        "id": "DbbSJ1Eb09yJ"
      },
      "source": [
        "np.savez_compressed('/content/drive/My Drive/ML_Ultrasound_Project/UROPdata/modelled_waves_3x32_{}'.format(src_index), u.data)"
      ],
      "execution_count": null,
      "outputs": []
    },
    {
      "cell_type": "markdown",
      "metadata": {
        "id": "QX6gKiCz-Fm1"
      },
      "source": [
        "##Original 'Infinite' Devito Setup"
      ]
    },
    {
      "cell_type": "code",
      "metadata": {
        "colab": {
          "base_uri": "https://localhost:8080/",
          "height": 1000
        },
        "id": "qq9Y_rcK-FnE",
        "outputId": "4216e8cb-3a10-41f7-c71d-bc68a8d58c8f"
      },
      "source": [
        "devito.parameters.configuration['language'] = 'openmp'\n",
        "devito.parameters.configuration['mpi'] = False\n",
        "\n",
        "# By changing the src_index you'll be selecting a different source coordinate from the different 512 that have been created\n",
        "# By changing the model type to water, skull or full you'll get different background mediums\n",
        "# The cutting box has dimensions of (485, 355) in this case. This cannot change\n",
        "# The cutting box is centred in the medium\n",
        "# The complete medium is currently (1001, 1001) but you will have to make this bigger if you need to in order to\n",
        "# make sure that the wavefield does not come back into the cutting box after hitting the edges of the complete medium\n",
        "\n",
        "run_type = 'infinite'  # infinite, limited\n",
        "\n",
        "# Infinite will run the operator like when you generated your dataset. When you plot the resulting wavefield\n",
        "# at the end, 'infinite' will look as if the wave is expanding into infinity. If you run it with 'limited'\n",
        "# however, you'll see how the wave bounces back against the edge. The goal is to make the 'limited' case\n",
        "# run as if it was the 'infinite' one by using your network.\n",
        "\n",
        "# Load different types of background models\n",
        "if model_type == 'water':\n",
        "    model = np.ones((480, 350)) * 1500.\n",
        "\n",
        "elif model_type == 'skull':\n",
        "    model = np.fromfile('/content/drive/My Drive/ML_Ultrasound_Project/UROPdata/data/alpha2D-ExactSkull.raw', dtype=np.float32, count=-1)\n",
        "    model = model.reshape([350, 480])[::1, ::1].transpose()\n",
        "\n",
        "elif model_type == 'full':\n",
        "    model = np.fromfile('/content/drive/My Drive/ML_Ultrasound_Project/UROPdata/data/alpha2D-TrueVp.raw', dtype=np.float32, count=-1)\n",
        "    model = model.reshape([350, 480])[::1, ::1].transpose()\n",
        "\n",
        "y_length = 480+66+4  #480+11\n",
        "x_length = 350+66+4  #350+11\n",
        "\n",
        "# Define a physical size\n",
        "if run_type == 'infinite':\n",
        "    shape = (1001, 1001)            # Number of grid point (nx, nz) - CHANGE THIS FOR THE MEDIUM SIZE\n",
        "else:\n",
        "    shape = (y_length, x_length)\n",
        "    \n",
        "spacing = (0.5e-3, 0.5e-3)      # Grid spacing in m.\n",
        "origin = (0., 0.)               # What is the location of the top left corner. This is necessary to define\n",
        "                                # the absolute location of the source and receivers\n",
        "\n",
        "# Define a velocity profile. The velocity is in m/s\n",
        "diff_x = shape[0] - model.shape[0]\n",
        "diff_y = shape[1] - model.shape[1]\n",
        "offset_x = int(np.floor(diff_x/2))\n",
        "offset_y = int(np.floor(diff_y/2))\n",
        "\n",
        "model = np.pad(model,\n",
        "               ((int(np.floor(diff_x/2)), int(np.ceil(diff_x/2))), \n",
        "                (int(np.floor(diff_y/2)), int(np.ceil(diff_y/2)))),\n",
        "               'edge')\n",
        "\n",
        "plt.imshow(np.transpose(model), origin='lower')\n",
        "\n",
        "# With the velocity and model size defined, we can create the seismic model that\n",
        "# encapsulates this properties. We also define the size of the absorbing layer as 10 grid points\n",
        "model = Model(vp=model, origin=origin, shape=shape, spacing=spacing, space_order=4, nbpml=0)\n",
        "\n",
        "t0 = 0.                 # Simulation starts a t=0\n",
        "dt = 0.08e-6            # Time step from model grid spacing\n",
        "\n",
        "time_range = TimeAxis(start=t0, num=num, step=dt)\n",
        "\n",
        "f0 = 0.40e6  # Source peak frequency is 400kHz\n",
        "src = ToneBurstSource(name='src', grid=model.grid, f0=f0, npoint=1, time_range=time_range)\n",
        "\n",
        "# First, position source centrally in all dimensions\n",
        "src_positions = create_eliptic_array(512, (offset_x, offset_y), spacing[0], (480, 350))\n",
        "src.coordinates.data[0, :] = src_positions[:, src_index]\n",
        "\n",
        "print(src.coordinates.data)\n",
        "\n",
        "plt.scatter(src_positions[0, :]/spacing[0], src_positions[1, :]/spacing[1])\n",
        "plt.show()\n",
        "\n",
        "# We can plot the time signature to see the wavelet\n",
        "src.show()\n",
        "\n",
        "# We can now show the source and receivers within our domain:\n",
        "# Red dot: Source location\n",
        "plot_velocity(model, source=src.coordinates.data)"
      ],
      "execution_count": null,
      "outputs": [
        {
          "output_type": "stream",
          "text": [
            "[[0.17051011 0.18445057]]\n"
          ],
          "name": "stdout"
        },
        {
          "output_type": "display_data",
          "data": {
            "image/png": "[encoded data removed]",
            "text/plain": [
              "<Figure size 576x432 with 1 Axes>"
            ]
          },
          "metadata": {
            "tags": [],
            "needs_background": "light"
          }
        },
        {
          "output_type": "display_data",
          "data": {
            "image/png": "[encoded data removed]",
            "text/plain": [
              "<Figure size 576x432 with 1 Axes>"
            ]
          },
          "metadata": {
            "tags": [],
            "needs_background": "light"
          }
        },
        {
          "output_type": "display_data",
          "data": {
            "image/png": "[encoded data removed]",
            "text/plain": [
              "<Figure size 576x432 with 2 Axes>"
            ]
          },
          "metadata": {
            "tags": [],
            "needs_background": "light"
          }
        }
      ]
    },
    {
      "cell_type": "code",
      "metadata": {
        "id": "wTQq6mKR-FnQ"
      },
      "source": [
        "# In order to represent the wavefield u and the square slowness we need symbolic objects\n",
        "# corresponding to time-space-varying field (u, TimeFunction) and\n",
        "# space-varying field (m, Function)\n",
        "\n",
        "# Define the wavefield with the size of the model and the time dimension\n",
        "u = TimeFunction(name=\"u\", grid=model.grid, time_order=2, space_order=4, save=num)\n",
        "\n",
        "# Create a temporary symbol for H to avoid expensive sympy solve\n",
        "H = Symbol('H')\n",
        "\n",
        "# Define PDE\n",
        "eq = model.m * u.dt2 - H\n",
        "\n",
        "# Solve the symbolic equation for the field to be updated\n",
        "eq_time = solve(eq, u.forward)\n",
        "\n",
        "# Get the spacial FD\n",
        "biharmonic = u.biharmonic(1/model.m)\n",
        "laplacian = u.laplace + dt**2/12 * biharmonic\n",
        "\n",
        "# This discrete PDE can be solved in a time-marching way updating u(t+dt) from the previous time step\n",
        "# Devito as a shortcut for u(t+dt) which is u.forward. We can then rewrite the PDE as\n",
        "# a time marching updating equation known as a stencil using customized SymPy functions\n",
        "stencil = Eq(u.forward, eq_time.subs({H: laplacian}))\n",
        "\n",
        "# Finally we define the source injection function to generate the corresponding code\n",
        "src_term = src.inject(field=u.forward, expr=src * dt**2 / model.m)\n"
      ],
      "execution_count": null,
      "outputs": []
    },
    {
      "cell_type": "code",
      "metadata": {
        "id": "oENjb2Zb-FnS"
      },
      "source": [
        "def execute_operator(kwargs, time_min=None, time_max=None):\n",
        "    if time_min is None:\n",
        "        time_min = 1\n",
        "\n",
        "    if time_max is None:\n",
        "        time_max = num-1\n",
        "\n",
        "    kwargs['time_m'] = time_min\n",
        "    kwargs['time_M'] = time_max\n",
        "    \n",
        "    args = op.arguments(**kwargs)\n",
        "\n",
        "    arg_values = [args[p.name] for p in op.parameters]\n",
        "    try:\n",
        "        op.cfunction(*arg_values)\n",
        "\n",
        "    except ctypes.ArgumentError as e:\n",
        "        if e.args[0].startswith(\"argument \"):\n",
        "            argnum = int(e.args[0][9:].split(':')[0]) - 1\n",
        "            newmsg = \"error in argument '%s' with value '%s': %s\" % (\n",
        "                self._operator.parameters[argnum].name,\n",
        "                arg_values[argnum],\n",
        "                e.args[0])\n",
        "            raise ctypes.ArgumentError(newmsg) from e\n",
        "        else:\n",
        "            raise\n",
        "            \n",
        "    op._postprocess_arguments(args, **kwargs)\n"
      ],
      "execution_count": null,
      "outputs": []
    },
    {
      "cell_type": "code",
      "metadata": {
        "id": "705_jdHs-FnV"
      },
      "source": [
        "# Prepare the operator\n",
        "u.data.fill(0.)\n",
        "op = Operator([stencil] + src_term, subs=model.spacing_map)\n",
        "    \n",
        "kwargs = {'dt': dt}\n",
        "\n",
        "# Execute the operator\n",
        "for t in tqdm(range(1, num-2)):\n",
        "    \n",
        "    execute_operator(kwargs, t, t+1)\n",
        "\n",
        "    v = np.copy(u.data[t+1])\n",
        "\n",
        "    # print('=========================================================================================================')\n",
        "    # print('Timestep ',t)\n",
        "    # plt.figure(figsize=(25,20))\n",
        "    # plt.title('Left column images')\n",
        "    # plt.yticks([11])\n",
        "    # plt.imshow(np.rot90(v[275:726,275:325], 3))\n",
        "    # plt.show()\n",
        "\n",
        "    u.data[t+1] = v"
      ],
      "execution_count": null,
      "outputs": []
    },
    {
      "cell_type": "code",
      "metadata": {
        "colab": {
          "base_uri": "https://localhost:8080/"
        },
        "id": "voa77HYEdVNq",
        "outputId": "e1bf2139-2d81-4cfb-8f45-9313f4e5d2ad"
      },
      "source": [
        "# Save middle\n",
        "print(u.data.shape)\n",
        "original_waves = []\n",
        "inf_slices = (slice(225, -226), slice(290, -291))\n",
        "for t in range(num):\n",
        "    original_waves.append(u.data[t][inf_slices])\n",
        "original_waves = np.array(original_waves)\n",
        "print(original_waves.shape)"
      ],
      "execution_count": null,
      "outputs": [
        {
          "output_type": "stream",
          "text": [
            "(2500, 1001, 1001)\n",
            "(2500, 550, 420)\n"
          ],
          "name": "stdout"
        }
      ]
    },
    {
      "cell_type": "code",
      "metadata": {
        "id": "VTrONy0k829f"
      },
      "source": [
        "np.savez_compressed('/content/drive/My Drive/ML_Ultrasound_Project/UROPdata/original_waves_{}'.format(src_index), original_waves)"
      ],
      "execution_count": null,
      "outputs": []
    },
    {
      "cell_type": "markdown",
      "metadata": {
        "id": "T313LMz863aU"
      },
      "source": [
        "##'Limited' Devito Setup"
      ]
    },
    {
      "cell_type": "code",
      "metadata": {
        "id": "DrzScClB63ag"
      },
      "source": [
        "devito.parameters.configuration['language'] = 'openmp'\n",
        "devito.parameters.configuration['mpi'] = False\n",
        "\n",
        "# By changing the src_index you'll be selecting a different source coordinate from the different 512 that have been created\n",
        "# By changing the model type to water, skull or full you'll get different background mediums\n",
        "# The cutting box has dimensions of (485, 355) in this case. This cannot change\n",
        "# The cutting box is centred in the medium\n",
        "# The complete medium is currently (1001, 1001) but you will have to make this bigger if you need to in order to\n",
        "# make sure that the wavefield does not come back into the cutting box after hitting the edges of the complete medium\n",
        "\n",
        "run_type = 'limited'  # infinite, limited\n",
        "\n",
        "# Infinite will run the operator like when you generated your dataset. When you plot the resulting wavefield\n",
        "# at the end, 'infinite' will look as if the wave is expanding into infinity. If you run it with 'limited'\n",
        "# however, you'll see how the wave bounces back against the edge. The goal is to make the 'limited' case\n",
        "# run as if it was the 'infinite' one by using your network.\n",
        "\n",
        "# Load different types of background models\n",
        "if model_type == 'water':\n",
        "    model = np.ones((480, 350)) * 1500.\n",
        "\n",
        "elif model_type == 'skull':\n",
        "    model = np.fromfile('/content/drive/My Drive/ML_Ultrasound_Project/UROPdata/data/alpha2D-ExactSkull.raw', dtype=np.float32, count=-1)\n",
        "    model = model.reshape([350, 480])[::1, ::1].transpose()\n",
        "\n",
        "elif model_type == 'full':\n",
        "    model = np.fromfile('/content/drive/My Drive/ML_Ultrasound_Project/UROPdata/data/alpha2D-TrueVp.raw', dtype=np.float32, count=-1)\n",
        "    model = model.reshape([350, 480])[::1, ::1].transpose()\n",
        "\n",
        "y_length = 480+66+4  #480+11\n",
        "x_length = 350+66+4  #350+11\n",
        "\n",
        "# Define a physical size\n",
        "if run_type == 'infinite':\n",
        "    shape = (1001, 1001)            # Number of grid point (nx, nz) - CHANGE THIS FOR THE MEDIUM SIZE\n",
        "else:\n",
        "    shape = (y_length, x_length)\n",
        "    \n",
        "spacing = (0.5e-3, 0.5e-3)      # Grid spacing in m.\n",
        "origin = (0., 0.)               # What is the location of the top left corner. This is necessary to define\n",
        "                                # the absolute location of the source and receivers\n",
        "\n",
        "# Define a velocity profile. The velocity is in m/s\n",
        "diff_x = shape[0] - model.shape[0]\n",
        "diff_y = shape[1] - model.shape[1]\n",
        "offset_x = int(np.floor(diff_x/2))\n",
        "offset_y = int(np.floor(diff_y/2))\n",
        "\n",
        "model = np.pad(model,\n",
        "               ((int(np.floor(diff_x/2)), int(np.ceil(diff_x/2))), \n",
        "                (int(np.floor(diff_y/2)), int(np.ceil(diff_y/2)))),\n",
        "               'edge')\n",
        "\n",
        "plt.imshow(np.transpose(model), origin='lower')\n",
        "\n",
        "# With the velocity and model size defined, we can create the seismic model that\n",
        "# encapsulates this properties. We also define the size of the absorbing layer as 10 grid points\n",
        "model = Model(vp=model, origin=origin, shape=shape, spacing=spacing, space_order=4, nbpml=0)\n",
        "\n",
        "t0 = 0.                 # Simulation starts a t=0\n",
        "dt = 0.08e-6            # Time step from model grid spacing\n",
        "\n",
        "time_range = TimeAxis(start=t0, num=num, step=dt)\n",
        "\n",
        "f0 = 0.40e6  # Source peak frequency is 400kHz\n",
        "src = ToneBurstSource(name='src', grid=model.grid, f0=f0, npoint=1, time_range=time_range)\n",
        "\n",
        "# First, position source centrally in all dimensions\n",
        "src_positions = create_eliptic_array(512, (offset_x, offset_y), spacing[0], (480, 350))\n",
        "src.coordinates.data[0, :] = src_positions[:, src_index]\n",
        "\n",
        "print(src.coordinates.data)\n",
        "\n",
        "plt.scatter(src_positions[0, :]/spacing[0], src_positions[1, :]/spacing[1])\n",
        "plt.show()\n",
        "\n",
        "# We can plot the time signature to see the wavelet\n",
        "src.show()\n",
        "\n",
        "# We can now show the source and receivers within our domain:\n",
        "# Red dot: Source location\n",
        "plot_velocity(model, source=src.coordinates.data)"
      ],
      "execution_count": null,
      "outputs": []
    },
    {
      "cell_type": "code",
      "metadata": {
        "id": "BVU_-ayu63ah"
      },
      "source": [
        "# In order to represent the wavefield u and the square slowness we need symbolic objects\n",
        "# corresponding to time-space-varying field (u, TimeFunction) and\n",
        "# space-varying field (m, Function)\n",
        "\n",
        "# Define the wavefield with the size of the model and the time dimension\n",
        "u = TimeFunction(name=\"u\", grid=model.grid, time_order=2, space_order=4, save=num)\n",
        "\n",
        "# Create a temporary symbol for H to avoid expensive sympy solve\n",
        "H = Symbol('H')\n",
        "\n",
        "# Define PDE\n",
        "eq = model.m * u.dt2 - H\n",
        "\n",
        "# Solve the symbolic equation for the field to be updated\n",
        "eq_time = solve(eq, u.forward)\n",
        "\n",
        "# Get the spacial FD\n",
        "biharmonic = u.biharmonic(1/model.m)\n",
        "laplacian = u.laplace + dt**2/12 * biharmonic\n",
        "\n",
        "# This discrete PDE can be solved in a time-marching way updating u(t+dt) from the previous time step\n",
        "# Devito as a shortcut for u(t+dt) which is u.forward. We can then rewrite the PDE as\n",
        "# a time marching updating equation known as a stencil using customized SymPy functions\n",
        "stencil = Eq(u.forward, eq_time.subs({H: laplacian}))\n",
        "\n",
        "# Finally we define the source injection function to generate the corresponding code\n",
        "src_term = src.inject(field=u.forward, expr=src * dt**2 / model.m)\n"
      ],
      "execution_count": null,
      "outputs": []
    },
    {
      "cell_type": "code",
      "metadata": {
        "id": "dRFa-5fE63ah"
      },
      "source": [
        "def execute_operator(kwargs, time_min=None, time_max=None):\n",
        "    if time_min is None:\n",
        "        time_min = 1\n",
        "\n",
        "    if time_max is None:\n",
        "        time_max = num-1\n",
        "\n",
        "    kwargs['time_m'] = time_min\n",
        "    kwargs['time_M'] = time_max\n",
        "    \n",
        "    args = op.arguments(**kwargs)\n",
        "\n",
        "    arg_values = [args[p.name] for p in op.parameters]\n",
        "    try:\n",
        "        op.cfunction(*arg_values)\n",
        "\n",
        "    except ctypes.ArgumentError as e:\n",
        "        if e.args[0].startswith(\"argument \"):\n",
        "            argnum = int(e.args[0][9:].split(':')[0]) - 1\n",
        "            newmsg = \"error in argument '%s' with value '%s': %s\" % (\n",
        "                self._operator.parameters[argnum].name,\n",
        "                arg_values[argnum],\n",
        "                e.args[0])\n",
        "            raise ctypes.ArgumentError(newmsg) from e\n",
        "        else:\n",
        "            raise\n",
        "            \n",
        "    op._postprocess_arguments(args, **kwargs)\n"
      ],
      "execution_count": null,
      "outputs": []
    },
    {
      "cell_type": "code",
      "metadata": {
        "id": "XjGdbORZ63ah"
      },
      "source": [
        "# Prepare the operator\n",
        "u.data.fill(0.)\n",
        "op = Operator([stencil] + src_term, subs=model.spacing_map)\n",
        "    \n",
        "kwargs = {'dt': dt}\n",
        "\n",
        "# Execute the operator\n",
        "for t in tqdm(range(1, num-2)):\n",
        "    execute_operator(kwargs, t, t+1)\n",
        "\n",
        "    v = np.copy(u.data[t+1])\n",
        "\n",
        "    # print('=========================================================================================================')\n",
        "    # print('Timestep ',t)\n",
        "    # plt.figure(figsize=(25,20))\n",
        "    # plt.title('Left column images')\n",
        "    # plt.yticks([11])\n",
        "    # plt.imshow(np.rot90(v[275:726,275:325], 3))\n",
        "    # plt.show()\n",
        "\n",
        "    u.data[t+1] = v\n",
        "\n",
        "limited_waves = copy.deepcopy(u.data)"
      ],
      "execution_count": null,
      "outputs": []
    },
    {
      "cell_type": "code",
      "metadata": {
        "id": "Cs2ZhJGU889b"
      },
      "source": [
        "np.savez_compressed('/content/drive/My Drive/ML_Ultrasound_Project/UROPdata/limited_waves', a=u.data)"
      ],
      "execution_count": null,
      "outputs": []
    },
    {
      "cell_type": "code",
      "metadata": {
        "id": "GrHMUFCj63ai"
      },
      "source": [
        "# # Plot the results, every 20 timesteps for now\n",
        "# for t in range(0, num, 100):    \n",
        "#     if run_type == 'infinite':\n",
        "#         slices = (slice(255, -255), slice(320, -320))\n",
        "#     else:\n",
        "#         slices = (slice(0, None), slice(0, None))\n",
        "    \n",
        "#     plt.imshow(np.transpose(u.data[t][slices]))\n",
        "#     plt.show()"
      ],
      "execution_count": null,
      "outputs": []
    },
    {
      "cell_type": "code",
      "metadata": {
        "id": "uwtfkspc7V7j"
      },
      "source": [
        ""
      ],
      "execution_count": null,
      "outputs": []
    },
    {
      "cell_type": "markdown",
      "metadata": {
        "id": "SwrIebaa7XB2"
      },
      "source": [
        "##Compare solutions"
      ]
    },
    {
      "cell_type": "code",
      "metadata": {
        "id": "bgqnnV7D9EZu"
      },
      "source": [
        "src_index = 315\n",
        "\n",
        "original_waves = np.load('/content/drive/My Drive/ML_Ultrasound_Project/UROPdata/original_waves_{}.npz'.format(src_index))['arr_0']\n",
        "# limited_waves = np.load('/content/drive/My Drive/ML_Ultrasound_Project/UROPdata/limited_waves.npz')['a']\n",
        "modelled_waves = np.load('/content/drive/My Drive/ML_Ultrasound_Project/UROPdata/modelled_waves_3x32_{}.npz'.format(src_index))['arr_0']"
      ],
      "execution_count": null,
      "outputs": []
    },
    {
      "cell_type": "code",
      "metadata": {
        "id": "qd81PVvqtuP2"
      },
      "source": [
        "# inf_slices = (slice(255-35, -255-35), slice(320-35, -320-35))\n",
        "inf_slices = (slice(225, -226), slice(290, -291))"
      ],
      "execution_count": null,
      "outputs": []
    },
    {
      "cell_type": "code",
      "metadata": {
        "colab": {
          "base_uri": "https://localhost:8080/"
        },
        "id": "_xhl8pWUtbEx",
        "outputId": "5855a88e-e9fb-4c49-9ca0-4f0cc5bdf34b"
      },
      "source": [
        "percentage_error = np.mean((original_waves-modelled_waves)*100/np.max(original_waves))\n",
        "\n",
        "print('Average % error: {}'.format(percentage_error))"
      ],
      "execution_count": null,
      "outputs": [
        {
          "output_type": "stream",
          "text": [
            "Average % error: -0.01338666770607233\n"
          ],
          "name": "stdout"
        }
      ]
    },
    {
      "cell_type": "code",
      "metadata": {
        "id": "xt-z0aNSTMdy"
      },
      "source": [
        "# Load different types of background models\n",
        "model_type = 'skull'\n",
        "\n",
        "if model_type == 'skull':\n",
        "    model = np.fromfile('/content/drive/My Drive/ML_Ultrasound_Project/UROPdata/data/alpha2D-ExactSkull.raw', dtype=np.float32, count=-1)\n",
        "    model = model.reshape([350, 480])[::1, ::1].transpose()\n",
        "\n",
        "elif model_type == 'full':\n",
        "    model = np.fromfile('/content/drive/My Drive/ML_Ultrasound_Project/UROPdata/data/alpha2D-TrueVp.raw', dtype=np.float32, count=-1)\n",
        "    model = model.reshape([350, 480])[::1, ::1].transpose()\n",
        "\n",
        "y_length = 480+66+4  #480+11\n",
        "x_length = 350+66+4  #350+11\n",
        "\n",
        "# Define a physical size\n",
        "shape = (1001, 1001)            # Number of grid point (nx, nz) - CHANGE THIS FOR THE MEDIUM SIZE\n",
        "\n",
        "    \n",
        "spacing = (0.5e-3, 0.5e-3)      # Grid spacing in m.\n",
        "origin = (0., 0.)               # What is the location of the top left corner. This is necessary to define\n",
        "                                # the absolute location of the source and receivers\n",
        "\n",
        "# Define a velocity profile. The velocity is in m/s\n",
        "diff_x = shape[0] - model.shape[0]\n",
        "diff_y = shape[1] - model.shape[1]\n",
        "offset_x = int(np.floor(diff_x/2))\n",
        "offset_y = int(np.floor(diff_y/2))\n",
        "\n",
        "full_model = np.pad(model,\n",
        "               ((int(np.floor(diff_x/2)), int(np.ceil(diff_x/2))), \n",
        "                (int(np.floor(diff_y/2)), int(np.ceil(diff_y/2)))),\n",
        "               'edge')"
      ],
      "execution_count": null,
      "outputs": []
    },
    {
      "cell_type": "code",
      "metadata": {
        "id": "Lb-fVESqT64i"
      },
      "source": [
        "model = np.transpose(full_model[inf_slices])\n",
        "# model[np.where(model == 1500)] = 0\n",
        "\n",
        "# for src = 315, source coordinates are [78,116] -> flip to [116,78]\n",
        "source= [116,78]\n",
        "# for src = 128, sc = [515,211]\n",
        "# source= [516,210]"
      ],
      "execution_count": null,
      "outputs": []
    },
    {
      "cell_type": "code",
      "metadata": {
        "id": "uL_nbyFOkfcw"
      },
      "source": [
        "def nrmse_loss(y_pred, y_true):\n",
        "    diff = np.divide(y_pred - y_true, np.max(y_true) - np.min(y_true) + 1e-6)\n",
        "    return np.sqrt(np.mean(np.square(diff)))"
      ],
      "execution_count": null,
      "outputs": []
    },
    {
      "cell_type": "markdown",
      "metadata": {
        "id": "xbPSwTZ_NLZD"
      },
      "source": [
        "**Plot and compare model vs infinite**"
      ]
    },
    {
      "cell_type": "code",
      "metadata": {
        "id": "4QXedHkw7fA_"
      },
      "source": [
        "skull_vmin = np.min(model)\n",
        "skull_vmax = np.max(model)\n",
        "\n",
        "skull_norm = ModMidpointNormalize(vmin=skull_vmin, vmax=skull_vmax, midpoint=1500)\n",
        "\n",
        "cmap = 'seismic'\n",
        "skull_cmap = 'RdGy'\n",
        "err_cmap = 'Greys'\n",
        "\n",
        "print('total nrmse: {}'.format(nrmse_loss(modelled_waves, original_waves)))\n",
        "\n",
        "tp=0\n",
        "\n",
        "fig, ax = plt.subplots(3,6, figsize=(30,30))\n",
        "\n",
        "for t in range(200, 2500, 400):\n",
        "\n",
        "  inf_img = np.transpose(original_waves[t])/np.max(np.abs(original_waves[t]))\n",
        "  mod_img = np.transpose(modelled_waves[t])/np.max(np.abs(modelled_waves[t]))\n",
        "  # inf_img = inf_img[11:-11, 11:-11]\n",
        "  # mod_img = mod_img[11:-11, 11:-11]\n",
        "  err_img = np.abs(np.divide((inf_img-mod_img)*100, np.max(np.abs(inf_img))))\n",
        "\n",
        "  print('t: {}, nrmse: {}, max % error: {}'.format(t, nrmse_loss(mod_img, inf_img), np.max(err_img)))\n",
        "\n",
        "  divider = make_axes_locatable(ax[0,tp])\n",
        "  cax1 = divider.append_axes(\"right\", size=\"5%\", pad=0.05)\n",
        "  ax[0,tp].set_title('Timestep {}'.format(t))\n",
        "  ax[0,tp].set_yticks([])\n",
        "  ax[0,tp].set_xticks([])\n",
        "  im1 = ax[0,tp].imshow(inf_img, cmap=cmap, vmin=-1, vmax=1)\n",
        "  ax[0,tp].scatter(source[0], source[1], s=25, c='red', marker='o')\n",
        "  ax[0,tp].imshow(model, alpha=.2, cmap=skull_cmap, norm=skull_norm)\n",
        "  cbar1 = fig.colorbar(im1, cax=cax1)\n",
        "  cbar1.ax.set_ylabel('Pressure (AU)')\n",
        "\n",
        "  divider = make_axes_locatable(ax[1,tp])\n",
        "  cax2 = divider.append_axes(\"right\", size=\"5%\", pad=0.05)\n",
        "  ax[1,tp].set_yticks([])\n",
        "  ax[1,tp].set_xticks([])\n",
        "  im2 = ax[1,tp].imshow(mod_img, cmap=cmap, vmin=-1, vmax=1)\n",
        "  ax[1,tp].scatter(source[0], source[1], s=25, c='red', marker='o')\n",
        "  ax[1,tp].imshow(model, alpha=.2, cmap=skull_cmap, norm=skull_norm)\n",
        "  cbar2 = fig.colorbar(im2, cax=cax2)\n",
        "  cbar2.ax.set_ylabel('Pressure (AU)')\n",
        "\n",
        "  divider = make_axes_locatable(ax[2,tp])\n",
        "  cax3 = divider.append_axes(\"right\", size=\"5%\", pad=0.05)\n",
        "  ax[2,tp].set_yticks([])\n",
        "  ax[2,tp].set_xticks([])\n",
        "  im3 = ax[2,tp].imshow(err_img, cmap=err_cmap, vmin=0, vmax=6)\n",
        "  ax[2,tp].scatter(source[0], source[1], s=25, c='red', marker='o')\n",
        "  ax[2,tp].imshow(model, alpha=.2, cmap=skull_cmap, norm=skull_norm)\n",
        "  cbar3 = fig.colorbar(im3, cax=cax3)\n",
        "  cbar3.ax.set_ylabel('Percentage Error (%)')\n",
        "\n",
        "  tp +=1\n",
        "\n",
        "y = ax[0,0].set_ylabel('Infinite', fontsize=20, rotation=0, va=\"center\")\n",
        "ax[0,0].yaxis.set_label_coords(-0.3,0.5)\n",
        "\n",
        "y = ax[1,0].set_ylabel('Network\\nPredictions', fontsize=20, rotation=0, va=\"center\")\n",
        "ax[1,0].yaxis.set_label_coords(-0.3,0.5)\n",
        "\n",
        "y = ax[2,0].set_ylabel('Errors', fontsize=20, rotation=0, va=\"center\")\n",
        "ax[2,0].yaxis.set_label_coords(-0.3,0.5)\n",
        "\n",
        "fig.subplots_adjust(bottom=0.1, top=0.4, left=0.1, right=0.8,\n",
        "                    wspace=0, hspace=0.1)\n",
        "\n",
        "plt.show()"
      ],
      "execution_count": null,
      "outputs": []
    },
    {
      "cell_type": "code",
      "metadata": {
        "id": "_elGBNenf7OR"
      },
      "source": [
        "# source= [116,78]\n",
        "\n",
        "# skull_vmin = np.min(model)\n",
        "# skull_vmax = np.max(model)\n",
        "\n",
        "# skull_norm = ModMidpointNormalize(vmin=skull_vmin, vmax=skull_vmax, midpoint=1500)\n",
        "\n",
        "# cmap = 'seismic'\n",
        "# skull_cmap = 'RdGy'\n",
        "# err_cmap = 'Greys'\n",
        "\n",
        "# for t in range(1, num-2, 50):\n",
        "\n",
        "#     inf_img = np.transpose(original_waves[t])/np.max(np.abs(original_waves[t]))\n",
        "#     lim_img = np.transpose(limited_waves[t])/np.max(np.abs(limited_waves[t]))\n",
        "#     mod_img = np.transpose(modelled_waves[t])/np.max(np.abs(modelled_waves[t]))\n",
        "#     err_img = np.abs(np.divide((inf_img-mod_img)*100, np.max(np.abs(inf_img))))\n",
        "\n",
        "#     print('============================================================================================================================================================================================================')\n",
        "#     print('Timestep ',t)\n",
        "\n",
        "#     # print(np.where(inf_img != 0))\n",
        "\n",
        "#     fig, ax = plt.subplots(1,2, figsize=(18,9))\n",
        "#     # fig, ax = plt.subplots(1,4, figsize=(30,20))\n",
        "\n",
        "#     divider = make_axes_locatable(ax[0])\n",
        "#     cax0 = divider.append_axes(\"right\", size=\"5%\", pad=0.05)\n",
        "#     ax[0].set_title('Limited')\n",
        "#     ax[0].set_yticks([])\n",
        "#     ax[0].set_xticks([])\n",
        "#     im0 = ax[0].imshow(lim_img, cmap=cmap, vmin=-1, vmax=1)\n",
        "#     ax[0].scatter(source[0], source[1], s=25, c='red', marker='o')\n",
        "#     ax[0].imshow(model, alpha=.2, cmap=skull_cmap, norm=skull_norm)\n",
        "#     cbar0 = fig.colorbar(im0, cax=cax0)\n",
        "#     cbar0.ax.set_ylabel('Pressure (AU)')\n",
        "\n",
        "#     divider = make_axes_locatable(ax[1])\n",
        "#     cax1 = divider.append_axes(\"right\", size=\"5%\", pad=0.05)\n",
        "#     ax[1].set_title('Infinite')\n",
        "#     ax[1].set_yticks([])\n",
        "#     ax[1].set_xticks([])\n",
        "#     im1 = ax[1].imshow(inf_img, cmap=cmap, vmin=-1, vmax=1)\n",
        "#     ax[1].scatter(source[0], source[1], s=25, c='red', marker='o')\n",
        "#     ax[1].imshow(model, alpha=.2, cmap=skull_cmap, norm=skull_norm)\n",
        "#     cbar1 = fig.colorbar(im1, cax=cax1)\n",
        "#     cbar1.ax.set_ylabel('Pressure (AU)')\n",
        "\n",
        "# #     divider = make_axes_locatable(ax[2])\n",
        "# #     cax2 = divider.append_axes(\"right\", size=\"5%\", pad=0.05)\n",
        "# #     ax[2].set_title('Network Predictions')\n",
        "# #     ax[2].set_yticks([])\n",
        "# #     ax[2].set_xticks([])\n",
        "# #     im2 = ax[2].imshow(mod_img, cmap=cmap, norm=mod_norm)\n",
        "# #     ax[2].scatter(source[0], source[1], s=25, c='red', marker='o')\n",
        "# #     ax[2].imshow(model, alpha=.2, cmap=skull_cmap, norm=skull_norm)\n",
        "# #     cbar2 = fig.colorbar(im2, cax=cax2)\n",
        "# #     cbar2.ax.set_ylabel('Pressure (AU)')\n",
        "\n",
        "# #     divider = make_axes_locatable(ax[3])\n",
        "# #     cax3 = divider.append_axes(\"right\", size=\"5%\", pad=0.05)\n",
        "# #     ax[3].set_title('Errors: max error = {:.2f}%'.format(err_vmax))\n",
        "# #     ax[3].set_yticks([])\n",
        "# #     ax[3].set_xticks([])\n",
        "# #     im3 = ax[3].imshow(err_img, cmap=err_cmap, vmin=0, vmax=err_vmax)\n",
        "# #     ax[3].scatter(source[0], source[1], s=25, c='red', marker='o')\n",
        "# #     ax[3].imshow(model, alpha=.2, cmap=skull_cmap, norm=skull_norm)\n",
        "# #     cbar3 = fig.colorbar(im3, cax=cax3)\n",
        "# #     cbar3.ax.set_ylabel('Percentage Error (%)')\n",
        "\n",
        "#     plt.show()"
      ],
      "execution_count": null,
      "outputs": []
    },
    {
      "cell_type": "markdown",
      "metadata": {
        "id": "k-XFtQtv4ilq"
      },
      "source": [
        "**Save gifs**"
      ]
    },
    {
      "cell_type": "code",
      "metadata": {
        "id": "GGCdGq-1Iayq"
      },
      "source": [
        "# for src = 315, source coordinates are [78,116] -> flip to [116,78]\n",
        "source= [116,78]\n",
        "# for src = 128, sc = [515,211]\n",
        "# source= [516,210]"
      ],
      "execution_count": null,
      "outputs": []
    },
    {
      "cell_type": "code",
      "metadata": {
        "colab": {
          "base_uri": "https://localhost:8080/",
          "height": 137,
          "referenced_widgets": [
            "05a3ff11cd5349d38ec5b828530e69fa",
            "8f711c9d3d2e4dd8ba6c09bfee43efa6",
            "b06c2ce62df34933acb83a46e84e9806",
            "4b43f53dc12e4d4a9f329eb1a0268ebd",
            "765e40fceaaa4e0fb7b1a89d3749587e",
            "276784a609974a55b1756b0999626781",
            "a428dac3c756458598c3079c06160cae",
            "6e0c9890ad9748859a7720899455f04e"
          ]
        },
        "id": "ofnUXRzA7G5c",
        "outputId": "06b63e16-b4b3-4966-fe9e-82e97d65785c"
      },
      "source": [
        "skull_vmin = np.min(model)\n",
        "skull_vmax = np.max(model)\n",
        "\n",
        "skull_norm = ModMidpointNormalize(vmin=skull_vmin, vmax=skull_vmax, midpoint=1500)\n",
        "\n",
        "cmap = 'seismic'\n",
        "skull_cmap = 'RdGy'\n",
        "err_cmap = 'Greys'\n",
        "\n",
        "for t in tqdm(range(0, len(original_waves), 10)):\n",
        "\n",
        "  inf_img = np.transpose(original_waves[t])/np.max(np.abs(original_waves[t]))\n",
        "  mod_img = np.transpose(modelled_waves[t])/np.max(np.abs(modelled_waves[t]))\n",
        "  # inf_img = inf_img[11:-11, 11:-11]\n",
        "  # mod_img = mod_img[11:-11, 11:-11]\n",
        "  err_img = np.abs(np.divide((inf_img-mod_img)*100, np.max(np.abs(inf_img))))\n",
        "\n",
        "  plt.figure()\n",
        "  plt.yticks([])\n",
        "  plt.xticks([])\n",
        "  im1 = plt.imshow(inf_img, cmap=cmap, vmin=-1, vmax=1)\n",
        "  plt.scatter(source[0], source[1], s=25, c='red', marker='o')\n",
        "  plt.imshow(model, alpha=.2, cmap=skull_cmap, norm=skull_norm)\n",
        "  # plt.show()\n",
        "  plt.savefig(str(t)+'_og_frames_src'+str(src_index)+'.png')\n",
        "  plt.close()\n",
        "\n",
        "  plt.figure()\n",
        "  plt.yticks([])\n",
        "  plt.xticks([])\n",
        "  im1 = plt.imshow(mod_img, cmap=cmap, vmin=-1, vmax=1)\n",
        "  plt.scatter(source[0], source[1], s=25, c='red', marker='o')\n",
        "  plt.imshow(model, alpha=.2, cmap=skull_cmap, norm=skull_norm)\n",
        "  # plt.show()\n",
        "  plt.savefig(str(t)+'_mod_frames_src'+str(src_index)+'.png')\n",
        "  plt.close()\n",
        "\n",
        "  plt.figure()\n",
        "  plt.yticks([])\n",
        "  plt.xticks([])\n",
        "  im1 = plt.imshow(err_img, cmap=err_cmap, vmin=0, vmax=6)\n",
        "  plt.scatter(source[0], source[1], s=25, c='red', marker='o')\n",
        "  plt.imshow(model, alpha=.2, cmap=skull_cmap, norm=skull_norm)\n",
        "  # plt.show()\n",
        "  plt.savefig(str(t)+'_err_frames_src'+str(src_index)+'.png')\n",
        "  plt.close()"
      ],
      "execution_count": null,
      "outputs": [
        {
          "output_type": "display_data",
          "data": {
            "application/vnd.jupyter.widget-view+json": {
              "model_id": "05a3ff11cd5349d38ec5b828530e69fa",
              "version_minor": 0,
              "version_major": 2
            },
            "text/plain": [
              "HBox(children=(FloatProgress(value=0.0, max=250.0), HTML(value='')))"
            ]
          },
          "metadata": {
            "tags": []
          }
        },
        {
          "output_type": "stream",
          "text": [
            "/usr/local/lib/python3.7/dist-packages/ipykernel_launcher.py:12: RuntimeWarning: invalid value encountered in true_divide\n",
            "  if sys.path[0] == '':\n",
            "/usr/local/lib/python3.7/dist-packages/ipykernel_launcher.py:13: RuntimeWarning: invalid value encountered in true_divide\n",
            "  del sys.path[0]\n"
          ],
          "name": "stderr"
        },
        {
          "output_type": "stream",
          "text": [
            "\n"
          ],
          "name": "stdout"
        }
      ]
    },
    {
      "cell_type": "code",
      "metadata": {
        "id": "V-t10AMZ-IsS"
      },
      "source": [
        "from PIL import Image"
      ],
      "execution_count": null,
      "outputs": []
    },
    {
      "cell_type": "code",
      "metadata": {
        "id": "3CytVPA6AXKx"
      },
      "source": [
        "og_fp_in = '_og_frames_src'+str(src_index)+'.png'\n",
        "og_fp_out = 'og_'+str(src_index)+'.gif'\n",
        "\n",
        "mod_fp_in = '_mod_frames_src'+str(src_index)+'.png'\n",
        "mod_fp_out = 'mod_'+str(src_index)+'.gif'\n",
        "\n",
        "err_fp_in = '_err_frames_src'+str(src_index)+'.png'\n",
        "err_fp_out = 'err_'+str(src_index)+'.gif'\n",
        "\n",
        "og_img, *og_imgs = [Image.open(str(f)+og_fp_in) for f in range(0,1500,10)]\n",
        "og_img.save(fp=og_fp_out, format='GIF', append_images=og_imgs, save_all=True, duration=60, loop=0)\n",
        "\n",
        "mod_img, *mod_imgs = [Image.open(str(f)+mod_fp_in) for f in range(0,1500,10)]\n",
        "mod_img.save(fp=mod_fp_out, format='GIF', append_images=mod_imgs, save_all=True, duration=60, loop=0)\n",
        "\n",
        "err_img, *err_imgs = [Image.open(str(f)+err_fp_in) for f in range(0,1500,10)]\n",
        "err_img.save(fp=err_fp_out, format='GIF', append_images=err_imgs, save_all=True, duration=60, loop=0)"
      ],
      "execution_count": null,
      "outputs": []
    },
    {
      "cell_type": "code",
      "metadata": {
        "id": "ER3KMywuM03k"
      },
      "source": [
        ""
      ],
      "execution_count": null,
      "outputs": []
    }
  ]
}